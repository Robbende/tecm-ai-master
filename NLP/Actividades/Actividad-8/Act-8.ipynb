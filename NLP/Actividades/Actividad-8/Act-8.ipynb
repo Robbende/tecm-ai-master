{
 "cells": [
  {
   "cell_type": "markdown",
   "id": "14bdfeb3",
   "metadata": {},
   "source": [
    "### Actividad 8 - Flujo óptico y seguimiento de movimiento"
   ]
  },
  {
   "cell_type": "markdown",
   "id": "ec55ac31",
   "metadata": {},
   "source": [
    "###  opt_flow.py"
   ]
  },
  {
   "cell_type": "markdown",
   "id": "6474d48d",
   "metadata": {},
   "source": [
    "#### 2. Identifica los métodos definidos y explica su funcionalidad."
   ]
  },
  {
   "cell_type": "markdown",
   "id": "c0b2db57",
   "metadata": {},
   "source": [
    "**Main:**\n",
    "\n",
    "La función espera como argumento un video (dirección del archivo) y empieza a leer los frames del video convirtiéndolo en escala de grises.\n",
    "dentro de la funcion main hay un while loop en el cual se repite indefinidamente el proceso de leer frames del video, convierte dicha captura en escala de grises y ejecuta la función \"calcOpticalFlowFarneback\" (pasando como argumentos la captura anterior y la actual), dicha funcion calcula un flujo óptico denso utilizando el algoritmo de Gunnar Farneback.\n",
    "Con el flujo como resultado de la funcion \"calcOpticalFlowFarneback\" se pasa dicho resultado a la funcion \"draw_flow\" y se despliega la imagen.\n",
    "Dentro del while loop del metodo main se espera que si el usuario presiona la tecla 1 el codigo ejecutara la funcion draw_hsv y desplegara con un imshow su resultado, mientras que si el usuario presiona la tecla 2, el codigo ejecutara la funcion warp_flow y desplegara su resultado con un imshow.\n",
    "\n",
    "\n"
   ]
  },
  {
   "cell_type": "markdown",
   "id": "e5acfbc7",
   "metadata": {},
   "source": [
    "**draw_flow:** \n",
    "\n",
    "Recibe como parámetro una imagen y el arreglo con el flujo, la funcion va a dibujar las líneas poligonales abiertas en la imagen correspondiente al flujo dibujando en la imagen un círculo pequeño y flechas para indicar el inicio y el final del flujo, de esta manera se puede ver en la imagen multiples lineas indicando direccion del flujo.\n",
    "\n",
    "**draw_hsv:** \n",
    "\n",
    "representa el flujo optico usando el espacio de color HSV, para ello la función calcula el ángulo y la magnitud de cada vector del flujo, posteriormente convierte estos valores en una imagen a color usando el espectro HSV.\n",
    "\n",
    "**warp_flow:** \n",
    "\n",
    "Esta funcion genera una nueva imagen basada en el frame anterior aplicándole el flujo optico y asi obtener una versión de la imagen deformada en aquellos puntos donde se detectó un flujo de movimiento entre los frames.\n",
    "\n"
   ]
  },
  {
   "cell_type": "markdown",
   "id": "3a5857a0",
   "metadata": {},
   "source": [
    "#### 3. Dentro del método “main”, identifica la función de openCV utilizada para realizar el cálculo del flujo óptico, así como el algoritmo que utiliza y explica."
   ]
  },
  {
   "cell_type": "markdown",
   "id": "beb80532",
   "metadata": {},
   "source": [
    "La funcion de openCV utilizada para el cálculo del flujo optico es \"calcOpticalFlowFarneback\" la cual utiliza el algoritmo de Gunnar Farneback.\n",
    "\n",
    "\n",
    "El algoritmo de Gunnar Farneback calcula el vector de movimiento para cada pixel de la imagen, calculando la expansión polinomial de la imagen alrededor de cada pixel en los dos frames y resolviendo el desplazamiento entre los dos frames utilizando mínimos cuadrados.\n"
   ]
  },
  {
   "cell_type": "markdown",
   "id": "b1241ec0",
   "metadata": {},
   "source": [
    "### lk_track.py"
   ]
  },
  {
   "cell_type": "markdown",
   "id": "cd8399be",
   "metadata": {},
   "source": [
    "#### 5. Identifica y explica la función de openCV utilizada para el cálculo del flujo óptico, así como el algoritmo que utiliza."
   ]
  },
  {
   "cell_type": "markdown",
   "id": "2357872c",
   "metadata": {},
   "source": [
    "La funcion de openCV utilizada para el cálculo del flujo optico en lk_track.py es \"calcOpticalFlowPyrLK\", el cual calcula el flujo optico para una cierta característica usando el algoritmo iterativo Lucas-Kanade con pirámides.\n",
    "\n",
    "La función calcOpticalFlowPyrLK calcula el vector de movimiento para un grupo de características entre dos frames, para eso utiliza el algoritmo Lucas-Kanade, el cual minimiza la diferencia entre la intensidad de los pixeles alrededor de la posición actual del punto de la característica en el primer frame y la correspondiente alrededor de la posición predicha del punto de la característica en el segundo frame.\n"
   ]
  },
  {
   "cell_type": "markdown",
   "id": "2133ff44",
   "metadata": {},
   "source": [
    "#### 6. Identifica la función goodFeaturesToTrack() y explica con qué finalidad está integrada dentro del código"
   ]
  },
  {
   "cell_type": "markdown",
   "id": "dac40b70",
   "metadata": {},
   "source": [
    "La función goodFeaturesToTrack() detecta puntos importantes y de interés como esquinas en una imagen. En este caso se utiliza para obtener los puntos de interés para los cuales la función calcOpticalFlowPyrLK va a trackear dichos puntos estimando el flujo óptico de estos puntos entre un frame y el siguiente frame. "
   ]
  },
  {
   "cell_type": "code",
   "execution_count": null,
   "id": "7e7a82b6",
   "metadata": {},
   "outputs": [],
   "source": []
  }
 ],
 "metadata": {
  "kernelspec": {
   "display_name": "Python 3 (ipykernel)",
   "language": "python",
   "name": "python3"
  },
  "language_info": {
   "codemirror_mode": {
    "name": "ipython",
    "version": 3
   },
   "file_extension": ".py",
   "mimetype": "text/x-python",
   "name": "python",
   "nbconvert_exporter": "python",
   "pygments_lexer": "ipython3",
   "version": "3.9.12"
  }
 },
 "nbformat": 4,
 "nbformat_minor": 5
}
