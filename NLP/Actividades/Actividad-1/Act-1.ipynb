{
 "cells": [
  {
   "cell_type": "code",
   "execution_count": 1,
   "id": "c096dd6f",
   "metadata": {},
   "outputs": [
    {
     "name": "stderr",
     "output_type": "stream",
     "text": [
      "[nltk_data] Downloading package punkt to\n",
      "[nltk_data]     C:\\Users\\Ruben\\AppData\\Roaming\\nltk_data...\n",
      "[nltk_data]   Package punkt is already up-to-date!\n"
     ]
    },
    {
     "data": {
      "text/plain": [
       "True"
      ]
     },
     "execution_count": 1,
     "metadata": {},
     "output_type": "execute_result"
    }
   ],
   "source": [
    "import nltk\n",
    "import pandas as pd\n",
    "import seaborn as sns\n",
    "from matplotlib import pyplot as plt\n",
    "import numpy as np\n",
    "from nltk.corpus import movie_reviews\n",
    "import re\n",
    "nltk.download(\"punkt\")"
   ]
  },
  {
   "cell_type": "code",
   "execution_count": 2,
   "id": "0c160013",
   "metadata": {},
   "outputs": [
    {
     "name": "stderr",
     "output_type": "stream",
     "text": [
      "[nltk_data] Downloading package movie_reviews to\n",
      "[nltk_data]     C:\\Users\\Ruben\\AppData\\Roaming\\nltk_data...\n",
      "[nltk_data]   Package movie_reviews is already up-to-date!\n"
     ]
    },
    {
     "data": {
      "text/plain": [
       "True"
      ]
     },
     "execution_count": 2,
     "metadata": {},
     "output_type": "execute_result"
    }
   ],
   "source": [
    "nltk.download('movie_reviews')"
   ]
  },
  {
   "cell_type": "code",
   "execution_count": 3,
   "id": "6825747d",
   "metadata": {},
   "outputs": [
    {
     "data": {
      "text/plain": [
       "['neg', 'pos']"
      ]
     },
     "execution_count": 3,
     "metadata": {},
     "output_type": "execute_result"
    }
   ],
   "source": [
    "movie_reviews.categories()"
   ]
  },
  {
   "cell_type": "code",
   "execution_count": 4,
   "id": "4bf3b1f9",
   "metadata": {},
   "outputs": [],
   "source": [
    "num_caracteres = len(movie_reviews.raw())\n",
    "num_palabras = len(movie_reviews.words())\n",
    "num_oraciones = len(movie_reviews.sents())"
   ]
  },
  {
   "cell_type": "code",
   "execution_count": 5,
   "id": "1a2a1e16",
   "metadata": {},
   "outputs": [
    {
     "name": "stdout",
     "output_type": "stream",
     "text": [
      "Cantidad total de Caracteres: 7786004\n",
      "Cantidad total de Palabras: 1583820\n",
      "Cantidad total de Oraciones: 65258\n"
     ]
    }
   ],
   "source": [
    "print(f\"Cantidad total de Caracteres: {num_caracteres}\")\n",
    "print(f\"Cantidad total de Palabras: {num_palabras}\")\n",
    "print(f\"Cantidad total de Oraciones: {num_oraciones}\")"
   ]
  },
  {
   "cell_type": "code",
   "execution_count": 6,
   "id": "6bedf26f",
   "metadata": {},
   "outputs": [],
   "source": [
    "def graficar_histograma(data):\n",
    "    fig, ax = plt.subplots(figsize=(10,10))\n",
    "    all_plot = sns.barplot(x=data.index, y=data.values, ax=ax, color='steelblue')\n",
    "    plt.title('Frequency Distribution')\n",
    "    plt.xticks(rotation=30);"
   ]
  },
  {
   "cell_type": "markdown",
   "id": "70d04230",
   "metadata": {},
   "source": [
    "Calcula las frecuencias a nivel de un carácter y genera histogramas para cada categoría. \n",
    "Para generar las gráficas, ordena las frecuencias de los caracteres de mayor a menor"
   ]
  },
  {
   "cell_type": "markdown",
   "id": "43f90c2e",
   "metadata": {},
   "source": [
    "### caracteres por categoria"
   ]
  },
  {
   "cell_type": "code",
   "execution_count": 7,
   "id": "2226ab37",
   "metadata": {},
   "outputs": [],
   "source": [
    "caracteres_neg = movie_reviews.raw(categories='neg')\n",
    "caracteres_pos = movie_reviews.raw(categories='pos')"
   ]
  },
  {
   "cell_type": "code",
   "execution_count": 8,
   "id": "ab1a1ef6",
   "metadata": {},
   "outputs": [
    {
     "name": "stdout",
     "output_type": "stream",
     "text": [
      "Cantidad de caracteres categoria Negativa: 3661721\n",
      "Cantidad de caracteres categoria Positiva: 4124283\n"
     ]
    }
   ],
   "source": [
    "print(f\"Cantidad de caracteres categoria Negativa: {len(caracteres_neg)}\")\n",
    "print(f\"Cantidad de caracteres categoria Positiva: {len(caracteres_pos)}\")"
   ]
  },
  {
   "cell_type": "markdown",
   "id": "82f74b57",
   "metadata": {},
   "source": [
    "### frecuencia de caracteres de categoria negativa"
   ]
  },
  {
   "cell_type": "code",
   "execution_count": 9,
   "id": "0026c439",
   "metadata": {},
   "outputs": [],
   "source": [
    "# frecuencia de caracteres categoria negativa\n",
    "frec_caracteres_neg = nltk.FreqDist(caracteres_neg)\n",
    "frec_caracteres_neg = frec_caracteres_neg.most_common(20)"
   ]
  },
  {
   "cell_type": "markdown",
   "id": "d64c37de",
   "metadata": {},
   "source": [
    "### histograma de caracteres  (categoria negativa)\n",
    "histograma de los 20 caracteres mas comunes para la categoria negativa"
   ]
  },
  {
   "cell_type": "code",
   "execution_count": 10,
   "id": "5a5fc239",
   "metadata": {},
   "outputs": [
    {
     "data": {
      "image/png": "[encoded data removed]",
      "text/plain": [
       "<Figure size 720x720 with 1 Axes>"
      ]
     },
     "metadata": {
      "needs_background": "light"
     },
     "output_type": "display_data"
    }
   ],
   "source": [
    "data_frec_neg = pd.Series(dict(frec_caracteres_neg))\n",
    "graficar_histograma(data_frec_neg)"
   ]
  },
  {
   "cell_type": "markdown",
   "id": "1987f55a",
   "metadata": {},
   "source": [
    "### frecuencia de caracteres de categoria positiva"
   ]
  },
  {
   "cell_type": "code",
   "execution_count": 11,
   "id": "07fd584f",
   "metadata": {},
   "outputs": [],
   "source": [
    "# frecuencia de caracteres categoria positiva\n",
    "frec_caracteres_pos = nltk.FreqDist(caracteres_pos)\n",
    "frec_caracteres_pos = frec_caracteres_pos.most_common(20)"
   ]
  },
  {
   "cell_type": "markdown",
   "id": "8974f29a",
   "metadata": {},
   "source": [
    "### histograma de caracteres (categoria positiva)\n",
    "histograma de los 20 caracteres mas comunes para la categoria positiva"
   ]
  },
  {
   "cell_type": "code",
   "execution_count": 12,
   "id": "045d0525",
   "metadata": {},
   "outputs": [
    {
     "data": {
      "image/png": "[encoded data removed]",
      "text/plain": [
       "<Figure size 720x720 with 1 Axes>"
      ]
     },
     "metadata": {
      "needs_background": "light"
     },
     "output_type": "display_data"
    }
   ],
   "source": [
    "data_frec_pos = pd.Series(dict(frec_caracteres_pos))\n",
    "graficar_histograma(data_frec_pos)"
   ]
  },
  {
   "cell_type": "markdown",
   "id": "b0336426",
   "metadata": {},
   "source": [
    "Calcula las frecuencias a nivel de palabra y genera histogramas para cada categoría. \n",
    "Para generar las gráficas, ordena las frecuencias de los caracteres de mayor a menor. \n",
    "Remueve los símbolos de puntuación (comas, puntos, números, signos de interrogación, etc.) y acentos del texto. \n",
    "Solo se deberá procesar lo que se considera palabras"
   ]
  },
  {
   "cell_type": "markdown",
   "id": "fd9d061a",
   "metadata": {},
   "source": [
    "### limpieza del texto"
   ]
  },
  {
   "cell_type": "code",
   "execution_count": 13,
   "id": "94aa3f21",
   "metadata": {},
   "outputs": [],
   "source": [
    "def limpiar_texto(texto):\n",
    "    return re.sub(r\"[^\\w\\s]|_|\\d\", \"\", texto)"
   ]
  },
  {
   "cell_type": "markdown",
   "id": "888f9738",
   "metadata": {},
   "source": [
    "### limpieza del texto (categoria negativa)"
   ]
  },
  {
   "cell_type": "code",
   "execution_count": 14,
   "id": "8e87e646",
   "metadata": {},
   "outputs": [],
   "source": [
    "texto_neg = limpiar_texto(caracteres_neg)\n",
    "neg_words = nltk.tokenize.word_tokenize(texto_neg)"
   ]
  },
  {
   "cell_type": "markdown",
   "id": "633a91d4",
   "metadata": {},
   "source": [
    "### frecuencia palabras (categoria negativa)"
   ]
  },
  {
   "cell_type": "code",
   "execution_count": 15,
   "id": "8b064f95",
   "metadata": {},
   "outputs": [],
   "source": [
    "frec_neg_words = nltk.FreqDist(neg_words)\n",
    "# 20 palabras mas comunes\n",
    "frec_20_neg_words = frec_neg_words.most_common(20)"
   ]
  },
  {
   "cell_type": "markdown",
   "id": "2e7dcbf4",
   "metadata": {},
   "source": [
    "### histograma palabras (categoria negativa)"
   ]
  },
  {
   "cell_type": "code",
   "execution_count": 16,
   "id": "a6629ba0",
   "metadata": {},
   "outputs": [
    {
     "data": {
      "image/png": "[encoded data removed]",
      "text/plain": [
       "<Figure size 720x720 with 1 Axes>"
      ]
     },
     "metadata": {
      "needs_background": "light"
     },
     "output_type": "display_data"
    }
   ],
   "source": [
    "data_frec_neg_words = pd.Series(dict(frec_20_neg_words))\n",
    "graficar_histograma(data_frec_neg_words)"
   ]
  },
  {
   "cell_type": "markdown",
   "id": "c2c623c9",
   "metadata": {},
   "source": [
    "### limpieza del texto (categoria positiva)"
   ]
  },
  {
   "cell_type": "code",
   "execution_count": 17,
   "id": "62c35add",
   "metadata": {},
   "outputs": [],
   "source": [
    "texto_pos = limpiar_texto(caracteres_pos)\n",
    "pos_words = nltk.tokenize.word_tokenize(texto_pos)"
   ]
  },
  {
   "cell_type": "markdown",
   "id": "e3f16a4b",
   "metadata": {},
   "source": [
    "### frecuencia palabras (categoria positiva)"
   ]
  },
  {
   "cell_type": "code",
   "execution_count": 18,
   "id": "ecfa93f7",
   "metadata": {},
   "outputs": [],
   "source": [
    "frec_pos_words = nltk.FreqDist(pos_words)\n",
    "# 20 palabras mas comunes\n",
    "frec_20_pos_words = frec_pos_words.most_common(20)"
   ]
  },
  {
   "cell_type": "markdown",
   "id": "231b289e",
   "metadata": {},
   "source": [
    "### histograma palabras (categoria positiva)"
   ]
  },
  {
   "cell_type": "code",
   "execution_count": 19,
   "id": "36b3dcea",
   "metadata": {},
   "outputs": [
    {
     "data": {
      "image/png": "[encoded data removed]",
      "text/plain": [
       "<Figure size 720x720 with 1 Axes>"
      ]
     },
     "metadata": {
      "needs_background": "light"
     },
     "output_type": "display_data"
    }
   ],
   "source": [
    "data_frec_pos_words = pd.Series(dict(frec_20_pos_words))\n",
    "graficar_histograma(data_frec_pos_words)"
   ]
  },
  {
   "cell_type": "markdown",
   "id": "f5b780be",
   "metadata": {},
   "source": [
    "### Preguntas:"
   ]
  },
  {
   "cell_type": "markdown",
   "id": "1aa22da4",
   "metadata": {},
   "source": [
    "### ¿Cuántas palabras hay en cada categoría?"
   ]
  },
  {
   "cell_type": "code",
   "execution_count": 20,
   "id": "bab03cbe",
   "metadata": {},
   "outputs": [
    {
     "name": "stdout",
     "output_type": "stream",
     "text": [
      "Cantidad de Palabras, categoria negativa: 607608\n",
      "Cantidad de Palabras, categoria positiva: 681320\n"
     ]
    }
   ],
   "source": [
    "print(f\"Cantidad de Palabras, categoria negativa: {len(neg_words)}\")\n",
    "print(f\"Cantidad de Palabras, categoria positiva: {len(pos_words)}\")"
   ]
  },
  {
   "cell_type": "markdown",
   "id": "8d7716f9",
   "metadata": {},
   "source": [
    "### ¿Cuántas palabras diferentes (únicas) hay en cada categoría?"
   ]
  },
  {
   "cell_type": "code",
   "execution_count": 21,
   "id": "de2d9790",
   "metadata": {},
   "outputs": [
    {
     "name": "stdout",
     "output_type": "stream",
     "text": [
      "Cantidad de Palabras unicas, categoria negativa: 32209\n",
      "Cantidad de Palabras unicas, categoria positiva: 34414\n"
     ]
    }
   ],
   "source": [
    "print(f\"Cantidad de Palabras unicas, categoria negativa: {len(frec_neg_words)}\")\n",
    "print(f\"Cantidad de Palabras unicas, categoria positiva: {len(frec_pos_words)}\")\n"
   ]
  },
  {
   "cell_type": "markdown",
   "id": "6befb564",
   "metadata": {},
   "source": [
    "### ¿Cuáles son las palabras con frecuencia 1 (hápax legomenón) en cada categoría? \n",
    "### Muestra las primeras 100 palabras si es que las hay."
   ]
  },
  {
   "cell_type": "code",
   "execution_count": 22,
   "id": "595c051d",
   "metadata": {},
   "outputs": [
    {
     "name": "stdout",
     "output_type": "stream",
     "text": [
      "hápax legomenón, categoria negativa: ['snag', 'looooot', 'unravel', 'password', 'unraveling', 'craziness', 'winstons', 'schnazzy', 'sunken', 'timex', 'indiglo', 'transfers', 'spoonfed', 'teenflicks', 'fullyanimated', 'challenger', 'thatd', 'jessalyn', 'gilsig', 'earlyteen', 'kayleys', 'warlord', 'ruber', 'exround', 'membergonebad', 'boobytrapped', 'timberlanddweller', 'twoheaded', 'rickles', 'differentiates', 'poorlyintegrated', 'hercs', 'hydra', 'outbland', 'earlys', 'jaleel', 'balki', 'seymour', 'dion', 'spurnedpsychosgettingtheirrevenge', 'proliferation', 'inexpensive', 'wavers', 'serioussounding', 'statistics', 'snapshot', 'gleason', 'guesswork', 'obsesses', 'psychoinlove', 'stalkeds', 'maryam', 'daylights', 'businessowner', 'validity', 'lowpowered', 'terraformed', 'earthnormal', 'stagnated', 'napolean', 'millimeter', 'enmeshed', 'bigtown', 'americana', 'brutalized', 'unsavory', 'matteroffactly', 'specialized', 'whirs', 'sprockets', 'splitlevel', 'harrisburg', 'flunky', 'deviants', 'oralsexprostitution', 'sandlerannoying', 'carreyannoying', 'lapa', 'pussy', 'hairs', 'scriptwriters', 'ithinkiactuallyhave', 'fluttered', 'paves', 'pregnancychild', 'cacophonous', 'simultaneous', 'veterinary', 'obstetrics', 'foreignguywhomispronouncesenglish', 'yakov', 'smirnov', 'volvo', 'caughtwithhispantsdown', 'unauthentic', 'zombified', 'boozedout', 'everreliable', 'swedish', 'longings']\n"
     ]
    }
   ],
   "source": [
    "hapax_neg_words = frec_neg_words.hapaxes()\n",
    "print(f\"hápax legomenón, categoria negativa: {hapax_neg_words[:100]}\")"
   ]
  },
  {
   "cell_type": "code",
   "execution_count": 23,
   "id": "660ff203",
   "metadata": {},
   "outputs": [
    {
     "name": "stdout",
     "output_type": "stream",
     "text": [
      "hápax legomenón, categoria positiva: ['watchmen', 'researched', 'footnotes', 'riddle', 'sooty', 'whores', 'surgical', 'godley', 'absinthe', 'briefed', 'cloaking', 'whistling', 'stonecutters', 'carwho', 'guttenberg', 'deming', 'dreariness', 'victorianera', 'prague', 'ians', 'dalmatians', 'cringed', 'stinker', 'overachiever', 'popularbutslow', 'geeks', 'rooney', 'bueller', 'gymnasium', 'studentteacher', 'tonal', 'sexdriven', 'mushy', 'ryanhanks', 'familyrun', 'foreseeable', 'alienlike', 'dahdum', 'relinquishes', 'amity', 'beaches', 'relents', 'crusty', 'dethroned', 'dousing', 'apprenticeship', 'duddy', 'kravitz', 'ahab', 'masochism', 'devoured', 'sinch', 'writihing', 'chomped', 'overruns', 'scarethrillers', 'postsalary', 'allocate', 'freeagent', 'linebackers', 'safeties', 'herb', 'madrid', 'carriages', 'rockies', 'hairstylist', 'slapstickfu', 'sympathizers', 'misuse', 'neonazis', 'windtunnel', 'wellchoreographed', 'kevlar', 'hamster', 'smashedup', 'crates', 'scorpions', 'hitchhiking', 'kazdan', 'selftaught', 'ousted', 'aides', 'guaranteeing', 'dismembering', 'hatchets', 'saws', 'fastemptying', 'bottles', 'belgianowned', 'regional', 'stanleyville', 'chesslike', 'tactically', 'coalition', 'exert', 'mutinies', 'violently', 'tschombe', 'sometimesodious', 'colonialists']\n"
     ]
    }
   ],
   "source": [
    "hapax_pos_words = frec_pos_words.hapaxes()\n",
    "print(f\"hápax legomenón, categoria positiva: {hapax_pos_words[:100]}\")"
   ]
  },
  {
   "cell_type": "markdown",
   "id": "af605df2",
   "metadata": {},
   "source": [
    "### ¿Cuáles son las palabras más frecuentes en cada categoría? \n",
    "### Mostrar las primeras 70 palabras si es que las hay, ¿en qué difieren en cada categoría?"
   ]
  },
  {
   "cell_type": "code",
   "execution_count": 24,
   "id": "7ad7c5bc",
   "metadata": {},
   "outputs": [
    {
     "name": "stdout",
     "output_type": "stream",
     "text": [
      "Palabras mas frecuentes, categoria negativa: [('the', 34941), ('a', 17830), ('and', 15574), ('of', 15421), ('to', 15327), ('is', 11129), ('in', 9986), ('that', 7357), ('it', 5885), ('with', 4937), ('this', 4926), ('as', 4880), ('for', 4668), ('but', 4113), ('i', 4043), ('film', 3994), ('his', 3989), ('on', 3591), ('he', 3280), ('are', 3233), ('be', 3093), ('movie', 3049), ('its', 2819), ('by', 2761), ('not', 2689), ('an', 2688), ('have', 2660), ('one', 2617), ('at', 2480), ('who', 2470), ('was', 2458), ('from', 2260), ('you', 2225), ('they', 2163), ('has', 2153), ('all', 2140), ('her', 2053), ('so', 1911), ('like', 1835), ('about', 1800), ('out', 1740), ('or', 1625), ('when', 1583), ('up', 1579), ('just', 1561), ('if', 1547), ('some', 1518), ('more', 1507), ('what', 1475), ('there', 1443), ('their', 1425), ('which', 1414), ('no', 1383), ('even', 1381), ('only', 1350), ('into', 1256), ('she', 1246), ('him', 1154), ('than', 1148), ('can', 1145), ('good', 1128), ('time', 1112), ('we', 1098), ('been', 1065), ('would', 1049), ('get', 1037), ('do', 1024), ('bad', 1019), ('much', 997), ('will', 940)]\n"
     ]
    }
   ],
   "source": [
    "print(f\"Palabras mas frecuentes, categoria negativa: {frec_neg_words.most_common(70)}\")"
   ]
  },
  {
   "cell_type": "code",
   "execution_count": 25,
   "id": "b98cf236",
   "metadata": {},
   "outputs": [
    {
     "name": "stdout",
     "output_type": "stream",
     "text": [
      "Palabras mas frecuentes, categoria positivas: [('the', 41386), ('a', 20134), ('and', 19777), ('of', 18550), ('to', 16436), ('is', 14050), ('in', 11612), ('that', 7755), ('as', 6463), ('it', 6416), ('with', 5842), ('his', 5580), ('for', 5246), ('film', 4867), ('this', 4639), ('but', 4471), ('he', 4331), ('are', 3712), ('on', 3658), ('i', 3461), ('by', 3457), ('its', 3171), ('an', 3048), ('be', 2989), ('not', 2985), ('who', 2908), ('one', 2904), ('from', 2726), ('has', 2562), ('at', 2485), ('was', 2476), ('her', 2451), ('movie', 2392), ('have', 2239), ('you', 2212), ('they', 2116), ('all', 2111), ('more', 1838), ('which', 1741), ('like', 1719), ('about', 1718), ('out', 1701), ('their', 1691), ('so', 1673), ('when', 1671), ('what', 1603), ('up', 1528), ('him', 1477), ('or', 1472), ('some', 1464), ('she', 1441), ('most', 1387), ('into', 1361), ('just', 1339), ('there', 1315), ('than', 1290), ('we', 1262), ('will', 1254), ('if', 1245), ('can', 1234), ('story', 1216), ('also', 1200), ('films', 1199), ('good', 1193), ('even', 1174), ('time', 1171), ('only', 1133), ('very', 1131), ('other', 1054), ('characters', 1038)]\n"
     ]
    }
   ],
   "source": [
    "print(f\"Palabras mas frecuentes, categoria positivas: {frec_pos_words.most_common(70)}\")"
   ]
  },
  {
   "cell_type": "code",
   "execution_count": 26,
   "id": "96983796",
   "metadata": {},
   "outputs": [],
   "source": [
    "set_common_neg = set([i[0] for i in frec_neg_words.most_common(70)])\n",
    "set_common_pos = set([i[0] for i in frec_pos_words.most_common(70)])"
   ]
  },
  {
   "cell_type": "code",
   "execution_count": 27,
   "id": "655397bc",
   "metadata": {},
   "outputs": [
    {
     "name": "stdout",
     "output_type": "stream",
     "text": [
      "Palabras mas comunes en categoria negativa que no estan en las mas comunes de la categoria positiva: {'get', 'much', 'bad', 'no', 'do', 'would', 'been'}\n"
     ]
    }
   ],
   "source": [
    "print(f\"Palabras mas comunes en categoria negativa que no estan en las mas comunes de la categoria positiva: {set_common_neg - set_common_pos}\")"
   ]
  },
  {
   "cell_type": "code",
   "execution_count": 28,
   "id": "d3eb6336",
   "metadata": {},
   "outputs": [
    {
     "name": "stdout",
     "output_type": "stream",
     "text": [
      "Palabras mas comunes en categoria positiva que no estan en las mas comunes de la categoria negativa: {'films', 'other', 'story', 'characters', 'also', 'most', 'very'}\n"
     ]
    }
   ],
   "source": [
    "print(f\"Palabras mas comunes en categoria positiva que no estan en las mas comunes de la categoria negativa: {set_common_pos - set_common_neg}\")"
   ]
  },
  {
   "cell_type": "code",
   "execution_count": null,
   "id": "19f13fd7",
   "metadata": {},
   "outputs": [],
   "source": []
  }
 ],
 "metadata": {
  "kernelspec": {
   "display_name": "Python 3 (ipykernel)",
   "language": "python",
   "name": "python3"
  },
  "language_info": {
   "codemirror_mode": {
    "name": "ipython",
    "version": 3
   },
   "file_extension": ".py",
   "mimetype": "text/x-python",
   "name": "python",
   "nbconvert_exporter": "python",
   "pygments_lexer": "ipython3",
   "version": "3.9.12"
  }
 },
 "nbformat": 4,
 "nbformat_minor": 5
}
