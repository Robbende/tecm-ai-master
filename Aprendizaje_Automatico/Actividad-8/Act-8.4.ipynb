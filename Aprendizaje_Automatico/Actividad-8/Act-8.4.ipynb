{
 "cells": [
  {
   "cell_type": "markdown",
   "id": "feb65332",
   "metadata": {},
   "source": [
    "### Actividad 8 - Punto 4"
   ]
  },
  {
   "cell_type": "markdown",
   "id": "4541b12e",
   "metadata": {},
   "source": [
    "Un ciclista debe llevar en su mochila algunos alimentos de tal manera que pueda asegurar un total minimo de 2000 calorias para soportar un recorrido de 4 horas. La mochila solo tiene capacidad para llevar un peso maximo de 2.0 kg.  \n",
    "\n",
    "<table>\n",
    "    <tr>\n",
    "        <th>Alimento</th>\n",
    "        <th>Calorias</th>\n",
    "        <th>Peso (Kg.)</th>\n",
    "    </tr>\n",
    "    <tr>\n",
    "        <td>Leche</td>\n",
    "        <td>500</td>\n",
    "        <td>0.5</td>\n",
    "    </tr>\n",
    "    <tr>\n",
    "        <td>Galleta</td>\n",
    "        <td>300</td>\n",
    "        <td>0.1</td>\n",
    "    </tr>\n",
    "    <tr>\n",
    "        <td>Agua</td>\n",
    "        <td>100</td>\n",
    "        <td>0.5</td>\n",
    "    </tr>\n",
    "    <tr>\n",
    "        <td>Pollo</td>\n",
    "        <td>700</td>\n",
    "        <td>0.25</td>\n",
    "    </tr>\n",
    "    <tr>\n",
    "        <td>Huevo</td>\n",
    "        <td>300</td>\n",
    "        <td>0.15</td>\n",
    "    </tr>\n",
    "    <tr>\n",
    "        <td>Nueces</td>\n",
    "        <td>400</td>\n",
    "        <td>0.15</td>\n",
    "    </tr>\n",
    "    <tr>\n",
    "        <td>Yogurt</td>\n",
    "        <td>500</td>\n",
    "        <td>0.5</td>\n",
    "    </tr>\n",
    "    <tr>\n",
    "        <td>Manzana</td>\n",
    "        <td>400</td>\n",
    "        <td>0.3</td>\n",
    "    </tr>\n",
    "</table>\n"
   ]
  },
  {
   "cell_type": "code",
   "execution_count": 1,
   "id": "7b1d1e65",
   "metadata": {},
   "outputs": [],
   "source": [
    "# calorias\n",
    "v = [500, 300, 100, 700, 300, 400, 500, 400]\n",
    "# peso (gr.)\n",
    "w = [500, 100, 500, 250, 150, 150, 500, 300]\n",
    "# capacidad total de 2 Kg. == 2000 gr.\n",
    "C = 2000"
   ]
  },
  {
   "cell_type": "markdown",
   "id": "4873dbb7",
   "metadata": {},
   "source": [
    "#### Programacion Dinamica"
   ]
  },
  {
   "cell_type": "code",
   "execution_count": 2,
   "id": "53e0190b",
   "metadata": {},
   "outputs": [],
   "source": [
    "def programacion_dinamica (v,w,C):\n",
    "  \n",
    "    N = len(v)\n",
    "    m = {}\n",
    "\n",
    "    for c in range(C+1):\n",
    "        m[(0,c)] = 0\n",
    "    \n",
    "    for i in range(1, N+1):\n",
    "        for c in range(0, C+1, 50):\n",
    "            if w[i-1]<= c:\n",
    "                m[(i,c)] = max(m[i-1,c], v[i-1] + m[(i-1,c-w[i-1])])\n",
    "            else:\n",
    "                m[(i,c)] = m[(i-1,c)]\n",
    "    \n",
    "   \n",
    "    return m[(N,C)]"
   ]
  },
  {
   "cell_type": "code",
   "execution_count": 3,
   "id": "4211533c",
   "metadata": {},
   "outputs": [
    {
     "name": "stdout",
     "output_type": "stream",
     "text": [
      "Valor Optimo de Calorias: 3100\n"
     ]
    }
   ],
   "source": [
    "res = programacion_dinamica(v, w, C)\n",
    "\n",
    "print(f\"Valor Optimo de Calorias: {res}\")"
   ]
  },
  {
   "cell_type": "markdown",
   "id": "a0317d8c",
   "metadata": {},
   "source": [
    "#### Algoritmo Genetico"
   ]
  },
  {
   "cell_type": "code",
   "execution_count": 4,
   "id": "b89fa449",
   "metadata": {},
   "outputs": [],
   "source": [
    "import random\n",
    "\n",
    "REPRODUCTION_RATE = 0.3\n",
    "CROSSOVER_RATE = 0.5\n",
    "MUTATION_RATE = 0.02\n",
    "GENERATIONS = 300"
   ]
  },
  {
   "cell_type": "code",
   "execution_count": 5,
   "id": "3ed525a2",
   "metadata": {},
   "outputs": [],
   "source": [
    "def poblacion_inicial(poblacion_size):\n",
    "    poblacion = []\n",
    "    for _ in range(poblacion_size): \n",
    "        # selecciona de manera random ciertos alimentos. 1 = seleccionado, 0 = no seleccionado\n",
    "        individuo = [random.choice([0,1]) for i in range(8)] \n",
    "        poblacion.append(individuo)\n",
    "    return poblacion"
   ]
  },
  {
   "cell_type": "code",
   "execution_count": 6,
   "id": "f3cd4c2e",
   "metadata": {},
   "outputs": [],
   "source": [
    "def fitness(individuo):\n",
    "    # suma el total de las calorias de los alimentos seleccionados del individuo\n",
    "    total_calorias = sum([ v[idx] for idx,val in enumerate(individuo) if val==1])\n",
    "    # suma el total de los gramos de los alimentos seleccionados del individuo\n",
    "    total_gramos = sum([ w[idx] for idx,val in enumerate(individuo) if val==1])\n",
    "    \n",
    "    # total_gramos debe ser <= a la capacidad maxima\n",
    "    if total_gramos <= C:\n",
    "        return total_calorias\n",
    "\n",
    "    return 0"
   ]
  },
  {
   "cell_type": "code",
   "execution_count": 7,
   "id": "2b2740f6",
   "metadata": {},
   "outputs": [],
   "source": [
    "def seleccion(poblacion):\n",
    "    \"\"\"\n",
    "        Selecciona 4 padres que competiran\n",
    "        entre ellos para ser los 2 padres seleccionados\n",
    "    \"\"\"\n",
    "    padres = []\n",
    "\n",
    "    random.shuffle(poblacion)\n",
    "\n",
    "    if fitness(poblacion[0]) > fitness(poblacion[1]):\n",
    "        padres.append(poblacion[0])\n",
    "    else:\n",
    "        padres.append(poblacion[1])\n",
    "\n",
    "    if fitness(poblacion[2]) > fitness(poblacion[3]):\n",
    "        padres.append(poblacion[2])\n",
    "    else:\n",
    "        padres.append(poblacion[3])\n",
    "\n",
    "    return padres"
   ]
  },
  {
   "cell_type": "code",
   "execution_count": 8,
   "id": "c5c25576",
   "metadata": {},
   "outputs": [],
   "source": [
    "def crossover(padres):\n",
    "    # primera mitad del padre 0 + segunda mitad padre 1\n",
    "    hijo1 = padres[0][:4] + padres[1][4:]\n",
    "    # primera mitad padre 1 + segunda mitad padre 0\n",
    "    hijo2 = padres[1][:4] + padres[0][4:]\n",
    "\n",
    "    return [hijo1, hijo2]"
   ]
  },
  {
   "cell_type": "code",
   "execution_count": 9,
   "id": "f6550ac5",
   "metadata": {},
   "outputs": [],
   "source": [
    "def mutacion(individuo):\n",
    "    \"\"\"\n",
    "        Se mutal al individuo moviendo de lugar ciertos valores\n",
    "    \"\"\"\n",
    "    for swapped in range(len(individuo)):\n",
    "        swapWith = int(random.random() * len(individuo))\n",
    "        individuo[swapped], individuo[swapWith] = individuo[swapWith], individuo[swapped]\n",
    "    return individuo"
   ]
  },
  {
   "cell_type": "code",
   "execution_count": 10,
   "id": "e8266d59",
   "metadata": {},
   "outputs": [],
   "source": [
    "def next_generation(poblacion):\n",
    "    next_gen = []\n",
    "    while len(next_gen) < len(poblacion):\n",
    "        hijos_next_gen = []\n",
    "\n",
    "        # seleccionamos dos padres\n",
    "        padres = seleccion(poblacion)\n",
    "\n",
    "        # reproduccion\n",
    "        if random.random() < REPRODUCTION_RATE:\n",
    "            # los padres pasan los genes hacia la siguiente generacion\n",
    "            hijos_next_gen = padres\n",
    "        else:\n",
    "            # crossover\n",
    "            if random.random() < CROSSOVER_RATE:\n",
    "                # los padres generan nuevos hijos con partes de cada padre\n",
    "                hijos_next_gen = crossover(padres)\n",
    "\n",
    "            # mutacion\n",
    "            if random.random() < MUTATION_RATE:\n",
    "                hijos_mutados = []\n",
    "                for child in hijos_next_gen:\n",
    "                    # se muta cada hijo\n",
    "                    hijos_mutados.append(mutacion(child))\n",
    "                hijos_next_gen = hijos_mutados\n",
    "\n",
    "        next_gen.extend(hijos_next_gen)\n",
    "\n",
    "    return next_gen[:len(poblacion)]"
   ]
  },
  {
   "cell_type": "code",
   "execution_count": 11,
   "id": "af0d606b",
   "metadata": {},
   "outputs": [],
   "source": [
    "def get_pop_fitness(poblacion):\n",
    "    pop_fitness = []\n",
    "    for ind in poblacion:\n",
    "        pop_fitness.append(fitness(ind))\n",
    "    return max(pop_fitness)"
   ]
  },
  {
   "cell_type": "code",
   "execution_count": 12,
   "id": "a9b45c9f",
   "metadata": {},
   "outputs": [],
   "source": [
    "def algoritmo_genetico():\n",
    "    # creamos la poblacion inicial\n",
    "    poblacion = poblacion_inicial(10)\n",
    "\n",
    "    pop_best_fitnesses = []\n",
    "\n",
    "    # iteramos x cantidad de generaciones\n",
    "    for _ in range(GENERATIONS):\n",
    "        poblacion = next_generation(poblacion)\n",
    "        pop_best_fitnesses.append(get_pop_fitness(poblacion))\n",
    "    \n",
    "    # de la poblacion final despues de iterar por cada generacion, seleccionamos el mejor individuo\n",
    "    poblacion = sorted(poblacion, key=lambda i: fitness(i), reverse=True)\n",
    "    \n",
    "    return poblacion[0], pop_best_fitnesses"
   ]
  },
  {
   "cell_type": "code",
   "execution_count": 13,
   "id": "786f70a3",
   "metadata": {},
   "outputs": [
    {
     "name": "stdout",
     "output_type": "stream",
     "text": [
      "[1, 1, 0, 1, 1, 1, 1, 1]\n"
     ]
    }
   ],
   "source": [
    "individuo_optimo, pop_best_fitnesses = algoritmo_genetico()\n",
    "print(individuo_optimo)"
   ]
  },
  {
   "cell_type": "code",
   "execution_count": 14,
   "id": "a2e82f77",
   "metadata": {},
   "outputs": [],
   "source": [
    "def evaluacion(individuo):\n",
    "    total_calorias = sum([ v[idx] for idx,val in enumerate(individuo) if val==1])\n",
    "    total_gramos = sum([ w[idx] for idx,val in enumerate(individuo) if val==1])\n",
    "    \n",
    "    print(f\"Total Calorias: {total_calorias}, Total Gramos: {total_gramos}\")"
   ]
  },
  {
   "cell_type": "code",
   "execution_count": 15,
   "id": "a966b80a",
   "metadata": {},
   "outputs": [
    {
     "name": "stdout",
     "output_type": "stream",
     "text": [
      "Total Calorias: 3100, Total Gramos: 1950\n"
     ]
    }
   ],
   "source": [
    "evaluacion(individuo_optimo)"
   ]
  },
  {
   "cell_type": "markdown",
   "id": "b31b2fe1",
   "metadata": {},
   "source": [
    "#### Ploteo de los Mejores Fitnesses de Cada Generacion"
   ]
  },
  {
   "cell_type": "code",
   "execution_count": 16,
   "id": "27c1ab76",
   "metadata": {},
   "outputs": [
    {
     "data": {
      "image/png": "[encoded data removed]",
      "text/plain": [
       "<Figure size 720x720 with 1 Axes>"
      ]
     },
     "metadata": {
      "needs_background": "light"
     },
     "output_type": "display_data"
    }
   ],
   "source": [
    "import matplotlib.pyplot as plt\n",
    "\n",
    "plt_1 = plt.figure(figsize=(10, 10))\n",
    "\n",
    "plt.plot(pop_best_fitnesses)\n",
    "plt.show()"
   ]
  }
 ],
 "metadata": {
  "kernelspec": {
   "display_name": "Python 3 (ipykernel)",
   "language": "python",
   "name": "python3"
  },
  "language_info": {
   "codemirror_mode": {
    "name": "ipython",
    "version": 3
   },
   "file_extension": ".py",
   "mimetype": "text/x-python",
   "name": "python",
   "nbconvert_exporter": "python",
   "pygments_lexer": "ipython3",
   "version": "3.9.7"
  }
 },
 "nbformat": 4,
 "nbformat_minor": 5
}
