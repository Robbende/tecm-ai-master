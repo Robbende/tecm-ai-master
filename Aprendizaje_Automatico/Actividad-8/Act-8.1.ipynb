{
 "cells": [
  {
   "cell_type": "markdown",
   "metadata": {},
   "source": [
    "### Actividad 8 - Punto 1"
   ]
  },
  {
   "cell_type": "code",
   "execution_count": 1,
   "metadata": {
    "id": "ZNqrAYUvIo8q"
   },
   "outputs": [],
   "source": [
    "#parametro v: valores de los items\n",
    "v = [500, 250, 1500, 1200, 1200, 1000, 800, 950]\n",
    "#parametro w: pesos de los items\n",
    "w = [4,3,10,12,9,5,6,7]\n",
    "#parametro C: capacidad de la mochila\n",
    "C = 28\n"
   ]
  },
  {
   "cell_type": "code",
   "execution_count": 2,
   "metadata": {
    "id": "m1MZovyZ36sp"
   },
   "outputs": [],
   "source": [
    "def opt_knapsack (v,w,C):\n",
    "  \n",
    "    N = len(v)\n",
    "    m = {}\n",
    "    mi = {} # diccionario para guardar los indices de los elementos seleccionados.\n",
    "\n",
    "    for c in range(C+1):\n",
    "        m[(0,c)] = 0\n",
    "        mi[(0,c)] = []\n",
    "        \n",
    "    for i in range(1, N+1):\n",
    "        for c in range(C+1):\n",
    "            if w[i-1]<= c:\n",
    "                if m[i-1,c] > v[i-1] + m[(i-1,c-w[i-1])]:\n",
    "                    m[(i,c)] = m[i-1,c]\n",
    "                    mi[(i,c)] = mi[i-1,c] # se guarda en el diccionario de los indices seleccionados\n",
    "                else:\n",
    "                    m[(i,c)] = v[i-1] + m[(i-1,c-w[i-1])]\n",
    "                    mi[(i,c)] = [i-1] + mi[(i-1,c-w[i-1])] # se guarda en el diccionario de los indices seleccionados\n",
    "            else:\n",
    "                m[(i,c)] = m[(i-1,c)]\n",
    "                mi[(i,c)] = mi[(i-1,c)] # se guarda en el diccionario de los indices seleccionados\n",
    "\n",
    "    return (m[(N,C)], mi[(N,C)])"
   ]
  },
  {
   "cell_type": "code",
   "execution_count": 3,
   "metadata": {
    "colab": {
     "base_uri": "https://localhost:8080/"
    },
    "id": "XbvUQIKQ7ETJ",
    "outputId": "53ee55b5-fe7a-4cc4-dc13-30e37dc51d75"
   },
   "outputs": [],
   "source": [
    "valor_optimo, elementos_seleccionados = opt_knapsack (v,w,C)"
   ]
  },
  {
   "cell_type": "code",
   "execution_count": 4,
   "metadata": {},
   "outputs": [
    {
     "name": "stdout",
     "output_type": "stream",
     "text": [
      "Valor Optimo 4250, Indices Elementos Seleccionados: [7, 6, 5, 2]\n"
     ]
    }
   ],
   "source": [
    "print(f\"Valor Optimo {valor_optimo}, Indices Elementos Seleccionados: {elementos_seleccionados}\")"
   ]
  },
  {
   "cell_type": "markdown",
   "metadata": {},
   "source": [
    "#### Comprobacion "
   ]
  },
  {
   "cell_type": "code",
   "execution_count": 5,
   "metadata": {},
   "outputs": [
    {
     "name": "stdout",
     "output_type": "stream",
     "text": [
      "Valor: 4250, Peso: 28\n"
     ]
    }
   ],
   "source": [
    "# suma de los valores de los indices de los elementos seleccionados\n",
    "valor = sum([v[i] for i in elementos_seleccionados])\n",
    "# suma de los pesos de los indices de los elementos seleccionados\n",
    "peso = sum([w[i] for i in elementos_seleccionados])\n",
    "\n",
    "print(f\"Valor: {valor}, Peso: {peso}\")"
   ]
  },
  {
   "cell_type": "code",
   "execution_count": null,
   "metadata": {},
   "outputs": [],
   "source": []
  }
 ],
 "metadata": {
  "colab": {
   "name": "Tema_15.ipynb",
   "provenance": []
  },
  "kernelspec": {
   "display_name": "Python 3 (ipykernel)",
   "language": "python",
   "name": "python3"
  },
  "language_info": {
   "codemirror_mode": {
    "name": "ipython",
    "version": 3
   },
   "file_extension": ".py",
   "mimetype": "text/x-python",
   "name": "python",
   "nbconvert_exporter": "python",
   "pygments_lexer": "ipython3",
   "version": "3.9.7"
  }
 },
 "nbformat": 4,
 "nbformat_minor": 1
}
