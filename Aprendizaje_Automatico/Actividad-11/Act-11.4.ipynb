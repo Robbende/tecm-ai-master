{
 "cells": [
  {
   "cell_type": "markdown",
   "id": "2f25e410",
   "metadata": {},
   "source": [
    "### Actividad 11 - Punto 4"
   ]
  },
  {
   "cell_type": "markdown",
   "id": "2841f0e1",
   "metadata": {},
   "source": [
    "#### Instalacion de librerias"
   ]
  },
  {
   "cell_type": "code",
   "execution_count": 3,
   "id": "7e38763b",
   "metadata": {},
   "outputs": [
    {
     "name": "stdout",
     "output_type": "stream",
     "text": [
      "Requirement already satisfied: minisom in c:\\users\\ruben\\anaconda3\\lib\\site-packages (2.3.0)\n",
      "Note: you may need to restart the kernel to use updated packages.\n"
     ]
    }
   ],
   "source": [
    "pip install minisom"
   ]
  },
  {
   "cell_type": "code",
   "execution_count": 4,
   "id": "d39a46b8",
   "metadata": {},
   "outputs": [
    {
     "name": "stdout",
     "output_type": "stream",
     "text": [
      "Requirement already satisfied: librosa in c:\\users\\ruben\\anaconda3\\lib\\site-packages (0.9.2)\n",
      "Requirement already satisfied: soundfile>=0.10.2 in c:\\users\\ruben\\anaconda3\\lib\\site-packages (from librosa) (0.10.3.post1)\n",
      "Requirement already satisfied: decorator>=4.0.10 in c:\\users\\ruben\\anaconda3\\lib\\site-packages (from librosa) (5.1.1)\n",
      "Requirement already satisfied: scipy>=1.2.0 in c:\\users\\ruben\\anaconda3\\lib\\site-packages (from librosa) (1.7.3)\n",
      "Requirement already satisfied: joblib>=0.14 in c:\\users\\ruben\\anaconda3\\lib\\site-packages (from librosa) (1.1.0)\n",
      "Requirement already satisfied: packaging>=20.0 in c:\\users\\ruben\\anaconda3\\lib\\site-packages (from librosa) (21.3)\n",
      "Requirement already satisfied: numpy>=1.17.0 in c:\\users\\ruben\\anaconda3\\lib\\site-packages (from librosa) (1.21.6)\n",
      "Requirement already satisfied: resampy>=0.2.2 in c:\\users\\ruben\\anaconda3\\lib\\site-packages (from librosa) (0.3.1)\n",
      "Requirement already satisfied: scikit-learn>=0.19.1 in c:\\users\\ruben\\anaconda3\\lib\\site-packages (from librosa) (1.1.1)\n",
      "Requirement already satisfied: pooch>=1.0 in c:\\users\\ruben\\anaconda3\\lib\\site-packages (from librosa) (1.6.0)\n",
      "Requirement already satisfied: numba>=0.45.1 in c:\\users\\ruben\\anaconda3\\lib\\site-packages (from librosa) (0.55.1)\n",
      "Requirement already satisfied: audioread>=2.1.9 in c:\\users\\ruben\\anaconda3\\lib\\site-packages (from librosa) (2.1.9)\n",
      "Requirement already satisfied: setuptools in c:\\users\\ruben\\anaconda3\\lib\\site-packages (from numba>=0.45.1->librosa) (61.2.0)\n",
      "Requirement already satisfied: llvmlite<0.39,>=0.38.0rc1 in c:\\users\\ruben\\anaconda3\\lib\\site-packages (from numba>=0.45.1->librosa) (0.38.0)\n",
      "Requirement already satisfied: pyparsing!=3.0.5,>=2.0.2 in c:\\users\\ruben\\anaconda3\\lib\\site-packages (from packaging>=20.0->librosa) (3.0.4)\n",
      "Requirement already satisfied: requests>=2.19.0 in c:\\users\\ruben\\anaconda3\\lib\\site-packages (from pooch>=1.0->librosa) (2.28.1)\n",
      "Requirement already satisfied: appdirs>=1.3.0 in c:\\users\\ruben\\anaconda3\\lib\\site-packages (from pooch>=1.0->librosa) (1.4.4)\n",
      "Requirement already satisfied: threadpoolctl>=2.0.0 in c:\\users\\ruben\\anaconda3\\lib\\site-packages (from scikit-learn>=0.19.1->librosa) (2.2.0)\n",
      "Requirement already satisfied: cffi>=1.0 in c:\\users\\ruben\\anaconda3\\lib\\site-packages (from soundfile>=0.10.2->librosa) (1.15.1)\n",
      "Requirement already satisfied: pycparser in c:\\users\\ruben\\anaconda3\\lib\\site-packages (from cffi>=1.0->soundfile>=0.10.2->librosa) (2.21)\n",
      "Requirement already satisfied: idna<4,>=2.5 in c:\\users\\ruben\\anaconda3\\lib\\site-packages (from requests>=2.19.0->pooch>=1.0->librosa) (3.3)\n",
      "Requirement already satisfied: certifi>=2017.4.17 in c:\\users\\ruben\\anaconda3\\lib\\site-packages (from requests>=2.19.0->pooch>=1.0->librosa) (2022.6.15)\n",
      "Requirement already satisfied: charset-normalizer<3,>=2 in c:\\users\\ruben\\anaconda3\\lib\\site-packages (from requests>=2.19.0->pooch>=1.0->librosa) (2.0.4)\n",
      "Requirement already satisfied: urllib3<1.27,>=1.21.1 in c:\\users\\ruben\\anaconda3\\lib\\site-packages (from requests>=2.19.0->pooch>=1.0->librosa) (1.26.11)\n",
      "Note: you may need to restart the kernel to use updated packages.\n"
     ]
    }
   ],
   "source": [
    "pip install librosa"
   ]
  },
  {
   "cell_type": "code",
   "execution_count": 6,
   "id": "69658219",
   "metadata": {},
   "outputs": [],
   "source": [
    "import numpy as np\n",
    "import matplotlib.pyplot as plt\n",
    "from sklearn.datasets import load_iris\n",
    "from sklearn.model_selection import train_test_split\n",
    "from minisom import MiniSom\n",
    "from librosa import feature"
   ]
  },
  {
   "cell_type": "code",
   "execution_count": 7,
   "id": "37a4cae1",
   "metadata": {},
   "outputs": [],
   "source": [
    "from scipy.io import wavfile\n",
    "import os"
   ]
  },
  {
   "cell_type": "code",
   "execution_count": 8,
   "id": "08711842",
   "metadata": {},
   "outputs": [],
   "source": [
    "from sklearn.decomposition import FastICA"
   ]
  },
  {
   "cell_type": "code",
   "execution_count": 9,
   "id": "dae691e9",
   "metadata": {},
   "outputs": [],
   "source": [
    "WAV_DIR = 'wav'\n",
    "\n",
    "numeric_label = {\n",
    "    'Aeropuerto': 0,\n",
    "    'Ciudad': 1,\n",
    "    'Parque': 2,\n",
    "    'Restaurante': 3\n",
    "}\n",
    "\n",
    "features_func_list = [\n",
    "    feature.chroma_stft,\n",
    "    feature.spectral_centroid,\n",
    "    feature.spectral_bandwidth,\n",
    "    feature.spectral_rolloff\n",
    "]\n",
    "\n",
    "features_func_label = (\n",
    "'chroma_stft',\n",
    "'spectral_centroid',\n",
    "'spectral_bandwidth',\n",
    "'spectral_rolloff'\n",
    ")"
   ]
  },
  {
   "cell_type": "code",
   "execution_count": 10,
   "id": "5348f79d",
   "metadata": {},
   "outputs": [],
   "source": [
    "def apply_fastICA(audio, n_component):\n",
    "    ica = FastICA(n_components=n_component, whiten='unit-variance')\n",
    "    S_ = ica.fit_transform(audio)\n",
    "    A_ = ica.mixing_\n",
    "    \n",
    "    return (S_, S_[:,1], A_)"
   ]
  },
  {
   "cell_type": "code",
   "execution_count": 11,
   "id": "f8340391",
   "metadata": {},
   "outputs": [],
   "source": [
    "def get_audio_features(audio, audio_sampling_rate):\n",
    "    features_list = []\n",
    "    for feature_function in features_func_list:\n",
    "        features_list.append(np.mean(feature_function(y=audio, sr=audio_sampling_rate)))\n",
    "    return features_list"
   ]
  },
  {
   "cell_type": "markdown",
   "id": "1cf1175d",
   "metadata": {},
   "source": [
    "#### Lectura de los archivos WAV, FastICA y Extraccion de Caracteristicas"
   ]
  },
  {
   "cell_type": "code",
   "execution_count": 12,
   "id": "91e0cd5e",
   "metadata": {},
   "outputs": [],
   "source": [
    "# lee el archivo wav, aplica FastICA y extrae las caracteristicas del sonido de ruido\n",
    "def get_audio_ds():\n",
    "    files_list = []\n",
    "    for i in os.listdir(WAV_DIR):\n",
    "        file_path = os.path.join(WAV_DIR, i)\n",
    "        if os.path.isfile(file_path) and file_path.endswith('.wav'):\n",
    "            # import wav file\n",
    "            sampling_rate, audio = wavfile.read(file_path)\n",
    "            # apply fastICA\n",
    "            s_, s_ruido, a_ = apply_fastICA(audio, 2)\n",
    "            # get features for s_ruido\n",
    "            audio_features = get_audio_features(s_ruido, sampling_rate)\n",
    "            \n",
    "            file_dic = { 'file_name': i, \n",
    "                         'sampling_rate': sampling_rate, \n",
    "                         'audio': audio, \n",
    "                         'audio_shape': audio.shape, \n",
    "                         'area': i.split('_')[0],\n",
    "                         'area_number': numeric_label[i.split('_')[0]],\n",
    "                         'S_': s_,\n",
    "                         'S_ruido': s_ruido,\n",
    "                         'A_': a_,\n",
    "                         'S_ruido_features': audio_features,\n",
    "                         'S_ruido_labels': features_func_label\n",
    "                       }\n",
    "            files_list.append(file_dic)\n",
    "    return files_list"
   ]
  },
  {
   "cell_type": "code",
   "execution_count": 13,
   "id": "54897255",
   "metadata": {},
   "outputs": [],
   "source": [
    "wav_files = get_audio_ds()"
   ]
  },
  {
   "cell_type": "markdown",
   "id": "5e6c1e9c",
   "metadata": {},
   "source": [
    "#### Creacion del dataset de las caracteristicas del audio de ruido y su etiquetado"
   ]
  },
  {
   "cell_type": "code",
   "execution_count": 14,
   "id": "193b5dc1",
   "metadata": {},
   "outputs": [],
   "source": [
    "audio_dataset = np.array([f['S_ruido_features'] + [f['area_number']] for f in wav_files])"
   ]
  },
  {
   "cell_type": "code",
   "execution_count": 15,
   "id": "c2df8b85",
   "metadata": {},
   "outputs": [
    {
     "data": {
      "text/plain": [
       "array([[4.72715586e-01, 2.13088807e+03, 3.09501985e+03, 3.83822155e+03,\n",
       "        0.00000000e+00],\n",
       "       [4.76226253e-01, 2.02406028e+03, 2.90764551e+03, 3.54337268e+03,\n",
       "        0.00000000e+00],\n",
       "       [4.72878074e-01, 2.27136034e+03, 3.11921862e+03, 3.89954478e+03,\n",
       "        0.00000000e+00],\n",
       "       [4.92402193e-01, 5.30134061e+03, 5.42329225e+03, 1.09712328e+04,\n",
       "        0.00000000e+00],\n",
       "       [4.74051323e-01, 2.28667453e+03, 3.03974430e+03, 4.18927739e+03,\n",
       "        1.00000000e+00],\n",
       "       [4.14280897e-01, 4.35928006e+03, 4.17883037e+03, 7.34376131e+03,\n",
       "        1.00000000e+00],\n",
       "       [4.83660566e-01, 2.16952394e+03, 2.80835386e+03, 3.86195637e+03,\n",
       "        1.00000000e+00],\n",
       "       [4.79989385e-01, 2.33599122e+03, 3.01353758e+03, 4.20988219e+03,\n",
       "        1.00000000e+00],\n",
       "       [4.83766187e-01, 2.59767939e+03, 3.28607652e+03, 4.63319637e+03,\n",
       "        2.00000000e+00],\n",
       "       [4.50786569e-01, 4.57480972e+03, 4.13923341e+03, 7.09739915e+03,\n",
       "        2.00000000e+00],\n",
       "       [4.67094420e-01, 4.63032510e+03, 4.40018920e+03, 7.67698162e+03,\n",
       "        2.00000000e+00],\n",
       "       [4.50564199e-01, 4.73684675e+03, 4.48999431e+03, 7.97713174e+03,\n",
       "        2.00000000e+00],\n",
       "       [4.64865438e-01, 2.39854042e+03, 3.34963029e+03, 4.46191964e+03,\n",
       "        3.00000000e+00],\n",
       "       [4.64031377e-01, 2.32304455e+03, 3.31759942e+03, 4.31921964e+03,\n",
       "        3.00000000e+00],\n",
       "       [5.20609430e-01, 4.08828533e+03, 4.42323051e+03, 7.84528460e+03,\n",
       "        3.00000000e+00],\n",
       "       [5.05135965e-01, 4.79953959e+03, 4.57198891e+03, 8.88339081e+03,\n",
       "        3.00000000e+00]])"
      ]
     },
     "execution_count": 15,
     "metadata": {},
     "output_type": "execute_result"
    }
   ],
   "source": [
    "audio_dataset"
   ]
  },
  {
   "cell_type": "code",
   "execution_count": 16,
   "id": "bf336adc",
   "metadata": {},
   "outputs": [],
   "source": [
    "# caracteristicas\n",
    "audio_data = audio_dataset[:,:-1]\n",
    "# etiquetado\n",
    "audio_label = audio_dataset[:,-1]"
   ]
  },
  {
   "cell_type": "code",
   "execution_count": 17,
   "id": "4a7bb2fc",
   "metadata": {},
   "outputs": [
    {
     "data": {
      "text/plain": [
       "array([[8.80062752e-05, 3.96711104e-01, 5.76205179e-01, 7.14568320e-01],\n",
       "       [9.50426217e-05, 4.03950841e-01, 5.80291932e-01, 7.07166870e-01],\n",
       "       [8.61988805e-05, 4.14036365e-01, 5.68588751e-01, 7.10831002e-01],\n",
       "       [3.69191094e-05, 3.97481523e-01, 4.06625158e-01, 8.22596145e-01],\n",
       "       [8.37763967e-05, 4.04110996e-01, 5.37196738e-01, 7.40347189e-01],\n",
       "       [4.35730978e-05, 4.58498902e-01, 4.39519624e-01, 7.72399673e-01],\n",
       "       [9.22163804e-05, 4.13648866e-01, 5.35450367e-01, 7.36333831e-01],\n",
       "       [8.45065197e-05, 4.11272612e-01, 5.30560844e-01, 7.41188250e-01],\n",
       "       [7.74519311e-05, 4.15893649e-01, 5.26107403e-01, 7.41783976e-01],\n",
       "       [4.79356209e-05, 4.86474885e-01, 4.40156689e-01, 7.54721321e-01],\n",
       "       [4.67708404e-05, 4.63641154e-01, 4.40597314e-01, 7.68707282e-01],\n",
       "       [4.37147693e-05, 4.59579707e-01, 4.35629519e-01, 7.73959568e-01],\n",
       "       [7.65458271e-05, 3.94949259e-01, 5.51557935e-01, 7.34710093e-01],\n",
       "       [7.83699714e-05, 3.92337554e-01, 5.60307309e-01, 7.29470326e-01],\n",
       "       [5.26358297e-05, 4.13343052e-01, 4.47207436e-01, 7.93191672e-01],\n",
       "       [4.55737626e-05, 4.33018223e-01, 4.12488422e-01, 8.01466480e-01]])"
      ]
     },
     "execution_count": 17,
     "metadata": {},
     "output_type": "execute_result"
    }
   ],
   "source": [
    "# normalizacion de los datos de las caracteristicas\n",
    "audio_data = np.apply_along_axis(lambda x: x/np.linalg.norm(x), 1, audio_data)\n",
    "audio_data"
   ]
  },
  {
   "cell_type": "code",
   "execution_count": 18,
   "id": "4fd01f91",
   "metadata": {},
   "outputs": [],
   "source": [
    "# separacion de los datos de entrenamiento y testing\n",
    "X_train, X_test, y_train, y_test = train_test_split(audio_data, audio_label, test_size=0.33, random_state=42)"
   ]
  },
  {
   "cell_type": "markdown",
   "id": "dd353fb9",
   "metadata": {},
   "source": [
    "#### Mapa autoorganizado"
   ]
  },
  {
   "cell_type": "code",
   "execution_count": 19,
   "id": "06086e85",
   "metadata": {},
   "outputs": [],
   "source": [
    "from minisom import MiniSom\n",
    "som = MiniSom(1,4,4 ,sigma=0.5,learning_rate=0.5,neighborhood_function=\"gaussian\") "
   ]
  },
  {
   "cell_type": "code",
   "execution_count": 20,
   "id": "4f865f8f",
   "metadata": {},
   "outputs": [],
   "source": [
    "som.train(X_train, 3000)"
   ]
  },
  {
   "cell_type": "code",
   "execution_count": 21,
   "id": "11d46021",
   "metadata": {},
   "outputs": [
    {
     "data": {
      "image/png": "[encoded data removed]",
      "text/plain": [
       "<Figure size 72x288 with 2 Axes>"
      ]
     },
     "metadata": {
      "needs_background": "light"
     },
     "output_type": "display_data"
    }
   ],
   "source": [
    "plt.figure(figsize=(1,4))\n",
    "frequencies = som.activation_response(X_train)\n",
    "plt.pcolor(frequencies.T, cmap='Blues') \n",
    "plt.colorbar()\n",
    "plt.show()"
   ]
  },
  {
   "cell_type": "markdown",
   "id": "e7115841",
   "metadata": {},
   "source": [
    "#### Referencia Label y Color"
   ]
  },
  {
   "cell_type": "code",
   "execution_count": 22,
   "id": "410085d3",
   "metadata": {},
   "outputs": [
    {
     "name": "stdout",
     "output_type": "stream",
     "text": [
      "Label Number: 0, Label Name: Aeropuerto, Label Color: orange\n",
      "Label Number: 1, Label Name: Ciudad, Label Color: blue\n",
      "Label Number: 2, Label Name: Parque, Label Color: red\n",
      "Label Number: 3, Label Name: Restaurante, Label Color: green\n"
     ]
    }
   ],
   "source": [
    "colors = [\"orange\", \"blue\", \"red\",\"green\"]\n",
    "categorical_label = dict(map(reversed, numeric_label.items()))\n",
    "\n",
    "for c in range(4):\n",
    "    print(f'Label Number: {int(c)}, Label Name: {categorical_label[int(c)]}, Label Color: {colors[int(c)]}')"
   ]
  },
  {
   "cell_type": "code",
   "execution_count": 23,
   "id": "fc687b3d",
   "metadata": {},
   "outputs": [
    {
     "data": {
      "image/png": "[encoded data removed]",
      "text/plain": [
       "<Figure size 72x288 with 2 Axes>"
      ]
     },
     "metadata": {
      "needs_background": "light"
     },
     "output_type": "display_data"
    }
   ],
   "source": [
    "w_x, w_y = zip(*[som.winner(d) for d in X_train])\n",
    "w_x = np.array(w_x)\n",
    "w_y = np.array(w_y)\n",
    "\n",
    "plt.figure(figsize=(1,4))\n",
    "plt.pcolor(frequencies.T, cmap='Blues') \n",
    "plt.colorbar()\n",
    "\n",
    "for c in np.unique(y_train):\n",
    "    idx_target = y_train==c\n",
    "    plt.scatter(w_x[idx_target]+.5+(np.random.rand(np.sum(idx_target))-.5)*.8,\n",
    "                w_y[idx_target]+.5+(np.random.rand(np.sum(idx_target))-.5)*.8, c=colors[int(c)] )\n",
    "\n",
    "plt.grid()\n",
    "plt.show()"
   ]
  },
  {
   "cell_type": "markdown",
   "id": "210b8f32",
   "metadata": {},
   "source": [
    "#### Ploteo Datos de Testing"
   ]
  },
  {
   "cell_type": "code",
   "execution_count": 24,
   "id": "ca56fe90",
   "metadata": {},
   "outputs": [
    {
     "data": {
      "image/png": "[encoded data removed]",
      "text/plain": [
       "<Figure size 72x288 with 2 Axes>"
      ]
     },
     "metadata": {
      "needs_background": "light"
     },
     "output_type": "display_data"
    }
   ],
   "source": [
    "plt.figure(figsize=(1,4))\n",
    "frequencies = som.activation_response(X_test)\n",
    "plt.pcolor(frequencies.T, cmap='Blues') \n",
    "plt.colorbar()\n",
    "plt.show()"
   ]
  },
  {
   "cell_type": "code",
   "execution_count": 25,
   "id": "7d635c94",
   "metadata": {
    "scrolled": false
   },
   "outputs": [
    {
     "data": {
      "image/png": "[encoded data removed]",
      "text/plain": [
       "<Figure size 72x288 with 2 Axes>"
      ]
     },
     "metadata": {
      "needs_background": "light"
     },
     "output_type": "display_data"
    }
   ],
   "source": [
    "w_x, w_y = zip(*[som.winner(d) for d in X_test])\n",
    "w_x = np.array(w_x)\n",
    "w_y = np.array(w_y)\n",
    "\n",
    "plt.figure(figsize=(1,4))\n",
    "plt.pcolor(frequencies.T, cmap='Blues') \n",
    "plt.colorbar()\n",
    "\n",
    "for c in np.unique(y_test):\n",
    "    idx_target = y_test==c\n",
    "    plt.scatter(w_x[idx_target]+.5+(np.random.rand(np.sum(idx_target))-.5)*.8,\n",
    "                w_y[idx_target]+.5+(np.random.rand(np.sum(idx_target))-.5)*.8, c=colors[int(c)] )\n",
    "\n",
    "plt.grid()\n",
    "plt.show()"
   ]
  },
  {
   "cell_type": "code",
   "execution_count": null,
   "id": "d6ee8b21",
   "metadata": {},
   "outputs": [],
   "source": []
  }
 ],
 "metadata": {
  "kernelspec": {
   "display_name": "Python 3 (ipykernel)",
   "language": "python",
   "name": "python3"
  },
  "language_info": {
   "codemirror_mode": {
    "name": "ipython",
    "version": 3
   },
   "file_extension": ".py",
   "mimetype": "text/x-python",
   "name": "python",
   "nbconvert_exporter": "python",
   "pygments_lexer": "ipython3",
   "version": "3.9.12"
  }
 },
 "nbformat": 4,
 "nbformat_minor": 5
}
