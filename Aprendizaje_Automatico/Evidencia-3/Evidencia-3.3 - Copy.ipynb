{
 "cells": [
  {
   "cell_type": "markdown",
   "id": "ba40a89f",
   "metadata": {},
   "source": [
    "### Evidencia 3 - Punto 3"
   ]
  },
  {
   "cell_type": "code",
   "execution_count": 1,
   "id": "c97bcbf2",
   "metadata": {},
   "outputs": [],
   "source": [
    "import matplotlib.pyplot as plt\n",
    "import pandas as pd\n",
    "%matplotlib inline\n",
    "import numpy as np\n",
    "\n",
    "from sklearn.preprocessing import StandardScaler\n",
    "from sklearn.cluster import KMeans\n",
    "from sklearn.metrics import silhouette_score\n",
    "\n",
    "# Principal Component Analysis\n",
    "from sklearn.decomposition import PCA"
   ]
  },
  {
   "cell_type": "code",
   "execution_count": 14,
   "id": "22ff2d89",
   "metadata": {},
   "outputs": [],
   "source": [
    "features_columns = ['danceability', 'energy', 'loudness', 'speechiness', 'acousticness', 'instrumentalness', 'liveness', 'valence', 'tempo' ]"
   ]
  },
  {
   "cell_type": "markdown",
   "id": "611385fa",
   "metadata": {},
   "source": [
    "#### Importacion Datos y Clean up"
   ]
  },
  {
   "cell_type": "code",
   "execution_count": 3,
   "id": "8bfe656c",
   "metadata": {},
   "outputs": [
    {
     "data": {
      "text/html": [
       "<div>\n",
       "<style scoped>\n",
       "    .dataframe tbody tr th:only-of-type {\n",
       "        vertical-align: middle;\n",
       "    }\n",
       "\n",
       "    .dataframe tbody tr th {\n",
       "        vertical-align: top;\n",
       "    }\n",
       "\n",
       "    .dataframe thead th {\n",
       "        text-align: right;\n",
       "    }\n",
       "</style>\n",
       "<table border=\"1\" class=\"dataframe\">\n",
       "  <thead>\n",
       "    <tr style=\"text-align: right;\">\n",
       "      <th></th>\n",
       "      <th>danceability</th>\n",
       "      <th>energy</th>\n",
       "      <th>key</th>\n",
       "      <th>loudness</th>\n",
       "      <th>mode</th>\n",
       "      <th>speechiness</th>\n",
       "      <th>acousticness</th>\n",
       "      <th>instrumentalness</th>\n",
       "      <th>liveness</th>\n",
       "      <th>valence</th>\n",
       "      <th>tempo</th>\n",
       "      <th>type</th>\n",
       "      <th>id</th>\n",
       "      <th>uri</th>\n",
       "      <th>track_href</th>\n",
       "      <th>analysis_url</th>\n",
       "      <th>duration_ms</th>\n",
       "      <th>time_signature</th>\n",
       "      <th>genre</th>\n",
       "      <th>song_name</th>\n",
       "    </tr>\n",
       "  </thead>\n",
       "  <tbody>\n",
       "    <tr>\n",
       "      <th>0</th>\n",
       "      <td>0.831</td>\n",
       "      <td>0.814</td>\n",
       "      <td>2</td>\n",
       "      <td>-7.364</td>\n",
       "      <td>1</td>\n",
       "      <td>0.4200</td>\n",
       "      <td>0.0598</td>\n",
       "      <td>0.013400</td>\n",
       "      <td>0.0556</td>\n",
       "      <td>0.3890</td>\n",
       "      <td>156.985</td>\n",
       "      <td>audio_features</td>\n",
       "      <td>2Vc6NJ9PW9gD9q343XFRKx</td>\n",
       "      <td>spotify:track:2Vc6NJ9PW9gD9q343XFRKx</td>\n",
       "      <td>https://api.spotify.com/v1/tracks/2Vc6NJ9PW9gD...</td>\n",
       "      <td>https://api.spotify.com/v1/audio-analysis/2Vc6...</td>\n",
       "      <td>124539</td>\n",
       "      <td>4</td>\n",
       "      <td>Dark Trap</td>\n",
       "      <td>Mercury: Retrograde</td>\n",
       "    </tr>\n",
       "    <tr>\n",
       "      <th>1</th>\n",
       "      <td>0.719</td>\n",
       "      <td>0.493</td>\n",
       "      <td>8</td>\n",
       "      <td>-7.230</td>\n",
       "      <td>1</td>\n",
       "      <td>0.0794</td>\n",
       "      <td>0.4010</td>\n",
       "      <td>0.000000</td>\n",
       "      <td>0.1180</td>\n",
       "      <td>0.1240</td>\n",
       "      <td>115.080</td>\n",
       "      <td>audio_features</td>\n",
       "      <td>7pgJBLVz5VmnL7uGHmRj6p</td>\n",
       "      <td>spotify:track:7pgJBLVz5VmnL7uGHmRj6p</td>\n",
       "      <td>https://api.spotify.com/v1/tracks/7pgJBLVz5Vmn...</td>\n",
       "      <td>https://api.spotify.com/v1/audio-analysis/7pgJ...</td>\n",
       "      <td>224427</td>\n",
       "      <td>4</td>\n",
       "      <td>Dark Trap</td>\n",
       "      <td>Pathology</td>\n",
       "    </tr>\n",
       "    <tr>\n",
       "      <th>2</th>\n",
       "      <td>0.850</td>\n",
       "      <td>0.893</td>\n",
       "      <td>5</td>\n",
       "      <td>-4.783</td>\n",
       "      <td>1</td>\n",
       "      <td>0.0623</td>\n",
       "      <td>0.0138</td>\n",
       "      <td>0.000004</td>\n",
       "      <td>0.3720</td>\n",
       "      <td>0.0391</td>\n",
       "      <td>218.050</td>\n",
       "      <td>audio_features</td>\n",
       "      <td>0vSWgAlfpye0WCGeNmuNhy</td>\n",
       "      <td>spotify:track:0vSWgAlfpye0WCGeNmuNhy</td>\n",
       "      <td>https://api.spotify.com/v1/tracks/0vSWgAlfpye0...</td>\n",
       "      <td>https://api.spotify.com/v1/audio-analysis/0vSW...</td>\n",
       "      <td>98821</td>\n",
       "      <td>4</td>\n",
       "      <td>Dark Trap</td>\n",
       "      <td>Symbiote</td>\n",
       "    </tr>\n",
       "    <tr>\n",
       "      <th>3</th>\n",
       "      <td>0.476</td>\n",
       "      <td>0.781</td>\n",
       "      <td>0</td>\n",
       "      <td>-4.710</td>\n",
       "      <td>1</td>\n",
       "      <td>0.1030</td>\n",
       "      <td>0.0237</td>\n",
       "      <td>0.000000</td>\n",
       "      <td>0.1140</td>\n",
       "      <td>0.1750</td>\n",
       "      <td>186.948</td>\n",
       "      <td>audio_features</td>\n",
       "      <td>0VSXnJqQkwuH2ei1nOQ1nu</td>\n",
       "      <td>spotify:track:0VSXnJqQkwuH2ei1nOQ1nu</td>\n",
       "      <td>https://api.spotify.com/v1/tracks/0VSXnJqQkwuH...</td>\n",
       "      <td>https://api.spotify.com/v1/audio-analysis/0VSX...</td>\n",
       "      <td>123661</td>\n",
       "      <td>3</td>\n",
       "      <td>Dark Trap</td>\n",
       "      <td>ProductOfDrugs (Prod. The Virus and Antidote)</td>\n",
       "    </tr>\n",
       "    <tr>\n",
       "      <th>4</th>\n",
       "      <td>0.798</td>\n",
       "      <td>0.624</td>\n",
       "      <td>2</td>\n",
       "      <td>-7.668</td>\n",
       "      <td>1</td>\n",
       "      <td>0.2930</td>\n",
       "      <td>0.2170</td>\n",
       "      <td>0.000000</td>\n",
       "      <td>0.1660</td>\n",
       "      <td>0.5910</td>\n",
       "      <td>147.988</td>\n",
       "      <td>audio_features</td>\n",
       "      <td>4jCeguq9rMTlbMmPHuO7S3</td>\n",
       "      <td>spotify:track:4jCeguq9rMTlbMmPHuO7S3</td>\n",
       "      <td>https://api.spotify.com/v1/tracks/4jCeguq9rMTl...</td>\n",
       "      <td>https://api.spotify.com/v1/audio-analysis/4jCe...</td>\n",
       "      <td>123298</td>\n",
       "      <td>4</td>\n",
       "      <td>Dark Trap</td>\n",
       "      <td>Venom</td>\n",
       "    </tr>\n",
       "  </tbody>\n",
       "</table>\n",
       "</div>"
      ],
      "text/plain": [
       "   danceability  energy  key  loudness  mode  speechiness  acousticness  \\\n",
       "0         0.831   0.814    2    -7.364     1       0.4200        0.0598   \n",
       "1         0.719   0.493    8    -7.230     1       0.0794        0.4010   \n",
       "2         0.850   0.893    5    -4.783     1       0.0623        0.0138   \n",
       "3         0.476   0.781    0    -4.710     1       0.1030        0.0237   \n",
       "4         0.798   0.624    2    -7.668     1       0.2930        0.2170   \n",
       "\n",
       "   instrumentalness  liveness  valence    tempo            type  \\\n",
       "0          0.013400    0.0556   0.3890  156.985  audio_features   \n",
       "1          0.000000    0.1180   0.1240  115.080  audio_features   \n",
       "2          0.000004    0.3720   0.0391  218.050  audio_features   \n",
       "3          0.000000    0.1140   0.1750  186.948  audio_features   \n",
       "4          0.000000    0.1660   0.5910  147.988  audio_features   \n",
       "\n",
       "                       id                                   uri  \\\n",
       "0  2Vc6NJ9PW9gD9q343XFRKx  spotify:track:2Vc6NJ9PW9gD9q343XFRKx   \n",
       "1  7pgJBLVz5VmnL7uGHmRj6p  spotify:track:7pgJBLVz5VmnL7uGHmRj6p   \n",
       "2  0vSWgAlfpye0WCGeNmuNhy  spotify:track:0vSWgAlfpye0WCGeNmuNhy   \n",
       "3  0VSXnJqQkwuH2ei1nOQ1nu  spotify:track:0VSXnJqQkwuH2ei1nOQ1nu   \n",
       "4  4jCeguq9rMTlbMmPHuO7S3  spotify:track:4jCeguq9rMTlbMmPHuO7S3   \n",
       "\n",
       "                                          track_href  \\\n",
       "0  https://api.spotify.com/v1/tracks/2Vc6NJ9PW9gD...   \n",
       "1  https://api.spotify.com/v1/tracks/7pgJBLVz5Vmn...   \n",
       "2  https://api.spotify.com/v1/tracks/0vSWgAlfpye0...   \n",
       "3  https://api.spotify.com/v1/tracks/0VSXnJqQkwuH...   \n",
       "4  https://api.spotify.com/v1/tracks/4jCeguq9rMTl...   \n",
       "\n",
       "                                        analysis_url  duration_ms  \\\n",
       "0  https://api.spotify.com/v1/audio-analysis/2Vc6...       124539   \n",
       "1  https://api.spotify.com/v1/audio-analysis/7pgJ...       224427   \n",
       "2  https://api.spotify.com/v1/audio-analysis/0vSW...        98821   \n",
       "3  https://api.spotify.com/v1/audio-analysis/0VSX...       123661   \n",
       "4  https://api.spotify.com/v1/audio-analysis/4jCe...       123298   \n",
       "\n",
       "   time_signature      genre                                      song_name  \n",
       "0               4  Dark Trap                            Mercury: Retrograde  \n",
       "1               4  Dark Trap                                      Pathology  \n",
       "2               4  Dark Trap                                       Symbiote  \n",
       "3               3  Dark Trap  ProductOfDrugs (Prod. The Virus and Antidote)  \n",
       "4               4  Dark Trap                                          Venom  "
      ]
     },
     "execution_count": 3,
     "metadata": {},
     "output_type": "execute_result"
    }
   ],
   "source": [
    "data = pd.read_csv('genres_v2.csv', dtype={'song_name': 'str'})\n",
    "data.dropna()\n",
    "data = data[data['loudness'] > -20]\n",
    "data = data[data['speechiness'] < 0.8]\n",
    "\n",
    "data.head()"
   ]
  },
  {
   "cell_type": "code",
   "execution_count": 4,
   "id": "081fc771",
   "metadata": {},
   "outputs": [],
   "source": [
    "# copia del dataset original\n",
    "data_original = data.copy()"
   ]
  },
  {
   "cell_type": "markdown",
   "id": "ad77b65c",
   "metadata": {},
   "source": [
    "#### Seleccion de columnas"
   ]
  },
  {
   "cell_type": "code",
   "execution_count": 5,
   "id": "732b80a5",
   "metadata": {},
   "outputs": [
    {
     "data": {
      "text/html": [
       "<div>\n",
       "<style scoped>\n",
       "    .dataframe tbody tr th:only-of-type {\n",
       "        vertical-align: middle;\n",
       "    }\n",
       "\n",
       "    .dataframe tbody tr th {\n",
       "        vertical-align: top;\n",
       "    }\n",
       "\n",
       "    .dataframe thead th {\n",
       "        text-align: right;\n",
       "    }\n",
       "</style>\n",
       "<table border=\"1\" class=\"dataframe\">\n",
       "  <thead>\n",
       "    <tr style=\"text-align: right;\">\n",
       "      <th></th>\n",
       "      <th>danceability</th>\n",
       "      <th>energy</th>\n",
       "      <th>loudness</th>\n",
       "      <th>speechiness</th>\n",
       "      <th>acousticness</th>\n",
       "      <th>instrumentalness</th>\n",
       "      <th>liveness</th>\n",
       "      <th>valence</th>\n",
       "      <th>tempo</th>\n",
       "    </tr>\n",
       "  </thead>\n",
       "  <tbody>\n",
       "    <tr>\n",
       "      <th>0</th>\n",
       "      <td>0.831</td>\n",
       "      <td>0.814</td>\n",
       "      <td>-7.364</td>\n",
       "      <td>0.4200</td>\n",
       "      <td>0.0598</td>\n",
       "      <td>0.013400</td>\n",
       "      <td>0.0556</td>\n",
       "      <td>0.3890</td>\n",
       "      <td>156.985</td>\n",
       "    </tr>\n",
       "    <tr>\n",
       "      <th>1</th>\n",
       "      <td>0.719</td>\n",
       "      <td>0.493</td>\n",
       "      <td>-7.230</td>\n",
       "      <td>0.0794</td>\n",
       "      <td>0.4010</td>\n",
       "      <td>0.000000</td>\n",
       "      <td>0.1180</td>\n",
       "      <td>0.1240</td>\n",
       "      <td>115.080</td>\n",
       "    </tr>\n",
       "    <tr>\n",
       "      <th>2</th>\n",
       "      <td>0.850</td>\n",
       "      <td>0.893</td>\n",
       "      <td>-4.783</td>\n",
       "      <td>0.0623</td>\n",
       "      <td>0.0138</td>\n",
       "      <td>0.000004</td>\n",
       "      <td>0.3720</td>\n",
       "      <td>0.0391</td>\n",
       "      <td>218.050</td>\n",
       "    </tr>\n",
       "    <tr>\n",
       "      <th>3</th>\n",
       "      <td>0.476</td>\n",
       "      <td>0.781</td>\n",
       "      <td>-4.710</td>\n",
       "      <td>0.1030</td>\n",
       "      <td>0.0237</td>\n",
       "      <td>0.000000</td>\n",
       "      <td>0.1140</td>\n",
       "      <td>0.1750</td>\n",
       "      <td>186.948</td>\n",
       "    </tr>\n",
       "    <tr>\n",
       "      <th>4</th>\n",
       "      <td>0.798</td>\n",
       "      <td>0.624</td>\n",
       "      <td>-7.668</td>\n",
       "      <td>0.2930</td>\n",
       "      <td>0.2170</td>\n",
       "      <td>0.000000</td>\n",
       "      <td>0.1660</td>\n",
       "      <td>0.5910</td>\n",
       "      <td>147.988</td>\n",
       "    </tr>\n",
       "  </tbody>\n",
       "</table>\n",
       "</div>"
      ],
      "text/plain": [
       "   danceability  energy  loudness  speechiness  acousticness  \\\n",
       "0         0.831   0.814    -7.364       0.4200        0.0598   \n",
       "1         0.719   0.493    -7.230       0.0794        0.4010   \n",
       "2         0.850   0.893    -4.783       0.0623        0.0138   \n",
       "3         0.476   0.781    -4.710       0.1030        0.0237   \n",
       "4         0.798   0.624    -7.668       0.2930        0.2170   \n",
       "\n",
       "   instrumentalness  liveness  valence    tempo  \n",
       "0          0.013400    0.0556   0.3890  156.985  \n",
       "1          0.000000    0.1180   0.1240  115.080  \n",
       "2          0.000004    0.3720   0.0391  218.050  \n",
       "3          0.000000    0.1140   0.1750  186.948  \n",
       "4          0.000000    0.1660   0.5910  147.988  "
      ]
     },
     "execution_count": 5,
     "metadata": {},
     "output_type": "execute_result"
    }
   ],
   "source": [
    "# clean up unnecessary columns\n",
    "data = data[features_columns]\n",
    "data.head()"
   ]
  },
  {
   "cell_type": "markdown",
   "id": "1d7b9d0b",
   "metadata": {},
   "source": [
    "#### Escalado de los Datos"
   ]
  },
  {
   "cell_type": "code",
   "execution_count": 6,
   "id": "441357ac",
   "metadata": {},
   "outputs": [
    {
     "data": {
      "text/plain": [
       "array([[ 1.2232804 ,  0.27868656, -0.31456006, ..., -0.9028519 ,\n",
       "         0.13607453,  0.40009941],\n",
       "       [ 0.50780313, -1.47415864, -0.26836695, ..., -0.54737973,\n",
       "        -1.00007021, -1.3583742 ],\n",
       "       [ 1.344656  ,  0.71007214,  0.57517431, ...,  0.89957428,\n",
       "        -1.36406527,  2.96259055],\n",
       "       ...,\n",
       "       [-1.77916883,  0.3169106 ,  1.15465648, ...,  0.97363098,\n",
       "        -1.00007021,  0.31407457],\n",
       "       [-1.03813881,  0.8629683 ,  0.57724266, ..., -0.89202822,\n",
       "         0.56052106,  0.10874797],\n",
       "       [-0.70595294,  0.99402214,  0.2032164 , ...,  1.1388344 ,\n",
       "        -0.95719683,  0.31877447]])"
      ]
     },
     "execution_count": 6,
     "metadata": {},
     "output_type": "execute_result"
    }
   ],
   "source": [
    "scaler = StandardScaler()\n",
    "data_scaled = scaler.fit_transform(data)\n",
    "data_scaled"
   ]
  },
  {
   "cell_type": "markdown",
   "id": "d5a2dd50",
   "metadata": {},
   "source": [
    "#### Calculo Silhouette"
   ]
  },
  {
   "cell_type": "code",
   "execution_count": 7,
   "id": "102f4a6c",
   "metadata": {
    "scrolled": true
   },
   "outputs": [
    {
     "name": "stdout",
     "output_type": "stream",
     "text": [
      "For n_clusters=2, the silhouette score is 0.19380880235455955\n",
      "For n_clusters=3, the silhouette score is 0.17123895721774648\n",
      "For n_clusters=4, the silhouette score is 0.1776804456124311\n",
      "For n_clusters=5, the silhouette score is 0.17106181237998436\n",
      "For n_clusters=6, the silhouette score is 0.17865241692824832\n",
      "For n_clusters=7, the silhouette score is 0.1752549875374814\n",
      "For n_clusters=8, the silhouette score is 0.1769891504799181\n",
      "For n_clusters=9, the silhouette score is 0.16334534874030718\n"
     ]
    }
   ],
   "source": [
    "val_silhouette = []\n",
    "k_groups = range(2,10)\n",
    "\n",
    "for k in k_groups:\n",
    "    modelo_kmeans = KMeans(n_clusters=k, n_init=25, random_state=123)\n",
    "    modelo_kmeans.fit(data_scaled)\n",
    "    \n",
    "    cluster_labels = modelo_kmeans.labels_\n",
    "    \n",
    "    # silhouette score\n",
    "    silhouette_avg = silhouette_score(data_scaled, modelo_kmeans.labels_)\n",
    "    val_silhouette.append(silhouette_avg)\n",
    "    print(\"For n_clusters={0}, the silhouette score is {1}\".format(k, silhouette_avg))"
   ]
  },
  {
   "cell_type": "code",
   "execution_count": 8,
   "id": "b5ba3a75",
   "metadata": {},
   "outputs": [
    {
     "data": {
      "image/png": "[encoded data removed]",
      "text/plain": [
       "<Figure size 432x360 with 1 Axes>"
      ]
     },
     "metadata": {
      "needs_background": "light"
     },
     "output_type": "display_data"
    }
   ],
   "source": [
    "fig, ax = plt.subplots(1, 1, figsize=(6, 5))\n",
    "ax.plot(k_groups, val_silhouette, marker='o')\n",
    "ax.set_title(\"Indices silhouette\")\n",
    "ax.set_xlabel('Clústeres')\n",
    "ax.set_ylabel('Media de los índices silhouette');"
   ]
  },
  {
   "cell_type": "markdown",
   "id": "a9b7dbf7",
   "metadata": {},
   "source": [
    "Segun el calculo del Silhouette Score la mejor seleccion de Clusters es de 2 o 6. Se procede a la seleccion de 6 Clusters con K-Means."
   ]
  },
  {
   "cell_type": "markdown",
   "id": "f82d0a72",
   "metadata": {},
   "source": [
    "#### K-Means"
   ]
  },
  {
   "cell_type": "code",
   "execution_count": 9,
   "id": "c192fa6c",
   "metadata": {},
   "outputs": [],
   "source": [
    "kmeans = KMeans(n_clusters=6, n_init=25, random_state=123)\n",
    "kmeans.fit(data_scaled)\n",
    "\n",
    "# create new dataframe with all songs features, the cluster label and the song_name\n",
    "data_kmeans = pd.DataFrame(data_scaled.copy(), index=data.index, columns=data.columns)\n",
    "data_kmeans['cluster_label'] = kmeans.predict(data_scaled)\n",
    "data_kmeans['song_name'] = data_original['song_name']"
   ]
  },
  {
   "cell_type": "code",
   "execution_count": 10,
   "id": "d37f42d4",
   "metadata": {},
   "outputs": [
    {
     "data": {
      "text/html": [
       "<div>\n",
       "<style scoped>\n",
       "    .dataframe tbody tr th:only-of-type {\n",
       "        vertical-align: middle;\n",
       "    }\n",
       "\n",
       "    .dataframe tbody tr th {\n",
       "        vertical-align: top;\n",
       "    }\n",
       "\n",
       "    .dataframe thead th {\n",
       "        text-align: right;\n",
       "    }\n",
       "</style>\n",
       "<table border=\"1\" class=\"dataframe\">\n",
       "  <thead>\n",
       "    <tr style=\"text-align: right;\">\n",
       "      <th></th>\n",
       "      <th>danceability</th>\n",
       "      <th>energy</th>\n",
       "      <th>loudness</th>\n",
       "      <th>speechiness</th>\n",
       "      <th>acousticness</th>\n",
       "      <th>instrumentalness</th>\n",
       "      <th>liveness</th>\n",
       "      <th>valence</th>\n",
       "      <th>tempo</th>\n",
       "      <th>cluster_label</th>\n",
       "      <th>song_name</th>\n",
       "    </tr>\n",
       "  </thead>\n",
       "  <tbody>\n",
       "    <tr>\n",
       "      <th>0</th>\n",
       "      <td>1.223280</td>\n",
       "      <td>0.278687</td>\n",
       "      <td>-0.314560</td>\n",
       "      <td>2.291794</td>\n",
       "      <td>-0.211013</td>\n",
       "      <td>-0.727414</td>\n",
       "      <td>-0.902852</td>\n",
       "      <td>0.136075</td>\n",
       "      <td>0.400099</td>\n",
       "      <td>3</td>\n",
       "      <td>Mercury: Retrograde</td>\n",
       "    </tr>\n",
       "    <tr>\n",
       "      <th>1</th>\n",
       "      <td>0.507803</td>\n",
       "      <td>-1.474159</td>\n",
       "      <td>-0.268367</td>\n",
       "      <td>-0.455052</td>\n",
       "      <td>1.798267</td>\n",
       "      <td>-0.763556</td>\n",
       "      <td>-0.547380</td>\n",
       "      <td>-1.000070</td>\n",
       "      <td>-1.358374</td>\n",
       "      <td>4</td>\n",
       "      <td>Pathology</td>\n",
       "    </tr>\n",
       "    <tr>\n",
       "      <th>2</th>\n",
       "      <td>1.344656</td>\n",
       "      <td>0.710072</td>\n",
       "      <td>0.575174</td>\n",
       "      <td>-0.592959</td>\n",
       "      <td>-0.481901</td>\n",
       "      <td>-0.763545</td>\n",
       "      <td>0.899574</td>\n",
       "      <td>-1.364065</td>\n",
       "      <td>2.962591</td>\n",
       "      <td>2</td>\n",
       "      <td>Symbiote</td>\n",
       "    </tr>\n",
       "    <tr>\n",
       "      <th>3</th>\n",
       "      <td>-1.044527</td>\n",
       "      <td>0.098488</td>\n",
       "      <td>0.600339</td>\n",
       "      <td>-0.264725</td>\n",
       "      <td>-0.423601</td>\n",
       "      <td>-0.763556</td>\n",
       "      <td>-0.570166</td>\n",
       "      <td>-0.781416</td>\n",
       "      <td>1.657447</td>\n",
       "      <td>2</td>\n",
       "      <td>ProductOfDrugs (Prod. The Virus and Antidote)</td>\n",
       "    </tr>\n",
       "    <tr>\n",
       "      <th>4</th>\n",
       "      <td>1.012470</td>\n",
       "      <td>-0.758823</td>\n",
       "      <td>-0.419356</td>\n",
       "      <td>1.267574</td>\n",
       "      <td>0.714716</td>\n",
       "      <td>-0.763556</td>\n",
       "      <td>-0.273940</td>\n",
       "      <td>1.002117</td>\n",
       "      <td>0.022555</td>\n",
       "      <td>3</td>\n",
       "      <td>Venom</td>\n",
       "    </tr>\n",
       "  </tbody>\n",
       "</table>\n",
       "</div>"
      ],
      "text/plain": [
       "   danceability    energy  loudness  speechiness  acousticness  \\\n",
       "0      1.223280  0.278687 -0.314560     2.291794     -0.211013   \n",
       "1      0.507803 -1.474159 -0.268367    -0.455052      1.798267   \n",
       "2      1.344656  0.710072  0.575174    -0.592959     -0.481901   \n",
       "3     -1.044527  0.098488  0.600339    -0.264725     -0.423601   \n",
       "4      1.012470 -0.758823 -0.419356     1.267574      0.714716   \n",
       "\n",
       "   instrumentalness  liveness   valence     tempo  cluster_label  \\\n",
       "0         -0.727414 -0.902852  0.136075  0.400099              3   \n",
       "1         -0.763556 -0.547380 -1.000070 -1.358374              4   \n",
       "2         -0.763545  0.899574 -1.364065  2.962591              2   \n",
       "3         -0.763556 -0.570166 -0.781416  1.657447              2   \n",
       "4         -0.763556 -0.273940  1.002117  0.022555              3   \n",
       "\n",
       "                                       song_name  \n",
       "0                            Mercury: Retrograde  \n",
       "1                                      Pathology  \n",
       "2                                       Symbiote  \n",
       "3  ProductOfDrugs (Prod. The Virus and Antidote)  \n",
       "4                                          Venom  "
      ]
     },
     "execution_count": 10,
     "metadata": {},
     "output_type": "execute_result"
    }
   ],
   "source": [
    "data_kmeans.head()"
   ]
  },
  {
   "cell_type": "code",
   "execution_count": 44,
   "id": "566e2a31",
   "metadata": {},
   "outputs": [
    {
     "data": {
      "text/html": [
       "<div>\n",
       "<style scoped>\n",
       "    .dataframe tbody tr th:only-of-type {\n",
       "        vertical-align: middle;\n",
       "    }\n",
       "\n",
       "    .dataframe tbody tr th {\n",
       "        vertical-align: top;\n",
       "    }\n",
       "\n",
       "    .dataframe thead th {\n",
       "        text-align: right;\n",
       "    }\n",
       "</style>\n",
       "<table border=\"1\" class=\"dataframe\">\n",
       "  <thead>\n",
       "    <tr style=\"text-align: right;\">\n",
       "      <th></th>\n",
       "      <th>danceability</th>\n",
       "      <th>energy</th>\n",
       "      <th>loudness</th>\n",
       "      <th>speechiness</th>\n",
       "      <th>acousticness</th>\n",
       "      <th>instrumentalness</th>\n",
       "      <th>liveness</th>\n",
       "      <th>valence</th>\n",
       "      <th>tempo</th>\n",
       "      <th>cluster_label</th>\n",
       "      <th>song_name</th>\n",
       "    </tr>\n",
       "  </thead>\n",
       "  <tbody>\n",
       "    <tr>\n",
       "      <th>1</th>\n",
       "      <td>0.507803</td>\n",
       "      <td>-1.474159</td>\n",
       "      <td>-0.268367</td>\n",
       "      <td>-0.455052</td>\n",
       "      <td>1.798267</td>\n",
       "      <td>-0.763556</td>\n",
       "      <td>-0.54738</td>\n",
       "      <td>-1.00007</td>\n",
       "      <td>-1.358374</td>\n",
       "      <td>4</td>\n",
       "      <td>Pathology</td>\n",
       "    </tr>\n",
       "  </tbody>\n",
       "</table>\n",
       "</div>"
      ],
      "text/plain": [
       "   danceability    energy  loudness  speechiness  acousticness  \\\n",
       "1      0.507803 -1.474159 -0.268367    -0.455052      1.798267   \n",
       "\n",
       "   instrumentalness  liveness  valence     tempo  cluster_label  song_name  \n",
       "1         -0.763556  -0.54738 -1.00007 -1.358374              4  Pathology  "
      ]
     },
     "execution_count": 44,
     "metadata": {},
     "output_type": "execute_result"
    }
   ],
   "source": [
    "data_kmeans[data_kmeans['song_name']=='Pathology']"
   ]
  },
  {
   "cell_type": "code",
   "execution_count": 16,
   "id": "637149ef",
   "metadata": {},
   "outputs": [],
   "source": [
    "def get_euclidean_distance(data_points, point, features_columns):\n",
    "    result_df = data_points.copy()\n",
    "    result_df['distance'] = np.linalg.norm(data_points[features_columns].sub(np.array(point[features_columns])), axis=1)\n",
    "    return result_df \n",
    "    "
   ]
  },
  {
   "cell_type": "code",
   "execution_count": 42,
   "id": "9333e717",
   "metadata": {},
   "outputs": [],
   "source": [
    "def song_recommendation_system(song_name):\n",
    "    \n",
    "    # get user song data already classified\n",
    "    user_data = data_kmeans[ data_kmeans['song_name'] == song_name ]\n",
    "    user_data = data_original[ data_original['song_name'] == song_name ]\n",
    "    \n",
    "    if len(user_data) == 0:\n",
    "        return \"No Recomendation Found\"\n",
    "    \n",
    "    \n",
    "    # just get the first element in case more than one record with the same song_name is found\n",
    "    user_data = user_data.head(1)\n",
    "    \n",
    "    user_data = user_data[features_columns]\n",
    "    #user_scaled = scaler.fit_transform(user_data[features_columns].to_numpy())\n",
    "    \n",
    "    user_scaled = scaler.fit_transform(user_data.values.reshape(-1, 1)).T\n",
    "    \n",
    "    print(user_scaled)\n",
    "    \n",
    "    \n",
    "    result = kmeans.predict(user_scaled)\n",
    "    \n",
    "    print(result)\n",
    "    \n",
    "    return None\n",
    "\n",
    "    # get user song data cluster number\n",
    "    user_data_cluster_num = user_data['cluster_label'].values[0]\n",
    "    \n",
    "\n",
    "    # filter all songs base on user song cluster predicted\n",
    "    data_cluster = data_kmeans[data_kmeans['cluster_label'] == user_data_cluster_num]\n",
    "    \n",
    "    # remove records with the same song name\n",
    "    data_cluster = data_kmeans[data_kmeans['song_name'] != song_name]\n",
    "    \n",
    "\n",
    "    # calculate euclidean distance between all points and user data point\n",
    "    result_df = get_euclidean_distance(data_cluster, user_data, features_columns)\n",
    "    \n",
    "    \n",
    "    # order result base on distance ascending\n",
    "    result_df = result_df.sort_values(by='distance', ascending=True)\n",
    "    \n",
    "        \n",
    "    # return the 5 elements with minimum distance to the user data point\n",
    "    return result_df['song_name'].iloc[:5].values.tolist()\n"
   ]
  },
  {
   "cell_type": "markdown",
   "id": "b88bba02",
   "metadata": {},
   "source": [
    "#### Recomendacion"
   ]
  },
  {
   "cell_type": "code",
   "execution_count": 45,
   "id": "828e7a96",
   "metadata": {},
   "outputs": [
    {
     "name": "stdout",
     "output_type": "stream",
     "text": [
      "[[-0.31493142 -0.32113169 -0.53301068 -0.33247872 -0.32365569 -0.33465705\n",
      "  -0.33141974 -0.33125513  2.82254013]]\n",
      "[[ 7.1900e-01  4.9300e-01 -7.2300e+00  7.9400e-02  4.0100e-01  0.0000e+00\n",
      "   1.1800e-01  1.2400e-01  1.1508e+02]]\n",
      "[3]\n"
     ]
    }
   ],
   "source": [
    "recomendation_result = song_recommendation_system('Pathology')\n",
    "recomendation_result"
   ]
  },
  {
   "cell_type": "code",
   "execution_count": 14,
   "id": "7322d7b0",
   "metadata": {},
   "outputs": [
    {
     "data": {
      "text/plain": [
       "['Drumn',\n",
       " 'Sleep Walk',\n",
       " 'Sleep Walk',\n",
       " 'CharacterSelect (ВыборПерсонажа)',\n",
       " 'Paris']"
      ]
     },
     "execution_count": 14,
     "metadata": {},
     "output_type": "execute_result"
    }
   ],
   "source": [
    "recomendation_result = song_recommendation_system('Kybalion')\n",
    "recomendation_result"
   ]
  },
  {
   "cell_type": "code",
   "execution_count": 15,
   "id": "0a6085c9",
   "metadata": {},
   "outputs": [
    {
     "data": {
      "text/plain": [
       "['1 Thing', 'Order', 'Fuck Forgivness', 'FASTER', 'Ready 2 Die']"
      ]
     },
     "execution_count": 15,
     "metadata": {},
     "output_type": "execute_result"
    }
   ],
   "source": [
    "recomendation_result = song_recommendation_system('1 Thing (feat. Eve) - Radio Version')\n",
    "recomendation_result"
   ]
  },
  {
   "cell_type": "code",
   "execution_count": 16,
   "id": "38873c65",
   "metadata": {},
   "outputs": [
    {
     "data": {
      "text/plain": [
       "['What', 'Beep', 'Insecure', 'Mood Swing Misery', 'Mood Swing Misery']"
      ]
     },
     "execution_count": 16,
     "metadata": {},
     "output_type": "execute_result"
    }
   ],
   "source": [
    "recomendation_result = song_recommendation_system('Bittersweet')\n",
    "recomendation_result"
   ]
  },
  {
   "cell_type": "code",
   "execution_count": null,
   "id": "72dd07ae",
   "metadata": {},
   "outputs": [],
   "source": []
  }
 ],
 "metadata": {
  "kernelspec": {
   "display_name": "Python 3 (ipykernel)",
   "language": "python",
   "name": "python3"
  },
  "language_info": {
   "codemirror_mode": {
    "name": "ipython",
    "version": 3
   },
   "file_extension": ".py",
   "mimetype": "text/x-python",
   "name": "python",
   "nbconvert_exporter": "python",
   "pygments_lexer": "ipython3",
   "version": "3.9.12"
  }
 },
 "nbformat": 4,
 "nbformat_minor": 5
}
