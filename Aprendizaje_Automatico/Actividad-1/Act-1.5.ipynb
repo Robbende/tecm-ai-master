{
 "cells": [
  {
   "cell_type": "markdown",
   "id": "318400d8",
   "metadata": {},
   "source": [
    "## Actividad 1"
   ]
  },
  {
   "cell_type": "markdown",
   "id": "0c3e05a8",
   "metadata": {},
   "source": [
    "Solucion de sistemas de ecuaciones lineales"
   ]
  },
  {
   "cell_type": "markdown",
   "id": "3182faed",
   "metadata": {},
   "source": [
    "### Punto 5.a"
   ]
  },
  {
   "cell_type": "code",
   "execution_count": 1,
   "id": "eb873f44",
   "metadata": {},
   "outputs": [],
   "source": [
    "import numpy as np"
   ]
  },
  {
   "cell_type": "code",
   "execution_count": 4,
   "id": "d3b65e7e",
   "metadata": {},
   "outputs": [
    {
     "name": "stdout",
     "output_type": "stream",
     "text": [
      "[[ 1  2  5 -4]\n",
      " [ 5  8  1  1]\n",
      " [ 5  7 -3  2]\n",
      " [-1  3  9 -1]]\n",
      "[[21]\n",
      " [-8]\n",
      " [14]\n",
      " [ 5]]\n"
     ]
    }
   ],
   "source": [
    "MCa = np.array([[1,2,5,-4],[5,8,1,1],[5,7,-3,2],[-1,3,9,-1]])\n",
    "MSa = np.array([[21],[-8],[14],[5]])\n",
    "\n",
    "print(MCa)\n",
    "print(MSa)"
   ]
  },
  {
   "cell_type": "code",
   "execution_count": 5,
   "id": "e776190d",
   "metadata": {},
   "outputs": [
    {
     "name": "stdout",
     "output_type": "stream",
     "text": [
      "solucion metodo 1:  [[-57.70175439]\n",
      " [ 41.31578947]\n",
      " [-22.66666667]\n",
      " [-27.35087719]]\n"
     ]
    }
   ],
   "source": [
    "# Metodo 1\n",
    "\n",
    "inv_MCa = np.linalg.inv(MCa)\n",
    "solucion_m1 = inv_MCa.dot(MSa)\n",
    "print('solucion metodo 1: ', solucion_m1)"
   ]
  },
  {
   "cell_type": "code",
   "execution_count": 6,
   "id": "ab78e4da",
   "metadata": {},
   "outputs": [
    {
     "name": "stdout",
     "output_type": "stream",
     "text": [
      "solucion metodo2:  [[-57.70175439]\n",
      " [ 41.31578947]\n",
      " [-22.66666667]\n",
      " [-27.35087719]]\n"
     ]
    }
   ],
   "source": [
    "# Metodo 2\n",
    "\n",
    "solucion_m2 = np.linalg.solve(MCa, MSa)\n",
    "print('solucion metodo2: ', solucion_m2)"
   ]
  },
  {
   "cell_type": "markdown",
   "id": "99d9d58e",
   "metadata": {},
   "source": [
    "### Punto 5.b"
   ]
  },
  {
   "cell_type": "code",
   "execution_count": 8,
   "id": "32790a52",
   "metadata": {},
   "outputs": [
    {
     "name": "stdout",
     "output_type": "stream",
     "text": [
      "[[6 0 8]\n",
      " [2 2 1]\n",
      " [4 1 0]]\n",
      "[[ 9]\n",
      " [15]\n",
      " [-4]]\n"
     ]
    }
   ],
   "source": [
    "MCb = np.array([[6,0,8],[2,2,1],[4,1,0]])\n",
    "MSb = np.array([[9],[15],[-4]])\n",
    "\n",
    "print(MCb)\n",
    "print(MSb)"
   ]
  },
  {
   "cell_type": "code",
   "execution_count": 9,
   "id": "6dd0f62e",
   "metadata": {},
   "outputs": [
    {
     "name": "stdout",
     "output_type": "stream",
     "text": [
      "solucion metodo 1:  [[-3.24074074]\n",
      " [ 8.96296296]\n",
      " [ 3.55555556]]\n"
     ]
    }
   ],
   "source": [
    "# Metodo 1\n",
    "\n",
    "inv_MCb = np.linalg.inv(MCb)\n",
    "solucion_2m1 = inv_MCb.dot(MSb)\n",
    "print('solucion metodo 1: ', solucion_2m1)"
   ]
  },
  {
   "cell_type": "code",
   "execution_count": 10,
   "id": "59b8ca8a",
   "metadata": {},
   "outputs": [
    {
     "name": "stdout",
     "output_type": "stream",
     "text": [
      "solucion metodo 2:  [[-3.24074074]\n",
      " [ 8.96296296]\n",
      " [ 3.55555556]]\n"
     ]
    }
   ],
   "source": [
    "# Metodo 2\n",
    "\n",
    "solucion_2m2 = np.linalg.solve(MCb, MSb)\n",
    "print('solucion metodo 2: ', solucion_2m2)"
   ]
  },
  {
   "cell_type": "code",
   "execution_count": null,
   "id": "b0026ae4",
   "metadata": {},
   "outputs": [],
   "source": []
  }
 ],
 "metadata": {
  "kernelspec": {
   "display_name": "Python 3 (ipykernel)",
   "language": "python",
   "name": "python3"
  },
  "language_info": {
   "codemirror_mode": {
    "name": "ipython",
    "version": 3
   },
   "file_extension": ".py",
   "mimetype": "text/x-python",
   "name": "python",
   "nbconvert_exporter": "python",
   "pygments_lexer": "ipython3",
   "version": "3.9.7"
  }
 },
 "nbformat": 4,
 "nbformat_minor": 5
}
