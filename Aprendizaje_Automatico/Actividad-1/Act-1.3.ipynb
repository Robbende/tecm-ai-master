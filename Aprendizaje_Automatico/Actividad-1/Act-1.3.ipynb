{
 "cells": [
  {
   "cell_type": "markdown",
   "id": "ed2685f9",
   "metadata": {},
   "source": [
    "## Actividad 1"
   ]
  },
  {
   "cell_type": "markdown",
   "id": "4f8d382a",
   "metadata": {},
   "source": [
    "Operaciones con Matrices"
   ]
  },
  {
   "cell_type": "markdown",
   "id": "82e6071c",
   "metadata": {},
   "source": [
    "### Punto 3"
   ]
  },
  {
   "cell_type": "code",
   "execution_count": 1,
   "id": "55d6f951",
   "metadata": {},
   "outputs": [],
   "source": [
    "import numpy as np"
   ]
  },
  {
   "cell_type": "code",
   "execution_count": 16,
   "id": "e7fbd6f0",
   "metadata": {},
   "outputs": [
    {
     "data": {
      "text/plain": [
       "array([[12, 24, 32,  8],\n",
       "       [15,  7, 21,  4],\n",
       "       [17, 24, 14, 33],\n",
       "       [10,  9, 13, 27]])"
      ]
     },
     "execution_count": 16,
     "metadata": {},
     "output_type": "execute_result"
    }
   ],
   "source": [
    "# Genera una Matriz cuadrada de 4x4\n",
    "A = np.array([[12,24,32,8],[15,7,21,4],[17,24,14,33],[10,9,13,27]])\n",
    "A"
   ]
  },
  {
   "cell_type": "code",
   "execution_count": 20,
   "id": "bf20a873",
   "metadata": {},
   "outputs": [
    {
     "name": "stdout",
     "output_type": "stream",
     "text": [
      "inversa [[-0.0596556   0.09368594  0.0570589  -0.06594233]\n",
      " [ 0.02690652 -0.03495285  0.04800465 -0.06146645]\n",
      " [ 0.03428659 -0.00358754 -0.05470138  0.05722974]\n",
      " [-0.00338253 -0.02132021 -0.01079677  0.05439388]]\n",
      "transpuesta [[12 15 17 10]\n",
      " [24  7 24  9]\n",
      " [32 21 14 13]\n",
      " [ 8  4 33 27]]\n"
     ]
    }
   ],
   "source": [
    "# Calcula su inversa y su traspuesta.\n",
    "\n",
    "A_inv = np.linalg.inv(A)\n",
    "print('inversa', A_inv)\n",
    "\n",
    "A_tra = A.transpose()\n",
    "print('transpuesta', A_tra)\n"
   ]
  },
  {
   "cell_type": "code",
   "execution_count": 21,
   "id": "ae745cae",
   "metadata": {},
   "outputs": [
    {
     "data": {
      "text/plain": [
       "array([[24, 48, 64, 16],\n",
       "       [30, 14, 42,  8],\n",
       "       [34, 48, 28, 66],\n",
       "       [20, 18, 26, 54]])"
      ]
     },
     "execution_count": 21,
     "metadata": {},
     "output_type": "execute_result"
    }
   ],
   "source": [
    "# Multiplica la matriz por un escalar\n",
    "\n",
    "mul_res = A * 2\n",
    "mul_res"
   ]
  },
  {
   "cell_type": "code",
   "execution_count": 22,
   "id": "c804d1b7",
   "metadata": {},
   "outputs": [
    {
     "data": {
      "text/plain": [
       "array([[456, 252],\n",
       "       [241, 158],\n",
       "       [583, 245],\n",
       "       [404, 163]])"
      ]
     },
     "execution_count": 22,
     "metadata": {},
     "output_type": "execute_result"
    }
   ],
   "source": [
    "# Realiza el producto interno con una nueva matriz de dimensiones 4x2.\n",
    "\n",
    "B = np.array([[2,3],[7,3],[6,4],[9,2]])\n",
    "\n",
    "# producto interno\n",
    "AB = A.dot(B)\n",
    "AB\n"
   ]
  },
  {
   "cell_type": "code",
   "execution_count": null,
   "id": "98196ad9",
   "metadata": {},
   "outputs": [],
   "source": []
  }
 ],
 "metadata": {
  "kernelspec": {
   "display_name": "Python 3 (ipykernel)",
   "language": "python",
   "name": "python3"
  },
  "language_info": {
   "codemirror_mode": {
    "name": "ipython",
    "version": 3
   },
   "file_extension": ".py",
   "mimetype": "text/x-python",
   "name": "python",
   "nbconvert_exporter": "python",
   "pygments_lexer": "ipython3",
   "version": "3.9.7"
  }
 },
 "nbformat": 4,
 "nbformat_minor": 5
}
