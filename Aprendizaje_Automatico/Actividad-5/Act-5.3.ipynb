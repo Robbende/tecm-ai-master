{
 "cells": [
  {
   "cell_type": "markdown",
   "id": "ba950013",
   "metadata": {},
   "source": [
    "### Actividad 5 - Punto 3"
   ]
  },
  {
   "cell_type": "code",
   "execution_count": 1,
   "id": "c5fd3a4c",
   "metadata": {},
   "outputs": [],
   "source": [
    "import numpy as np\n",
    "from sklearn.metrics import mean_squared_error\n",
    "from sklearn.linear_model import LinearRegression\n",
    "from sklearn import datasets\n",
    "from sklearn.model_selection import train_test_split"
   ]
  },
  {
   "cell_type": "code",
   "execution_count": 2,
   "id": "1bf7278e",
   "metadata": {},
   "outputs": [],
   "source": [
    "# funcion lineal para generar los datos\n",
    "def funcion_lineal(x):\n",
    "    np.random.seed(42) \n",
    "    y = 0.1*x + 1.25 + 0.2*np.random.randn(x.shape[0])\n",
    "    return y"
   ]
  },
  {
   "cell_type": "code",
   "execution_count": 3,
   "id": "899a9479",
   "metadata": {},
   "outputs": [
    {
     "data": {
      "text/plain": [
       "(200,)"
      ]
     },
     "execution_count": 3,
     "metadata": {},
     "output_type": "execute_result"
    }
   ],
   "source": [
    "# generacion de los elementos de x\n",
    "x = np.arange(0, 100, 0.5)\n",
    "x.shape"
   ]
  },
  {
   "cell_type": "code",
   "execution_count": 4,
   "id": "a499523e",
   "metadata": {},
   "outputs": [
    {
     "data": {
      "text/plain": [
       "(200,)"
      ]
     },
     "execution_count": 4,
     "metadata": {},
     "output_type": "execute_result"
    }
   ],
   "source": [
    "# generacion de los elementos de y, como resultado de aplicar la funcion lineal\n",
    "y = funcion_lineal(x)\n",
    "y.shape"
   ]
  },
  {
   "cell_type": "code",
   "execution_count": 5,
   "id": "d4747628",
   "metadata": {},
   "outputs": [
    {
     "data": {
      "text/plain": [
       "LinearRegression()"
      ]
     },
     "execution_count": 5,
     "metadata": {},
     "output_type": "execute_result"
    }
   ],
   "source": [
    "# hacer instancia del modelo de regresion lineal\n",
    "regresion_lineal = LinearRegression()\n",
    "# entrenar el modelo\n",
    "regresion_lineal.fit(x.reshape(-1,1), y)"
   ]
  },
  {
   "cell_type": "code",
   "execution_count": 6,
   "id": "68fc1fed",
   "metadata": {},
   "outputs": [
    {
     "data": {
      "text/plain": [
       "array([ 1.21904505,  1.2692742 ,  1.31950335,  1.36973251,  1.41996166,\n",
       "        1.47019081,  1.52041997,  1.57064912,  1.62087827,  1.67110743,\n",
       "        1.72133658,  1.77156573,  1.82179489,  1.87202404,  1.92225319,\n",
       "        1.97248235,  2.0227115 ,  2.07294065,  2.12316981,  2.17339896,\n",
       "        2.22362811,  2.27385727,  2.32408642,  2.37431557,  2.42454473,\n",
       "        2.47477388,  2.52500303,  2.57523219,  2.62546134,  2.67569049,\n",
       "        2.72591965,  2.7761488 ,  2.82637795,  2.87660711,  2.92683626,\n",
       "        2.97706541,  3.02729457,  3.07752372,  3.12775287,  3.17798203,\n",
       "        3.22821118,  3.27844033,  3.32866949,  3.37889864,  3.42912779,\n",
       "        3.47935695,  3.5295861 ,  3.57981525,  3.63004441,  3.68027356,\n",
       "        3.73050271,  3.78073187,  3.83096102,  3.88119017,  3.93141933,\n",
       "        3.98164848,  4.03187763,  4.08210679,  4.13233594,  4.18256509,\n",
       "        4.23279425,  4.2830234 ,  4.33325256,  4.38348171,  4.43371086,\n",
       "        4.48394002,  4.53416917,  4.58439832,  4.63462748,  4.68485663,\n",
       "        4.73508578,  4.78531494,  4.83554409,  4.88577324,  4.9360024 ,\n",
       "        4.98623155,  5.0364607 ,  5.08668986,  5.13691901,  5.18714816,\n",
       "        5.23737732,  5.28760647,  5.33783562,  5.38806478,  5.43829393,\n",
       "        5.48852308,  5.53875224,  5.58898139,  5.63921054,  5.6894397 ,\n",
       "        5.73966885,  5.789898  ,  5.84012716,  5.89035631,  5.94058546,\n",
       "        5.99081462,  6.04104377,  6.09127292,  6.14150208,  6.19173123,\n",
       "        6.24196038,  6.29218954,  6.34241869,  6.39264784,  6.442877  ,\n",
       "        6.49310615,  6.5433353 ,  6.59356446,  6.64379361,  6.69402276,\n",
       "        6.74425192,  6.79448107,  6.84471022,  6.89493938,  6.94516853,\n",
       "        6.99539768,  7.04562684,  7.09585599,  7.14608514,  7.1963143 ,\n",
       "        7.24654345,  7.2967726 ,  7.34700176,  7.39723091,  7.44746006,\n",
       "        7.49768922,  7.54791837,  7.59814753,  7.64837668,  7.69860583,\n",
       "        7.74883499,  7.79906414,  7.84929329,  7.89952245,  7.9497516 ,\n",
       "        7.99998075,  8.05020991,  8.10043906,  8.15066821,  8.20089737,\n",
       "        8.25112652,  8.30135567,  8.35158483,  8.40181398,  8.45204313,\n",
       "        8.50227229,  8.55250144,  8.60273059,  8.65295975,  8.7031889 ,\n",
       "        8.75341805,  8.80364721,  8.85387636,  8.90410551,  8.95433467,\n",
       "        9.00456382,  9.05479297,  9.10502213,  9.15525128,  9.20548043,\n",
       "        9.25570959,  9.30593874,  9.35616789,  9.40639705,  9.4566262 ,\n",
       "        9.50685535,  9.55708451,  9.60731366,  9.65754281,  9.70777197,\n",
       "        9.75800112,  9.80823027,  9.85845943,  9.90868858,  9.95891773,\n",
       "       10.00914689, 10.05937604, 10.10960519, 10.15983435, 10.2100635 ,\n",
       "       10.26029265, 10.31052181, 10.36075096, 10.41098011, 10.46120927,\n",
       "       10.51143842, 10.56166757, 10.61189673, 10.66212588, 10.71235503,\n",
       "       10.76258419, 10.81281334, 10.8630425 , 10.91327165, 10.9635008 ,\n",
       "       11.01372996, 11.06395911, 11.11418826, 11.16441742, 11.21464657])"
      ]
     },
     "execution_count": 6,
     "metadata": {},
     "output_type": "execute_result"
    }
   ],
   "source": [
    "# hacer prediccion usando los datos de X\n",
    "y_prediction = regresion_lineal.predict(x.reshape(-1,1))\n",
    "y_prediction"
   ]
  },
  {
   "cell_type": "markdown",
   "id": "9947e167",
   "metadata": {},
   "source": [
    "#### Error Cuadratico Medio \n",
    "se utiliza la funcion mean_squared_error de scikit-learn"
   ]
  },
  {
   "cell_type": "code",
   "execution_count": 7,
   "id": "769afc25",
   "metadata": {},
   "outputs": [
    {
     "name": "stdout",
     "output_type": "stream",
     "text": [
      "Error Cuadratico Medio: 0.03432234474300334\n"
     ]
    }
   ],
   "source": [
    "# calculo del error cuadratico medio entre 'y' y el resultado de la prediccion y_prediction\n",
    "mse = mean_squared_error(y, y_prediction)\n",
    "print('Error Cuadratico Medio:', mse)"
   ]
  },
  {
   "cell_type": "markdown",
   "id": "9143c8c9",
   "metadata": {},
   "source": [
    "#### Calculo del Coeficiente de Determinacion\n",
    "se utiliza la funcion score, en este caso, del modelo de regresion lineal"
   ]
  },
  {
   "cell_type": "code",
   "execution_count": 8,
   "id": "266d78b5",
   "metadata": {},
   "outputs": [
    {
     "name": "stdout",
     "output_type": "stream",
     "text": [
      "Coeficiente de Determinación R2 = 0.9959353002482856\n"
     ]
    }
   ],
   "source": [
    "# calculamos el coeficiente de determinación R2\n",
    "r2 = regresion_lineal.score(x.reshape(-1,1), y)\n",
    "print('Coeficiente de Determinación R2 = ' + str(r2))"
   ]
  },
  {
   "cell_type": "code",
   "execution_count": null,
   "id": "54f6b040",
   "metadata": {},
   "outputs": [],
   "source": []
  }
 ],
 "metadata": {
  "kernelspec": {
   "display_name": "Python 3 (ipykernel)",
   "language": "python",
   "name": "python3"
  },
  "language_info": {
   "codemirror_mode": {
    "name": "ipython",
    "version": 3
   },
   "file_extension": ".py",
   "mimetype": "text/x-python",
   "name": "python",
   "nbconvert_exporter": "python",
   "pygments_lexer": "ipython3",
   "version": "3.9.7"
  }
 },
 "nbformat": 4,
 "nbformat_minor": 5
}
