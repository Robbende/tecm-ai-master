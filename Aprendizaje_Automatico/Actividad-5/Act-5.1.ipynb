{
 "cells": [
  {
   "cell_type": "markdown",
   "id": "81d0f29f",
   "metadata": {},
   "source": [
    "### Actividad 5 - Punto 1"
   ]
  },
  {
   "cell_type": "code",
   "execution_count": 1,
   "id": "0c28bce8",
   "metadata": {},
   "outputs": [],
   "source": [
    "import numpy as np\n",
    "from sklearn import datasets"
   ]
  },
  {
   "cell_type": "markdown",
   "id": "9651017b",
   "metadata": {},
   "source": [
    "#### 1.a"
   ]
  },
  {
   "cell_type": "code",
   "execution_count": 2,
   "id": "475d10bf",
   "metadata": {},
   "outputs": [],
   "source": [
    "# Conjunto de datos de tres características linealmente relacionados\n",
    "xa, ya = datasets.make_blobs(n_samples=100, centers=3, n_features=3, random_state=0)\n"
   ]
  },
  {
   "cell_type": "code",
   "execution_count": 3,
   "id": "3d5c9552",
   "metadata": {},
   "outputs": [
    {
     "name": "stdout",
     "output_type": "stream",
     "text": [
      "[[ 1.50876737 -2.40426734  1.29679476]\n",
      " [ 1.11992356 -1.09172105  2.87213416]\n",
      " [ 0.40675281  4.47917386  1.59276198]\n",
      " [ 0.60904044 -0.47892179  3.1678398 ]\n",
      " [ 1.52986507 -2.07655991  3.439008  ]\n",
      " [ 0.7856141   4.75242485  1.06283775]\n",
      " [-0.42878917  8.35744775 10.47051507]\n",
      " [ 0.79468751  5.71399196  1.68079583]\n",
      " [ 0.49685028  4.61515083  1.27924705]\n",
      " [ 0.94756207 -2.46243447  3.20526991]]\n"
     ]
    }
   ],
   "source": [
    "# Imprimir los primeros 10 rows\n",
    "print(xa[:10,:])"
   ]
  },
  {
   "cell_type": "markdown",
   "id": "a982ce64",
   "metadata": {},
   "source": [
    "#### 1.b"
   ]
  },
  {
   "cell_type": "code",
   "execution_count": 4,
   "id": "4a6e48c1",
   "metadata": {},
   "outputs": [],
   "source": [
    "# Conjunto de datos de cuatro características, relacionados de forma completa, no lineal.\n",
    "\n",
    "xb,yb = datasets.make_classification(n_samples=100,\n",
    "                             n_features=4,\n",
    "                             n_repeated=0,\n",
    "                             class_sep=0.1,\n",
    "                             n_redundant=0,\n",
    "                             random_state=0)\n"
   ]
  },
  {
   "cell_type": "code",
   "execution_count": 5,
   "id": "dc051751",
   "metadata": {},
   "outputs": [
    {
     "name": "stdout",
     "output_type": "stream",
     "text": [
      "[[-0.06154156  0.08842209  0.32964368  0.52389102]\n",
      " [-1.18978825 -0.89091508 -0.30374176  0.27451636]\n",
      " [ 0.6552506   0.35548179  0.33567148 -1.76853845]\n",
      " [-0.97156026  1.14110187 -0.68345655  0.85792392]\n",
      " [ 0.97834887 -0.24945858  0.89574591  0.84163126]\n",
      " [ 1.29390608  0.37005589 -0.21847932 -0.39944903]\n",
      " [ 0.42817583 -2.77259276 -0.68273822  0.39904635]\n",
      " [ 1.32234144  0.31721822 -1.15321581  0.91017891]\n",
      " [ 1.12899023 -1.02250684  0.14421447 -2.25556423]\n",
      " [ 2.75082392  0.7811981   0.11908932 -1.15618243]]\n"
     ]
    }
   ],
   "source": [
    "# Imprimir los primeros 10 rows\n",
    "print(xb[:10,:])"
   ]
  },
  {
   "cell_type": "markdown",
   "id": "21133e9b",
   "metadata": {},
   "source": [
    "#### 1.c"
   ]
  },
  {
   "cell_type": "code",
   "execution_count": 6,
   "id": "47f5bc2b",
   "metadata": {},
   "outputs": [],
   "source": [
    "# Conjunto de datos que, de manera prevista, puedan expresar una relación lineal.\n",
    "# relacionados linealmente de 4 caracteristicas\n",
    "xc, yc, coef = datasets.make_regression(\n",
    "    n_samples=100,\n",
    "    n_features=4,\n",
    "    n_informative=1,\n",
    "    noise=8.0,\n",
    "    coef=True,\n",
    "    random_state=0,\n",
    ")"
   ]
  },
  {
   "cell_type": "code",
   "execution_count": 7,
   "id": "4ca6d568",
   "metadata": {},
   "outputs": [
    {
     "name": "stdout",
     "output_type": "stream",
     "text": [
      "[[-1.04525337  1.21114529  0.28634369  0.60884383]\n",
      " [-2.03068447  2.06449286  0.49374178 -0.11610394]\n",
      " [ 1.15233156  1.07961859 -0.30901297 -1.67600381]\n",
      " [ 0.15650654  0.23218104 -1.54079701  0.06326199]\n",
      " [-0.11816405 -0.6801782  -1.30652685  1.65813068]\n",
      " [ 0.52327666 -0.17154633 -0.03928282 -1.1680935 ]\n",
      " [ 0.39904635 -2.77259276 -0.31088617  0.09740017]\n",
      " [-0.36469354  0.15670386 -0.44092263 -0.2803555 ]\n",
      " [ 0.52106488 -0.57578797 -0.81336426 -1.46642433]\n",
      " [-0.68783761 -1.2140774   1.0685094  -0.4533858 ]]\n"
     ]
    }
   ],
   "source": [
    "# Imprimir los primeros 10 rows\n",
    "print(xc[:10,:])"
   ]
  },
  {
   "cell_type": "code",
   "execution_count": null,
   "id": "9766e905",
   "metadata": {},
   "outputs": [],
   "source": []
  }
 ],
 "metadata": {
  "kernelspec": {
   "display_name": "Python 3 (ipykernel)",
   "language": "python",
   "name": "python3"
  },
  "language_info": {
   "codemirror_mode": {
    "name": "ipython",
    "version": 3
   },
   "file_extension": ".py",
   "mimetype": "text/x-python",
   "name": "python",
   "nbconvert_exporter": "python",
   "pygments_lexer": "ipython3",
   "version": "3.9.7"
  }
 },
 "nbformat": 4,
 "nbformat_minor": 5
}
