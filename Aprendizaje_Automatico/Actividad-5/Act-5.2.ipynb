{
 "cells": [
  {
   "cell_type": "markdown",
   "id": "b165017e",
   "metadata": {},
   "source": [
    "### Actividad 5 - Punto 2"
   ]
  },
  {
   "cell_type": "code",
   "execution_count": 1,
   "id": "a586796f",
   "metadata": {},
   "outputs": [],
   "source": [
    "import numpy as np\n",
    "from sklearn import datasets\n",
    "from sklearn.discriminant_analysis import LinearDiscriminantAnalysis\n",
    "from sklearn.model_selection import train_test_split\n",
    "import matplotlib.pyplot as plt"
   ]
  },
  {
   "cell_type": "code",
   "execution_count": 2,
   "id": "f2f240c9",
   "metadata": {},
   "outputs": [],
   "source": [
    "def graficar(x1, x2, y):\n",
    "    scatter_plot = plt.scatter(x1, x2,c=y, vmin=min(y), vmax=max(y), s=35)\n",
    "    plt.show()"
   ]
  },
  {
   "cell_type": "code",
   "execution_count": 3,
   "id": "7c255c56",
   "metadata": {},
   "outputs": [
    {
     "name": "stdout",
     "output_type": "stream",
     "text": [
      "(100, 3) (100,)\n"
     ]
    }
   ],
   "source": [
    "# crear el dataset de 100 registros con 3 caraccteristicas y 3 clases\n",
    "x, y = datasets.make_blobs(n_samples=100, centers=3, n_features=3, random_state=0)\n",
    "\n",
    "# shape de x, y\n",
    "print(x.shape, y.shape)"
   ]
  },
  {
   "cell_type": "code",
   "execution_count": 4,
   "id": "4b7cbbba",
   "metadata": {},
   "outputs": [],
   "source": [
    "# dividir el x, y en train y test\n",
    "x_train, x_test, y_train, y_test = train_test_split(x, y, test_size=0.2, random_state=0)"
   ]
  },
  {
   "cell_type": "code",
   "execution_count": 5,
   "id": "ab42ce61",
   "metadata": {},
   "outputs": [
    {
     "name": "stdout",
     "output_type": "stream",
     "text": [
      "[[ 1.25809093 -1.11875589  0.97716659]\n",
      " [-0.27461614  5.22903808  1.15048136]\n",
      " [ 0.60904044 -0.47892179  3.1678398 ]\n",
      " [ 1.44841908  5.12370462  2.96278714]\n",
      " [ 2.51129921  4.87022737  2.20453261]\n",
      " [-2.04444161  6.43491875  9.08890463]\n",
      " [-0.42878917  8.35744775 10.47051507]\n",
      " [ 1.00159957 -2.3564752   3.41064165]\n",
      " [ 0.56563326 -1.82300442  0.6995215 ]\n",
      " [ 2.19835993 -0.60870119  2.75908179]]\n"
     ]
    }
   ],
   "source": [
    "# primeros 10 registros del x_train con las dimensiones originales\n",
    "print(x_train[:10,:])"
   ]
  },
  {
   "cell_type": "code",
   "execution_count": 6,
   "id": "dc7debdf",
   "metadata": {},
   "outputs": [],
   "source": [
    "# reduccion de la dimensionalidad usando 2 componentes\n",
    "lda = LinearDiscriminantAnalysis(n_components = 2)\n",
    "x_train = lda.fit_transform(x_train, y_train)\n",
    "x_test = lda.transform(x_test)"
   ]
  },
  {
   "cell_type": "code",
   "execution_count": 7,
   "id": "198e0918",
   "metadata": {},
   "outputs": [
    {
     "name": "stdout",
     "output_type": "stream",
     "text": [
      "[[-6.13063236  0.17161489]\n",
      " [-0.35382058  3.47774802]\n",
      " [-4.47819478 -1.28768311]\n",
      " [-0.07173828  2.48422601]\n",
      " [-0.87544276  3.19177187]\n",
      " [ 4.55819997 -2.33016499]\n",
      " [ 6.3799891  -1.7947012 ]\n",
      " [-6.04355524 -2.50650544]\n",
      " [-6.67359149 -0.22584353]\n",
      " [-5.1541183  -0.63313813]]\n"
     ]
    }
   ],
   "source": [
    "# primeros 10 registros del x_train luego de la reduccion de dimensiones\n",
    "print(x_train[:10, :])"
   ]
  },
  {
   "cell_type": "code",
   "execution_count": 8,
   "id": "efa4cb43",
   "metadata": {},
   "outputs": [
    {
     "name": "stdout",
     "output_type": "stream",
     "text": [
      "(80, 2) (80,)\n"
     ]
    }
   ],
   "source": [
    "print(x_train.shape, y_train.shape)"
   ]
  },
  {
   "cell_type": "code",
   "execution_count": 9,
   "id": "920d31ba",
   "metadata": {},
   "outputs": [
    {
     "data": {
      "image/png": "[encoded data removed]",
      "text/plain": [
       "<Figure size 432x288 with 1 Axes>"
      ]
     },
     "metadata": {
      "needs_background": "light"
     },
     "output_type": "display_data"
    }
   ],
   "source": [
    "# grafica de los datos del x_train\n",
    "graficar(x_train[:,0], x_train[:,1] , y_train)"
   ]
  },
  {
   "cell_type": "code",
   "execution_count": null,
   "id": "7b53bf2e",
   "metadata": {},
   "outputs": [],
   "source": []
  }
 ],
 "metadata": {
  "kernelspec": {
   "display_name": "Python 3 (ipykernel)",
   "language": "python",
   "name": "python3"
  },
  "language_info": {
   "codemirror_mode": {
    "name": "ipython",
    "version": 3
   },
   "file_extension": ".py",
   "mimetype": "text/x-python",
   "name": "python",
   "nbconvert_exporter": "python",
   "pygments_lexer": "ipython3",
   "version": "3.9.7"
  }
 },
 "nbformat": 4,
 "nbformat_minor": 5
}
