{
 "cells": [
  {
   "cell_type": "markdown",
   "id": "b2fd6e86",
   "metadata": {},
   "source": [
    "### Evidencia 1 - Punto 5"
   ]
  },
  {
   "cell_type": "markdown",
   "id": "23a5151f",
   "metadata": {},
   "source": [
    "#### Optimizacion Funcion de Costo de una empresa"
   ]
  },
  {
   "cell_type": "markdown",
   "id": "a134562f",
   "metadata": {},
   "source": [
    "El costo total de una empresa que fabrica Impresoras de Tinta e Impresoras de Laser viene data por la siguiente funcion de costo:\n",
    "\n",
    "$$C(x,y) = 3/2X^2 + 7Y^2 + 6XY - 21X - 46Y + 500$$\n",
    "\n",
    "Se debe hallar el costo minimo."
   ]
  },
  {
   "cell_type": "code",
   "execution_count": 61,
   "id": "7eec2ba0",
   "metadata": {},
   "outputs": [],
   "source": [
    "import numpy as np\n",
    "import numpy.linalg as npl\n",
    "import matplotlib.pyplot as plt\n",
    "from matplotlib.gridspec import GridSpec\n",
    "from sympy import *"
   ]
  },
  {
   "cell_type": "code",
   "execution_count": 62,
   "id": "646eaf3f",
   "metadata": {},
   "outputs": [],
   "source": [
    "# funcion para el calculo del gradiente descendiente\n",
    "def gradientDescent(gradiente, punto_inicio, t_paso = .085, precision = .01, max_iter = 3000, initError = 10):\n",
    "    # configuracion inicial\n",
    "    x,y = punto_inicio.astype(float)\n",
    "    currIter, iterCoords = 0, [np.hstack([x,y])]\n",
    "    error = initError\n",
    "    currX = np.array([x,y])\n",
    "\n",
    "    # inicio de las iteraciones\n",
    "    \n",
    "    while npl.norm(error) > precision and currIter<max_iter:\n",
    "        currIter+=1 # se incrementa el contador\n",
    "        prevX = currX.copy() # registra el ultimo valor de error\n",
    "        \n",
    "        # Gradient descent equation\n",
    "        currX -= t_paso * np.array(gradiente(x,y)) # New X = (last) minus (step size * function gradient(last)).\n",
    "        x,y = currX[0].copy(), currX[1].copy() # Update X.\n",
    "        # Gradient descent equation\n",
    "        \n",
    "        error = currX - prevX # Error based on how much movement new X made based on gamma and gradient.\n",
    "        iterCoords.append(np.hstack([x,y])) # Track X for plotting.\n",
    "        \n",
    "    return currIter, currX, np.vstack(iterCoords)"
   ]
  },
  {
   "cell_type": "code",
   "execution_count": 63,
   "id": "203db2a1",
   "metadata": {},
   "outputs": [],
   "source": [
    "# funcion para calculo del minimo de una funcion usando el gradience descendiente\n",
    "def getMinByGradientDescent(funcion_exp, punto_inicio, grad_t_pasos=.085):\n",
    "\n",
    "    # derivada parcial de la funcion respecto a x\n",
    "    der_f_1x = funcion_exp.diff(x)\n",
    "    # transformacion de la expresion de la der en funcion\n",
    "    f_der_f_1x = lambdify('x,y',der_f_1x)\n",
    "\n",
    "    # derivada parcial de la funcion respecto a y\n",
    "    der_f_1y = funcion_exp.diff(y)\n",
    "    # transformacion de la expresion de la der en funcion\n",
    "    f_der_f_1y = lambdify('x,y',der_f_1y)\n",
    "\n",
    "    f_gradiente = [der_f_1x, der_f_1y]\n",
    "\n",
    "    gradiente = lambdify('x,y',f_gradiente)\n",
    "    \n",
    "    # Calculo del gradiente descendiente\n",
    "    p_t, coordenada_final, c_int = gradientDescent(gradiente,punto_inicio, t_paso=grad_t_pasos)\n",
    "    \n",
    "    return coordenada_final\n",
    "  "
   ]
  },
  {
   "cell_type": "code",
   "execution_count": 64,
   "id": "d6565996",
   "metadata": {},
   "outputs": [
    {
     "data": {
      "text/latex": [
       "$\\displaystyle 1.5 x^{2} + 6 x y - 21 x + 7 y^{2} - 46 y + 500$"
      ],
      "text/plain": [
       "1.5*x**2 + 6*x*y - 21*x + 7*y**2 - 46*y + 500"
      ]
     },
     "execution_count": 64,
     "metadata": {},
     "output_type": "execute_result"
    }
   ],
   "source": [
    "x,y = symbols(\"x y\")\n",
    "\n",
    "f_costo = 3/2*x**2 + 7*y**2 + 6*x*y - 21*x - 46*y + 500\n",
    "f_costo"
   ]
  },
  {
   "cell_type": "code",
   "execution_count": 65,
   "id": "9eb5f6e1",
   "metadata": {},
   "outputs": [
    {
     "name": "stdout",
     "output_type": "stream",
     "text": [
      "Punto donde Converge la funcion:\n",
      "[[2.71790195]\n",
      " [2.12409542]]\n"
     ]
    }
   ],
   "source": [
    "punto_inicio = np.vstack([2,5])\n",
    "\n",
    "# con la expresion de la funcion y el punto de inicio se pasan esos parametros a la funcion.\n",
    "# la funcion regresa las coordenadas del punto minimo.\n",
    "min_point = getMinByGradientDescent(f_costo, punto_inicio)\n",
    "print(\"Punto donde Converge la funcion:\")\n",
    "print(min_point)"
   ]
  }
 ],
 "metadata": {
  "kernelspec": {
   "display_name": "Python 3 (ipykernel)",
   "language": "python",
   "name": "python3"
  },
  "language_info": {
   "codemirror_mode": {
    "name": "ipython",
    "version": 3
   },
   "file_extension": ".py",
   "mimetype": "text/x-python",
   "name": "python",
   "nbconvert_exporter": "python",
   "pygments_lexer": "ipython3",
   "version": "3.9.7"
  }
 },
 "nbformat": 4,
 "nbformat_minor": 5
}
