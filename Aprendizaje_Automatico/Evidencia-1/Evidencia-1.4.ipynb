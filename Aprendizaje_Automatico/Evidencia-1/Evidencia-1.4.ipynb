{
 "cells": [
  {
   "cell_type": "markdown",
   "id": "ec997d5b",
   "metadata": {},
   "source": [
    "### Evidencia 1 - Punto 4"
   ]
  },
  {
   "cell_type": "code",
   "execution_count": 86,
   "id": "85cf820d",
   "metadata": {},
   "outputs": [],
   "source": [
    "import pandas as pd\n",
    "import numpy as np\n",
    "import matplotlib.pyplot as plt"
   ]
  },
  {
   "cell_type": "code",
   "execution_count": 87,
   "id": "4f81018f",
   "metadata": {},
   "outputs": [],
   "source": [
    "def displayDistGausGraphic(data_arr, stdd, mean, ):\n",
    "    frecuencia, data, ignored = plt.hist(data_arr, density=True)\n",
    "    plt.plot(data, 1/(stdd * np.sqrt(2 * np.pi)) *np.exp( - (data - mean)**2 / (2 * stdd**2) ),linewidth=2, color='r')\n",
    "    plt.show()"
   ]
  },
  {
   "cell_type": "code",
   "execution_count": 88,
   "id": "97479149",
   "metadata": {},
   "outputs": [
    {
     "data": {
      "text/html": [
       "<div>\n",
       "<style scoped>\n",
       "    .dataframe tbody tr th:only-of-type {\n",
       "        vertical-align: middle;\n",
       "    }\n",
       "\n",
       "    .dataframe tbody tr th {\n",
       "        vertical-align: top;\n",
       "    }\n",
       "\n",
       "    .dataframe thead th {\n",
       "        text-align: right;\n",
       "    }\n",
       "</style>\n",
       "<table border=\"1\" class=\"dataframe\">\n",
       "  <thead>\n",
       "    <tr style=\"text-align: right;\">\n",
       "      <th></th>\n",
       "      <th>LLAVE</th>\n",
       "      <th>UPM</th>\n",
       "      <th>VIV_SEL</th>\n",
       "      <th>HOGAR</th>\n",
       "      <th>NUMREN</th>\n",
       "      <th>EDAD</th>\n",
       "      <th>SEXO</th>\n",
       "      <th>ENT</th>\n",
       "      <th>CVE_MUN</th>\n",
       "      <th>AREA</th>\n",
       "      <th>...</th>\n",
       "      <th>a_P27_2_2</th>\n",
       "      <th>a_P28</th>\n",
       "      <th>a_P29</th>\n",
       "      <th>a_P30</th>\n",
       "      <th>EDAD_MESES</th>\n",
       "      <th>DOMINIO</th>\n",
       "      <th>GPO_INSP</th>\n",
       "      <th>DIAS</th>\n",
       "      <th>resp_tension</th>\n",
       "      <th>ponde_tension</th>\n",
       "    </tr>\n",
       "  </thead>\n",
       "  <tbody>\n",
       "    <tr>\n",
       "      <th>0</th>\n",
       "      <td>23286</td>\n",
       "      <td>3491</td>\n",
       "      <td>17</td>\n",
       "      <td>1</td>\n",
       "      <td>1</td>\n",
       "      <td>28</td>\n",
       "      <td>2</td>\n",
       "      <td>29</td>\n",
       "      <td>6</td>\n",
       "      <td>1</td>\n",
       "      <td>...</td>\n",
       "      <td></td>\n",
       "      <td></td>\n",
       "      <td></td>\n",
       "      <td>3</td>\n",
       "      <td>339</td>\n",
       "      <td>1</td>\n",
       "      <td>4</td>\n",
       "      <td>10425</td>\n",
       "      <td>0</td>\n",
       "      <td>0.000000</td>\n",
       "    </tr>\n",
       "    <tr>\n",
       "      <th>1</th>\n",
       "      <td>2374</td>\n",
       "      <td>406</td>\n",
       "      <td>8</td>\n",
       "      <td>1</td>\n",
       "      <td>3</td>\n",
       "      <td>25</td>\n",
       "      <td>1</td>\n",
       "      <td>3</td>\n",
       "      <td>3</td>\n",
       "      <td>2</td>\n",
       "      <td>...</td>\n",
       "      <td>54</td>\n",
       "      <td>3:59</td>\n",
       "      <td>1</td>\n",
       "      <td>2</td>\n",
       "      <td>308</td>\n",
       "      <td>2</td>\n",
       "      <td>4</td>\n",
       "      <td>9400</td>\n",
       "      <td>0</td>\n",
       "      <td>0.000000</td>\n",
       "    </tr>\n",
       "    <tr>\n",
       "      <th>2</th>\n",
       "      <td>23169</td>\n",
       "      <td>3479</td>\n",
       "      <td>3</td>\n",
       "      <td>1</td>\n",
       "      <td>1</td>\n",
       "      <td>32</td>\n",
       "      <td>1</td>\n",
       "      <td>28</td>\n",
       "      <td>34</td>\n",
       "      <td>2</td>\n",
       "      <td>...</td>\n",
       "      <td>88</td>\n",
       "      <td>18:30</td>\n",
       "      <td>1</td>\n",
       "      <td>1</td>\n",
       "      <td>385</td>\n",
       "      <td>2</td>\n",
       "      <td>4</td>\n",
       "      <td>11728</td>\n",
       "      <td>1</td>\n",
       "      <td>4975.789083</td>\n",
       "    </tr>\n",
       "    <tr>\n",
       "      <th>3</th>\n",
       "      <td>23455</td>\n",
       "      <td>3523</td>\n",
       "      <td>4</td>\n",
       "      <td>1</td>\n",
       "      <td>3</td>\n",
       "      <td>23</td>\n",
       "      <td>2</td>\n",
       "      <td>29</td>\n",
       "      <td>31</td>\n",
       "      <td>1</td>\n",
       "      <td>...</td>\n",
       "      <td>55</td>\n",
       "      <td>12:50</td>\n",
       "      <td>1</td>\n",
       "      <td>1</td>\n",
       "      <td>277</td>\n",
       "      <td>1</td>\n",
       "      <td>4</td>\n",
       "      <td>8559</td>\n",
       "      <td>1</td>\n",
       "      <td>3715.536669</td>\n",
       "    </tr>\n",
       "    <tr>\n",
       "      <th>4</th>\n",
       "      <td>11693</td>\n",
       "      <td>1888</td>\n",
       "      <td>2</td>\n",
       "      <td>1</td>\n",
       "      <td>4</td>\n",
       "      <td>22</td>\n",
       "      <td>2</td>\n",
       "      <td>15</td>\n",
       "      <td>23</td>\n",
       "      <td>1</td>\n",
       "      <td>...</td>\n",
       "      <td></td>\n",
       "      <td></td>\n",
       "      <td></td>\n",
       "      <td>3</td>\n",
       "      <td>274</td>\n",
       "      <td>1</td>\n",
       "      <td>4</td>\n",
       "      <td>8391</td>\n",
       "      <td>0</td>\n",
       "      <td>0.000000</td>\n",
       "    </tr>\n",
       "    <tr>\n",
       "      <th>...</th>\n",
       "      <td>...</td>\n",
       "      <td>...</td>\n",
       "      <td>...</td>\n",
       "      <td>...</td>\n",
       "      <td>...</td>\n",
       "      <td>...</td>\n",
       "      <td>...</td>\n",
       "      <td>...</td>\n",
       "      <td>...</td>\n",
       "      <td>...</td>\n",
       "      <td>...</td>\n",
       "      <td>...</td>\n",
       "      <td>...</td>\n",
       "      <td>...</td>\n",
       "      <td>...</td>\n",
       "      <td>...</td>\n",
       "      <td>...</td>\n",
       "      <td>...</td>\n",
       "      <td>...</td>\n",
       "      <td>...</td>\n",
       "      <td>...</td>\n",
       "    </tr>\n",
       "    <tr>\n",
       "      <th>13173</th>\n",
       "      <td>26037</td>\n",
       "      <td>3907</td>\n",
       "      <td>20</td>\n",
       "      <td>1</td>\n",
       "      <td>1</td>\n",
       "      <td>46</td>\n",
       "      <td>1</td>\n",
       "      <td>32</td>\n",
       "      <td>39</td>\n",
       "      <td>1</td>\n",
       "      <td>...</td>\n",
       "      <td></td>\n",
       "      <td></td>\n",
       "      <td></td>\n",
       "      <td>4</td>\n",
       "      <td>563</td>\n",
       "      <td>1</td>\n",
       "      <td>4</td>\n",
       "      <td>17298</td>\n",
       "      <td>0</td>\n",
       "      <td>0.000000</td>\n",
       "    </tr>\n",
       "    <tr>\n",
       "      <th>13174</th>\n",
       "      <td>26180</td>\n",
       "      <td>3915</td>\n",
       "      <td>17</td>\n",
       "      <td>1</td>\n",
       "      <td>1</td>\n",
       "      <td>51</td>\n",
       "      <td>1</td>\n",
       "      <td>32</td>\n",
       "      <td>29</td>\n",
       "      <td>1</td>\n",
       "      <td>...</td>\n",
       "      <td></td>\n",
       "      <td></td>\n",
       "      <td></td>\n",
       "      <td>3</td>\n",
       "      <td>622</td>\n",
       "      <td>1</td>\n",
       "      <td>4</td>\n",
       "      <td>18958</td>\n",
       "      <td>0</td>\n",
       "      <td>0.000000</td>\n",
       "    </tr>\n",
       "    <tr>\n",
       "      <th>13175</th>\n",
       "      <td>26226</td>\n",
       "      <td>3918</td>\n",
       "      <td>10</td>\n",
       "      <td>1</td>\n",
       "      <td>1</td>\n",
       "      <td>50</td>\n",
       "      <td>1</td>\n",
       "      <td>32</td>\n",
       "      <td>50</td>\n",
       "      <td>1</td>\n",
       "      <td>...</td>\n",
       "      <td></td>\n",
       "      <td></td>\n",
       "      <td></td>\n",
       "      <td>4</td>\n",
       "      <td>611</td>\n",
       "      <td>1</td>\n",
       "      <td>4</td>\n",
       "      <td>18704</td>\n",
       "      <td>0</td>\n",
       "      <td>0.000000</td>\n",
       "    </tr>\n",
       "    <tr>\n",
       "      <th>13176</th>\n",
       "      <td>26273</td>\n",
       "      <td>3921</td>\n",
       "      <td>4</td>\n",
       "      <td>1</td>\n",
       "      <td>2</td>\n",
       "      <td>36</td>\n",
       "      <td>2</td>\n",
       "      <td>32</td>\n",
       "      <td>10</td>\n",
       "      <td>2</td>\n",
       "      <td>...</td>\n",
       "      <td></td>\n",
       "      <td></td>\n",
       "      <td></td>\n",
       "      <td>4</td>\n",
       "      <td>434</td>\n",
       "      <td>2</td>\n",
       "      <td>4</td>\n",
       "      <td>13240</td>\n",
       "      <td>0</td>\n",
       "      <td>0.000000</td>\n",
       "    </tr>\n",
       "    <tr>\n",
       "      <th>13177</th>\n",
       "      <td>26572</td>\n",
       "      <td>3937</td>\n",
       "      <td>2</td>\n",
       "      <td>1</td>\n",
       "      <td>2</td>\n",
       "      <td>59</td>\n",
       "      <td>2</td>\n",
       "      <td>32</td>\n",
       "      <td>54</td>\n",
       "      <td>2</td>\n",
       "      <td>...</td>\n",
       "      <td></td>\n",
       "      <td></td>\n",
       "      <td></td>\n",
       "      <td>4</td>\n",
       "      <td>708</td>\n",
       "      <td>2</td>\n",
       "      <td>4</td>\n",
       "      <td>21587</td>\n",
       "      <td>0</td>\n",
       "      <td>0.000000</td>\n",
       "    </tr>\n",
       "  </tbody>\n",
       "</table>\n",
       "<p>13178 rows × 61 columns</p>\n",
       "</div>"
      ],
      "text/plain": [
       "       LLAVE   UPM  VIV_SEL  HOGAR  NUMREN  EDAD  SEXO  ENT  CVE_MUN  AREA  \\\n",
       "0      23286  3491       17      1       1    28     2   29        6     1   \n",
       "1       2374   406        8      1       3    25     1    3        3     2   \n",
       "2      23169  3479        3      1       1    32     1   28       34     2   \n",
       "3      23455  3523        4      1       3    23     2   29       31     1   \n",
       "4      11693  1888        2      1       4    22     2   15       23     1   \n",
       "...      ...   ...      ...    ...     ...   ...   ...  ...      ...   ...   \n",
       "13173  26037  3907       20      1       1    46     1   32       39     1   \n",
       "13174  26180  3915       17      1       1    51     1   32       29     1   \n",
       "13175  26226  3918       10      1       1    50     1   32       50     1   \n",
       "13176  26273  3921        4      1       2    36     2   32       10     2   \n",
       "13177  26572  3937        2      1       2    59     2   32       54     2   \n",
       "\n",
       "       ...  a_P27_2_2  a_P28  a_P29  a_P30  EDAD_MESES  DOMINIO  GPO_INSP  \\\n",
       "0      ...                               3         339        1         4   \n",
       "1      ...         54   3:59      1      2         308        2         4   \n",
       "2      ...         88  18:30      1      1         385        2         4   \n",
       "3      ...         55  12:50      1      1         277        1         4   \n",
       "4      ...                               3         274        1         4   \n",
       "...    ...        ...    ...    ...    ...         ...      ...       ...   \n",
       "13173  ...                               4         563        1         4   \n",
       "13174  ...                               3         622        1         4   \n",
       "13175  ...                               4         611        1         4   \n",
       "13176  ...                               4         434        2         4   \n",
       "13177  ...                               4         708        2         4   \n",
       "\n",
       "        DIAS  resp_tension  ponde_tension  \n",
       "0      10425             0       0.000000  \n",
       "1       9400             0       0.000000  \n",
       "2      11728             1    4975.789083  \n",
       "3       8559             1    3715.536669  \n",
       "4       8391             0       0.000000  \n",
       "...      ...           ...            ...  \n",
       "13173  17298             0       0.000000  \n",
       "13174  18958             0       0.000000  \n",
       "13175  18704             0       0.000000  \n",
       "13176  13240             0       0.000000  \n",
       "13177  21587             0       0.000000  \n",
       "\n",
       "[13178 rows x 61 columns]"
      ]
     },
     "execution_count": 88,
     "metadata": {},
     "output_type": "execute_result"
    }
   ],
   "source": [
    "# importar el archivo .csv\n",
    "data = pd.read_csv('ponderadores_hipertension.csv')\n",
    "data"
   ]
  },
  {
   "cell_type": "code",
   "execution_count": 89,
   "id": "0603e360",
   "metadata": {},
   "outputs": [],
   "source": [
    "# crear arrays con informacion sobre edad, peso y talla\n",
    "edad_arr = np.array(data['EDAD'])\n",
    "peso_arr = np.array(data['PESO1_1'])\n",
    "talla_arr = np.array(data['TALLA4_1'])"
   ]
  },
  {
   "cell_type": "code",
   "execution_count": 90,
   "id": "32801250",
   "metadata": {},
   "outputs": [
    {
     "data": {
      "image/png": "[encoded data removed]",
      "text/plain": [
       "<Figure size 432x288 with 1 Axes>"
      ]
     },
     "metadata": {
      "needs_background": "light"
     },
     "output_type": "display_data"
    }
   ],
   "source": [
    "# crear el histograma del edad\n",
    "plt.hist(edad_arr)\n",
    "plt.ylabel('Frecuencia')\n",
    "plt.xlabel('Edad')\n",
    "plt.title('Histograma')\n",
    "plt.show()\n"
   ]
  },
  {
   "cell_type": "code",
   "execution_count": 91,
   "id": "e68f2782",
   "metadata": {},
   "outputs": [
    {
     "name": "stdout",
     "output_type": "stream",
     "text": [
      "11.038816846280197\n",
      "38.72294733646987\n",
      "39.0\n"
     ]
    }
   ],
   "source": [
    "# calcular la desviacion standard, la media y la mediana\n",
    "edad_std = edad_arr.std()\n",
    "print(edad_std)\n",
    "edad_mean = np.mean(edad_arr)\n",
    "print(edad_mean)\n",
    "edad_mediana = np.median(edad_arr)\n",
    "print(edad_mediana)"
   ]
  },
  {
   "cell_type": "code",
   "execution_count": 92,
   "id": "34b1e573",
   "metadata": {},
   "outputs": [
    {
     "data": {
      "image/png": "[encoded data removed]",
      "text/plain": [
       "<Figure size 432x288 with 1 Axes>"
      ]
     },
     "metadata": {
      "needs_background": "light"
     },
     "output_type": "display_data"
    }
   ],
   "source": [
    "# grafica de la distribución gaussiana\n",
    "displayDistGausGraphic(edad_arr, edad_std, edad_mean)"
   ]
  },
  {
   "cell_type": "code",
   "execution_count": 93,
   "id": "d16da76b",
   "metadata": {},
   "outputs": [
    {
     "data": {
      "image/png": "[encoded data removed]",
      "text/plain": [
       "<Figure size 432x288 with 1 Axes>"
      ]
     },
     "metadata": {
      "needs_background": "light"
     },
     "output_type": "display_data"
    }
   ],
   "source": [
    "# crear el histograma del peso\n",
    "plt.hist(peso_arr)\n",
    "plt.ylabel('Frecuencia')\n",
    "plt.xlabel('Peso')\n",
    "plt.title('Histograma')\n",
    "plt.show()"
   ]
  },
  {
   "cell_type": "code",
   "execution_count": 94,
   "id": "ff6b5112",
   "metadata": {},
   "outputs": [
    {
     "name": "stdout",
     "output_type": "stream",
     "text": [
      "24.21225030778828\n",
      "76.22827765973592\n",
      "72.5\n"
     ]
    }
   ],
   "source": [
    "# calcular la desviacion standard, la media y la mediana\n",
    "peso_std = peso_arr.std()\n",
    "print(peso_std)\n",
    "peso_mean = np.mean(peso_arr)\n",
    "print(peso_mean)\n",
    "peso_mediana = np.median(peso_arr)\n",
    "print(peso_mediana)\n"
   ]
  },
  {
   "cell_type": "code",
   "execution_count": 95,
   "id": "82f586a5",
   "metadata": {},
   "outputs": [
    {
     "data": {
      "image/png": "[encoded data removed]",
      "text/plain": [
       "<Figure size 432x288 with 1 Axes>"
      ]
     },
     "metadata": {
      "needs_background": "light"
     },
     "output_type": "display_data"
    }
   ],
   "source": [
    "# crear el histograma del talla\n",
    "plt.hist(talla_arr)\n",
    "plt.ylabel('Frecuencia')\n",
    "plt.xlabel('Talla')\n",
    "plt.title('Histograma')\n",
    "plt.show()"
   ]
  },
  {
   "cell_type": "code",
   "execution_count": 96,
   "id": "65f796cb",
   "metadata": {},
   "outputs": [
    {
     "name": "stdout",
     "output_type": "stream",
     "text": [
      "12.763402646599726\n",
      "160.56876612536047\n",
      "159.2\n"
     ]
    }
   ],
   "source": [
    "# calcular la desviacion standard, la media y la mediana\n",
    "talla_std = talla_arr.std()\n",
    "print(talla_std)\n",
    "talla_mean = np.mean(talla_arr)\n",
    "print(talla_mean)\n",
    "talla_mediana = np.median(talla_arr)\n",
    "print(talla_mediana)"
   ]
  },
  {
   "cell_type": "code",
   "execution_count": 97,
   "id": "1a29d275",
   "metadata": {},
   "outputs": [
    {
     "data": {
      "image/png": "[encoded data removed]",
      "text/plain": [
       "<Figure size 432x288 with 1 Axes>"
      ]
     },
     "metadata": {
      "needs_background": "light"
     },
     "output_type": "display_data"
    }
   ],
   "source": [
    "displayHistograma(talla_arr, talla_std, talla_mean)"
   ]
  },
  {
   "cell_type": "code",
   "execution_count": null,
   "id": "baafe021",
   "metadata": {},
   "outputs": [],
   "source": []
  }
 ],
 "metadata": {
  "kernelspec": {
   "display_name": "Python 3 (ipykernel)",
   "language": "python",
   "name": "python3"
  },
  "language_info": {
   "codemirror_mode": {
    "name": "ipython",
    "version": 3
   },
   "file_extension": ".py",
   "mimetype": "text/x-python",
   "name": "python",
   "nbconvert_exporter": "python",
   "pygments_lexer": "ipython3",
   "version": "3.9.7"
  }
 },
 "nbformat": 4,
 "nbformat_minor": 5
}
