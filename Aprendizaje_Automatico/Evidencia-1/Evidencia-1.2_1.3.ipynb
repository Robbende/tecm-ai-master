{
 "cells": [
  {
   "cell_type": "markdown",
   "id": "82540866",
   "metadata": {},
   "source": [
    "### Evidencia 1"
   ]
  },
  {
   "cell_type": "markdown",
   "id": "b16aea3a",
   "metadata": {},
   "source": [
    "### Punto 2"
   ]
  },
  {
   "cell_type": "code",
   "execution_count": 1,
   "id": "ccd958e4",
   "metadata": {},
   "outputs": [],
   "source": [
    "import numpy as np\n",
    "import matplotlib.pyplot as plt"
   ]
  },
  {
   "cell_type": "code",
   "execution_count": 2,
   "id": "99795375",
   "metadata": {},
   "outputs": [
    {
     "name": "stdout",
     "output_type": "stream",
     "text": [
      "vector base [[2]\n",
      " [5]]\n",
      "vector a proyectar [[-1]\n",
      " [ 4]]\n"
     ]
    }
   ],
   "source": [
    "# vector base\n",
    "vb = np.vstack([2,5])\n",
    "\n",
    "# vector a proyectar x\n",
    "vx = np.vstack([-1, 4])\n",
    "\n",
    "print('vector base', vb)\n",
    "print('vector a proyectar', vx)"
   ]
  },
  {
   "cell_type": "code",
   "execution_count": 3,
   "id": "140c8ad4",
   "metadata": {},
   "outputs": [
    {
     "name": "stdout",
     "output_type": "stream",
     "text": [
      "[[0.62068966]]\n"
     ]
    }
   ],
   "source": [
    "# calculo de lambda \n",
    "lambd = np.dot(vb.T,vx)/np.linalg.norm(vb)**2 # b^T x / ||b||^2; \n",
    "print(lambd)"
   ]
  },
  {
   "cell_type": "code",
   "execution_count": 4,
   "id": "d2c523da",
   "metadata": {},
   "outputs": [
    {
     "name": "stdout",
     "output_type": "stream",
     "text": [
      "vector proyectado [[1.24137931]\n",
      " [3.10344828]]\n"
     ]
    }
   ],
   "source": [
    "# vector proyectado\n",
    "vb_proy = lambd*vb\n",
    "print('vector proyectado', vb_proy)"
   ]
  },
  {
   "cell_type": "code",
   "execution_count": 5,
   "id": "45aca0ea",
   "metadata": {},
   "outputs": [
    {
     "name": "stdout",
     "output_type": "stream",
     "text": [
      "[[0.13793103 0.34482759]\n",
      " [0.34482759 0.86206897]]\n"
     ]
    }
   ],
   "source": [
    "# Matriz de proyeccion\n",
    "mp = np.dot(vb,vb.T)/np.linalg.norm(vb)**2 #bb^T/||b||^2\n",
    "print(mp)"
   ]
  },
  {
   "cell_type": "code",
   "execution_count": 6,
   "id": "5e91304e",
   "metadata": {},
   "outputs": [
    {
     "name": "stdout",
     "output_type": "stream",
     "text": [
      "vector proyectado [[1.24137931]\n",
      " [3.10344828]]\n"
     ]
    }
   ],
   "source": [
    "# obtener el vector proyectado usando la matriz de proyeccion\n",
    "vb_proy_m = np.dot(mp, vx)\n",
    "print('vector proyectado', vb_proy_m)"
   ]
  },
  {
   "cell_type": "markdown",
   "id": "dee14774",
   "metadata": {},
   "source": [
    "#### Grafica de los vectores"
   ]
  },
  {
   "cell_type": "code",
   "execution_count": 7,
   "id": "50fada59",
   "metadata": {},
   "outputs": [
    {
     "data": {
      "image/png": "[encoded data removed]",
      "text/plain": [
       "<Figure size 432x288 with 1 Axes>"
      ]
     },
     "metadata": {
      "needs_background": "light"
     },
     "output_type": "display_data"
    }
   ],
   "source": [
    "# vector base\n",
    "plt.quiver(0,0,vb[0],vb[1], color='green', angles='xy', scale_units='xy', scale=1)\n",
    "# vector a proyectar\n",
    "plt.quiver(0,0,vx[0],vx[1], color='orange', angles='xy', scale_units='xy', scale=1)\n",
    "# vector proyectado\n",
    "plt.quiver(0,0,vb_proy[0],vb_proy[1], color='black', angles='xy', scale_units='xy', scale=1)\n",
    "\n",
    "plt.xlim(-3,6)\n",
    "plt.ylim(-1,8)\n",
    "plt.axvline(x = 0, color = \"grey\")\n",
    "plt.axhline(y = 0, color = \"grey\")\n",
    "plt.show()\n"
   ]
  },
  {
   "cell_type": "markdown",
   "id": "1e3167b0",
   "metadata": {},
   "source": [
    "### Punto 3"
   ]
  },
  {
   "cell_type": "code",
   "execution_count": 8,
   "id": "b502e5d6",
   "metadata": {},
   "outputs": [
    {
     "data": {
      "text/plain": [
       "(array([0., 1.]),\n",
       " array([[-0.92847669, -0.37139068],\n",
       "        [ 0.37139068, -0.92847669]]))"
      ]
     },
     "execution_count": 8,
     "metadata": {},
     "output_type": "execute_result"
    }
   ],
   "source": [
    "# Obener los autovectores y autovalores usando np.linealg.eig\n",
    "prop_matriz = np.linalg.eig(mp)\n",
    "prop_matriz"
   ]
  },
  {
   "cell_type": "code",
   "execution_count": 9,
   "id": "06d42cb8",
   "metadata": {},
   "outputs": [
    {
     "data": {
      "text/plain": [
       "array([0., 1.])"
      ]
     },
     "execution_count": 9,
     "metadata": {},
     "output_type": "execute_result"
    }
   ],
   "source": [
    "# autovalores\n",
    "autoval = prop_matriz[0]\n",
    "autoval"
   ]
  },
  {
   "cell_type": "code",
   "execution_count": 10,
   "id": "9ca90d3e",
   "metadata": {},
   "outputs": [
    {
     "data": {
      "text/plain": [
       "array([-0.92847669,  0.37139068])"
      ]
     },
     "execution_count": 10,
     "metadata": {},
     "output_type": "execute_result"
    }
   ],
   "source": [
    "# autovector 1\n",
    "autov1 = prop_matriz[1][:,0]\n",
    "autov1"
   ]
  },
  {
   "cell_type": "code",
   "execution_count": 11,
   "id": "9e9d5dac",
   "metadata": {},
   "outputs": [
    {
     "data": {
      "text/plain": [
       "array([-0.37139068, -0.92847669])"
      ]
     },
     "execution_count": 11,
     "metadata": {},
     "output_type": "execute_result"
    }
   ],
   "source": [
    "# autovector 2\n",
    "autov2 = prop_matriz[1][:,1]\n",
    "autov2"
   ]
  },
  {
   "cell_type": "code",
   "execution_count": 12,
   "id": "cb2452bf",
   "metadata": {},
   "outputs": [
    {
     "name": "stdout",
     "output_type": "stream",
     "text": [
      "Matriz D:  [[ 1.54622430e-17 -2.29701315e-17]\n",
      " [ 0.00000000e+00  1.00000000e+00]]\n",
      "Matriz de Proyeccion:  [[0.13793103 0.34482759]\n",
      " [0.34482759 0.86206897]]\n"
     ]
    }
   ],
   "source": [
    "# Autodescomposicion\n",
    "\n",
    "P = prop_matriz[1]\n",
    "\n",
    "D = np.linalg.inv(P)@mp@P \n",
    "\n",
    "print(\"Matriz D: \", D)\n",
    "\n",
    "# mp = P.D.P^-1\n",
    "print(\"Matriz de Proyeccion: \", P@D@np.linalg.inv(P))"
   ]
  },
  {
   "cell_type": "code",
   "execution_count": 13,
   "id": "9272e8ec",
   "metadata": {},
   "outputs": [
    {
     "data": {
      "image/png": "[encoded data removed]",
      "text/plain": [
       "<Figure size 432x288 with 1 Axes>"
      ]
     },
     "metadata": {
      "needs_background": "light"
     },
     "output_type": "display_data"
    }
   ],
   "source": [
    "# Grafica de autovectores\n",
    "\n",
    "plt.quiver(0,0,autov1[0],autov1[1], color='orange', angles='xy', scale_units='xy', scale=1)\n",
    "plt.quiver(0,0,autov2[0],autov2[1], color='blue', angles='xy', scale_units='xy', scale=1)\n",
    "\n",
    "plt.axvline(x = 0, color = \"grey\")\n",
    "plt.axhline(y = 0, color = \"grey\")\n",
    "\n",
    "\n",
    "plt.xlim(-1.5,1)\n",
    "plt.ylim(-1.55,1.5)\n",
    "plt.show()"
   ]
  },
  {
   "cell_type": "code",
   "execution_count": null,
   "id": "a5f46996",
   "metadata": {},
   "outputs": [],
   "source": []
  }
 ],
 "metadata": {
  "kernelspec": {
   "display_name": "Python 3 (ipykernel)",
   "language": "python",
   "name": "python3"
  },
  "language_info": {
   "codemirror_mode": {
    "name": "ipython",
    "version": 3
   },
   "file_extension": ".py",
   "mimetype": "text/x-python",
   "name": "python",
   "nbconvert_exporter": "python",
   "pygments_lexer": "ipython3",
   "version": "3.9.7"
  }
 },
 "nbformat": 4,
 "nbformat_minor": 5
}
