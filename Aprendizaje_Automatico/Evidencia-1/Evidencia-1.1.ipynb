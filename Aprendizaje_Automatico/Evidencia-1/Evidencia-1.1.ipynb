{
 "cells": [
  {
   "cell_type": "markdown",
   "id": "d0c2348a",
   "metadata": {},
   "source": [
    "### Evidencia 1 - Punto 1 - Matematicas Computacionales"
   ]
  },
  {
   "cell_type": "code",
   "execution_count": 12,
   "id": "fc08530b",
   "metadata": {},
   "outputs": [],
   "source": [
    "import numpy as np"
   ]
  },
  {
   "cell_type": "markdown",
   "id": "499c648f",
   "metadata": {},
   "source": [
    "#### a."
   ]
  },
  {
   "cell_type": "code",
   "execution_count": 13,
   "id": "9ebd6ff6",
   "metadata": {},
   "outputs": [
    {
     "name": "stdout",
     "output_type": "stream",
     "text": [
      "[[ 8  5  3 -6]\n",
      " [15 -3  4  7]\n",
      " [ 1  6 -2  1]\n",
      " [-2  1  7 -3]]\n",
      "[[41]\n",
      " [13]\n",
      " [12]\n",
      " [ 0]]\n"
     ]
    }
   ],
   "source": [
    "MC_a = np.array([[8,5,3,-6],[15,-3,4,7],[1,6,-2,1],[-2,1,7,-3]])\n",
    "MS_a = np.array([[41],[13],[12],[0]])\n",
    "\n",
    "print(MC_a)\n",
    "print(MS_a)"
   ]
  },
  {
   "cell_type": "code",
   "execution_count": 14,
   "id": "0440960b",
   "metadata": {},
   "outputs": [
    {
     "name": "stdout",
     "output_type": "stream",
     "text": [
      "Solucion del sistema de ecuaciones: \n",
      "[[ 2.46143637]\n",
      " [ 1.79427813]\n",
      " [-0.55272084]\n",
      " [-2.33254682]]\n"
     ]
    }
   ],
   "source": [
    "sol_a = np.linalg.solve(MC_a, MS_a)\n",
    "print(\"Solucion del sistema de ecuaciones: \")\n",
    "print(sol_a)"
   ]
  },
  {
   "cell_type": "markdown",
   "id": "e497d33b",
   "metadata": {},
   "source": [
    "#### b."
   ]
  },
  {
   "cell_type": "code",
   "execution_count": 15,
   "id": "aac15b4c",
   "metadata": {},
   "outputs": [
    {
     "name": "stdout",
     "output_type": "stream",
     "text": [
      "[[1 0 4]\n",
      " [5 3 2]\n",
      " [3 4 0]]\n",
      "[[ 14]\n",
      " [ 25]\n",
      " [-12]]\n"
     ]
    }
   ],
   "source": [
    "MC_b = np.array([[1,0,4],[5,3,2],[3,4,0]])\n",
    "MS_b = np.array([[14],[25],[-12]])\n",
    "\n",
    "print(MC_b)\n",
    "print(MS_b)"
   ]
  },
  {
   "cell_type": "code",
   "execution_count": 16,
   "id": "e231b956",
   "metadata": {},
   "outputs": [
    {
     "name": "stdout",
     "output_type": "stream",
     "text": [
      "Solucion del sistema de ecuaciones: \n",
      "[[ 12. ]\n",
      " [-12. ]\n",
      " [  0.5]]\n"
     ]
    }
   ],
   "source": [
    "sol_b = np.linalg.solve(MC_b, MS_b)\n",
    "print(\"Solucion del sistema de ecuaciones: \")\n",
    "print(sol_b)"
   ]
  }
 ],
 "metadata": {
  "kernelspec": {
   "display_name": "Python 3 (ipykernel)",
   "language": "python",
   "name": "python3"
  },
  "language_info": {
   "codemirror_mode": {
    "name": "ipython",
    "version": 3
   },
   "file_extension": ".py",
   "mimetype": "text/x-python",
   "name": "python",
   "nbconvert_exporter": "python",
   "pygments_lexer": "ipython3",
   "version": "3.9.7"
  }
 },
 "nbformat": 4,
 "nbformat_minor": 5
}
