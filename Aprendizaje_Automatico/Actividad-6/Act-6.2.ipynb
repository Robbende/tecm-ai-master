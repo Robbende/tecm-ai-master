{
 "cells": [
  {
   "cell_type": "markdown",
   "id": "bcf1a305",
   "metadata": {},
   "source": [
    "### Actividad 6 - Punto 2"
   ]
  },
  {
   "cell_type": "code",
   "execution_count": 1,
   "id": "b1066637",
   "metadata": {},
   "outputs": [],
   "source": [
    "import pandas as pd\n",
    "import numpy as np\n",
    "import matplotlib.pyplot as plt\n",
    "import seaborn as sns\n",
    "from sklearn.linear_model import LogisticRegression\n",
    "from sklearn.model_selection import train_test_split\n",
    "from sklearn import metrics"
   ]
  },
  {
   "cell_type": "markdown",
   "id": "852c1a97",
   "metadata": {},
   "source": [
    "#### Importar Dataset"
   ]
  },
  {
   "cell_type": "code",
   "execution_count": 2,
   "id": "106a6b9f",
   "metadata": {},
   "outputs": [],
   "source": [
    "# importar el archivo .csv\n",
    "data = pd.read_csv('glucosa-freestyle.csv')"
   ]
  },
  {
   "cell_type": "code",
   "execution_count": 3,
   "id": "75c21b0c",
   "metadata": {},
   "outputs": [
    {
     "data": {
      "text/html": [
       "<div>\n",
       "<style scoped>\n",
       "    .dataframe tbody tr th:only-of-type {\n",
       "        vertical-align: middle;\n",
       "    }\n",
       "\n",
       "    .dataframe tbody tr th {\n",
       "        vertical-align: top;\n",
       "    }\n",
       "\n",
       "    .dataframe thead th {\n",
       "        text-align: right;\n",
       "    }\n",
       "</style>\n",
       "<table border=\"1\" class=\"dataframe\">\n",
       "  <thead>\n",
       "    <tr style=\"text-align: right;\">\n",
       "      <th></th>\n",
       "      <th>Dispositivo</th>\n",
       "      <th>serial_number</th>\n",
       "      <th>time</th>\n",
       "      <th>record_type</th>\n",
       "      <th>glucose_level</th>\n",
       "      <th>glucose_level_type</th>\n",
       "    </tr>\n",
       "  </thead>\n",
       "  <tbody>\n",
       "    <tr>\n",
       "      <th>0</th>\n",
       "      <td>FreeStyle Libre</td>\n",
       "      <td>JCGB319-K0305</td>\n",
       "      <td>1/5/2022 14:07</td>\n",
       "      <td>0</td>\n",
       "      <td>42</td>\n",
       "      <td>1</td>\n",
       "    </tr>\n",
       "    <tr>\n",
       "      <th>1</th>\n",
       "      <td>FreeStyle Libre</td>\n",
       "      <td>JCGB319-K0305</td>\n",
       "      <td>1/5/2022 14:22</td>\n",
       "      <td>0</td>\n",
       "      <td>63</td>\n",
       "      <td>1</td>\n",
       "    </tr>\n",
       "    <tr>\n",
       "      <th>2</th>\n",
       "      <td>FreeStyle Libre</td>\n",
       "      <td>JCGB319-K0305</td>\n",
       "      <td>1/5/2022 14:37</td>\n",
       "      <td>0</td>\n",
       "      <td>119</td>\n",
       "      <td>0</td>\n",
       "    </tr>\n",
       "    <tr>\n",
       "      <th>3</th>\n",
       "      <td>FreeStyle Libre</td>\n",
       "      <td>JCGB319-K0305</td>\n",
       "      <td>1/5/2022 14:52</td>\n",
       "      <td>0</td>\n",
       "      <td>135</td>\n",
       "      <td>0</td>\n",
       "    </tr>\n",
       "    <tr>\n",
       "      <th>4</th>\n",
       "      <td>FreeStyle Libre</td>\n",
       "      <td>JCGB319-K0305</td>\n",
       "      <td>1/5/2022 15:07</td>\n",
       "      <td>0</td>\n",
       "      <td>144</td>\n",
       "      <td>0</td>\n",
       "    </tr>\n",
       "  </tbody>\n",
       "</table>\n",
       "</div>"
      ],
      "text/plain": [
       "       Dispositivo  serial_number            time  record_type  glucose_level  \\\n",
       "0  FreeStyle Libre  JCGB319-K0305  1/5/2022 14:07            0             42   \n",
       "1  FreeStyle Libre  JCGB319-K0305  1/5/2022 14:22            0             63   \n",
       "2  FreeStyle Libre  JCGB319-K0305  1/5/2022 14:37            0            119   \n",
       "3  FreeStyle Libre  JCGB319-K0305  1/5/2022 14:52            0            135   \n",
       "4  FreeStyle Libre  JCGB319-K0305  1/5/2022 15:07            0            144   \n",
       "\n",
       "   glucose_level_type  \n",
       "0                   1  \n",
       "1                   1  \n",
       "2                   0  \n",
       "3                   0  \n",
       "4                   0  "
      ]
     },
     "execution_count": 3,
     "metadata": {},
     "output_type": "execute_result"
    }
   ],
   "source": [
    "data.head(5)\n"
   ]
  },
  {
   "cell_type": "code",
   "execution_count": 4,
   "id": "8d2a7a14",
   "metadata": {},
   "outputs": [],
   "source": [
    "# crear un dataframe con las columnas glucose_level y glucose_level_type\n",
    "df = pd.DataFrame(data, columns=['glucose_level','glucose_level_type'])"
   ]
  },
  {
   "cell_type": "markdown",
   "id": "0648ad41",
   "metadata": {},
   "source": [
    "#### Separacion de los datos "
   ]
  },
  {
   "cell_type": "code",
   "execution_count": 5,
   "id": "ee78316f",
   "metadata": {},
   "outputs": [],
   "source": [
    "nivel_glucosa = df.iloc[:, 0].to_numpy()\n",
    "tipo_nivel_glucosa = df.iloc[:, 1].to_numpy()"
   ]
  },
  {
   "cell_type": "code",
   "execution_count": 6,
   "id": "525c4866",
   "metadata": {},
   "outputs": [],
   "source": [
    "# separacion de los datos de entrenamiento y prueba\n",
    "x_train, x_test, y_train, y_test = train_test_split(nivel_glucosa,tipo_nivel_glucosa, train_size = 0.8 )"
   ]
  },
  {
   "cell_type": "markdown",
   "id": "b536da5f",
   "metadata": {},
   "source": [
    "#### Creacion del modelo de Regresion Logistica"
   ]
  },
  {
   "cell_type": "code",
   "execution_count": 7,
   "id": "2f9e027c",
   "metadata": {},
   "outputs": [],
   "source": [
    "# instancia del modelo de regresion logistica\n",
    "modelo = LogisticRegression()"
   ]
  },
  {
   "cell_type": "code",
   "execution_count": 8,
   "id": "0c4aa97c",
   "metadata": {},
   "outputs": [],
   "source": [
    "# entrenamiento del modelo\n",
    "modelo_entrenado = modelo.fit(X = x_train.reshape(-1, 1), y = y_train)"
   ]
  },
  {
   "cell_type": "code",
   "execution_count": 9,
   "id": "f59d7889",
   "metadata": {},
   "outputs": [],
   "source": [
    "# prediccion del tipo de nivel de glucosa usando los datos de prueba\n",
    "y_pred = modelo_entrenado.predict(x_test.reshape(-1, 1))"
   ]
  },
  {
   "cell_type": "markdown",
   "id": "1f226ddc",
   "metadata": {},
   "source": [
    "### Evaluacion del Modelo"
   ]
  },
  {
   "cell_type": "markdown",
   "id": "84810bb3",
   "metadata": {},
   "source": [
    "#### Precision Score\n",
    "\n",
    "Precision esta definido por el cociente entre los verdaderos positivos y todos los ejemplos que se predijo que pertenecen a una determinada clase.  \n",
    "\n",
    "$$ \\frac{VerdaderosPositivos}{VerdaderosPositivos + FalsosPositivos} $$"
   ]
  },
  {
   "cell_type": "code",
   "execution_count": 10,
   "id": "96e7641d",
   "metadata": {},
   "outputs": [
    {
     "data": {
      "text/plain": [
       "0.8210922787193974"
      ]
     },
     "execution_count": 10,
     "metadata": {},
     "output_type": "execute_result"
    }
   ],
   "source": [
    "precision_s = metrics.precision_score(y_test, y_pred)\n",
    "precision_s"
   ]
  },
  {
   "cell_type": "markdown",
   "id": "e1307327",
   "metadata": {},
   "source": [
    "#### Recall Score\n",
    "\n",
    "Recall se calcula dividiendo los verdaderos positivos por cualquier cosa que debio haber sido predicho como positivo.  \n",
    "\n",
    "$$ \\frac{VerdaderosPositivos}{VerdaderosPositivos + FalsosNegativos} $$"
   ]
  },
  {
   "cell_type": "code",
   "execution_count": 11,
   "id": "d121a6e9",
   "metadata": {},
   "outputs": [
    {
     "data": {
      "text/plain": [
       "0.7771836007130125"
      ]
     },
     "execution_count": 11,
     "metadata": {},
     "output_type": "execute_result"
    }
   ],
   "source": [
    "recall_s = metrics.recall_score(y_test, y_pred)\n",
    "recall_s"
   ]
  },
  {
   "cell_type": "markdown",
   "id": "afad8e29",
   "metadata": {},
   "source": [
    "#### Accuracy Score\n",
    "\n",
    "Accuracy se define como el porcentaje de las predicciones correctas y se calcula como la division entre el numero de predicciones correctas entre el numero del total de las predicciones.\n",
    "\n",
    "$$ \\frac{PrediccionesCorrectas}{TotalPredicciones} $$\n"
   ]
  },
  {
   "cell_type": "code",
   "execution_count": 12,
   "id": "89f64dd8",
   "metadata": {},
   "outputs": [
    {
     "data": {
      "text/plain": [
       "0.8023360287511231"
      ]
     },
     "execution_count": 12,
     "metadata": {},
     "output_type": "execute_result"
    }
   ],
   "source": [
    "accuracy_s = metrics.accuracy_score(y_test, y_pred)\n",
    "accuracy_s"
   ]
  },
  {
   "cell_type": "markdown",
   "id": "e6bd7a1a",
   "metadata": {},
   "source": [
    "#### F1 Score\n",
    "\n",
    "Es una combinación de métricas de precision y recall y se denomina media armónica de precision y recall.\n",
    "\n",
    "$$ 2 * \\frac{precision * recall}{precision + recall} $$"
   ]
  },
  {
   "cell_type": "code",
   "execution_count": 13,
   "id": "68a928a8",
   "metadata": {},
   "outputs": [
    {
     "data": {
      "text/plain": [
       "0.7985347985347985"
      ]
     },
     "execution_count": 13,
     "metadata": {},
     "output_type": "execute_result"
    }
   ],
   "source": [
    "f1_s = metrics.f1_score(y_test, y_pred)\n",
    "f1_s"
   ]
  },
  {
   "cell_type": "code",
   "execution_count": 14,
   "id": "52aaf2de",
   "metadata": {},
   "outputs": [],
   "source": [
    "# Funcion que regrese precision, recall, f1 y accuracy\n",
    "def EvaluacionModelo(y_test, y_pred):\n",
    "    pre_s = metrics.precision_score(y_test, y_pred)\n",
    "    rec_s = metrics.recall_score(y_test, y_pred)\n",
    "    f1_s = metrics.f1_score(y_test, y_pred)\n",
    "    accu_s = metrics.accuracy_score(y_test, y_pred)\n",
    "    return (pre_s, rec_s, f1_s, accu_s)\n",
    "    \n",
    "    "
   ]
  },
  {
   "cell_type": "code",
   "execution_count": 15,
   "id": "a0b9c1c1",
   "metadata": {},
   "outputs": [
    {
     "name": "stdout",
     "output_type": "stream",
     "text": [
      "Precision: 0.8210922787193974, Recall: 0.7771836007130125, F1: 0.7985347985347985, Accuracy: 0.8023360287511231\n"
     ]
    }
   ],
   "source": [
    "# resultado de la evaluacion del modelo de regresion logistica\n",
    "precision, recall, f1, accuracy  = EvaluacionModelo(y_test, y_pred)\n",
    "print(f\"Precision: {precision}, Recall: {recall}, F1: {f1}, Accuracy: {accuracy}\")"
   ]
  },
  {
   "cell_type": "code",
   "execution_count": null,
   "id": "47832936",
   "metadata": {},
   "outputs": [],
   "source": []
  }
 ],
 "metadata": {
  "kernelspec": {
   "display_name": "Python 3 (ipykernel)",
   "language": "python",
   "name": "python3"
  },
  "language_info": {
   "codemirror_mode": {
    "name": "ipython",
    "version": 3
   },
   "file_extension": ".py",
   "mimetype": "text/x-python",
   "name": "python",
   "nbconvert_exporter": "python",
   "pygments_lexer": "ipython3",
   "version": "3.9.7"
  }
 },
 "nbformat": 4,
 "nbformat_minor": 5
}
