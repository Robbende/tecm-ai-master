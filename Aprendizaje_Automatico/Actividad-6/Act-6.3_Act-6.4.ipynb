{
 "cells": [
  {
   "cell_type": "markdown",
   "id": "bcf1a305",
   "metadata": {},
   "source": [
    "### Actividad 6 - Punto 3"
   ]
  },
  {
   "cell_type": "code",
   "execution_count": 1,
   "id": "b1066637",
   "metadata": {},
   "outputs": [],
   "source": [
    "import pandas as pd\n",
    "import numpy as np\n",
    "import matplotlib.pyplot as plt\n",
    "from sklearn.tree import DecisionTreeClassifier\n",
    "from sklearn.model_selection import train_test_split\n",
    "from sklearn import metrics\n",
    "import seaborn as sns\n",
    "import pydotplus\n",
    "from IPython.display import Image\n",
    "from sklearn import tree"
   ]
  },
  {
   "cell_type": "markdown",
   "id": "852c1a97",
   "metadata": {},
   "source": [
    "#### Importar Dataset"
   ]
  },
  {
   "cell_type": "markdown",
   "id": "4b250105",
   "metadata": {},
   "source": [
    "Se modificaron las etiquetas de salida del dataset del punto 1, creandose 3 etiquetas en total:\n",
    "- nivel de glucosa entre **70-180**, NORMAL\n",
    "- nivel de glucosa **<70**, HIPOGLUCEMIA\n",
    "- nivel de glucosa **>180**, HIPERGLUCEMIA"
   ]
  },
  {
   "cell_type": "code",
   "execution_count": 2,
   "id": "106a6b9f",
   "metadata": {},
   "outputs": [],
   "source": [
    "# importar el archivo .csv\n",
    "data = pd.read_csv('glucosa-freestyle-clasificacion.csv')"
   ]
  },
  {
   "cell_type": "code",
   "execution_count": 3,
   "id": "75c21b0c",
   "metadata": {},
   "outputs": [
    {
     "data": {
      "text/html": [
       "<div>\n",
       "<style scoped>\n",
       "    .dataframe tbody tr th:only-of-type {\n",
       "        vertical-align: middle;\n",
       "    }\n",
       "\n",
       "    .dataframe tbody tr th {\n",
       "        vertical-align: top;\n",
       "    }\n",
       "\n",
       "    .dataframe thead th {\n",
       "        text-align: right;\n",
       "    }\n",
       "</style>\n",
       "<table border=\"1\" class=\"dataframe\">\n",
       "  <thead>\n",
       "    <tr style=\"text-align: right;\">\n",
       "      <th></th>\n",
       "      <th>Dispositivo</th>\n",
       "      <th>serial_number</th>\n",
       "      <th>time</th>\n",
       "      <th>record_type</th>\n",
       "      <th>glucose_level</th>\n",
       "      <th>glucose_level_type</th>\n",
       "    </tr>\n",
       "  </thead>\n",
       "  <tbody>\n",
       "    <tr>\n",
       "      <th>0</th>\n",
       "      <td>FreeStyle Libre</td>\n",
       "      <td>JCGB319-K0305</td>\n",
       "      <td>1/5/2022 14:07</td>\n",
       "      <td>0</td>\n",
       "      <td>42</td>\n",
       "      <td>HIPOGLUCEMIA</td>\n",
       "    </tr>\n",
       "    <tr>\n",
       "      <th>1</th>\n",
       "      <td>FreeStyle Libre</td>\n",
       "      <td>JCGB319-K0305</td>\n",
       "      <td>1/5/2022 14:22</td>\n",
       "      <td>0</td>\n",
       "      <td>63</td>\n",
       "      <td>HIPOGLUCEMIA</td>\n",
       "    </tr>\n",
       "    <tr>\n",
       "      <th>2</th>\n",
       "      <td>FreeStyle Libre</td>\n",
       "      <td>JCGB319-K0305</td>\n",
       "      <td>1/5/2022 14:37</td>\n",
       "      <td>0</td>\n",
       "      <td>119</td>\n",
       "      <td>NORMAL</td>\n",
       "    </tr>\n",
       "    <tr>\n",
       "      <th>3</th>\n",
       "      <td>FreeStyle Libre</td>\n",
       "      <td>JCGB319-K0305</td>\n",
       "      <td>1/5/2022 14:52</td>\n",
       "      <td>0</td>\n",
       "      <td>135</td>\n",
       "      <td>NORMAL</td>\n",
       "    </tr>\n",
       "    <tr>\n",
       "      <th>4</th>\n",
       "      <td>FreeStyle Libre</td>\n",
       "      <td>JCGB319-K0305</td>\n",
       "      <td>1/5/2022 15:07</td>\n",
       "      <td>0</td>\n",
       "      <td>144</td>\n",
       "      <td>NORMAL</td>\n",
       "    </tr>\n",
       "  </tbody>\n",
       "</table>\n",
       "</div>"
      ],
      "text/plain": [
       "       Dispositivo  serial_number            time  record_type  glucose_level  \\\n",
       "0  FreeStyle Libre  JCGB319-K0305  1/5/2022 14:07            0             42   \n",
       "1  FreeStyle Libre  JCGB319-K0305  1/5/2022 14:22            0             63   \n",
       "2  FreeStyle Libre  JCGB319-K0305  1/5/2022 14:37            0            119   \n",
       "3  FreeStyle Libre  JCGB319-K0305  1/5/2022 14:52            0            135   \n",
       "4  FreeStyle Libre  JCGB319-K0305  1/5/2022 15:07            0            144   \n",
       "\n",
       "  glucose_level_type  \n",
       "0       HIPOGLUCEMIA  \n",
       "1       HIPOGLUCEMIA  \n",
       "2             NORMAL  \n",
       "3             NORMAL  \n",
       "4             NORMAL  "
      ]
     },
     "execution_count": 3,
     "metadata": {},
     "output_type": "execute_result"
    }
   ],
   "source": [
    "data.head(5)\n"
   ]
  },
  {
   "cell_type": "code",
   "execution_count": 4,
   "id": "8d2a7a14",
   "metadata": {},
   "outputs": [],
   "source": [
    "# crear un dataframe con las columnas glucose_level y glucose_level_type\n",
    "df = pd.DataFrame(data, columns=['glucose_level','glucose_level_type'])"
   ]
  },
  {
   "cell_type": "code",
   "execution_count": 5,
   "id": "ee78316f",
   "metadata": {},
   "outputs": [],
   "source": [
    "nivel_glucosa = df.iloc[:, 0].to_numpy()\n",
    "tipo_nivel_glucosa = df.iloc[:, 1].to_numpy()"
   ]
  },
  {
   "cell_type": "code",
   "execution_count": 6,
   "id": "525c4866",
   "metadata": {},
   "outputs": [],
   "source": [
    "# separacion de los datos de entrenamiento y prueba\n",
    "x_train, x_test, y_train, y_test = train_test_split(nivel_glucosa,tipo_nivel_glucosa, train_size = 0.8 )"
   ]
  },
  {
   "cell_type": "markdown",
   "id": "b536da5f",
   "metadata": {},
   "source": [
    "#### Creacion del modelo de Arbol de Clasificacion"
   ]
  },
  {
   "cell_type": "code",
   "execution_count": 7,
   "id": "2f9e027c",
   "metadata": {},
   "outputs": [],
   "source": [
    "# instancia del modelo de Arbol de Clasificacion\n",
    "arbol_decision = DecisionTreeClassifier(criterion='entropy', random_state=0)"
   ]
  },
  {
   "cell_type": "code",
   "execution_count": 8,
   "id": "0c4aa97c",
   "metadata": {},
   "outputs": [],
   "source": [
    "# entrenamiento del modelo\n",
    "modelo_entrenado = arbol_decision.fit(x_train.reshape(-1, 1), y_train)"
   ]
  },
  {
   "cell_type": "code",
   "execution_count": 9,
   "id": "f59d7889",
   "metadata": {},
   "outputs": [],
   "source": [
    "# prediccion del tipo de nivel de glucosa usando los datos de prueba\n",
    "y_pred = modelo_entrenado.predict(x_test.reshape(-1, 1))"
   ]
  },
  {
   "cell_type": "code",
   "execution_count": 10,
   "id": "4c743f0e",
   "metadata": {},
   "outputs": [
    {
     "data": {
      "image/png": "[encoded data removed]",
      "text/plain": [
       "<IPython.core.display.Image object>"
      ]
     },
     "execution_count": 10,
     "metadata": {},
     "output_type": "execute_result"
    }
   ],
   "source": [
    "# grafica del modelo\n",
    "feature_names = ['glucose_level']\n",
    "class_names = ['HIPERGLUCEMIA','HIPOGLUCEMIA', 'NORMAL']\n",
    "\n",
    "dot_data = tree.export_graphviz(arbol_decision, \n",
    "                                out_file=None,\n",
    "                                feature_names=feature_names,\n",
    "                                class_names=np.array(class_names))\n",
    "\n",
    "# Draw graph\n",
    "graph = pydotplus.graph_from_dot_data(dot_data)\n",
    "\n",
    "# Show graph\n",
    "Image(graph.create_png())"
   ]
  },
  {
   "cell_type": "code",
   "execution_count": 11,
   "id": "a4f36336",
   "metadata": {},
   "outputs": [
    {
     "data": {
      "text/plain": [
       "array(['NORMAL'], dtype=object)"
      ]
     },
     "execution_count": 11,
     "metadata": {},
     "output_type": "execute_result"
    }
   ],
   "source": [
    "# Ejemplo de prediccion\n",
    "y2 = modelo_entrenado.predict(np.array([73]).reshape(-1, 1))\n",
    "y2"
   ]
  },
  {
   "cell_type": "markdown",
   "id": "4a0c7874",
   "metadata": {},
   "source": [
    "### Actividad 6 - Punto 4"
   ]
  },
  {
   "cell_type": "markdown",
   "id": "1f226ddc",
   "metadata": {},
   "source": [
    "#### Evaluacion del Modelo"
   ]
  },
  {
   "cell_type": "code",
   "execution_count": 12,
   "id": "e0db00e4",
   "metadata": {},
   "outputs": [
    {
     "data": {
      "text/plain": [
       "array([[404,   0,   0],\n",
       "       [  0, 117,   0],\n",
       "       [  0,   0, 592]], dtype=int64)"
      ]
     },
     "execution_count": 12,
     "metadata": {},
     "output_type": "execute_result"
    }
   ],
   "source": [
    "# uso de la matriz de confusion para evaluacion del modelo\n",
    "cnf_matrix = metrics.confusion_matrix(y_test, y_pred)\n",
    "cnf_matrix"
   ]
  },
  {
   "cell_type": "code",
   "execution_count": 13,
   "id": "5d6f5224",
   "metadata": {},
   "outputs": [],
   "source": [
    "def EvaluacionModelo(y_test, y_pred):\n",
    "    pre_s = metrics.precision_score(y_test, y_pred, average='micro')\n",
    "    rec_s = metrics.recall_score(y_test, y_pred, average='micro')\n",
    "    f1_s = metrics.f1_score(y_test, y_pred, average='micro')\n",
    "    accu_s = metrics.accuracy_score(y_test, y_pred)\n",
    "    return (pre_s, rec_s, f1_s, accu_s)"
   ]
  },
  {
   "cell_type": "code",
   "execution_count": 14,
   "id": "731bb72b",
   "metadata": {},
   "outputs": [
    {
     "name": "stdout",
     "output_type": "stream",
     "text": [
      "Precision: 1.0, Recall: 1.0, F1: 1.0, Accuracy: 1.0\n"
     ]
    }
   ],
   "source": [
    "precision, recall, f1, accuracy = EvaluacionModelo(y_test, y_pred)\n",
    "print(f\"Precision: {precision}, Recall: {recall}, F1: {f1}, Accuracy: {accuracy}\")"
   ]
  },
  {
   "cell_type": "code",
   "execution_count": null,
   "id": "5ea87d4f",
   "metadata": {},
   "outputs": [],
   "source": []
  }
 ],
 "metadata": {
  "kernelspec": {
   "display_name": "Python 3 (ipykernel)",
   "language": "python",
   "name": "python3"
  },
  "language_info": {
   "codemirror_mode": {
    "name": "ipython",
    "version": 3
   },
   "file_extension": ".py",
   "mimetype": "text/x-python",
   "name": "python",
   "nbconvert_exporter": "python",
   "pygments_lexer": "ipython3",
   "version": "3.9.7"
  }
 },
 "nbformat": 4,
 "nbformat_minor": 5
}
