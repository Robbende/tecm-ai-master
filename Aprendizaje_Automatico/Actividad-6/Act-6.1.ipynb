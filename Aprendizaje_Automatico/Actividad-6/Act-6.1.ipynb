{
 "cells": [
  {
   "cell_type": "markdown",
   "id": "bcf1a305",
   "metadata": {},
   "source": [
    "### Actividad 6 - Punto 1"
   ]
  },
  {
   "cell_type": "code",
   "execution_count": 1,
   "id": "b1066637",
   "metadata": {},
   "outputs": [],
   "source": [
    "import pandas as pd\n",
    "import numpy as np\n",
    "import matplotlib.pyplot as plt\n",
    "import seaborn as sns\n",
    "from sklearn.linear_model import LogisticRegression\n",
    "from sklearn.model_selection import train_test_split\n",
    "from sklearn import metrics"
   ]
  },
  {
   "cell_type": "markdown",
   "id": "852c1a97",
   "metadata": {},
   "source": [
    "#### Importar Dataset"
   ]
  },
  {
   "cell_type": "markdown",
   "id": "4b250105",
   "metadata": {},
   "source": [
    "El dataset corresponde a los registros de un dispositivo FreeStyle de medicion continua de glucosa de los meses de Mayo y Junio.\n",
    "\n",
    "Se establecio un rango aceptable del nivel de glucosa entre **70-180** y se procedio al etiquetado de dichos registros con **glucose_level_type = 0**, siendo para cualquier otro nivel de glucosa fuera de dicho rango el **glucose_level_type = 1**\n",
    "\n"
   ]
  },
  {
   "cell_type": "code",
   "execution_count": 2,
   "id": "106a6b9f",
   "metadata": {},
   "outputs": [],
   "source": [
    "# importar el archivo .csv\n",
    "data = pd.read_csv('glucosa-freestyle.csv')"
   ]
  },
  {
   "cell_type": "code",
   "execution_count": 3,
   "id": "75c21b0c",
   "metadata": {},
   "outputs": [
    {
     "data": {
      "text/html": [
       "<div>\n",
       "<style scoped>\n",
       "    .dataframe tbody tr th:only-of-type {\n",
       "        vertical-align: middle;\n",
       "    }\n",
       "\n",
       "    .dataframe tbody tr th {\n",
       "        vertical-align: top;\n",
       "    }\n",
       "\n",
       "    .dataframe thead th {\n",
       "        text-align: right;\n",
       "    }\n",
       "</style>\n",
       "<table border=\"1\" class=\"dataframe\">\n",
       "  <thead>\n",
       "    <tr style=\"text-align: right;\">\n",
       "      <th></th>\n",
       "      <th>Dispositivo</th>\n",
       "      <th>serial_number</th>\n",
       "      <th>time</th>\n",
       "      <th>record_type</th>\n",
       "      <th>glucose_level</th>\n",
       "      <th>glucose_level_type</th>\n",
       "    </tr>\n",
       "  </thead>\n",
       "  <tbody>\n",
       "    <tr>\n",
       "      <th>0</th>\n",
       "      <td>FreeStyle Libre</td>\n",
       "      <td>JCGB319-K0305</td>\n",
       "      <td>1/5/2022 14:07</td>\n",
       "      <td>0</td>\n",
       "      <td>42</td>\n",
       "      <td>1</td>\n",
       "    </tr>\n",
       "    <tr>\n",
       "      <th>1</th>\n",
       "      <td>FreeStyle Libre</td>\n",
       "      <td>JCGB319-K0305</td>\n",
       "      <td>1/5/2022 14:22</td>\n",
       "      <td>0</td>\n",
       "      <td>63</td>\n",
       "      <td>1</td>\n",
       "    </tr>\n",
       "    <tr>\n",
       "      <th>2</th>\n",
       "      <td>FreeStyle Libre</td>\n",
       "      <td>JCGB319-K0305</td>\n",
       "      <td>1/5/2022 14:37</td>\n",
       "      <td>0</td>\n",
       "      <td>119</td>\n",
       "      <td>0</td>\n",
       "    </tr>\n",
       "    <tr>\n",
       "      <th>3</th>\n",
       "      <td>FreeStyle Libre</td>\n",
       "      <td>JCGB319-K0305</td>\n",
       "      <td>1/5/2022 14:52</td>\n",
       "      <td>0</td>\n",
       "      <td>135</td>\n",
       "      <td>0</td>\n",
       "    </tr>\n",
       "    <tr>\n",
       "      <th>4</th>\n",
       "      <td>FreeStyle Libre</td>\n",
       "      <td>JCGB319-K0305</td>\n",
       "      <td>1/5/2022 15:07</td>\n",
       "      <td>0</td>\n",
       "      <td>144</td>\n",
       "      <td>0</td>\n",
       "    </tr>\n",
       "  </tbody>\n",
       "</table>\n",
       "</div>"
      ],
      "text/plain": [
       "       Dispositivo  serial_number            time  record_type  glucose_level  \\\n",
       "0  FreeStyle Libre  JCGB319-K0305  1/5/2022 14:07            0             42   \n",
       "1  FreeStyle Libre  JCGB319-K0305  1/5/2022 14:22            0             63   \n",
       "2  FreeStyle Libre  JCGB319-K0305  1/5/2022 14:37            0            119   \n",
       "3  FreeStyle Libre  JCGB319-K0305  1/5/2022 14:52            0            135   \n",
       "4  FreeStyle Libre  JCGB319-K0305  1/5/2022 15:07            0            144   \n",
       "\n",
       "   glucose_level_type  \n",
       "0                   1  \n",
       "1                   1  \n",
       "2                   0  \n",
       "3                   0  \n",
       "4                   0  "
      ]
     },
     "execution_count": 3,
     "metadata": {},
     "output_type": "execute_result"
    }
   ],
   "source": [
    "data.head(5)\n"
   ]
  },
  {
   "cell_type": "code",
   "execution_count": 4,
   "id": "8d2a7a14",
   "metadata": {},
   "outputs": [],
   "source": [
    "# crear un dataframe con las columnas glucose_level y glucose_level_type\n",
    "df = pd.DataFrame(data, columns=['glucose_level','glucose_level_type'])"
   ]
  },
  {
   "cell_type": "markdown",
   "id": "0cb8ee44",
   "metadata": {},
   "source": [
    "#### Analisis de los datos"
   ]
  },
  {
   "cell_type": "code",
   "execution_count": 5,
   "id": "b3fe09af",
   "metadata": {},
   "outputs": [
    {
     "data": {
      "image/png": "[encoded data removed]",
      "text/plain": [
       "<Figure size 432x288 with 1 Axes>"
      ]
     },
     "metadata": {
      "needs_background": "light"
     },
     "output_type": "display_data"
    }
   ],
   "source": [
    "fig, ax = plt.subplots(figsize=(6, 4))\n",
    "\n",
    "sns.violinplot(\n",
    "        x     = 'glucose_level_type',\n",
    "        y     = 'glucose_level',\n",
    "        data  = df,\n",
    "        ax    = ax\n",
    "    )\n",
    "\n",
    "ax.set_title('Distribución de las categorias de los niveles de glucosa');"
   ]
  },
  {
   "cell_type": "markdown",
   "id": "0648ad41",
   "metadata": {},
   "source": [
    "#### Separacion de los datos "
   ]
  },
  {
   "cell_type": "code",
   "execution_count": 6,
   "id": "ee78316f",
   "metadata": {},
   "outputs": [],
   "source": [
    "nivel_glucosa = df.iloc[:, 0].to_numpy()\n",
    "tipo_nivel_glucosa = df.iloc[:, 1].to_numpy()"
   ]
  },
  {
   "cell_type": "code",
   "execution_count": 7,
   "id": "525c4866",
   "metadata": {},
   "outputs": [],
   "source": [
    "# separacion de los datos de entrenamiento y prueba\n",
    "x_train, x_test, y_train, y_test = train_test_split(nivel_glucosa,tipo_nivel_glucosa, train_size = 0.8 )"
   ]
  },
  {
   "cell_type": "markdown",
   "id": "b536da5f",
   "metadata": {},
   "source": [
    "#### Creacion del modelo de Regresion Logistica"
   ]
  },
  {
   "cell_type": "code",
   "execution_count": 8,
   "id": "2f9e027c",
   "metadata": {},
   "outputs": [],
   "source": [
    "# instancia del modelo de regresion logistica\n",
    "modelo = LogisticRegression()"
   ]
  },
  {
   "cell_type": "code",
   "execution_count": 9,
   "id": "0c4aa97c",
   "metadata": {},
   "outputs": [],
   "source": [
    "# entrenamiento del modelo\n",
    "modelo_entrenado = modelo.fit(X = x_train.reshape(-1, 1), y = y_train)"
   ]
  },
  {
   "cell_type": "code",
   "execution_count": 10,
   "id": "f59d7889",
   "metadata": {},
   "outputs": [],
   "source": [
    "# prediccion del tipo de nivel de glucosa usando los datos de prueba\n",
    "y_pred = modelo_entrenado.predict(x_test.reshape(-1, 1))"
   ]
  },
  {
   "cell_type": "markdown",
   "id": "1f226ddc",
   "metadata": {},
   "source": [
    "#### Evaluacion del Modelo"
   ]
  },
  {
   "cell_type": "code",
   "execution_count": 11,
   "id": "e0db00e4",
   "metadata": {},
   "outputs": [
    {
     "data": {
      "text/plain": [
       "array([[471,  78],\n",
       "       [133, 431]], dtype=int64)"
      ]
     },
     "execution_count": 11,
     "metadata": {},
     "output_type": "execute_result"
    }
   ],
   "source": [
    "# uso de la matriz de confusion para evaluacion del modelo\n",
    "cnf_matrix = metrics.confusion_matrix(y_test, y_pred)\n",
    "cnf_matrix"
   ]
  },
  {
   "cell_type": "code",
   "execution_count": 12,
   "id": "5fedda73",
   "metadata": {},
   "outputs": [
    {
     "data": {
      "text/plain": [
       "Text(0.5, 15.0, 'Valor Predecido')"
      ]
     },
     "execution_count": 12,
     "metadata": {},
     "output_type": "execute_result"
    },
    {
     "data": {
      "image/png": "[encoded data removed]",
      "text/plain": [
       "<Figure size 432x288 with 2 Axes>"
      ]
     },
     "metadata": {
      "needs_background": "light"
     },
     "output_type": "display_data"
    }
   ],
   "source": [
    "# grafico de la matriz de confusion\n",
    "sns.heatmap(pd.DataFrame(cnf_matrix), annot=True, cmap=\"YlGnBu\",fmt='g')\n",
    "ax.xaxis.set_label_position(\"top\")\n",
    "plt.tight_layout()\n",
    "plt.title('Matriz de Confusión', y=1.1)\n",
    "plt.ylabel('Valor real')\n",
    "plt.xlabel('Valor Predecido')"
   ]
  },
  {
   "cell_type": "code",
   "execution_count": 13,
   "id": "e176f8a2",
   "metadata": {},
   "outputs": [
    {
     "name": "stdout",
     "output_type": "stream",
     "text": [
      "Aciertos: 0.8104222821203954\n",
      "Precisión: 0.8467583497053045\n"
     ]
    }
   ],
   "source": [
    "print(\"Aciertos:\",metrics.accuracy_score(y_test, y_pred))\n",
    "print(\"Precisión:\",metrics.precision_score(y_test, y_pred))"
   ]
  }
 ],
 "metadata": {
  "kernelspec": {
   "display_name": "Python 3 (ipykernel)",
   "language": "python",
   "name": "python3"
  },
  "language_info": {
   "codemirror_mode": {
    "name": "ipython",
    "version": 3
   },
   "file_extension": ".py",
   "mimetype": "text/x-python",
   "name": "python",
   "nbconvert_exporter": "python",
   "pygments_lexer": "ipython3",
   "version": "3.9.7"
  }
 },
 "nbformat": 4,
 "nbformat_minor": 5
}
