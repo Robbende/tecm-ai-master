{
 "cells": [
  {
   "cell_type": "code",
   "execution_count": null,
   "metadata": {
    "id": "DUOSA8npCJlv"
   },
   "outputs": [],
   "source": [
    "import numpy as np\n",
    "import matplotlib.pyplot as plt\n",
    "from sympy import *"
   ]
  },
  {
   "cell_type": "code",
   "execution_count": null,
   "metadata": {
    "id": "hgZB4bCvCLLP"
   },
   "outputs": [],
   "source": [
    "x = np.array([20, 45, 80, 100, 160, 175, 190, 215, 223, 257,289,300,358,400,428,460,489])\n",
    "y = np.array([10, 19, 27, 38, 47, 56, 63, 74, 87, 96, 110, 126,148,159,170,200,216])"
   ]
  },
  {
   "cell_type": "code",
   "execution_count": null,
   "metadata": {
    "colab": {
     "base_uri": "https://localhost:8080/"
    },
    "id": "FT8oz5GVC1VP",
    "outputId": "639e16ee-2f7e-4059-862b-add0470e7155"
   },
   "outputs": [
    {
     "data": {
      "text/plain": [
       "17"
      ]
     },
     "execution_count": 5,
     "metadata": {},
     "output_type": "execute_result"
    }
   ],
   "source": [
    "len(x)"
   ]
  },
  {
   "cell_type": "code",
   "execution_count": null,
   "metadata": {
    "colab": {
     "base_uri": "https://localhost:8080/",
     "height": 283
    },
    "id": "A_odQETzC6H3",
    "outputId": "c20ceafd-240f-485e-ebac-4daa923367b6"
   },
   "outputs": [
    {
     "data": {
      "text/plain": [
       "<matplotlib.collections.PathCollection at 0x7f1fe4455d10>"
      ]
     },
     "execution_count": 6,
     "metadata": {},
     "output_type": "execute_result"
    },
    {
     "data": {
      "image/png": "[encoded data removed]",
      "text/plain": [
       "<Figure size 432x288 with 1 Axes>"
      ]
     },
     "metadata": {
      "needs_background": "light"
     },
     "output_type": "display_data"
    }
   ],
   "source": [
    "plt.scatter(x,y)"
   ]
  },
  {
   "cell_type": "code",
   "execution_count": null,
   "metadata": {
    "id": "lVWR9PSGDdtG"
   },
   "outputs": [],
   "source": [
    "def descripcion_modelo(x, m, b):\n",
    "  n = x.shape[0]\n",
    "  y_est = np.zeros(n)\n",
    "\n",
    "  for i in range(n):\n",
    "    y_est[i] = m * x[i] + b\n",
    "\n",
    "  return y_est"
   ]
  },
  {
   "cell_type": "code",
   "execution_count": null,
   "metadata": {
    "colab": {
     "base_uri": "https://localhost:8080/"
    },
    "id": "w3mZYFuAE886",
    "outputId": "796ef6d8-b09c-428f-c6de-1ba8a0116e61"
   },
   "outputs": [
    {
     "data": {
      "text/plain": [
       "array([  8.1,  18.1,  32.1,  40.1,  64.1,  70.1,  76.1,  86.1,  89.3,\n",
       "       102.9, 115.7, 120.1, 143.3, 160.1, 171.3, 184.1, 195.7])"
      ]
     },
     "execution_count": 26,
     "metadata": {},
     "output_type": "execute_result"
    }
   ],
   "source": [
    "m = 0.4\n",
    "b = 0.1\n",
    "descripcion_modelo(x, m, b)"
   ]
  },
  {
   "cell_type": "code",
   "execution_count": null,
   "metadata": {
    "colab": {
     "base_uri": "https://localhost:8080/",
     "height": 283
    },
    "id": "2VytY-0rE87A",
    "outputId": "70e46926-8ada-427d-c1b0-616f99292fc0"
   },
   "outputs": [
    {
     "data": {
      "text/plain": [
       "[<matplotlib.lines.Line2D at 0x7f1fdbcb2f90>]"
      ]
     },
     "execution_count": 27,
     "metadata": {},
     "output_type": "execute_result"
    },
    {
     "data": {
      "image/png": "[encoded data removed]",
      "text/plain": [
       "<Figure size 432x288 with 1 Axes>"
      ]
     },
     "metadata": {
      "needs_background": "light"
     },
     "output_type": "display_data"
    }
   ],
   "source": [
    "plt.scatter(x,y)\n",
    "plt.plot(x, descripcion_modelo(x, m, b), c = 'r')"
   ]
  },
  {
   "cell_type": "markdown",
   "metadata": {
    "id": "HDk8T-xAHNms"
   },
   "source": [
    "## Función de costo\n",
    "\n",
    "$$J(m,b) = \\frac{1}{2n} \\sum\\limits_{i = 0}^{n-1} (f_{m,b}(x^{(i)}) - y^{(i)})^2 \\tag{1}$$ "
   ]
  },
  {
   "cell_type": "code",
   "execution_count": null,
   "metadata": {
    "id": "YQq9QG0uHapa"
   },
   "outputs": [],
   "source": [
    "def funcion_costo(x,y,m,b):\n",
    "  n = x.shape[0]\n",
    "  suma_costos = 0\n",
    "  y_est = np.zeros(n)\n",
    "\n",
    "  for i in range(n):\n",
    "    y_est[i] = m * x[i] + b\n",
    "    costo = (y_est[i] - y[i])**2\n",
    "    suma_costos = suma_costos + costo\n",
    " \n",
    "  costo_total = (1/(2 * n))* suma_costos\n",
    "  return costo_total"
   ]
  },
  {
   "cell_type": "code",
   "execution_count": null,
   "metadata": {
    "colab": {
     "base_uri": "https://localhost:8080/"
    },
    "id": "1-Enr2nyGSdP",
    "outputId": "8c7ffec6-a2e6-4b8c-c5a9-64762a1c5bcf"
   },
   "outputs": [
    {
     "data": {
      "text/plain": [
       "48.65205882352939"
      ]
     },
     "execution_count": 28,
     "metadata": {},
     "output_type": "execute_result"
    }
   ],
   "source": [
    "funcion_costo(x,y,m,b)"
   ]
  },
  {
   "cell_type": "markdown",
   "metadata": {
    "id": "Nig11cizLBIC"
   },
   "source": [
    "## Gradiente descendente (GD)"
   ]
  },
  {
   "cell_type": "markdown",
   "metadata": {
    "id": "2BkGc6R8NUr9"
   },
   "source": [
    "Repite hasta alcanzar la convergencia {"
   ]
  },
  {
   "cell_type": "markdown",
   "metadata": {
    "id": "d18C1Yi4MzvU"
   },
   "source": [
    "$$ m = m -  \\alpha \\frac{\\partial J(m,b)}{\\partial m} $$\n",
    "\n",
    "$$ b = b -  \\alpha \\frac{\\partial J(m,b)}{\\partial b} $$"
   ]
  },
  {
   "cell_type": "markdown",
   "metadata": {
    "id": "hzY-uy6ONnmd"
   },
   "source": [
    "}"
   ]
  },
  {
   "cell_type": "markdown",
   "metadata": {
    "id": "HaI5pDB7OISz"
   },
   "source": [
    "El gradiente se define por:"
   ]
  },
  {
   "cell_type": "markdown",
   "metadata": {
    "id": "RynskieiOMwP"
   },
   "source": [
    "$$\n",
    "\\begin{align}\n",
    "\\frac{\\partial J(m,b)}{\\partial m}  &= \\frac{1}{n} \\sum\\limits_{i = 0}^{n-1} (f_{m,b}(x^{(i)}) - y^{(i)})x^{(i)} \\\\\n",
    "  \\frac{\\partial J(m,b)}{\\partial b}  &= \\frac{1}{n} \\sum\\limits_{i = 0}^{n-1} (f_{m,b}(x^{(i)}) - y^{(i)})\\\\\n",
    "\\end{align}\n",
    "$$"
   ]
  },
  {
   "cell_type": "code",
   "execution_count": null,
   "metadata": {
    "id": "6g2zKod6MFyT"
   },
   "outputs": [],
   "source": [
    "def gradiente(x,y,m,b):\n",
    "  n = x.shape[0]\n",
    "  dj_dm = 0\n",
    "  dj_db = 0\n",
    "  y_est = np.zeros(n)\n",
    "\n",
    "  for i in range(n):\n",
    "    y_est[i] = m * x[i] + b\n",
    "    dj_dm_i = (y_est[i]-y[i]) * x[i]\n",
    "    dj_db_i = (y_est[i]-y[i])\n",
    "    dj_dm += dj_dm_i\n",
    "    dj_db += dj_db_i\n",
    "  \n",
    "  dj_dm = dj_dm/n\n",
    "  dj_db = dj_db/n\n",
    "\n",
    "  return dj_dm, dj_db"
   ]
  },
  {
   "cell_type": "code",
   "execution_count": null,
   "metadata": {
    "id": "IfuoM-orR2sq"
   },
   "outputs": [],
   "source": [
    "def gradiente_descendente(x,y, m_inicial, b_inicial, alpha, iteraciones, funcion_costo, funcion_gradiente):\n",
    "  m = m_inicial\n",
    "  b = b_inicial\n",
    "\n",
    "  costos = []\n",
    "\n",
    "  for i in range(iteraciones):\n",
    "    dj_dm, dj_db = gradiente(x,y,m,b)\n",
    "\n",
    "    m = m - alpha * dj_dm\n",
    "    b = b - alpha * dj_db\n",
    "\n",
    "    costo_intermedio =  funcion_costo(x, y, m, b)\n",
    "    costos.append(costo_intermedio)\n",
    "\n",
    "  return m,b,costos"
   ]
  },
  {
   "cell_type": "code",
   "execution_count": null,
   "metadata": {
    "id": "ujcsE1VCUb-i"
   },
   "outputs": [],
   "source": [
    "m_inicial = 0.4\n",
    "b_inicial = 0.1\n",
    "alpha = 0.000001\n",
    "iteraciones = 100\n",
    "\n",
    "\n",
    "m, b , costos = gradiente_descendente(x,y, m_inicial, b_inicial, alpha, iteraciones, funcion_costo, gradiente)"
   ]
  },
  {
   "cell_type": "code",
   "execution_count": null,
   "metadata": {
    "colab": {
     "base_uri": "https://localhost:8080/"
    },
    "id": "MzLjzZvBVQ-H",
    "outputId": "c6895792-3e60-4ad1-af1b-ae5cc645284e"
   },
   "outputs": [
    {
     "name": "stdout",
     "output_type": "stream",
     "text": [
      "0.40360165485018207 0.09973815630559339\n"
     ]
    }
   ],
   "source": [
    "print(m,b)"
   ]
  },
  {
   "cell_type": "code",
   "execution_count": null,
   "metadata": {
    "colab": {
     "base_uri": "https://localhost:8080/",
     "height": 283
    },
    "id": "_MN5nGNQVTTK",
    "outputId": "8b946c48-6658-4c93-cc01-20c4658441e2"
   },
   "outputs": [
    {
     "data": {
      "text/plain": [
       "[<matplotlib.lines.Line2D at 0x7f1fdba55f10>]"
      ]
     },
     "execution_count": 59,
     "metadata": {},
     "output_type": "execute_result"
    },
    {
     "data": {
      "image/png": "[encoded data removed]",
      "text/plain": [
       "<Figure size 432x288 with 1 Axes>"
      ]
     },
     "metadata": {
      "needs_background": "light"
     },
     "output_type": "display_data"
    }
   ],
   "source": [
    "plt.scatter(x,y)\n",
    "plt.plot(x, descripcion_modelo(x, m, b), c = 'r')"
   ]
  },
  {
   "cell_type": "markdown",
   "metadata": {
    "id": "mjEoLBoEkX45"
   },
   "source": [
    "## Gráfica de Costos vs Iteraciones"
   ]
  },
  {
   "cell_type": "code",
   "execution_count": null,
   "metadata": {
    "colab": {
     "base_uri": "https://localhost:8080/",
     "height": 283
    },
    "id": "jBH6g6AZkXDy",
    "outputId": "a5b27e9f-881f-4095-c03c-e013f2c63033"
   },
   "outputs": [
    {
     "data": {
      "text/plain": [
       "[<matplotlib.lines.Line2D at 0x7f1fdba16210>]"
      ]
     },
     "execution_count": 60,
     "metadata": {},
     "output_type": "execute_result"
    },
    {
     "data": {
      "image/png": "[encoded data removed]",
      "text/plain": [
       "<Figure size 432x288 with 1 Axes>"
      ]
     },
     "metadata": {
      "needs_background": "light"
     },
     "output_type": "display_data"
    }
   ],
   "source": [
    "plt.plot(np.arange(iteraciones), costos)"
   ]
  },
  {
   "cell_type": "code",
   "execution_count": null,
   "metadata": {
    "id": "odUvpSJLkzbe"
   },
   "outputs": [],
   "source": []
  }
 ],
 "metadata": {
  "colab": {
   "name": "Regresión Lineal (GD).ipynb",
   "provenance": []
  },
  "kernelspec": {
   "display_name": "Python 3 (ipykernel)",
   "language": "python",
   "name": "python3"
  },
  "language_info": {
   "codemirror_mode": {
    "name": "ipython",
    "version": 3
   },
   "file_extension": ".py",
   "mimetype": "text/x-python",
   "name": "python",
   "nbconvert_exporter": "python",
   "pygments_lexer": "ipython3",
   "version": "3.9.7"
  }
 },
 "nbformat": 4,
 "nbformat_minor": 1
}
