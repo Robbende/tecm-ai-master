{
 "cells": [
  {
   "cell_type": "code",
   "execution_count": 20,
   "id": "4947bf2d",
   "metadata": {},
   "outputs": [],
   "source": [
    "import numpy as np\n",
    "import matplotlib.pyplot as plt\n",
    "\n",
    "# separacion de los datos\n",
    "from sklearn.model_selection import train_test_split\n",
    "# importar naive bayes Gaussiano\n",
    "from sklearn.naive_bayes import GaussianNB\n",
    "# metrics\n",
    "from sklearn import metrics\n"
   ]
  },
  {
   "cell_type": "code",
   "execution_count": 9,
   "id": "b719a6e4",
   "metadata": {},
   "outputs": [],
   "source": [
    "from sklearn import datasets\n",
    "\n",
    "# cargar dataset de vinos\n",
    "vinos = datasets.load_wine()\n"
   ]
  },
  {
   "cell_type": "code",
   "execution_count": 4,
   "id": "a86e0bac",
   "metadata": {},
   "outputs": [
    {
     "data": {
      "text/plain": [
       "(178, 13)"
      ]
     },
     "execution_count": 4,
     "metadata": {},
     "output_type": "execute_result"
    }
   ],
   "source": [
    "vinos.data.shape"
   ]
  },
  {
   "cell_type": "code",
   "execution_count": 5,
   "id": "445369a5",
   "metadata": {},
   "outputs": [
    {
     "data": {
      "text/plain": [
       "['alcohol',\n",
       " 'malic_acid',\n",
       " 'ash',\n",
       " 'alcalinity_of_ash',\n",
       " 'magnesium',\n",
       " 'total_phenols',\n",
       " 'flavanoids',\n",
       " 'nonflavanoid_phenols',\n",
       " 'proanthocyanins',\n",
       " 'color_intensity',\n",
       " 'hue',\n",
       " 'od280/od315_of_diluted_wines',\n",
       " 'proline']"
      ]
     },
     "execution_count": 5,
     "metadata": {},
     "output_type": "execute_result"
    }
   ],
   "source": [
    "vinos.feature_names"
   ]
  },
  {
   "cell_type": "code",
   "execution_count": 7,
   "id": "cb3da94b",
   "metadata": {},
   "outputs": [
    {
     "data": {
      "text/plain": [
       "array(['class_0', 'class_1', 'class_2'], dtype='<U7')"
      ]
     },
     "execution_count": 7,
     "metadata": {},
     "output_type": "execute_result"
    }
   ],
   "source": [
    "vinos.target_names"
   ]
  },
  {
   "cell_type": "code",
   "execution_count": 8,
   "id": "e70f2ca1",
   "metadata": {},
   "outputs": [
    {
     "data": {
      "text/plain": [
       "array([0, 0, 0, 0, 0, 0, 0, 0, 0, 0, 0, 0, 0, 0, 0, 0, 0, 0, 0, 0, 0, 0,\n",
       "       0, 0, 0, 0, 0, 0, 0, 0, 0, 0, 0, 0, 0, 0, 0, 0, 0, 0, 0, 0, 0, 0,\n",
       "       0, 0, 0, 0, 0, 0, 0, 0, 0, 0, 0, 0, 0, 0, 0, 1, 1, 1, 1, 1, 1, 1,\n",
       "       1, 1, 1, 1, 1, 1, 1, 1, 1, 1, 1, 1, 1, 1, 1, 1, 1, 1, 1, 1, 1, 1,\n",
       "       1, 1, 1, 1, 1, 1, 1, 1, 1, 1, 1, 1, 1, 1, 1, 1, 1, 1, 1, 1, 1, 1,\n",
       "       1, 1, 1, 1, 1, 1, 1, 1, 1, 1, 1, 1, 1, 1, 1, 1, 1, 1, 1, 1, 2, 2,\n",
       "       2, 2, 2, 2, 2, 2, 2, 2, 2, 2, 2, 2, 2, 2, 2, 2, 2, 2, 2, 2, 2, 2,\n",
       "       2, 2, 2, 2, 2, 2, 2, 2, 2, 2, 2, 2, 2, 2, 2, 2, 2, 2, 2, 2, 2, 2,\n",
       "       2, 2])"
      ]
     },
     "execution_count": 8,
     "metadata": {},
     "output_type": "execute_result"
    }
   ],
   "source": [
    "vinos.target"
   ]
  },
  {
   "cell_type": "code",
   "execution_count": 14,
   "id": "95fa32a6",
   "metadata": {},
   "outputs": [],
   "source": [
    "# naive bayes es probabilistico no requiere re escalar los datos, dentro el algoritmo hace sus propias transformaciones"
   ]
  },
  {
   "cell_type": "code",
   "execution_count": 15,
   "id": "7c382f85",
   "metadata": {},
   "outputs": [],
   "source": [
    "# separacion de los datos\n",
    "X_train, X_test, y_train, y_test = train_test_split(vinos.data, vinos.target, test_size=0.25)"
   ]
  },
  {
   "cell_type": "code",
   "execution_count": 17,
   "id": "f9a7d82f",
   "metadata": {},
   "outputs": [],
   "source": [
    "# al detectar caracteristicas con distribuciones gaussianas se usa un naive bayes gaussiano\n",
    "\n",
    "NVG = GaussianNB()"
   ]
  },
  {
   "cell_type": "code",
   "execution_count": 18,
   "id": "78650364",
   "metadata": {},
   "outputs": [],
   "source": [
    "# entrenamiento del modelo\n",
    "modelo_entrenado = NVG.fit(X_train, y_train)"
   ]
  },
  {
   "cell_type": "code",
   "execution_count": 22,
   "id": "86c651c4",
   "metadata": {},
   "outputs": [],
   "source": [
    "# prediccion\n",
    "y_predict = NVG.predict(X_test)"
   ]
  },
  {
   "cell_type": "code",
   "execution_count": 23,
   "id": "a95d7d3e",
   "metadata": {},
   "outputs": [],
   "source": [
    "# evaluacion del modelo\n",
    "def EvaluacionModelo(y_test, y_pred):\n",
    "    pre_s = metrics.precision_score(y_test, y_pred, average='micro')\n",
    "    rec_s = metrics.recall_score(y_test, y_pred, average='micro')\n",
    "    f1_s = metrics.f1_score(y_test, y_pred, average='micro')\n",
    "    accu_s = metrics.accuracy_score(y_test, y_pred)\n",
    "    return (pre_s, rec_s, f1_s, accu_s)"
   ]
  },
  {
   "cell_type": "code",
   "execution_count": 24,
   "id": "17c62b85",
   "metadata": {},
   "outputs": [
    {
     "name": "stdout",
     "output_type": "stream",
     "text": [
      "Precision: 0.9777777777777777, Recall: 0.9777777777777777, F1: 0.9777777777777777, Accuracy: 0.9777777777777777\n"
     ]
    }
   ],
   "source": [
    "precision, recall, f1, accuracy = EvaluacionModelo(y_test, y_predict)\n",
    "print(f\"Precision: {precision}, Recall: {recall}, F1: {f1}, Accuracy: {accuracy}\")"
   ]
  },
  {
   "cell_type": "code",
   "execution_count": 25,
   "id": "414ac572",
   "metadata": {},
   "outputs": [
    {
     "data": {
      "text/plain": [
       "array([[10,  0,  0],\n",
       "       [ 1, 22,  0],\n",
       "       [ 0,  0, 12]], dtype=int64)"
      ]
     },
     "execution_count": 25,
     "metadata": {},
     "output_type": "execute_result"
    }
   ],
   "source": [
    "metrics.confusion_matrix(y_test, y_predict)"
   ]
  },
  {
   "cell_type": "code",
   "execution_count": null,
   "id": "a313a140",
   "metadata": {},
   "outputs": [],
   "source": []
  },
  {
   "cell_type": "code",
   "execution_count": null,
   "id": "5d4c211e",
   "metadata": {},
   "outputs": [],
   "source": []
  },
  {
   "cell_type": "code",
   "execution_count": null,
   "id": "f1b43392",
   "metadata": {},
   "outputs": [],
   "source": []
  },
  {
   "cell_type": "code",
   "execution_count": null,
   "id": "d1d971a5",
   "metadata": {},
   "outputs": [],
   "source": []
  }
 ],
 "metadata": {
  "kernelspec": {
   "display_name": "Python 3 (ipykernel)",
   "language": "python",
   "name": "python3"
  },
  "language_info": {
   "codemirror_mode": {
    "name": "ipython",
    "version": 3
   },
   "file_extension": ".py",
   "mimetype": "text/x-python",
   "name": "python",
   "nbconvert_exporter": "python",
   "pygments_lexer": "ipython3",
   "version": "3.9.7"
  }
 },
 "nbformat": 4,
 "nbformat_minor": 5
}
