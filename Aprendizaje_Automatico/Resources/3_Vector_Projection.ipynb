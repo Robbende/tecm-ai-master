{
 "cells": [
  {
   "cell_type": "code",
   "execution_count": 1,
   "metadata": {
    "id": "bNTWh8dh-KsV"
   },
   "outputs": [],
   "source": [
    "import numpy as np\n",
    "import numpy.linalg as npl\n",
    "import matplotlib.pyplot as plt\n",
    "scale = 20\n",
    "origin2D = np.vstack([0,0])"
   ]
  },
  {
   "cell_type": "code",
   "execution_count": 2,
   "metadata": {
    "colab": {
     "base_uri": "https://localhost:8080/"
    },
    "id": "xSsiVJWu-V1P",
    "outputId": "bf95d4c0-a9bb-44d1-bed6-6c9ab5f6d51d"
   },
   "outputs": [
    {
     "name": "stdout",
     "output_type": "stream",
     "text": [
      "[[6]\n",
      " [2]]\n",
      "[[2]\n",
      " [4]]\n"
     ]
    }
   ],
   "source": [
    "b = np.vstack([6,2])\n",
    "x = np.vstack([2,4])\n",
    "print(b)\n",
    "print(x)"
   ]
  },
  {
   "cell_type": "code",
   "execution_count": 3,
   "metadata": {
    "colab": {
     "base_uri": "https://localhost:8080/"
    },
    "id": "WyXNzzjb-Yeb",
    "outputId": "ba3a0580-8b49-4fd1-e7d8-0ea4e06289df"
   },
   "outputs": [
    {
     "name": "stdout",
     "output_type": "stream",
     "text": [
      "[[0.5]]\n"
     ]
    }
   ],
   "source": [
    "lambd = np.dot(b.T,x)/npl.norm(b)**2 # b^T x / ||b||^2; \n",
    "print(lambd)"
   ]
  },
  {
   "cell_type": "code",
   "execution_count": 4,
   "metadata": {
    "colab": {
     "base_uri": "https://localhost:8080/"
    },
    "id": "7HAGxNhx-edm",
    "outputId": "51ece00a-d68b-4559-e8e7-81d9534e1491"
   },
   "outputs": [
    {
     "name": "stdout",
     "output_type": "stream",
     "text": [
      "[[3.]\n",
      " [1.]]\n"
     ]
    }
   ],
   "source": [
    "vector_proyectado = b*lambd\n",
    "print(vector_proyectado)"
   ]
  },
  {
   "cell_type": "code",
   "execution_count": 5,
   "metadata": {
    "colab": {
     "base_uri": "https://localhost:8080/"
    },
    "id": "E4FWTpgN-g3V",
    "outputId": "2670792a-fc55-432f-bfa1-e0d06f0250ca"
   },
   "outputs": [
    {
     "name": "stdout",
     "output_type": "stream",
     "text": [
      "[[0.9 0.3]\n",
      " [0.3 0.1]]\n"
     ]
    }
   ],
   "source": [
    "matriz_proyeccion = np.dot(b,b.T)/npl.norm(b)**2 #bb^T/||b||^2\n",
    "print(matriz_proyeccion)"
   ]
  },
  {
   "cell_type": "code",
   "execution_count": 6,
   "metadata": {
    "colab": {
     "base_uri": "https://localhost:8080/"
    },
    "id": "2xrf5RnO-lAs",
    "outputId": "07b6d30e-aebd-462d-d2f5-5c2c8f3daa31"
   },
   "outputs": [
    {
     "data": {
      "text/plain": [
       "array([[3.],\n",
       "       [1.]])"
      ]
     },
     "execution_count": 6,
     "metadata": {},
     "output_type": "execute_result"
    }
   ],
   "source": [
    "np.dot(matriz_proyeccion,x)"
   ]
  },
  {
   "cell_type": "code",
   "execution_count": 7,
   "metadata": {
    "colab": {
     "base_uri": "https://localhost:8080/",
     "height": 269
    },
    "id": "cVHEtXpP-m5v",
    "outputId": "609f2793-2cae-4d14-a707-6839a36aadb1"
   },
   "outputs": [
    {
     "data": {
      "image/png": "[encoded data removed]",
      "text/plain": [
       "<Figure size 432x288 with 1 Axes>"
      ]
     },
     "metadata": {
      "needs_background": "light"
     },
     "output_type": "display_data"
    }
   ],
   "source": [
    "fig = plt.figure()\n",
    "ax = fig.add_subplot(111)\n",
    "plt.xlim(-1,10)\n",
    "plt.ylim(-1,10)\n",
    "\n",
    "plt.quiver(*origin2D,*b, scale=11, color=\"k\", width= .01)\n",
    "plt.quiver(*origin2D,*vector_proyectado,scale=11,color=\"orange\",width= .01)\n",
    "plt.quiver(*origin2D,*x,scale=11,color=\"red\")\n",
    "#plt.scatter(sample[0], sample[1],color=\"orange\")\n",
    "ax.set_aspect('equal', adjustable='box')\n",
    "plt.legend([\"b\",r\"$\\pi_U(x)$\",\"x\"]);"
   ]
  },
  {
   "cell_type": "code",
   "execution_count": null,
   "metadata": {},
   "outputs": [],
   "source": []
  }
 ],
 "metadata": {
  "colab": {
   "name": "Tema_3 (Proyeccion_en_subespacio).ipynb",
   "provenance": []
  },
  "kernelspec": {
   "display_name": "Python 3 (ipykernel)",
   "language": "python",
   "name": "python3"
  },
  "language_info": {
   "codemirror_mode": {
    "name": "ipython",
    "version": 3
   },
   "file_extension": ".py",
   "mimetype": "text/x-python",
   "name": "python",
   "nbconvert_exporter": "python",
   "pygments_lexer": "ipython3",
   "version": "3.9.7"
  }
 },
 "nbformat": 4,
 "nbformat_minor": 1
}
