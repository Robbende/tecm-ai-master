{
  "nbformat": 4,
  "nbformat_minor": 0,
  "metadata": {
    "colab": {
      "name": "Tema_16 (Algoritmo genético).ipynb",
      "provenance": []
    },
    "kernelspec": {
      "name": "python3",
      "display_name": "Python 3"
    },
    "language_info": {
      "name": "python"
    }
  },
  "cells": [
    {
      "cell_type": "code",
      "metadata": {
        "id": "PNn1dfQbSHXt"
      },
      "source": [
        "import numpy as np, random, operator, pandas as pd, matplotlib.pyplot as plt"
      ],
      "execution_count": null,
      "outputs": []
    },
    {
      "cell_type": "code",
      "metadata": {
        "id": "0dgtuERuqIBA"
      },
      "source": [
        "df = pd.read_csv('ciudades_NL.csv')"
      ],
      "execution_count": null,
      "outputs": []
    },
    {
      "cell_type": "code",
      "metadata": {
        "id": "ar0S-dvluPYV"
      },
      "source": [
        "class municipio:\n",
        "    def __init__(self, x, y):\n",
        "        self.x = x\n",
        "        self.y = y\n",
        "    \n",
        "    def distancia(self, municipio):\n",
        "        xDis = abs(self.x - municipio.x)\n",
        "        yDis = abs(self.y - municipio.y)\n",
        "        distancia = np.sqrt((xDis ** 2) + (yDis ** 2))\n",
        "        return distancia\n",
        "    \n",
        "    def __repr__(self):\n",
        "        return \"(\" + str(self.x) + \",\" + str(self.y) + \")\""
      ],
      "execution_count": null,
      "outputs": []
    },
    {
      "cell_type": "code",
      "metadata": {
        "colab": {
          "base_uri": "https://localhost:8080/"
        },
        "id": "IVlKtcZ4kCxq",
        "outputId": "675bc6d8-d402-4c6f-b698-71522c12955b"
      },
      "source": [
        "listaMunicipios = []\n",
        "\n",
        "for i in range(0,len(df)):\n",
        "    listaMunicipios.append(municipio(x=df.Longitud[i], y=df.Latitud[i]))\n",
        "\n",
        "#vista previa de la informacion de las ubiciones de los municipios\n",
        "listaMunicipios[0:5]"
      ],
      "execution_count": null,
      "outputs": [
        {
          "output_type": "execute_result",
          "data": {
            "text/plain": [
              "[(-100.13348,27.24213),\n",
              " (-100.18331,25.77748),\n",
              " (-100.50158,26.52964),\n",
              " (-99.98486,25.35912),\n",
              " (-99.23533,25.70782)]"
            ]
          },
          "metadata": {},
          "execution_count": 5
        }
      ]
    },
    {
      "cell_type": "code",
      "metadata": {
        "id": "KPqzpfRTuhd1"
      },
      "source": [
        "class Aptitud:\n",
        "    def __init__(self, ruta):\n",
        "        self.ruta = ruta\n",
        "        self.distancia = 0\n",
        "        self.aptitud= 0.0\n",
        "    \n",
        "    def distanciaRuta(self):\n",
        "        if self.distancia ==0:\n",
        "            distanciaRelativa = 0\n",
        "            for i in range(0, len(self.ruta)):\n",
        "                puntoInicial = self.ruta[i]\n",
        "                puntoFinal = None\n",
        "                if i + 1 < len(self.ruta):\n",
        "                    puntoFinal = self.ruta[i + 1]\n",
        "                else:\n",
        "                    puntoFinal = self.ruta[0]\n",
        "                distanciaRelativa += puntoInicial.distancia(puntoFinal)\n",
        "            self.distancia = distanciaRelativa\n",
        "        return self.distancia\n",
        "    \n",
        "    def rutaApta(self):\n",
        "        if self.aptitud == 0:\n",
        "            self.aptitud = 1 / float(self.distanciaRuta())\n",
        "        return self.aptitud"
      ],
      "execution_count": null,
      "outputs": []
    },
    {
      "cell_type": "code",
      "metadata": {
        "id": "kRuvYWnGu1SE"
      },
      "source": [
        "def crearRuta(listaMunicipios):\n",
        "    route = random.sample(listaMunicipios, len(listaMunicipios))\n",
        "    return route"
      ],
      "execution_count": null,
      "outputs": []
    },
    {
      "cell_type": "code",
      "metadata": {
        "id": "BRXu4fDlvYwc"
      },
      "source": [
        "def poblacionInicial(tamanoPob,listaMunicipios):\n",
        "    poblacion = []\n",
        "\n",
        "    for i in range(0, tamanoPob):\n",
        "        poblacion.append(crearRuta(listaMunicipios))\n",
        "    return poblacion"
      ],
      "execution_count": null,
      "outputs": []
    },
    {
      "cell_type": "code",
      "metadata": {
        "id": "ftHKfr_si5Nt"
      },
      "source": [
        "def clasificacionRutas(poblacion):\n",
        "    fitnessResults = {}\n",
        "    for i in range(0,len(poblacion)):\n",
        "        fitnessResults[i] = Aptitud(poblacion[i]).rutaApta()\n",
        "    return sorted(fitnessResults.items(), key = operator.itemgetter(1), reverse = True)"
      ],
      "execution_count": null,
      "outputs": []
    },
    {
      "cell_type": "code",
      "metadata": {
        "id": "gJA3Rtwpi9QU"
      },
      "source": [
        "def seleccionRutas(popRanked, indivSelecionados):\n",
        "    resultadosSeleccion = []\n",
        "    df = pd.DataFrame(np.array(popRanked), columns=[\"Indice\",\"Aptitud\"])\n",
        "    df['cum_sum'] = df.Aptitud.cumsum()\n",
        "    df['cum_perc'] = 100*df.cum_sum/df.Aptitud.sum()\n",
        "    \n",
        "    for i in range(0, indivSelecionados):\n",
        "        resultadosSeleccion.append(popRanked[i][0])\n",
        "    for i in range(0, len(popRanked) - indivSelecionados):\n",
        "        pick = 100*random.random()\n",
        "        for i in range(0, len(popRanked)):\n",
        "            if pick <= df.iat[i,3]:\n",
        "                resultadosSeleccion.append(popRanked[i][0])\n",
        "                break\n",
        "    return resultadosSeleccion"
      ],
      "execution_count": null,
      "outputs": []
    },
    {
      "cell_type": "code",
      "metadata": {
        "id": "u5vSrloMjCd8"
      },
      "source": [
        "def grupoApareamiento(poblacion, resultadosSeleccion):\n",
        "    grupoApareamiento = []\n",
        "    for i in range(0, len(resultadosSeleccion)):\n",
        "        index = resultadosSeleccion[i]\n",
        "        grupoApareamiento.append(poblacion[index])\n",
        "    return grupoApareamiento"
      ],
      "execution_count": null,
      "outputs": []
    },
    {
      "cell_type": "code",
      "metadata": {
        "id": "yUNtTC48jGgY"
      },
      "source": [
        "def reproduccion(progenitor1, progenitor2):\n",
        "    hijo = []\n",
        "    hijoP1 = []\n",
        "    hijoP2 = []\n",
        "    \n",
        "    geneA = int(random.random() * len(progenitor1))\n",
        "    geneB = int(random.random() * len(progenitor2))\n",
        "    \n",
        "    startGene = min(geneA, geneB)\n",
        "    endGene = max(geneA, geneB)\n",
        "\n",
        "    for i in range(startGene, endGene):\n",
        "        hijoP1.append(progenitor1[i])\n",
        "        \n",
        "    hijoP2 = [item for item in progenitor2 if item not in hijoP1]\n",
        "\n",
        "    hijo = hijoP1 + hijoP2\n",
        "    return hijo"
      ],
      "execution_count": null,
      "outputs": []
    },
    {
      "cell_type": "code",
      "metadata": {
        "id": "FdvRkDdMjJKl"
      },
      "source": [
        "def reproduccionPoblacion(grupoApareamiento, indivSelecionados):\n",
        "    hijos = []\n",
        "    tamano = len(grupoApareamiento) - indivSelecionados\n",
        "    espacio = random.sample(grupoApareamiento, len(grupoApareamiento))\n",
        "\n",
        "    for i in range(0,indivSelecionados):\n",
        "        hijos.append(grupoApareamiento[i])\n",
        "    \n",
        "    for i in range(0, tamano):\n",
        "        hijo = reproduccion(espacio[i], espacio[len(grupoApareamiento)-i-1])\n",
        "        hijos.append(hijo)\n",
        "    return hijos"
      ],
      "execution_count": null,
      "outputs": []
    },
    {
      "cell_type": "code",
      "metadata": {
        "id": "OUPhGwCyjJ1G"
      },
      "source": [
        "def mutacion(individuo, razonMutacion):\n",
        "    for swapped in range(len(individuo)):\n",
        "        if(random.random() < razonMutacion):\n",
        "            swapWith = int(random.random() * len(individuo))\n",
        "            \n",
        "            lugar1 = individuo[swapped]\n",
        "            lugar2 = individuo[swapWith]\n",
        "            \n",
        "            individuo[swapped] = lugar2\n",
        "            individuo[swapWith] = lugar1\n",
        "    return individuo"
      ],
      "execution_count": null,
      "outputs": []
    },
    {
      "cell_type": "code",
      "metadata": {
        "id": "CNpS1RJPjMPc"
      },
      "source": [
        "def mutacionPoblacion(poblacion, razonMutacion):\n",
        "    pobMutada = []\n",
        "    \n",
        "    for ind in range(0, len(poblacion)):\n",
        "        individuoMutar = mutacion(poblacion[ind], razonMutacion)\n",
        "        pobMutada.append(individuoMutar)\n",
        "    return pobMutada"
      ],
      "execution_count": null,
      "outputs": []
    },
    {
      "cell_type": "code",
      "metadata": {
        "id": "fji9ACsmjQm1"
      },
      "source": [
        "def nuevaGeneracion(generacionActual, indivSelecionados, razonMutacion):\n",
        "\n",
        "    #clasificar rutas \n",
        "    popRanked = clasificacionRutas(generacionActual)\n",
        "\n",
        "    #seleccion de los candidatos\n",
        "    selectionResults = seleccionRutas(popRanked, indivSelecionados)\n",
        "\n",
        "    #generar grupo de apareamiento\n",
        "    grupoApa = grupoApareamiento(generacionActual, selectionResults)\n",
        "\n",
        "    #generacion de la poblacion cruzada, reproducida\n",
        "    hijos = reproduccionPoblacion(grupoApa, indivSelecionados)\n",
        "\n",
        "    #incluir las mutaciones en la nueva generacion  \n",
        "    nextGeneration = mutacionPoblacion(hijos, razonMutacion)\n",
        "\n",
        "    return nextGeneration"
      ],
      "execution_count": null,
      "outputs": []
    },
    {
      "cell_type": "code",
      "metadata": {
        "id": "KTdUdXHtjSws"
      },
      "source": [
        "def algoritmoGenetico(poblacion, tamanoPoblacion, indivSelecionados, razonMutacion, generaciones):\n",
        "    pop = poblacionInicial(tamanoPoblacion, poblacion)\n",
        "    print(\"Distancia Inicial: \" + str(1 / clasificacionRutas(pop)[0][1]))\n",
        "    \n",
        "    for i in range(0, generaciones):\n",
        "        pop = nuevaGeneracion(pop, indivSelecionados, razonMutacion)\n",
        "    \n",
        "    print(\"Distancia Final: \" + str(1 / clasificacionRutas(pop)[0][1]))\n",
        "    bestRouteIndex = clasificacionRutas(pop)[0][0]\n",
        "    mejorRuta = pop[bestRouteIndex]\n",
        "    return mejorRuta"
      ],
      "execution_count": null,
      "outputs": []
    },
    {
      "cell_type": "code",
      "metadata": {
        "colab": {
          "base_uri": "https://localhost:8080/"
        },
        "id": "efroF_MdjX0T",
        "outputId": "80cb43bd-51de-4460-a5d4-bcf2f2c21a38"
      },
      "source": [
        "algoritmoGenetico(poblacion=listaMunicipios, \n",
        "                  tamanoPoblacion=100, \n",
        "                  indivSelecionados=20,\n",
        "                  razonMutacion=0.01, \n",
        "                  generaciones=500)"
      ],
      "execution_count": null,
      "outputs": [
        {
          "output_type": "stream",
          "name": "stdout",
          "text": [
            "Distancia Inicial: 26.12396628773913\n",
            "Distancia Final: 11.39498287008981\n"
          ]
        },
        {
          "output_type": "execute_result",
          "data": {
            "text/plain": [
              "[(-99.30001,25.93087),\n",
              " (-99.72727,26.89334),\n",
              " (-100.13348,27.24213),\n",
              " (-100.50158,26.52964),\n",
              " (-100.29422,25.96389),\n",
              " (-100.01539,25.82498),\n",
              " (-100.08096,25.73643),\n",
              " (-100.18331,25.77748),\n",
              " (-100.3137,25.67693),\n",
              " (-100.4027,25.66317),\n",
              " (-100.59792,25.80892),\n",
              " (-100.53826,26.00029),\n",
              " (-100.39146,25.80246),\n",
              " (-100.31738,25.80403),\n",
              " (-100.29475,25.74701),\n",
              " (-100.16528,25.95821),\n",
              " (-99.94216,25.85854),\n",
              " (-99.73194,25.60528),\n",
              " (-99.68457,25.25653),\n",
              " (-99.98486,25.35912),\n",
              " (-100.00685,25.26588),\n",
              " (-100.10858,25.02443),\n",
              " (-100.23333,24.93333),\n",
              " (-100.15,23.83333),\n",
              " (-100.21399,23.45006),\n",
              " (-99.68333,24.85),\n",
              " (-99.47221,24.72459),\n",
              " (-99.01667,25.1),\n",
              " (-99.23533,25.70782),\n",
              " (-99.17581,25.87928)]"
            ]
          },
          "metadata": {},
          "execution_count": 19
        }
      ]
    },
    {
      "cell_type": "code",
      "metadata": {
        "id": "YRQtwZkN6NmA"
      },
      "source": [
        "def geneticAlgorithmPlot(population, popSize, eliteSize, mutationRate, generations):\n",
        "    pop = poblacionInicial(popSize, population)\n",
        "    progress = []\n",
        "    progress.append(1 / clasificacionRutas(pop)[0][1])\n",
        "    \n",
        "    for i in range(0, generations):\n",
        "        pop = nuevaGeneracion(pop, eliteSize, mutationRate)\n",
        "        progress.append(1 / clasificacionRutas(pop)[0][1])\n",
        "    \n",
        "    plt.plot(progress)\n",
        "    plt.ylabel('Distancia')\n",
        "    plt.xlabel('Generacion')\n",
        "    plt.show()"
      ],
      "execution_count": null,
      "outputs": []
    },
    {
      "cell_type": "code",
      "metadata": {
        "colab": {
          "base_uri": "https://localhost:8080/",
          "height": 279
        },
        "id": "i5Jg08666Prz",
        "outputId": "f62a0e8a-1841-434f-dc99-d621097d9d6b"
      },
      "source": [
        "geneticAlgorithmPlot(population=listaMunicipios, popSize=100, eliteSize=20, mutationRate=0.01, generations=500)"
      ],
      "execution_count": null,
      "outputs": [
        {
          "output_type": "display_data",
          "data": {
            "text/plain": [
              "<Figure size 432x288 with 1 Axes>"
            ],
            "image/png": "[encoded data removed]"
          },
          "metadata": {
            "needs_background": "light"
          }
        }
      ]
    }
  ]
}