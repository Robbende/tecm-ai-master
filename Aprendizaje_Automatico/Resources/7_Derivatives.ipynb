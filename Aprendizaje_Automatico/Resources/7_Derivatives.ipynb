{
 "cells": [
  {
   "cell_type": "code",
   "execution_count": 1,
   "metadata": {
    "id": "sqWBFTwvpfCo"
   },
   "outputs": [],
   "source": [
    "import sympy as sym\n",
    "#x = sym.Symbol('x')\n",
    "#y = sym.Symbol('y')\n",
    "x,y = sym.symbols('x y')"
   ]
  },
  {
   "cell_type": "code",
   "execution_count": 2,
   "metadata": {
    "colab": {
     "base_uri": "https://localhost:8080/",
     "height": 38
    },
    "id": "pUMDkeEsp14U",
    "outputId": "96e505d7-9659-486c-930b-d088a9566a2a"
   },
   "outputs": [
    {
     "data": {
      "text/latex": [
       "$\\displaystyle 3 x^{2} + 4 x + 1$"
      ],
      "text/plain": [
       "3*x**2 + 4*x + 1"
      ]
     },
     "execution_count": 2,
     "metadata": {},
     "output_type": "execute_result"
    }
   ],
   "source": [
    "funcion_1 = 3*x**2 + 4*x + 1\n",
    "funcion_1"
   ]
  },
  {
   "cell_type": "code",
   "execution_count": 3,
   "metadata": {
    "colab": {
     "base_uri": "https://localhost:8080/",
     "height": 38
    },
    "id": "OixpmBd1F5MW",
    "outputId": "90cf33f4-0a72-4453-a0bf-5c52a47fddc0"
   },
   "outputs": [
    {
     "data": {
      "text/latex": [
       "$\\displaystyle y^{3} + 2 y^{2} - 6$"
      ],
      "text/plain": [
       "y**3 + 2*y**2 - 6"
      ]
     },
     "execution_count": 3,
     "metadata": {},
     "output_type": "execute_result"
    }
   ],
   "source": [
    "funcion_0 = y**3+2*y**2-6\n",
    "funcion_0"
   ]
  },
  {
   "cell_type": "code",
   "execution_count": 4,
   "metadata": {
    "colab": {
     "base_uri": "https://localhost:8080/",
     "height": 38
    },
    "id": "HU4YCn6KGXoX",
    "outputId": "a5eb167e-ca60-47b2-9221-c08e0cf54d6d"
   },
   "outputs": [
    {
     "data": {
      "text/latex": [
       "$\\displaystyle 3 x^{2} + 4 x + y^{3} + 2 y^{2} - 5$"
      ],
      "text/plain": [
       "3*x**2 + 4*x + y**3 + 2*y**2 - 5"
      ]
     },
     "execution_count": 4,
     "metadata": {},
     "output_type": "execute_result"
    }
   ],
   "source": [
    "funcion_1 + funcion_0"
   ]
  },
  {
   "cell_type": "markdown",
   "metadata": {
    "id": "GhX1LfqNykOc"
   },
   "source": [
    "## Derivadas con sympy"
   ]
  },
  {
   "cell_type": "code",
   "execution_count": 5,
   "metadata": {
    "colab": {
     "base_uri": "https://localhost:8080/",
     "height": 38
    },
    "id": "1vl6Mr24qcVX",
    "outputId": "54d1cc0d-5bec-4c4b-e5bc-d932c377db13"
   },
   "outputs": [
    {
     "data": {
      "text/latex": [
       "$\\displaystyle 6 x + 4$"
      ],
      "text/plain": [
       "6*x + 4"
      ]
     },
     "execution_count": 5,
     "metadata": {},
     "output_type": "execute_result"
    }
   ],
   "source": [
    "derivada_funcion_1 = sym.diff(funcion_1)\n",
    "derivada_funcion_1"
   ]
  },
  {
   "cell_type": "code",
   "execution_count": 6,
   "metadata": {
    "colab": {
     "base_uri": "https://localhost:8080/",
     "height": 38
    },
    "id": "UmUzaSyVHXNF",
    "outputId": "ba6ab994-7e70-4232-ff63-c4df1c4a4222"
   },
   "outputs": [
    {
     "data": {
      "text/latex": [
       "$\\displaystyle 3 y^{2} + 4 y$"
      ],
      "text/plain": [
       "3*y**2 + 4*y"
      ]
     },
     "execution_count": 6,
     "metadata": {},
     "output_type": "execute_result"
    }
   ],
   "source": [
    "derivada_funcion_0 = sym.diff(funcion_0)\n",
    "derivada_funcion_0"
   ]
  },
  {
   "cell_type": "code",
   "execution_count": 7,
   "metadata": {
    "colab": {
     "base_uri": "https://localhost:8080/",
     "height": 37
    },
    "id": "b_Lrfeqhqvnu",
    "outputId": "341440ff-14dc-4bb1-b4be-628130208fff"
   },
   "outputs": [
    {
     "data": {
      "text/latex": [
       "$\\displaystyle 6$"
      ],
      "text/plain": [
       "6"
      ]
     },
     "execution_count": 7,
     "metadata": {},
     "output_type": "execute_result"
    }
   ],
   "source": [
    "derivada_funcion_1 = sym.diff(funcion_1,x,2)\n",
    "derivada_funcion_1"
   ]
  },
  {
   "cell_type": "code",
   "execution_count": 8,
   "metadata": {
    "colab": {
     "base_uri": "https://localhost:8080/",
     "height": 38
    },
    "id": "miAfEbpcJPZJ",
    "outputId": "10ef5055-c753-4336-ace2-f762fff4ec40"
   },
   "outputs": [
    {
     "data": {
      "text/latex": [
       "$\\displaystyle 2 \\left(3 y + 2\\right)$"
      ],
      "text/plain": [
       "2*(3*y + 2)"
      ]
     },
     "execution_count": 8,
     "metadata": {},
     "output_type": "execute_result"
    }
   ],
   "source": [
    "derivada2_funcion_0 = sym.diff(funcion_0,y,2)\n",
    "derivada2_funcion_0"
   ]
  },
  {
   "cell_type": "code",
   "execution_count": 9,
   "metadata": {
    "colab": {
     "base_uri": "https://localhost:8080/",
     "height": 41
    },
    "id": "j1YjiIn0rn0K",
    "outputId": "8a539a60-6491-4b78-8c95-c48e109f7920"
   },
   "outputs": [
    {
     "data": {
      "text/latex": [
       "$\\displaystyle \\left(x^{3} - 5 x + 9\\right)^{3}$"
      ],
      "text/plain": [
       "(x**3 - 5*x + 9)**3"
      ]
     },
     "execution_count": 9,
     "metadata": {},
     "output_type": "execute_result"
    }
   ],
   "source": [
    "funcion_2 = ((x**3-5*x +9)**3)\n",
    "funcion_2"
   ]
  },
  {
   "cell_type": "code",
   "execution_count": 10,
   "metadata": {
    "colab": {
     "base_uri": "https://localhost:8080/",
     "height": 41
    },
    "id": "IEr0BtsPsIET",
    "outputId": "4f2ec339-72f7-4af3-8565-a16abd67ebf3"
   },
   "outputs": [
    {
     "data": {
      "text/latex": [
       "$\\displaystyle \\left(9 x^{2} - 15\\right) \\left(x^{3} - 5 x + 9\\right)^{2}$"
      ],
      "text/plain": [
       "(9*x**2 - 15)*(x**3 - 5*x + 9)**2"
      ]
     },
     "execution_count": 10,
     "metadata": {},
     "output_type": "execute_result"
    }
   ],
   "source": [
    "derivada_funcion_2 = sym.diff(funcion_2)\n",
    "derivada_funcion_2"
   ]
  },
  {
   "cell_type": "markdown",
   "metadata": {
    "id": "bZxIbblOyeZb"
   },
   "source": [
    "## Funciones con múltiples variables"
   ]
  },
  {
   "cell_type": "code",
   "execution_count": 11,
   "metadata": {
    "id": "dWdGqRkUsUQz"
   },
   "outputs": [],
   "source": [
    "#x,y = sym.symbols('x y')"
   ]
  },
  {
   "cell_type": "code",
   "execution_count": 12,
   "metadata": {
    "colab": {
     "base_uri": "https://localhost:8080/",
     "height": 38
    },
    "id": "W9zEXbczsiiy",
    "outputId": "a9a7d0a2-784d-4d9b-c515-dab2eaeca8d2"
   },
   "outputs": [
    {
     "data": {
      "text/latex": [
       "$\\displaystyle x^{3} + 5 x + y^{2}$"
      ],
      "text/plain": [
       "x**3 + 5*x + y**2"
      ]
     },
     "execution_count": 12,
     "metadata": {},
     "output_type": "execute_result"
    }
   ],
   "source": [
    "funcion_3 = y**2 + 5*x + x**3\n",
    "funcion_3"
   ]
  },
  {
   "cell_type": "code",
   "execution_count": 13,
   "metadata": {
    "colab": {
     "base_uri": "https://localhost:8080/",
     "height": 38
    },
    "id": "9aKEBtlrsu0c",
    "outputId": "095bd125-dcf8-414c-80b0-c938252ae9cc"
   },
   "outputs": [
    {
     "data": {
      "text/latex": [
       "$\\displaystyle 3 x^{2} + 5$"
      ],
      "text/plain": [
       "3*x**2 + 5"
      ]
     },
     "execution_count": 13,
     "metadata": {},
     "output_type": "execute_result"
    }
   ],
   "source": [
    "derivada_parcial_funcion_3 = sym.diff(funcion_3,x)\n",
    "derivada_parcial_funcion_3"
   ]
  },
  {
   "cell_type": "code",
   "execution_count": 14,
   "metadata": {
    "colab": {
     "base_uri": "https://localhost:8080/",
     "height": 38
    },
    "id": "FEkJECXLs7YK",
    "outputId": "fa043dae-7c1c-40f6-c2a1-e377399ef70f"
   },
   "outputs": [
    {
     "data": {
      "text/latex": [
       "$\\displaystyle 2 y$"
      ],
      "text/plain": [
       "2*y"
      ]
     },
     "execution_count": 14,
     "metadata": {},
     "output_type": "execute_result"
    }
   ],
   "source": [
    "derivada_parcial_funcion_3 = sym.diff(funcion_3,y)\n",
    "derivada_parcial_funcion_3"
   ]
  },
  {
   "cell_type": "markdown",
   "metadata": {
    "id": "smXy7pGKyuy3"
   },
   "source": [
    "## Jacobiano y Matriz Hessiana"
   ]
  },
  {
   "cell_type": "code",
   "execution_count": 15,
   "metadata": {
    "id": "aOEtgzKKy5rn"
   },
   "outputs": [],
   "source": [
    "from sympy import *"
   ]
  },
  {
   "cell_type": "code",
   "execution_count": 16,
   "metadata": {
    "colab": {
     "base_uri": "https://localhost:8080/",
     "height": 38
    },
    "id": "RbcVPh3EtF3B",
    "outputId": "c08a2af7-62fe-405c-da6c-86678347195d"
   },
   "outputs": [
    {
     "data": {
      "text/latex": [
       "$\\displaystyle \\left[\\begin{matrix}3 x^{2} + 5 & 2 y\\end{matrix}\\right]$"
      ],
      "text/plain": [
       "Matrix([[3*x**2 + 5, 2*y]])"
      ]
     },
     "execution_count": 16,
     "metadata": {},
     "output_type": "execute_result"
    }
   ],
   "source": [
    "J= sym.Matrix([[funcion_3]]).jacobian([x,y])\n",
    "J"
   ]
  },
  {
   "cell_type": "code",
   "execution_count": 17,
   "metadata": {
    "colab": {
     "base_uri": "https://localhost:8080/",
     "height": 58
    },
    "id": "koKJ48Pquit-",
    "outputId": "a54fee5b-3701-40ee-d326-961cf9045027"
   },
   "outputs": [
    {
     "data": {
      "text/latex": [
       "$\\displaystyle \\left[\\begin{matrix}6 x & 0\\\\0 & 2\\end{matrix}\\right]$"
      ],
      "text/plain": [
       "Matrix([\n",
       "[6*x, 0],\n",
       "[  0, 2]])"
      ]
     },
     "execution_count": 17,
     "metadata": {},
     "output_type": "execute_result"
    }
   ],
   "source": [
    "H = hessian(funcion_3,(x,y))\n",
    "H"
   ]
  },
  {
   "cell_type": "markdown",
   "metadata": {
    "id": "eFyXSz9TKCzN"
   },
   "source": [
    "## Pregunta 1. Inciso B:"
   ]
  },
  {
   "cell_type": "code",
   "execution_count": 18,
   "metadata": {
    "colab": {
     "base_uri": "https://localhost:8080/",
     "height": 38
    },
    "id": "VrmIN7U-KOZz",
    "outputId": "ec660d4f-a1c3-4633-e6a0-247438035d43"
   },
   "outputs": [
    {
     "data": {
      "text/latex": [
       "$\\displaystyle - 8 x^{2} - 3 x + 5 x^{3 x + 1}$"
      ],
      "text/plain": [
       "-8*x**2 - 3*x + 5*x**(3*x + 1)"
      ]
     },
     "execution_count": 18,
     "metadata": {},
     "output_type": "execute_result"
    }
   ],
   "source": [
    "funcion_B = 5*x**(3*x+1)-8*x**2-3*x\n",
    "funcion_B"
   ]
  },
  {
   "cell_type": "code",
   "execution_count": null,
   "metadata": {
    "id": "hiEwmGYLKcb-"
   },
   "outputs": [],
   "source": []
  }
 ],
 "metadata": {
  "colab": {
   "name": "Tema_5 (Parte_1).ipynb",
   "provenance": []
  },
  "kernelspec": {
   "display_name": "Python 3 (ipykernel)",
   "language": "python",
   "name": "python3"
  },
  "language_info": {
   "codemirror_mode": {
    "name": "ipython",
    "version": 3
   },
   "file_extension": ".py",
   "mimetype": "text/x-python",
   "name": "python",
   "nbconvert_exporter": "python",
   "pygments_lexer": "ipython3",
   "version": "3.9.7"
  }
 },
 "nbformat": 4,
 "nbformat_minor": 1
}
