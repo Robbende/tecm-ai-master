{
 "cells": [
  {
   "cell_type": "markdown",
   "id": "fb3b2b65",
   "metadata": {},
   "source": [
    "#### Clase Complementaria Martes 28"
   ]
  },
  {
   "cell_type": "code",
   "execution_count": 2,
   "id": "42334087",
   "metadata": {},
   "outputs": [],
   "source": [
    "import numpy as np\n",
    "import matplotlib.pyplot as plt\n",
    "from sympy import *"
   ]
  },
  {
   "cell_type": "code",
   "execution_count": 3,
   "id": "b4179055",
   "metadata": {},
   "outputs": [],
   "source": [
    "x = np.array([20, 45, 80, 100, 160, 175, 190, 215, 223, 257,289,300,358,400,428,460,489])\n",
    "y = np.array([10, 19, 27, 38, 47, 56, 63, 74, 87, 96, 110, 126,148,159,170,200,216])"
   ]
  },
  {
   "cell_type": "code",
   "execution_count": 4,
   "id": "4650bbb4",
   "metadata": {},
   "outputs": [
    {
     "data": {
      "text/plain": [
       "<matplotlib.collections.PathCollection at 0x15d5b98b6d0>"
      ]
     },
     "execution_count": 4,
     "metadata": {},
     "output_type": "execute_result"
    },
    {
     "data": {
      "image/png": "[encoded data removed]",
      "text/plain": [
       "<Figure size 432x288 with 1 Axes>"
      ]
     },
     "metadata": {
      "needs_background": "light"
     },
     "output_type": "display_data"
    }
   ],
   "source": [
    "plt.scatter(x,y)"
   ]
  },
  {
   "cell_type": "code",
   "execution_count": 13,
   "id": "13b52c99",
   "metadata": {},
   "outputs": [],
   "source": [
    "def descripcion_modelo(x, m, b):\n",
    "    n = x.shape[0]\n",
    "    print(n)\n",
    "    y_est = np.zeros(n)\n",
    "    \n",
    "    for i in range(n):\n",
    "        y_est[i] = m*x[i]+b\n",
    "    \n",
    "    return y_est"
   ]
  },
  {
   "cell_type": "code",
   "execution_count": 20,
   "id": "5bf64477",
   "metadata": {},
   "outputs": [
    {
     "name": "stdout",
     "output_type": "stream",
     "text": [
      "17\n"
     ]
    }
   ],
   "source": [
    "m = 0.4\n",
    "b = 0.1\n",
    "y_est = descripcion_modelo(x, 1, 2)"
   ]
  },
  {
   "cell_type": "code",
   "execution_count": 25,
   "id": "166902fd",
   "metadata": {},
   "outputs": [
    {
     "data": {
      "text/plain": [
       "[<matplotlib.lines.Line2D at 0x15d5c1f2d00>]"
      ]
     },
     "execution_count": 25,
     "metadata": {},
     "output_type": "execute_result"
    },
    {
     "data": {
      "image/png": "[encoded data removed]",
      "text/plain": [
       "<Figure size 432x288 with 1 Axes>"
      ]
     },
     "metadata": {
      "needs_background": "light"
     },
     "output_type": "display_data"
    }
   ],
   "source": [
    "plt.scatter(x,y)\n",
    "plt.plot(x, y_est, c = 'r')\n"
   ]
  },
  {
   "cell_type": "markdown",
   "id": "fb35b5c3",
   "metadata": {},
   "source": [
    "#### Funcion de Costo"
   ]
  },
  {
   "cell_type": "markdown",
   "id": "67055f0d",
   "metadata": {},
   "source": [
    "\n",
    "$$J(m,b) = \\frac{1}{2n} \\sum\\limits_{i = 0}^{n-1} (f_{m,b}(x^{(i)}) - y^{(i)})^2 \\tag{1}$$"
   ]
  },
  {
   "cell_type": "code",
   "execution_count": 23,
   "id": "48bf7fbe",
   "metadata": {},
   "outputs": [],
   "source": [
    "def funcion_costo(x,y,m,b):\n",
    "    n = x.shape[0]\n",
    "    suma_costos = 0\n",
    "    for i in range(n):\n",
    "        y_est[i] = m * x[i] + b\n",
    "        costo = (y_est[i] - y[i])**2\n",
    "        suma_costos+=costo\n",
    "    costo_total = (1/(2*n)) * suma_costos\n",
    "    return costo_total"
   ]
  },
  {
   "cell_type": "code",
   "execution_count": 24,
   "id": "b27635c2",
   "metadata": {},
   "outputs": [
    {
     "data": {
      "text/plain": [
       "48.65205882352939"
      ]
     },
     "execution_count": 24,
     "metadata": {},
     "output_type": "execute_result"
    }
   ],
   "source": [
    "funcion_costo(x,y,m,b)"
   ]
  },
  {
   "cell_type": "markdown",
   "id": "ad932de9",
   "metadata": {},
   "source": [
    "#### Gradiente Descendente (GD)"
   ]
  },
  {
   "cell_type": "markdown",
   "id": "ae5bc838",
   "metadata": {},
   "source": [
    "Se repite hasta alcanzar la convergencia\n",
    "\n",
    "$$ m = m -  \\alpha \\frac{\\partial J(m,b)}{\\partial m} $$\n",
    "\n",
    "\n",
    "$$ b = b -  \\alpha \\frac{\\partial J(m,b)}{\\partial b} $$\n",
    "\n",
    "El Gradiente se define por:\n",
    "\n",
    "$$ \n",
    "\\begin{align}\n",
    "\n",
    "\\frac{\\partial J(m,b)}{\\partial m}  &= \\frac{1}{n} \\sum\\limits_{i = 0}^{n-1} (f_{m,b}(x^{(i)}) - y^{(i)})x^{(i)} \\tag{4}\\\\\n",
    "\n",
    "\\frac{\\partial J(m,b)}{\\partial b}  &= \\frac{1}{n} \\sum\\limits_{i = 0}^{n-1} (f_{m,b}(x^{(i)}) - y^{(i)}) \\tag{5}\\\\\n",
    "\n",
    "\\end{align} \n",
    "$$"
   ]
  },
  {
   "cell_type": "code",
   "execution_count": 30,
   "id": "459766aa",
   "metadata": {},
   "outputs": [],
   "source": [
    "def gradiente(x,y,m,b):\n",
    "    n = x.shape[0]\n",
    "    \n",
    "    # derivada parcial de la funcion de costo con respecto a m\n",
    "    dj_dm = 0\n",
    "    # derivada parcial de la funcion de costo con respecto a m\n",
    "    dj_db = 0\n",
    "    \n",
    "    y_est = np.zeros(n)\n",
    "    \n",
    "    for i in range(n):\n",
    "        y_est[i] = m*x[i]+b\n",
    "        \n",
    "        dj_dm_i = (y_est[i]-y[i]) * x[i]\n",
    "        dj_db_i = (y_est[i]-y[i])\n",
    "        \n",
    "        dj_dm += dj_dm_i\n",
    "        dj_db += dj_db_i\n",
    "        \n",
    "    dj_dm = dj_dm/n\n",
    "    dj_db = dj_db/n\n",
    "    \n",
    "    return dj_dm, dj_db"
   ]
  },
  {
   "cell_type": "code",
   "execution_count": 31,
   "id": "c869a8a6",
   "metadata": {},
   "outputs": [],
   "source": [
    "def gradienteDescendente(x, y, m_inicial, b_inicial, alpha, iteraciones, funcion_costo, funcion_gradiente):\n",
    "    b = b_inicial\n",
    "    m = m_inicial\n",
    "    \n",
    "    for i in range(iteraciones):\n",
    "        dj_dm, dj_db = gradiente(x, y, m, b)\n",
    "        \n",
    "        m = m - alpha * dj_dm\n",
    "        b = b - alpha * dj_db\n",
    "        \n",
    "    return m, b"
   ]
  },
  {
   "cell_type": "code",
   "execution_count": 47,
   "id": "bbc1f1ad",
   "metadata": {},
   "outputs": [],
   "source": [
    "m_inicial = 0.4\n",
    "b_inicial = 0.1\n",
    "alpha = 0.00001\n",
    "iteraciones = 200 \n",
    "\n",
    "m,b = gradienteDescendente(x, y, m_inicial, b_inicial, alpha, iteraciones, funcion_costo, gradiente)"
   ]
  },
  {
   "cell_type": "code",
   "execution_count": 48,
   "id": "1764577a",
   "metadata": {},
   "outputs": [
    {
     "data": {
      "text/plain": [
       "0.40361833240787154"
      ]
     },
     "execution_count": 48,
     "metadata": {},
     "output_type": "execute_result"
    }
   ],
   "source": [
    "m"
   ]
  },
  {
   "cell_type": "code",
   "execution_count": 49,
   "id": "84567285",
   "metadata": {},
   "outputs": [
    {
     "data": {
      "text/plain": [
       "0.09455501240292796"
      ]
     },
     "execution_count": 49,
     "metadata": {},
     "output_type": "execute_result"
    }
   ],
   "source": [
    "b"
   ]
  },
  {
   "cell_type": "code",
   "execution_count": null,
   "id": "9532b803",
   "metadata": {},
   "outputs": [],
   "source": []
  }
 ],
 "metadata": {
  "kernelspec": {
   "display_name": "Python 3 (ipykernel)",
   "language": "python",
   "name": "python3"
  },
  "language_info": {
   "codemirror_mode": {
    "name": "ipython",
    "version": 3
   },
   "file_extension": ".py",
   "mimetype": "text/x-python",
   "name": "python",
   "nbconvert_exporter": "python",
   "pygments_lexer": "ipython3",
   "version": "3.9.7"
  }
 },
 "nbformat": 4,
 "nbformat_minor": 5
}
