{
 "cells": [
  {
   "cell_type": "code",
   "execution_count": 1,
   "metadata": {
    "id": "iuEJVRjfIl--"
   },
   "outputs": [],
   "source": [
    "import numpy as np\n",
    "import numpy.linalg as npl"
   ]
  },
  {
   "cell_type": "code",
   "execution_count": 2,
   "metadata": {
    "colab": {
     "base_uri": "https://localhost:8080/"
    },
    "id": "9EyktnsUI1Iq",
    "outputId": "ad5f2cbb-3e5a-4e85-edf4-bc5d458b36fa"
   },
   "outputs": [
    {
     "name": "stdout",
     "output_type": "stream",
     "text": [
      "84.00000000000006\n"
     ]
    }
   ],
   "source": [
    "matriz_A = np.array([[1,6,8],[3,2,-9] ,[0,4,3]])\n",
    "determinante_matriz_A = npl.det(matriz_A)\n",
    "print(determinante_matriz_A)"
   ]
  },
  {
   "cell_type": "code",
   "execution_count": 3,
   "metadata": {
    "colab": {
     "base_uri": "https://localhost:8080/"
    },
    "id": "t-QbexPTMTIZ",
    "outputId": "493774cf-e039-40ea-c04a-1e6112441bce"
   },
   "outputs": [
    {
     "name": "stdout",
     "output_type": "stream",
     "text": [
      "3\n"
     ]
    }
   ],
   "source": [
    "rango = npl.matrix_rank(matriz_A)\n",
    "print(rango)"
   ]
  },
  {
   "cell_type": "code",
   "execution_count": 4,
   "metadata": {
    "colab": {
     "base_uri": "https://localhost:8080/"
    },
    "id": "R4fN5p18NRWe",
    "outputId": "367715cf-e727-4290-d9e8-2e0207d2476f"
   },
   "outputs": [
    {
     "data": {
      "text/plain": [
       "6"
      ]
     },
     "execution_count": 4,
     "metadata": {},
     "output_type": "execute_result"
    }
   ],
   "source": [
    "np.trace(matriz_A)"
   ]
  },
  {
   "cell_type": "code",
   "execution_count": 5,
   "metadata": {
    "colab": {
     "base_uri": "https://localhost:8080/"
    },
    "id": "9rBPJXQmWd9q",
    "outputId": "23436f08-aece-46cb-cbd9-1e58d6fe64ff"
   },
   "outputs": [
    {
     "name": "stdout",
     "output_type": "stream",
     "text": [
      "[[4 2]\n",
      " [1 3]]\n"
     ]
    }
   ],
   "source": [
    "matriz_ejemplo = np.array([[4,2],[1,3]])\n",
    "print(matriz_ejemplo)"
   ]
  },
  {
   "cell_type": "code",
   "execution_count": 6,
   "metadata": {
    "colab": {
     "base_uri": "https://localhost:8080/"
    },
    "id": "Jxj6Or8MVpW3",
    "outputId": "7698ca04-9422-4941-9b1f-3a9c5690ed40"
   },
   "outputs": [
    {
     "name": "stdout",
     "output_type": "stream",
     "text": [
      "[ 1. -7. 10.]\n"
     ]
    }
   ],
   "source": [
    "coeff = np.poly(matriz_ejemplo)\n",
    "print(coeff)"
   ]
  },
  {
   "cell_type": "code",
   "execution_count": 7,
   "metadata": {
    "colab": {
     "base_uri": "https://localhost:8080/"
    },
    "id": "ljKbyEwNjUET",
    "outputId": "2acb96d6-1d17-44f2-fe38-abd1c9478596"
   },
   "outputs": [
    {
     "name": "stdout",
     "output_type": "stream",
     "text": [
      "[5. 2.]\n"
     ]
    }
   ],
   "source": [
    "raices = np.roots(coeff)\n",
    "print(raices)"
   ]
  },
  {
   "cell_type": "code",
   "execution_count": 8,
   "metadata": {
    "colab": {
     "base_uri": "https://localhost:8080/"
    },
    "id": "CABWlypqEc5A",
    "outputId": "5cb58986-8b67-41ed-e6cd-88c03d9f44c9"
   },
   "outputs": [
    {
     "name": "stdout",
     "output_type": "stream",
     "text": [
      "(array([5., 2.]), array([[ 0.89442719, -0.70710678],\n",
      "       [ 0.4472136 ,  0.70710678]]))\n"
     ]
    }
   ],
   "source": [
    "resultados = npl.eig(matriz_ejemplo)\n",
    "print(resultados)"
   ]
  },
  {
   "cell_type": "code",
   "execution_count": 9,
   "metadata": {
    "colab": {
     "base_uri": "https://localhost:8080/"
    },
    "id": "xqr68k3-jptN",
    "outputId": "c6e8d18f-c654-4488-d1ee-4648138485fa"
   },
   "outputs": [
    {
     "name": "stdout",
     "output_type": "stream",
     "text": [
      "[-0.70710678  0.70710678]\n",
      "[0.89442719 0.4472136 ]\n"
     ]
    }
   ],
   "source": [
    "autovector_1= npl.eig(matriz_ejemplo)[1][:,1]\n",
    "autovector_2= npl.eig(matriz_ejemplo)[1][:,0]\n",
    "print(autovector_1)\n",
    "print(autovector_2)"
   ]
  },
  {
   "cell_type": "code",
   "execution_count": 10,
   "metadata": {
    "id": "WZQ_QA4Mx1QM"
   },
   "outputs": [],
   "source": [
    "import matplotlib.pyplot as plt"
   ]
  },
  {
   "cell_type": "code",
   "execution_count": 11,
   "metadata": {
    "colab": {
     "base_uri": "https://localhost:8080/",
     "height": 265
    },
    "id": "scrlAV2Qx4ks",
    "outputId": "9431b8bc-aa58-4a3e-cda1-dc02fc4a0e12"
   },
   "outputs": [
    {
     "data": {
      "image/png": "[encoded data removed]",
      "text/plain": [
       "<Figure size 432x288 with 1 Axes>"
      ]
     },
     "metadata": {
      "needs_background": "light"
     },
     "output_type": "display_data"
    }
   ],
   "source": [
    "# Figure setup.\n",
    "fig = plt.figure()\n",
    "ax = fig.add_subplot(111)\n",
    "scale = 10\n",
    "origin2D = np.vstack([0,0])\n",
    "plt.axis([-scale/2,scale/2,-scale/2,scale/2])\n",
    "#plt.title(\"Vectores Originales  y autovectores generados.\")\n",
    "plt.quiver(*origin2D,*matriz_ejemplo[:,0],scale=scale, label='Vectores Originales')\n",
    "plt.quiver(*origin2D,*matriz_ejemplo[:,1],scale=scale)\n",
    "# Figure setup.\n",
    "\n",
    "\n",
    "# Eigenvectors.\n",
    "\n",
    "plt.quiver(*origin2D, *(autovector_1*5), scale=scale,color=\"gold\", label='Autovectores')\n",
    "plt.quiver(*origin2D, *(autovector_2*2), scale=scale,color=\"gold\")\n",
    "#plt.quiver(*origin2D, *eigenvalueVec(lam1)[:,1], scale=scale,color=\"gold\")\n",
    "#plt.quiver(*origin2D, *eigenvalueVec(lam2)[:,0], scale=scale,color=\"lightblue\")\n",
    "#plt.quiver(*origin2D, *eigenvalueVec(lam2)[:,1], scale=scale,color=\"lightblue\")\n",
    "# Eigenvectors.\n",
    "\n",
    "\n",
    "\n",
    "ax.set_aspect('equal', adjustable='box')\n",
    "plt.legend();"
   ]
  },
  {
   "cell_type": "code",
   "execution_count": null,
   "metadata": {},
   "outputs": [],
   "source": []
  }
 ],
 "metadata": {
  "colab": {
   "name": "Descomposicion_matricial.ipynb",
   "provenance": []
  },
  "kernelspec": {
   "display_name": "Python 3 (ipykernel)",
   "language": "python",
   "name": "python3"
  },
  "language_info": {
   "codemirror_mode": {
    "name": "ipython",
    "version": 3
   },
   "file_extension": ".py",
   "mimetype": "text/x-python",
   "name": "python",
   "nbconvert_exporter": "python",
   "pygments_lexer": "ipython3",
   "version": "3.9.7"
  }
 },
 "nbformat": 4,
 "nbformat_minor": 1
}
