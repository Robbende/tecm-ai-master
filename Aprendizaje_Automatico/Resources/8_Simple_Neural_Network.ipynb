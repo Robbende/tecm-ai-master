{
 "cells": [
  {
   "cell_type": "code",
   "execution_count": 13,
   "metadata": {
    "id": "xM0km3ye2EhT"
   },
   "outputs": [],
   "source": [
    "import numpy \n",
    "import matplotlib.pyplot"
   ]
  },
  {
   "cell_type": "code",
   "execution_count": 14,
   "metadata": {
    "id": "DEiByCISP4Z3"
   },
   "outputs": [],
   "source": [
    "def sigmoid(sop):\n",
    "    return 1.0/(1+numpy.exp(-1*sop))"
   ]
  },
  {
   "cell_type": "code",
   "execution_count": 15,
   "metadata": {
    "id": "_Dc0XPX3QD-E"
   },
   "outputs": [],
   "source": [
    "def error(predicted, target):\n",
    "    return numpy.power(predicted-target, 2)"
   ]
  },
  {
   "cell_type": "code",
   "execution_count": 22,
   "metadata": {
    "id": "0K_dXzxzQOxH"
   },
   "outputs": [],
   "source": [
    "def error_predicted_deriv(predicted, target):\n",
    "\n",
    "    global w1, w2\n",
    "    w1 = update_w(w1, gradw1, razon_de_aprendizaje)\n",
    "    w2 = update_w(w2, gradw2, razon_de_aprendizaje)\n",
    "\n",
    "    #print(predicted)"
   ]
  },
  {
   "cell_type": "code",
   "execution_count": 17,
   "metadata": {
    "id": "xBFToXFHQV1S"
   },
   "outputs": [],
   "source": [
    "def sigmoid_sop_deriv(sop):\n",
    "    return sigmoid(sop)*(1.0-sigmoid(sop))"
   ]
  },
  {
   "cell_type": "code",
   "execution_count": 18,
   "metadata": {
    "id": "-T8q-HqRQkGg"
   },
   "outputs": [],
   "source": [
    "def sop_w_deriv(x):\n",
    "    return x"
   ]
  },
  {
   "cell_type": "code",
   "execution_count": 19,
   "metadata": {
    "id": "NwF0LDJE2Wka"
   },
   "outputs": [],
   "source": [
    "def update_w(w, grad, learning_rate):\n",
    "    return w - learning_rate*grad"
   ]
  },
  {
   "cell_type": "code",
   "execution_count": 20,
   "metadata": {
    "colab": {
     "base_uri": "https://localhost:8080/"
    },
    "id": "SH1Q_bFi3NGp",
    "outputId": "29c1bcc1-ce4a-4d51-c363-e806449bc8f7"
   },
   "outputs": [
    {
     "name": "stdout",
     "output_type": "stream",
     "text": [
      "Valor de los pesos W1 y W2 : 0.1860272920119045 0.31636112052448273\n"
     ]
    }
   ],
   "source": [
    "x1=0.1\n",
    "x2=0.4\n",
    "\n",
    "valor_objetivo = 0.7\n",
    "razon_de_aprendizaje = 0.01\n",
    "\n",
    "w1=numpy.random.rand()\n",
    "w2=numpy.random.rand()\n",
    "\n",
    "print(\"Valor de los pesos W1 y W2 :\", w1, w2)\n",
    "\n",
    "predicted_output = []\n",
    "network_error = []"
   ]
  },
  {
   "cell_type": "code",
   "execution_count": 23,
   "metadata": {
    "id": "3u9KXFat35Oa"
   },
   "outputs": [
    {
     "ename": "NameError",
     "evalue": "name 'gradw1' is not defined",
     "output_type": "error",
     "traceback": [
      "\u001b[1;31m---------------------------------------------------------------------------\u001b[0m",
      "\u001b[1;31mNameError\u001b[0m                                 Traceback (most recent call last)",
      "\u001b[1;32m~\\AppData\\Local\\Temp/ipykernel_21764/2931109986.py\u001b[0m in \u001b[0;36m<module>\u001b[1;34m\u001b[0m\n\u001b[0;32m     11\u001b[0m \u001b[1;33m\u001b[0m\u001b[0m\n\u001b[0;32m     12\u001b[0m     \u001b[1;31m# Paso hacia atrás\u001b[0m\u001b[1;33m\u001b[0m\u001b[1;33m\u001b[0m\u001b[0m\n\u001b[1;32m---> 13\u001b[1;33m     \u001b[0mg1\u001b[0m \u001b[1;33m=\u001b[0m \u001b[0merror_predicted_deriv\u001b[0m\u001b[1;33m(\u001b[0m\u001b[0mpredicted\u001b[0m\u001b[1;33m,\u001b[0m \u001b[0mvalor_objetivo\u001b[0m\u001b[1;33m)\u001b[0m\u001b[1;33m\u001b[0m\u001b[1;33m\u001b[0m\u001b[0m\n\u001b[0m\u001b[0;32m     14\u001b[0m \u001b[1;33m\u001b[0m\u001b[0m\n\u001b[0;32m     15\u001b[0m     \u001b[0mg2\u001b[0m \u001b[1;33m=\u001b[0m \u001b[0msigmoid_sop_deriv\u001b[0m\u001b[1;33m(\u001b[0m\u001b[0my\u001b[0m\u001b[1;33m)\u001b[0m\u001b[1;33m\u001b[0m\u001b[1;33m\u001b[0m\u001b[0m\n",
      "\u001b[1;32m~\\AppData\\Local\\Temp/ipykernel_21764/3387382208.py\u001b[0m in \u001b[0;36merror_predicted_deriv\u001b[1;34m(predicted, target)\u001b[0m\n\u001b[0;32m      2\u001b[0m \u001b[1;33m\u001b[0m\u001b[0m\n\u001b[0;32m      3\u001b[0m     \u001b[1;32mglobal\u001b[0m \u001b[0mw1\u001b[0m\u001b[1;33m,\u001b[0m \u001b[0mw2\u001b[0m\u001b[1;33m\u001b[0m\u001b[1;33m\u001b[0m\u001b[0m\n\u001b[1;32m----> 4\u001b[1;33m     \u001b[0mw1\u001b[0m \u001b[1;33m=\u001b[0m \u001b[0mupdate_w\u001b[0m\u001b[1;33m(\u001b[0m\u001b[0mw1\u001b[0m\u001b[1;33m,\u001b[0m \u001b[0mgradw1\u001b[0m\u001b[1;33m,\u001b[0m \u001b[0mrazon_de_aprendizaje\u001b[0m\u001b[1;33m)\u001b[0m\u001b[1;33m\u001b[0m\u001b[1;33m\u001b[0m\u001b[0m\n\u001b[0m\u001b[0;32m      5\u001b[0m     \u001b[0mw2\u001b[0m \u001b[1;33m=\u001b[0m \u001b[0mupdate_w\u001b[0m\u001b[1;33m(\u001b[0m\u001b[0mw2\u001b[0m\u001b[1;33m,\u001b[0m \u001b[0mgradw2\u001b[0m\u001b[1;33m,\u001b[0m \u001b[0mrazon_de_aprendizaje\u001b[0m\u001b[1;33m)\u001b[0m\u001b[1;33m\u001b[0m\u001b[1;33m\u001b[0m\u001b[0m\n\u001b[0;32m      6\u001b[0m \u001b[1;33m\u001b[0m\u001b[0m\n",
      "\u001b[1;31mNameError\u001b[0m: name 'gradw1' is not defined"
     ]
    }
   ],
   "source": [
    "old_err = 0\n",
    "for k in range(10000):\n",
    "\n",
    "    # Paso hacia adelante\n",
    "    y = w1*x1 + w2*x2\n",
    "    predicted = sigmoid(y)\n",
    "    err = error(predicted, valor_objetivo)\n",
    "    \n",
    "    predicted_output.append(predicted)\n",
    "    network_error.append(err)\n",
    "\n",
    "    # Paso hacia atrás\n",
    "    g1 = error_predicted_deriv(predicted, valor_objetivo)\n",
    "\n",
    "    g2 = sigmoid_sop_deriv(y)\n",
    "    \n",
    "    g3w1 = sop_w_deriv(x1)\n",
    "    g3w2 = sop_w_deriv(x2)\n",
    "    \n",
    "    gradw1 = g3w1*g2*g1\n",
    "    gradw2 = g3w2*g2*g1\n",
    "\n",
    "    w1 = update_w(w1, gradw1, razon_de_aprendizaje)\n",
    "    w2 = update_w(w2, gradw2, razon_de_aprendizaje)\n",
    "\n",
    "    #print(predicted)"
   ]
  },
  {
   "cell_type": "code",
   "execution_count": 10,
   "metadata": {
    "colab": {
     "base_uri": "https://localhost:8080/"
    },
    "id": "qPmXOWi14m_6",
    "outputId": "c44285b2-f49a-4912-a0ef-0b99445c8d18"
   },
   "outputs": [
    {
     "name": "stdout",
     "output_type": "stream",
     "text": [
      "Valor de los pesos W1 y W2 : 0.38872890228680845 0.009322970622878013\n"
     ]
    }
   ],
   "source": [
    "print(\"Valor de los pesos W1 y W2 :\", w1, w2)"
   ]
  },
  {
   "cell_type": "code",
   "execution_count": null,
   "metadata": {},
   "outputs": [],
   "source": []
  }
 ],
 "metadata": {
  "colab": {
   "name": "Tema_5 (Parte_2).ipynb",
   "provenance": []
  },
  "kernelspec": {
   "display_name": "Python 3 (ipykernel)",
   "language": "python",
   "name": "python3"
  },
  "language_info": {
   "codemirror_mode": {
    "name": "ipython",
    "version": 3
   },
   "file_extension": ".py",
   "mimetype": "text/x-python",
   "name": "python",
   "nbconvert_exporter": "python",
   "pygments_lexer": "ipython3",
   "version": "3.9.7"
  }
 },
 "nbformat": 4,
 "nbformat_minor": 1
}
