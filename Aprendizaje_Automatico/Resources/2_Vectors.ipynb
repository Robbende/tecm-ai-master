{
 "cells": [
  {
   "cell_type": "code",
   "execution_count": 1,
   "metadata": {
    "id": "WTzSEgCUvrMC"
   },
   "outputs": [],
   "source": [
    "import numpy as np\n",
    "import matplotlib.pyplot as plt"
   ]
  },
  {
   "cell_type": "markdown",
   "metadata": {
    "id": "cFi0pP6FvjN-"
   },
   "source": [
    "# Graficar vectores\n",
    "\n"
   ]
  },
  {
   "cell_type": "code",
   "execution_count": 2,
   "metadata": {
    "id": "KH3CKJwcv185"
   },
   "outputs": [],
   "source": [
    "def graficarVectores(vecs, cols, alpha = 1):\n",
    "  plt.figure()\n",
    "  plt.axvline(x = 0, color = \"grey\")\n",
    "  plt.axhline(y = 0, color = \"grey\")\n",
    "\n",
    "  for i in range(len(vecs)):\n",
    "        x = np.concatenate([[0,0], vecs[i]])\n",
    "        plt.quiver([x[0]],\n",
    "                   [x[1]],\n",
    "                   [x[2]],\n",
    "                   [x[3]],\n",
    "                  angles='xy', scale_units='xy', scale=1,\n",
    "                   color=cols[i],\n",
    "                  alpha = alpha)"
   ]
  },
  {
   "cell_type": "code",
   "execution_count": 3,
   "metadata": {
    "id": "ckL81WF8upB2"
   },
   "outputs": [],
   "source": [
    "v1 = np.array([0,5])"
   ]
  },
  {
   "cell_type": "code",
   "execution_count": 4,
   "metadata": {
    "colab": {
     "base_uri": "https://localhost:8080/",
     "height": 287
    },
    "id": "8Zsqm2QdwH6R",
    "outputId": "f4def6da-169a-4b26-e29b-59d3480c17f5"
   },
   "outputs": [
    {
     "data": {
      "text/plain": [
       "(-1.0, 6.0)"
      ]
     },
     "execution_count": 4,
     "metadata": {},
     "output_type": "execute_result"
    },
    {
     "data": {
      "image/png": "[encoded data removed]",
      "text/plain": [
       "<Figure size 432x288 with 1 Axes>"
      ]
     },
     "metadata": {
      "needs_background": "light"
     },
     "output_type": "display_data"
    }
   ],
   "source": [
    "graficarVectores([v1], ['red'])\n",
    "plt.xlim(-1, 6)\n",
    "plt.ylim(-1, 6)"
   ]
  },
  {
   "cell_type": "markdown",
   "metadata": {
    "id": "D48meW6mw1JX"
   },
   "source": [
    "## Producto escalar"
   ]
  },
  {
   "cell_type": "code",
   "execution_count": 5,
   "metadata": {
    "id": "FN4vjNmQw3_3"
   },
   "outputs": [],
   "source": [
    "escalar = 0.5\n",
    "v2 = escalar*v1"
   ]
  },
  {
   "cell_type": "code",
   "execution_count": 6,
   "metadata": {
    "colab": {
     "base_uri": "https://localhost:8080/",
     "height": 287
    },
    "id": "0Lu-wfbdxBk_",
    "outputId": "d13d684f-d8aa-4590-cc65-97b0b1dd7e15"
   },
   "outputs": [
    {
     "data": {
      "text/plain": [
       "(-1.0, 10.0)"
      ]
     },
     "execution_count": 6,
     "metadata": {},
     "output_type": "execute_result"
    },
    {
     "data": {
      "image/png": "[encoded data removed]",
      "text/plain": [
       "<Figure size 432x288 with 1 Axes>"
      ]
     },
     "metadata": {
      "needs_background": "light"
     },
     "output_type": "display_data"
    }
   ],
   "source": [
    "graficarVectores([v1, v2], ['blue', 'red'])\n",
    "plt.xlim(-1, 8)\n",
    "plt.ylim(-1, 10)"
   ]
  },
  {
   "cell_type": "markdown",
   "metadata": {
    "id": "Ls3Z5N19zb3r"
   },
   "source": [
    "## Suma de Vectores "
   ]
  },
  {
   "cell_type": "code",
   "execution_count": 7,
   "metadata": {
    "colab": {
     "base_uri": "https://localhost:8080/"
    },
    "id": "9pktyPnazgA4",
    "outputId": "603e67f9-c4a7-4f1b-9a13-97d314458a00"
   },
   "outputs": [
    {
     "name": "stdout",
     "output_type": "stream",
     "text": [
      "[5 5]\n"
     ]
    }
   ],
   "source": [
    "v3 = np.array([5,0])\n",
    "v4 = v1 + v3\n",
    "print(v4)"
   ]
  },
  {
   "cell_type": "code",
   "execution_count": 8,
   "metadata": {
    "colab": {
     "base_uri": "https://localhost:8080/",
     "height": 287
    },
    "id": "9lE9bqK4Su7g",
    "outputId": "abbb99ab-9141-4138-dc31-6a09bec0d0dc"
   },
   "outputs": [
    {
     "data": {
      "text/plain": [
       "(-1.0, 10.0)"
      ]
     },
     "execution_count": 8,
     "metadata": {},
     "output_type": "execute_result"
    },
    {
     "data": {
      "image/png": "[encoded data removed]",
      "text/plain": [
       "<Figure size 432x288 with 1 Axes>"
      ]
     },
     "metadata": {
      "needs_background": "light"
     },
     "output_type": "display_data"
    }
   ],
   "source": [
    "graficarVectores([v4], ['blue'])\n",
    "plt.xlim(-1, 8)\n",
    "plt.ylim(-1, 10)"
   ]
  },
  {
   "cell_type": "code",
   "execution_count": 9,
   "metadata": {
    "colab": {
     "base_uri": "https://localhost:8080/",
     "height": 287
    },
    "id": "Zk2ee6SNxJE_",
    "outputId": "cb53bc03-3fd3-47f4-b722-3373fd92ef4e"
   },
   "outputs": [
    {
     "data": {
      "text/plain": [
       "(-1.0, 10.0)"
      ]
     },
     "execution_count": 9,
     "metadata": {},
     "output_type": "execute_result"
    },
    {
     "data": {
      "image/png": "[encoded data removed]",
      "text/plain": [
       "<Figure size 432x288 with 1 Axes>"
      ]
     },
     "metadata": {
      "needs_background": "light"
     },
     "output_type": "display_data"
    }
   ],
   "source": [
    "graficarVectores([v1, v3, v4], ['blue', 'orange', 'green'])\n",
    "plt.xlim(-1, 8)\n",
    "plt.ylim(-1, 10)"
   ]
  },
  {
   "cell_type": "markdown",
   "metadata": {
    "id": "3oT01ZwJ02Pn"
   },
   "source": [
    "## Normas"
   ]
  },
  {
   "cell_type": "code",
   "execution_count": 10,
   "metadata": {
    "colab": {
     "base_uri": "https://localhost:8080/"
    },
    "id": "TT3bgqTk0B2A",
    "outputId": "c6e96ed2-8c62-4da3-e06e-1ee26a00e1b9"
   },
   "outputs": [
    {
     "name": "stdout",
     "output_type": "stream",
     "text": [
      "5.0\n"
     ]
    }
   ],
   "source": [
    "norma_L1 = np.linalg.norm(v3, ord=1)\n",
    "print(norma_L1)"
   ]
  },
  {
   "cell_type": "code",
   "execution_count": 11,
   "metadata": {
    "colab": {
     "base_uri": "https://localhost:8080/"
    },
    "id": "81QM-FiX1Lll",
    "outputId": "e1d99684-d39f-4339-c4ad-9b7e2417b62a"
   },
   "outputs": [
    {
     "name": "stdout",
     "output_type": "stream",
     "text": [
      "5.0\n"
     ]
    }
   ],
   "source": [
    "norma_L2 = np.linalg.norm(v3)\n",
    "print(norma_L2)"
   ]
  },
  {
   "cell_type": "markdown",
   "metadata": {
    "id": "NqsHTvDi1tZ7"
   },
   "source": [
    "## Producto punto vectorial"
   ]
  },
  {
   "cell_type": "code",
   "execution_count": 12,
   "metadata": {
    "id": "W0ydGmRA2Frh"
   },
   "outputs": [],
   "source": [
    "vector_1 = np.array([1,2,3])\n",
    "vector_2 = np.array([4,5,6])"
   ]
  },
  {
   "cell_type": "code",
   "execution_count": 13,
   "metadata": {
    "colab": {
     "base_uri": "https://localhost:8080/"
    },
    "id": "lsLXAIr35LLB",
    "outputId": "e080e6f3-aaba-44cd-b7b9-2e4a5a65a68b"
   },
   "outputs": [
    {
     "name": "stdout",
     "output_type": "stream",
     "text": [
      "32\n"
     ]
    }
   ],
   "source": [
    "p_punto = np.dot(vector_1,vector_2)\n",
    "print(p_punto)"
   ]
  },
  {
   "cell_type": "markdown",
   "metadata": {
    "id": "nqPkda3R6lSX"
   },
   "source": [
    "## Producto punto (Producto Interno) representación matricial"
   ]
  },
  {
   "cell_type": "code",
   "execution_count": 14,
   "metadata": {
    "colab": {
     "base_uri": "https://localhost:8080/"
    },
    "id": "tGjxzato6qFD",
    "outputId": "fac0d9f2-7a61-4caa-d79b-10a13182d0d0"
   },
   "outputs": [
    {
     "name": "stdout",
     "output_type": "stream",
     "text": [
      "[[1]\n",
      " [2]]\n",
      "[[3]\n",
      " [4]]\n"
     ]
    }
   ],
   "source": [
    "x = np.array([[1],[2]])\n",
    "y = np.array([[3],[4]])\n",
    "print(x)\n",
    "print(y)"
   ]
  },
  {
   "cell_type": "code",
   "execution_count": 15,
   "metadata": {
    "colab": {
     "base_uri": "https://localhost:8080/"
    },
    "id": "ta6N7IEG6yQO",
    "outputId": "d6c3695d-2f3c-40fa-baab-55488b882265"
   },
   "outputs": [
    {
     "name": "stdout",
     "output_type": "stream",
     "text": [
      "[[3 4]\n",
      " [6 8]]\n"
     ]
    }
   ],
   "source": [
    "producto_punto = np.dot(x,y.T)\n",
    "print(producto_punto)"
   ]
  },
  {
   "cell_type": "code",
   "execution_count": 16,
   "metadata": {
    "colab": {
     "base_uri": "https://localhost:8080/"
    },
    "id": "fLd9XzTj67Iu",
    "outputId": "66bfc7ee-b961-42ef-f7ba-50d3f3fba74d"
   },
   "outputs": [
    {
     "name": "stdout",
     "output_type": "stream",
     "text": [
      "[[3 4]\n",
      " [6 8]]\n"
     ]
    }
   ],
   "source": [
    "producto_interno = np.inner(x,y)\n",
    "print(producto_interno)"
   ]
  },
  {
   "cell_type": "code",
   "execution_count": 17,
   "metadata": {
    "colab": {
     "base_uri": "https://localhost:8080/"
    },
    "id": "ghR1-nXm6uIY",
    "outputId": "c8545373-f060-4c9d-8511-b504875f0c8f"
   },
   "outputs": [
    {
     "name": "stdout",
     "output_type": "stream",
     "text": [
      "[[3 4]\n",
      " [6 8]]\n"
     ]
    }
   ],
   "source": [
    "producto_punto = x@y.T\n",
    "print(producto_punto)"
   ]
  },
  {
   "cell_type": "markdown",
   "metadata": {
    "id": "v18L6LOx7KPB"
   },
   "source": [
    "## Comprobar simetría matriz"
   ]
  },
  {
   "cell_type": "code",
   "execution_count": 18,
   "metadata": {
    "colab": {
     "base_uri": "https://localhost:8080/"
    },
    "id": "kryPyD_37OvA",
    "outputId": "d2dd97db-ae05-44a7-d57c-0c6bfdea2f0c"
   },
   "outputs": [
    {
     "data": {
      "text/plain": [
       "array([[ 6,  3],\n",
       "       [ 3, 10]])"
      ]
     },
     "execution_count": 18,
     "metadata": {},
     "output_type": "execute_result"
    }
   ],
   "source": [
    "matriz_1 = np.array([[6,3],[3,10]])\n",
    "matriz_1"
   ]
  },
  {
   "cell_type": "code",
   "execution_count": 19,
   "metadata": {
    "id": "-ydAEQbj7Q6R"
   },
   "outputs": [],
   "source": [
    "def comprobar_simetria(a, rtol=1e-05, atol=1e-08):\n",
    "    return np.allclose(a, a.T, rtol=rtol, atol=atol)"
   ]
  },
  {
   "cell_type": "code",
   "execution_count": 20,
   "metadata": {
    "colab": {
     "base_uri": "https://localhost:8080/"
    },
    "id": "5PhCckl17Tto",
    "outputId": "314eb97c-e40f-4216-e5e6-f11cb7a8f0a9"
   },
   "outputs": [
    {
     "data": {
      "text/plain": [
       "True"
      ]
     },
     "execution_count": 20,
     "metadata": {},
     "output_type": "execute_result"
    }
   ],
   "source": [
    "comprobar_simetria(matriz_1)"
   ]
  },
  {
   "cell_type": "markdown",
   "metadata": {
    "id": "b7TNRgvK8Aw0"
   },
   "source": [
    "## Longitud de un vector (representación matricial)"
   ]
  },
  {
   "cell_type": "code",
   "execution_count": 21,
   "metadata": {
    "colab": {
     "base_uri": "https://localhost:8080/"
    },
    "id": "8Wh3SjjVVcT_",
    "outputId": "08b768a1-233e-442a-e24c-f962713f639b"
   },
   "outputs": [
    {
     "name": "stdout",
     "output_type": "stream",
     "text": [
      "9.219544457292887\n"
     ]
    }
   ],
   "source": [
    "a = np.array([7,6])\n",
    "norma_L2 = np.linalg.norm(a)\n",
    "print(norma_L2)"
   ]
  },
  {
   "cell_type": "code",
   "execution_count": 22,
   "metadata": {
    "colab": {
     "base_uri": "https://localhost:8080/"
    },
    "id": "bZ_6FKcx7yPW",
    "outputId": "83c3d4f7-c49f-4f0e-b6e1-c8d1523f396e"
   },
   "outputs": [
    {
     "name": "stdout",
     "output_type": "stream",
     "text": [
      "[[9.21954446]]\n"
     ]
    }
   ],
   "source": [
    "a = np.array([[7],[6]])\n",
    "logitud_a = np.sqrt(np.dot(a.T,a))\n",
    "print(logitud_a)"
   ]
  },
  {
   "cell_type": "markdown",
   "metadata": {
    "id": "aybSo_x78QaU"
   },
   "source": [
    "## Ángulos entre vectores"
   ]
  },
  {
   "cell_type": "code",
   "execution_count": 23,
   "metadata": {
    "colab": {
     "base_uri": "https://localhost:8080/"
    },
    "id": "NdoqnBExZh25",
    "outputId": "7d9287ed-eef2-435f-d216-ccffaa88bc3b"
   },
   "outputs": [
    {
     "name": "stdout",
     "output_type": "stream",
     "text": [
      "[1 2 3]\n"
     ]
    }
   ],
   "source": [
    "ejemplo = np.array([1,2,3])\n",
    "print(ejemplo)"
   ]
  },
  {
   "cell_type": "code",
   "execution_count": 24,
   "metadata": {
    "colab": {
     "base_uri": "https://localhost:8080/"
    },
    "id": "TfpFKkW0ZzOi",
    "outputId": "ead008a7-15bb-46f7-a6db-942722716d64"
   },
   "outputs": [
    {
     "name": "stdout",
     "output_type": "stream",
     "text": [
      "[[1 2 3]]\n"
     ]
    }
   ],
   "source": [
    "ejemplo1 = np.array([[1,2,3]])\n",
    "print(ejemplo1) "
   ]
  },
  {
   "cell_type": "code",
   "execution_count": 25,
   "metadata": {
    "colab": {
     "base_uri": "https://localhost:8080/"
    },
    "id": "D1jeT_5vaCVA",
    "outputId": "f1b9f6c6-ae53-425e-8364-68c5b8443eb5"
   },
   "outputs": [
    {
     "name": "stdout",
     "output_type": "stream",
     "text": [
      "[[1]\n",
      " [2]\n",
      " [3]]\n"
     ]
    }
   ],
   "source": [
    "ejemplo2 = np.array([[1],[2],[3]])\n",
    "print(ejemplo2)"
   ]
  },
  {
   "cell_type": "code",
   "execution_count": 26,
   "metadata": {
    "colab": {
     "base_uri": "https://localhost:8080/"
    },
    "id": "eyszR59XaPpP",
    "outputId": "8bd5e9fc-6c6c-46e6-9ca5-d3c6068b1424"
   },
   "outputs": [
    {
     "name": "stdout",
     "output_type": "stream",
     "text": [
      "[[1]\n",
      " [2]\n",
      " [3]]\n"
     ]
    }
   ],
   "source": [
    "ejemplo = np.vstack([1,2,3])\n",
    "print(ejemplo)"
   ]
  },
  {
   "cell_type": "code",
   "execution_count": 27,
   "metadata": {
    "colab": {
     "base_uri": "https://localhost:8080/"
    },
    "id": "2sn2ykwzaegr",
    "outputId": "47a5d1f4-47e9-48c1-831a-eff58d900599"
   },
   "outputs": [
    {
     "name": "stdout",
     "output_type": "stream",
     "text": [
      "[1 2 3]\n"
     ]
    }
   ],
   "source": [
    "ejemplo = np.hstack([1,2,3])\n",
    "print(ejemplo)"
   ]
  },
  {
   "cell_type": "code",
   "execution_count": 28,
   "metadata": {
    "colab": {
     "base_uri": "https://localhost:8080/"
    },
    "id": "S4Sl3Ky78Ubn",
    "outputId": "3431c7e9-4488-4416-993b-752385326d1b"
   },
   "outputs": [
    {
     "data": {
      "text/plain": [
       "18.434948822922017"
      ]
     },
     "execution_count": 28,
     "metadata": {},
     "output_type": "execute_result"
    }
   ],
   "source": [
    "a = np.vstack([1,1])\n",
    "b = np.vstack([1,2])\n",
    "cosAngle = lambda a, b: (np.dot(a.T,b)/np.sqrt(np.dot(np.dot(a.T,a),np.dot(b.T,b))))[0][0]\n",
    "angle = lambda cos: np.arccos(cos)*(180/np.pi)\n",
    "angle(cosAngle(a,b))\n"
   ]
  },
  {
   "cell_type": "code",
   "execution_count": null,
   "metadata": {},
   "outputs": [],
   "source": []
  }
 ],
 "metadata": {
  "colab": {
   "name": "Tema_3.ipynb",
   "provenance": []
  },
  "kernelspec": {
   "display_name": "Python 3 (ipykernel)",
   "language": "python",
   "name": "python3"
  },
  "language_info": {
   "codemirror_mode": {
    "name": "ipython",
    "version": 3
   },
   "file_extension": ".py",
   "mimetype": "text/x-python",
   "name": "python",
   "nbconvert_exporter": "python",
   "pygments_lexer": "ipython3",
   "version": "3.9.7"
  }
 },
 "nbformat": 4,
 "nbformat_minor": 1
}
