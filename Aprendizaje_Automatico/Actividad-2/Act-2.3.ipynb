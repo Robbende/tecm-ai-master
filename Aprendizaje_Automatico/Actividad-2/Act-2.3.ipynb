{
 "cells": [
  {
   "cell_type": "markdown",
   "id": "44f9e7ce",
   "metadata": {},
   "source": [
    "### Punto 3 - Proyeccion de un vector"
   ]
  },
  {
   "cell_type": "code",
   "execution_count": 1,
   "id": "9412593a",
   "metadata": {},
   "outputs": [],
   "source": [
    "import numpy as np\n",
    "import matplotlib.pyplot as plt"
   ]
  },
  {
   "cell_type": "code",
   "execution_count": 2,
   "id": "58e4dbf6",
   "metadata": {},
   "outputs": [
    {
     "name": "stdout",
     "output_type": "stream",
     "text": [
      "vector base [[5]\n",
      " [3]]\n",
      "vector a proyectar [[-2]\n",
      " [ 7]]\n"
     ]
    }
   ],
   "source": [
    "# vector base\n",
    "vb = np.vstack([5,3])\n",
    "\n",
    "# vector a proyectar x\n",
    "vx = np.vstack([-2,7])\n",
    "\n",
    "print('vector base', vb)\n",
    "print('vector a proyectar', vx)"
   ]
  },
  {
   "cell_type": "code",
   "execution_count": 9,
   "id": "22236ca5",
   "metadata": {},
   "outputs": [
    {
     "name": "stdout",
     "output_type": "stream",
     "text": [
      "[[0.32352941]]\n"
     ]
    }
   ],
   "source": [
    "# calculo de lambda \n",
    "lambd = np.dot(vb.T,vx)/np.linalg.norm(vb)**2 # b^T x / ||b||^2; \n",
    "print(lambd)"
   ]
  },
  {
   "cell_type": "code",
   "execution_count": 32,
   "id": "32ad52fd",
   "metadata": {},
   "outputs": [
    {
     "name": "stdout",
     "output_type": "stream",
     "text": [
      "vector proyectado [[1.61764706]\n",
      " [0.97058824]]\n"
     ]
    }
   ],
   "source": [
    "# vector proyectado\n",
    "vb_proy = lambd*vb\n",
    "print('vector proyectado', vb_proy)"
   ]
  },
  {
   "cell_type": "code",
   "execution_count": 24,
   "id": "431db975",
   "metadata": {},
   "outputs": [
    {
     "name": "stdout",
     "output_type": "stream",
     "text": [
      "[[0.73529412 0.44117647]\n",
      " [0.44117647 0.26470588]]\n"
     ]
    }
   ],
   "source": [
    "# Matriz de proyeccion\n",
    "\n",
    "mp = np.dot(vb,vb.T)/np.linalg.norm(vb)**2 #bb^T/||b||^2\n",
    "print(mp)"
   ]
  },
  {
   "cell_type": "code",
   "execution_count": 31,
   "id": "796a384a",
   "metadata": {},
   "outputs": [
    {
     "name": "stdout",
     "output_type": "stream",
     "text": [
      "vector proyectado [[1.61764706]\n",
      " [0.97058824]]\n"
     ]
    }
   ],
   "source": [
    "# obtener el vector proyectado usando la matriz de proyeccion\n",
    "\n",
    "vb_proy_m = np.dot(mp, vx)\n",
    "print('vector proyectado', vb_proy_m)"
   ]
  },
  {
   "cell_type": "code",
   "execution_count": 40,
   "id": "44c9c657",
   "metadata": {},
   "outputs": [
    {
     "data": {
      "image/png": "[encoded data removed]",
      "text/plain": [
       "<Figure size 432x288 with 1 Axes>"
      ]
     },
     "metadata": {
      "needs_background": "light"
     },
     "output_type": "display_data"
    }
   ],
   "source": [
    "\n",
    "plt.quiver(0,0,vb[0],vb[1], color='green', angles='xy', scale_units='xy', scale=1)\n",
    "plt.quiver(0,0,vx[0],vx[1], color='orange', angles='xy', scale_units='xy', scale=1)\n",
    "plt.quiver(0,0,vb_proy[0],vb_proy[1], color='black', angles='xy', scale_units='xy', scale=1)\n",
    "\n",
    "plt.xlim(-3,6)\n",
    "plt.ylim(-1,8)\n",
    "plt.axvline(x = 0, color = \"grey\")\n",
    "plt.axhline(y = 0, color = \"grey\")\n",
    "plt.show()"
   ]
  },
  {
   "cell_type": "code",
   "execution_count": null,
   "id": "823badc0",
   "metadata": {},
   "outputs": [],
   "source": []
  }
 ],
 "metadata": {
  "kernelspec": {
   "display_name": "Python 3 (ipykernel)",
   "language": "python",
   "name": "python3"
  },
  "language_info": {
   "codemirror_mode": {
    "name": "ipython",
    "version": 3
   },
   "file_extension": ".py",
   "mimetype": "text/x-python",
   "name": "python",
   "nbconvert_exporter": "python",
   "pygments_lexer": "ipython3",
   "version": "3.9.7"
  }
 },
 "nbformat": 4,
 "nbformat_minor": 5
}
