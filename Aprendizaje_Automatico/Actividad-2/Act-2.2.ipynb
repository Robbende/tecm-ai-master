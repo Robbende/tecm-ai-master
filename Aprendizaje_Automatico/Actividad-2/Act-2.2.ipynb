{
 "cells": [
  {
   "cell_type": "markdown",
   "id": "eb55a3fc",
   "metadata": {},
   "source": [
    "### Punto 2 - Operaciones con vectores"
   ]
  },
  {
   "cell_type": "code",
   "execution_count": 1,
   "id": "2c2039db",
   "metadata": {},
   "outputs": [],
   "source": [
    "import numpy as np\n",
    "import matplotlib.pyplot as plt"
   ]
  },
  {
   "cell_type": "code",
   "execution_count": 2,
   "id": "99770b45",
   "metadata": {},
   "outputs": [],
   "source": [
    "def graficarVectores(vecs, cols, alpha = 1):\n",
    "  plt.figure()\n",
    "  plt.axvline(x = 0, color = \"grey\")\n",
    "  plt.axhline(y = 0, color = \"grey\")\n",
    "\n",
    "  for i in range(len(vecs)):\n",
    "        x = np.concatenate([[0,0], vecs[i]])\n",
    "        plt.quiver([x[0]],\n",
    "                   [x[1]],\n",
    "                   [x[2]],\n",
    "                   [x[3]],\n",
    "                  angles='xy', scale_units='xy', scale=1,\n",
    "                   color=cols[i],\n",
    "                  alpha = alpha)"
   ]
  },
  {
   "cell_type": "code",
   "execution_count": 9,
   "id": "0c3560ff",
   "metadata": {},
   "outputs": [
    {
     "name": "stdout",
     "output_type": "stream",
     "text": [
      "vector 1: [4 2]\n",
      "vector 2: [3 8]\n"
     ]
    }
   ],
   "source": [
    "v1 = np.array([4,2])\n",
    "v2 = np.array([3,8])\n",
    "\n",
    "print('vector 1:', v1)\n",
    "print('vector 2:', v2)\n",
    "\n"
   ]
  },
  {
   "cell_type": "code",
   "execution_count": 10,
   "id": "dd9b52db",
   "metadata": {},
   "outputs": [
    {
     "data": {
      "text/plain": [
       "(0.0, 10.0)"
      ]
     },
     "execution_count": 10,
     "metadata": {},
     "output_type": "execute_result"
    },
    {
     "data": {
      "image/png": "[encoded data removed]",
      "text/plain": [
       "<Figure size 432x288 with 1 Axes>"
      ]
     },
     "metadata": {
      "needs_background": "light"
     },
     "output_type": "display_data"
    }
   ],
   "source": [
    "\n",
    "graficarVectores([v1, v2], ['blue', 'green'])\n",
    "plt.xlim(0, 10)\n",
    "plt.ylim(0, 10)"
   ]
  },
  {
   "cell_type": "code",
   "execution_count": 12,
   "id": "1e51f87f",
   "metadata": {},
   "outputs": [
    {
     "name": "stdout",
     "output_type": "stream",
     "text": [
      "producto punto:  28\n"
     ]
    }
   ],
   "source": [
    "# Calculo producto punto\n",
    "\n",
    "prod_v1v2 = np.dot(v1,v2)\n",
    "print('producto punto: ', prod_v1v2)"
   ]
  },
  {
   "cell_type": "code",
   "execution_count": 33,
   "id": "a4432d09",
   "metadata": {},
   "outputs": [
    {
     "name": "stdout",
     "output_type": "stream",
     "text": [
      "4.47213595499958\n",
      "8.54400374531753\n"
     ]
    }
   ],
   "source": [
    "# Calculo longitud vector 1\n",
    "mv1l = np.vstack(v1)\n",
    "lv1 = np.sqrt(np.dot(mv1l.T,mv1l))\n",
    "print(lv1[0][0])\n",
    "\n",
    "\n",
    "# Calculo longitud vector 2\n",
    "mv2l = np.vstack(v2)\n",
    "lv2 = np.sqrt(np.dot(mv2l.T,mv2l))\n",
    "print(lv2[0][0])"
   ]
  },
  {
   "cell_type": "code",
   "execution_count": 24,
   "id": "3b6ade14",
   "metadata": {},
   "outputs": [
    {
     "name": "stdout",
     "output_type": "stream",
     "text": [
      "[[3]\n",
      " [8]]\n"
     ]
    }
   ],
   "source": [
    "a = np.vstack(v2)\n",
    "print(a)"
   ]
  },
  {
   "cell_type": "code",
   "execution_count": 34,
   "id": "8de3085e",
   "metadata": {},
   "outputs": [
    {
     "name": "stdout",
     "output_type": "stream",
     "text": [
      "angulo entre vectores: 42.87890360333854\n"
     ]
    }
   ],
   "source": [
    "# Calculo angulo entre vectores\n",
    "\n",
    "mv1 = np.vstack(v1)\n",
    "mv2 = np.vstack(v2)\n",
    "cosAngle = lambda a, b: (np.dot(a.T,b)/np.sqrt(np.dot(np.dot(a.T,a),np.dot(b.T,b))))[0][0]\n",
    "angle = lambda cos: np.arccos(cos)*(180/np.pi)\n",
    "ang_res = angle(cosAngle(mv1,mv2))\n",
    "print('angulo entre vectores:',ang_res)"
   ]
  },
  {
   "cell_type": "code",
   "execution_count": 38,
   "id": "4cd3d47a",
   "metadata": {},
   "outputs": [
    {
     "name": "stdout",
     "output_type": "stream",
     "text": [
      "vector ortogonal a v1: [-2  4]\n",
      "producto punto: 0\n"
     ]
    }
   ],
   "source": [
    "# Generar vector ortogonal a v1\n",
    "\n",
    "v1_ort = np.array([-2, 4])\n",
    "\n",
    "prod = np.dot(v1, v1_ort) # producto punto = 0\n",
    "\n",
    "print('vector ortogonal a v1:', v1_ort)\n",
    "print('producto punto:', prod)"
   ]
  },
  {
   "cell_type": "code",
   "execution_count": null,
   "id": "2240f5b7",
   "metadata": {},
   "outputs": [],
   "source": []
  }
 ],
 "metadata": {
  "kernelspec": {
   "display_name": "Python 3 (ipykernel)",
   "language": "python",
   "name": "python3"
  },
  "language_info": {
   "codemirror_mode": {
    "name": "ipython",
    "version": 3
   },
   "file_extension": ".py",
   "mimetype": "text/x-python",
   "name": "python",
   "nbconvert_exporter": "python",
   "pygments_lexer": "ipython3",
   "version": "3.9.7"
  }
 },
 "nbformat": 4,
 "nbformat_minor": 5
}
