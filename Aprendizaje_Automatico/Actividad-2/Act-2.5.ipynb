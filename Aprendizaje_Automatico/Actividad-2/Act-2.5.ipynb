{
 "cells": [
  {
   "cell_type": "markdown",
   "id": "0458283d",
   "metadata": {},
   "source": [
    "### Punto 5 - Autovalores y Autovectores"
   ]
  },
  {
   "cell_type": "code",
   "execution_count": 1,
   "id": "de635789",
   "metadata": {},
   "outputs": [],
   "source": [
    "import numpy as np\n",
    "import matplotlib.pyplot as plt"
   ]
  },
  {
   "cell_type": "code",
   "execution_count": 2,
   "id": "b8dc74c4",
   "metadata": {},
   "outputs": [
    {
     "data": {
      "text/plain": [
       "array([[5, 1],\n",
       "       [2, 2]])"
      ]
     },
     "execution_count": 2,
     "metadata": {},
     "output_type": "execute_result"
    }
   ],
   "source": [
    "A = np.array([[5,1],[2,2]])\n",
    "A"
   ]
  },
  {
   "cell_type": "code",
   "execution_count": 3,
   "id": "6e5c5b3d",
   "metadata": {},
   "outputs": [
    {
     "data": {
      "text/plain": [
       "array([ 1., -7.,  8.])"
      ]
     },
     "execution_count": 3,
     "metadata": {},
     "output_type": "execute_result"
    }
   ],
   "source": [
    "# realiza su autodescomposición y grafica los resultados obtenidos en un plano con Matplotlib\n",
    "\n",
    "# Coeficientes del polinomio\n",
    "coef = np.poly(A)\n",
    "coef"
   ]
  },
  {
   "cell_type": "code",
   "execution_count": 4,
   "id": "3ed0fa21",
   "metadata": {},
   "outputs": [
    {
     "data": {
      "text/plain": [
       "array([5.56155281, 1.43844719])"
      ]
     },
     "execution_count": 4,
     "metadata": {},
     "output_type": "execute_result"
    }
   ],
   "source": [
    "# Raices\n",
    "raices = np.roots(coef)\n",
    "raices"
   ]
  },
  {
   "cell_type": "code",
   "execution_count": 5,
   "id": "9921d90e",
   "metadata": {},
   "outputs": [
    {
     "data": {
      "text/plain": [
       "(array([5.56155281, 1.43844719]),\n",
       " array([[ 0.87192821, -0.27032301],\n",
       "        [ 0.48963374,  0.96276969]]))"
      ]
     },
     "execution_count": 5,
     "metadata": {},
     "output_type": "execute_result"
    }
   ],
   "source": [
    "prop_matriz = np.linalg.eig(A)\n",
    "prop_matriz"
   ]
  },
  {
   "cell_type": "code",
   "execution_count": 6,
   "id": "4138869c",
   "metadata": {},
   "outputs": [
    {
     "data": {
      "text/plain": [
       "array([5.56155281, 1.43844719])"
      ]
     },
     "execution_count": 6,
     "metadata": {},
     "output_type": "execute_result"
    }
   ],
   "source": [
    "# raices usando np.linalg.eig\n",
    "raices_A = prop_matriz[0]\n",
    "raices_A"
   ]
  },
  {
   "cell_type": "code",
   "execution_count": 7,
   "id": "7aa6462e",
   "metadata": {},
   "outputs": [
    {
     "data": {
      "text/plain": [
       "array([0.87192821, 0.48963374])"
      ]
     },
     "execution_count": 7,
     "metadata": {},
     "output_type": "execute_result"
    }
   ],
   "source": [
    "# autovector 1\n",
    "autov1 = prop_matriz[1][:,0]\n",
    "autov1"
   ]
  },
  {
   "cell_type": "code",
   "execution_count": 8,
   "id": "7f0f0b94",
   "metadata": {},
   "outputs": [
    {
     "data": {
      "text/plain": [
       "array([-0.27032301,  0.96276969])"
      ]
     },
     "execution_count": 8,
     "metadata": {},
     "output_type": "execute_result"
    }
   ],
   "source": [
    "# autovector 2\n",
    "autov2 = prop_matriz[1][:,1]\n",
    "autov2"
   ]
  },
  {
   "cell_type": "code",
   "execution_count": 9,
   "id": "74b422ae",
   "metadata": {},
   "outputs": [
    {
     "name": "stdout",
     "output_type": "stream",
     "text": [
      "[[ 5.56155281e+00 -2.22044605e-16]\n",
      " [-1.11022302e-16  1.43844719e+00]]\n",
      "[[5. 1.]\n",
      " [2. 2.]]\n"
     ]
    }
   ],
   "source": [
    "# Autodescomposicion\n",
    "\n",
    "P = prop_matriz[1]\n",
    "\n",
    "D = np.linalg.inv(P)@A@P \n",
    "\n",
    "print(D)\n",
    "\n",
    "# A = P.D.P^-1\n",
    "print(P@D@np.linalg.inv(P))\n"
   ]
  },
  {
   "cell_type": "code",
   "execution_count": 10,
   "id": "11e45916",
   "metadata": {},
   "outputs": [
    {
     "data": {
      "image/png": "[encoded data removed]",
      "text/plain": [
       "<Figure size 432x288 with 1 Axes>"
      ]
     },
     "metadata": {
      "needs_background": "light"
     },
     "output_type": "display_data"
    }
   ],
   "source": [
    "# Grafica de autovectores\n",
    "\n",
    "plt.quiver(0,0,autov1[0],autov1[1], color='orange', angles='xy', scale_units='xy', scale=1)\n",
    "plt.quiver(0,0,autov2[0],autov2[1], color='blue', angles='xy', scale_units='xy', scale=1)\n",
    "\n",
    "plt.axvline(x = 0, color = \"grey\")\n",
    "plt.axhline(y = 0, color = \"grey\")\n",
    "\n",
    "\n",
    "plt.xlim(-0.5,1)\n",
    "plt.ylim(-0.5,1.5)\n",
    "plt.show()\n",
    "\n",
    "\n"
   ]
  },
  {
   "cell_type": "code",
   "execution_count": null,
   "id": "13b7ccc0",
   "metadata": {},
   "outputs": [],
   "source": []
  }
 ],
 "metadata": {
  "kernelspec": {
   "display_name": "Python 3 (ipykernel)",
   "language": "python",
   "name": "python3"
  },
  "language_info": {
   "codemirror_mode": {
    "name": "ipython",
    "version": 3
   },
   "file_extension": ".py",
   "mimetype": "text/x-python",
   "name": "python",
   "nbconvert_exporter": "python",
   "pygments_lexer": "ipython3",
   "version": "3.9.7"
  }
 },
 "nbformat": 4,
 "nbformat_minor": 5
}
