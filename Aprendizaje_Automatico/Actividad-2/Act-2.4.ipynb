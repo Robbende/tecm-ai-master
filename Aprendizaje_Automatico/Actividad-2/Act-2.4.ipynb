{
 "cells": [
  {
   "cell_type": "markdown",
   "id": "58d957fd",
   "metadata": {},
   "source": [
    "### Punto 4 - Operaciones con Matrices"
   ]
  },
  {
   "cell_type": "code",
   "execution_count": 2,
   "id": "96150bd5",
   "metadata": {},
   "outputs": [],
   "source": [
    "import numpy as np\n",
    "import matplotlib.pyplot as plt"
   ]
  },
  {
   "cell_type": "code",
   "execution_count": 11,
   "id": "d5cda097",
   "metadata": {},
   "outputs": [
    {
     "name": "stdout",
     "output_type": "stream",
     "text": [
      "[[ 2  4  6  3]\n",
      " [ 1 -2  7  1]\n",
      " [ 6  8  3 -2]\n",
      " [ 3  4  5  7]]\n",
      "shape (4, 4)\n"
     ]
    }
   ],
   "source": [
    "# Matriz cuadrada 4x4\n",
    "\n",
    "m1 = np.array([[2,4,6,3],[1,-2,7,1],[6,8,3,-2],[3,4,5,7]])\n",
    "print(m1)\n",
    "print('shape', m1.shape)"
   ]
  },
  {
   "cell_type": "code",
   "execution_count": 12,
   "id": "cd4f37a1",
   "metadata": {},
   "outputs": [
    {
     "data": {
      "text/plain": [
       "922.0000000000001"
      ]
     },
     "execution_count": 12,
     "metadata": {},
     "output_type": "execute_result"
    }
   ],
   "source": [
    "# Calculo determinante de la matriz\n",
    "m1_det = np.linalg.det(m1)\n",
    "m1_det"
   ]
  },
  {
   "cell_type": "code",
   "execution_count": 14,
   "id": "e5ca326a",
   "metadata": {},
   "outputs": [
    {
     "data": {
      "text/plain": [
       "10"
      ]
     },
     "execution_count": 14,
     "metadata": {},
     "output_type": "execute_result"
    }
   ],
   "source": [
    "# Traza de la matriz\n",
    "traza = np.trace(m1)\n",
    "traza"
   ]
  },
  {
   "cell_type": "code",
   "execution_count": 16,
   "id": "008ebe5b",
   "metadata": {},
   "outputs": [
    {
     "data": {
      "text/plain": [
       "4"
      ]
     },
     "execution_count": 16,
     "metadata": {},
     "output_type": "execute_result"
    }
   ],
   "source": [
    "# Rango de la matriz\n",
    "rango = np.linalg.matrix_rank(m1)\n",
    "rango"
   ]
  },
  {
   "cell_type": "code",
   "execution_count": 17,
   "id": "d384085f",
   "metadata": {},
   "outputs": [
    {
     "data": {
      "text/plain": [
       "array([  1., -10., -82., 515., 922.])"
      ]
     },
     "execution_count": 17,
     "metadata": {},
     "output_type": "execute_result"
    }
   ],
   "source": [
    "# valores de los coeficientes de su polinomio característico.\n",
    "coef = np.poly(m1)\n",
    "coef\n"
   ]
  },
  {
   "cell_type": "code",
   "execution_count": 19,
   "id": "6caded8d",
   "metadata": {},
   "outputs": [
    {
     "data": {
      "text/plain": [
       "array([12.82567889, -7.60135558,  6.28128222, -1.50560554])"
      ]
     },
     "execution_count": 19,
     "metadata": {},
     "output_type": "execute_result"
    }
   ],
   "source": [
    "# Raices del polinomio\n",
    "raices = np.roots(coef)\n",
    "raices"
   ]
  },
  {
   "cell_type": "code",
   "execution_count": null,
   "id": "c49d9fca",
   "metadata": {},
   "outputs": [],
   "source": []
  }
 ],
 "metadata": {
  "kernelspec": {
   "display_name": "Python 3 (ipykernel)",
   "language": "python",
   "name": "python3"
  },
  "language_info": {
   "codemirror_mode": {
    "name": "ipython",
    "version": 3
   },
   "file_extension": ".py",
   "mimetype": "text/x-python",
   "name": "python",
   "nbconvert_exporter": "python",
   "pygments_lexer": "ipython3",
   "version": "3.9.7"
  }
 },
 "nbformat": 4,
 "nbformat_minor": 5
}
