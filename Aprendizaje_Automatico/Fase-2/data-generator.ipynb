{
 "cells": [
  {
   "cell_type": "code",
   "execution_count": 120,
   "id": "550b9567",
   "metadata": {},
   "outputs": [],
   "source": [
    "import random\n",
    "import pandas as pd\n",
    "import numpy as np\n",
    "import matplotlib.pyplot as plt"
   ]
  },
  {
   "cell_type": "code",
   "execution_count": 110,
   "id": "3d49ab8b",
   "metadata": {},
   "outputs": [],
   "source": [
    "def get_gaussian_value(min_num, max_num, media, std_dev):\n",
    "    while True:\n",
    "        val = random.gauss(media, std_dev)\n",
    "        if val>=min_num and val<=max_num:\n",
    "            return val"
   ]
  },
  {
   "cell_type": "code",
   "execution_count": 121,
   "id": "8371226f",
   "metadata": {},
   "outputs": [],
   "source": [
    "def data_generator():\n",
    "    rows = []\n",
    "    for i in range(10000):\n",
    "        row_dict = {}\n",
    "        \n",
    "        row_dict['embalaje'] = random.choice(['A', 'B', 'C'])\n",
    "        row_dict['largo'] = get_gaussian_value(5, 100, 50, 15)\n",
    "        row_dict['ancho'] = get_gaussian_value(5, 100, 50, 15)\n",
    "        row_dict['alto'] = get_gaussian_value(5, 100, 50, 15)\n",
    "        row_dict['peso'] = get_gaussian_value(1, 50, 25, 5)\n",
    "        row_dict['procedencia'] = random.choice(['A', 'B', 'C', 'D'])\n",
    "        \n",
    "        # 20% es refrigerado\n",
    "        if random.random() <= 0.2:\n",
    "            row_dict['temperatura'] = 'refrigerado'\n",
    "        else:\n",
    "            row_dict['temperatura'] = 'ambiente'\n",
    "            \n",
    "        # 20% es fragil independientemente de la temperatura\n",
    "        if random.random() <= 0.2:\n",
    "            row_dict['manipulacion'] = 'fragil'\n",
    "        else:\n",
    "            # si la temperatura es refrigerado entonces la manipulacion es fragil\n",
    "            if row_dict['temperatura'] == 'refrigerado':\n",
    "                row_dict['manipulacion'] = 'fragil'\n",
    "            else:\n",
    "                row_dict['manipulacion'] = 'normal'\n",
    "            \n",
    "        \n",
    "        \n",
    "        # etiquetado del protocolo\n",
    "        volumen = row_dict['largo'] * row_dict['ancho'] * row_dict['alto']\n",
    "        if volumen <= 3375 or row_dict['manipulacion'] == 'fragil':\n",
    "            row_dict['protocolo'] = 'protocolo_1'\n",
    "        else:\n",
    "            row_dict['protocolo'] = 'protocolo_2'\n",
    "\n",
    "        \n",
    "        \n",
    "        rows.append(row_dict)\n",
    "        \n",
    "    return rows\n",
    "\n",
    "data_dict = data_generator()"
   ]
  },
  {
   "cell_type": "code",
   "execution_count": 122,
   "id": "989a1a85",
   "metadata": {},
   "outputs": [
    {
     "data": {
      "text/html": [
       "<div>\n",
       "<style scoped>\n",
       "    .dataframe tbody tr th:only-of-type {\n",
       "        vertical-align: middle;\n",
       "    }\n",
       "\n",
       "    .dataframe tbody tr th {\n",
       "        vertical-align: top;\n",
       "    }\n",
       "\n",
       "    .dataframe thead th {\n",
       "        text-align: right;\n",
       "    }\n",
       "</style>\n",
       "<table border=\"1\" class=\"dataframe\">\n",
       "  <thead>\n",
       "    <tr style=\"text-align: right;\">\n",
       "      <th></th>\n",
       "      <th>embalaje</th>\n",
       "      <th>largo</th>\n",
       "      <th>ancho</th>\n",
       "      <th>alto</th>\n",
       "      <th>peso</th>\n",
       "      <th>procedencia</th>\n",
       "      <th>temperatura</th>\n",
       "      <th>manipulacion</th>\n",
       "      <th>protocolo</th>\n",
       "    </tr>\n",
       "  </thead>\n",
       "  <tbody>\n",
       "    <tr>\n",
       "      <th>0</th>\n",
       "      <td>A</td>\n",
       "      <td>53.693709</td>\n",
       "      <td>64.333860</td>\n",
       "      <td>61.185574</td>\n",
       "      <td>24.323075</td>\n",
       "      <td>C</td>\n",
       "      <td>ambiente</td>\n",
       "      <td>normal</td>\n",
       "      <td>protocolo_2</td>\n",
       "    </tr>\n",
       "    <tr>\n",
       "      <th>1</th>\n",
       "      <td>B</td>\n",
       "      <td>47.739875</td>\n",
       "      <td>64.184591</td>\n",
       "      <td>22.322401</td>\n",
       "      <td>16.795167</td>\n",
       "      <td>D</td>\n",
       "      <td>refrigerado</td>\n",
       "      <td>fragil</td>\n",
       "      <td>protocolo_1</td>\n",
       "    </tr>\n",
       "    <tr>\n",
       "      <th>2</th>\n",
       "      <td>B</td>\n",
       "      <td>41.573055</td>\n",
       "      <td>64.073399</td>\n",
       "      <td>68.503022</td>\n",
       "      <td>30.595503</td>\n",
       "      <td>B</td>\n",
       "      <td>ambiente</td>\n",
       "      <td>fragil</td>\n",
       "      <td>protocolo_1</td>\n",
       "    </tr>\n",
       "    <tr>\n",
       "      <th>3</th>\n",
       "      <td>A</td>\n",
       "      <td>52.780474</td>\n",
       "      <td>51.167931</td>\n",
       "      <td>50.231358</td>\n",
       "      <td>19.520050</td>\n",
       "      <td>C</td>\n",
       "      <td>ambiente</td>\n",
       "      <td>normal</td>\n",
       "      <td>protocolo_2</td>\n",
       "    </tr>\n",
       "    <tr>\n",
       "      <th>4</th>\n",
       "      <td>B</td>\n",
       "      <td>74.374250</td>\n",
       "      <td>39.805869</td>\n",
       "      <td>78.952805</td>\n",
       "      <td>26.613655</td>\n",
       "      <td>B</td>\n",
       "      <td>refrigerado</td>\n",
       "      <td>fragil</td>\n",
       "      <td>protocolo_1</td>\n",
       "    </tr>\n",
       "    <tr>\n",
       "      <th>...</th>\n",
       "      <td>...</td>\n",
       "      <td>...</td>\n",
       "      <td>...</td>\n",
       "      <td>...</td>\n",
       "      <td>...</td>\n",
       "      <td>...</td>\n",
       "      <td>...</td>\n",
       "      <td>...</td>\n",
       "      <td>...</td>\n",
       "    </tr>\n",
       "    <tr>\n",
       "      <th>9995</th>\n",
       "      <td>A</td>\n",
       "      <td>73.750326</td>\n",
       "      <td>46.682754</td>\n",
       "      <td>79.935481</td>\n",
       "      <td>26.466229</td>\n",
       "      <td>C</td>\n",
       "      <td>ambiente</td>\n",
       "      <td>normal</td>\n",
       "      <td>protocolo_2</td>\n",
       "    </tr>\n",
       "    <tr>\n",
       "      <th>9996</th>\n",
       "      <td>A</td>\n",
       "      <td>21.363476</td>\n",
       "      <td>60.723403</td>\n",
       "      <td>56.569219</td>\n",
       "      <td>24.544133</td>\n",
       "      <td>D</td>\n",
       "      <td>ambiente</td>\n",
       "      <td>normal</td>\n",
       "      <td>protocolo_2</td>\n",
       "    </tr>\n",
       "    <tr>\n",
       "      <th>9997</th>\n",
       "      <td>A</td>\n",
       "      <td>54.180777</td>\n",
       "      <td>64.810235</td>\n",
       "      <td>19.130036</td>\n",
       "      <td>26.040492</td>\n",
       "      <td>B</td>\n",
       "      <td>ambiente</td>\n",
       "      <td>fragil</td>\n",
       "      <td>protocolo_1</td>\n",
       "    </tr>\n",
       "    <tr>\n",
       "      <th>9998</th>\n",
       "      <td>C</td>\n",
       "      <td>48.325971</td>\n",
       "      <td>50.448005</td>\n",
       "      <td>51.601255</td>\n",
       "      <td>20.829663</td>\n",
       "      <td>A</td>\n",
       "      <td>ambiente</td>\n",
       "      <td>normal</td>\n",
       "      <td>protocolo_2</td>\n",
       "    </tr>\n",
       "    <tr>\n",
       "      <th>9999</th>\n",
       "      <td>B</td>\n",
       "      <td>51.198325</td>\n",
       "      <td>34.548506</td>\n",
       "      <td>43.348937</td>\n",
       "      <td>23.403980</td>\n",
       "      <td>B</td>\n",
       "      <td>refrigerado</td>\n",
       "      <td>fragil</td>\n",
       "      <td>protocolo_1</td>\n",
       "    </tr>\n",
       "  </tbody>\n",
       "</table>\n",
       "<p>10000 rows × 9 columns</p>\n",
       "</div>"
      ],
      "text/plain": [
       "     embalaje      largo      ancho       alto       peso procedencia  \\\n",
       "0           A  53.693709  64.333860  61.185574  24.323075           C   \n",
       "1           B  47.739875  64.184591  22.322401  16.795167           D   \n",
       "2           B  41.573055  64.073399  68.503022  30.595503           B   \n",
       "3           A  52.780474  51.167931  50.231358  19.520050           C   \n",
       "4           B  74.374250  39.805869  78.952805  26.613655           B   \n",
       "...       ...        ...        ...        ...        ...         ...   \n",
       "9995        A  73.750326  46.682754  79.935481  26.466229           C   \n",
       "9996        A  21.363476  60.723403  56.569219  24.544133           D   \n",
       "9997        A  54.180777  64.810235  19.130036  26.040492           B   \n",
       "9998        C  48.325971  50.448005  51.601255  20.829663           A   \n",
       "9999        B  51.198325  34.548506  43.348937  23.403980           B   \n",
       "\n",
       "      temperatura manipulacion    protocolo  \n",
       "0        ambiente       normal  protocolo_2  \n",
       "1     refrigerado       fragil  protocolo_1  \n",
       "2        ambiente       fragil  protocolo_1  \n",
       "3        ambiente       normal  protocolo_2  \n",
       "4     refrigerado       fragil  protocolo_1  \n",
       "...           ...          ...          ...  \n",
       "9995     ambiente       normal  protocolo_2  \n",
       "9996     ambiente       normal  protocolo_2  \n",
       "9997     ambiente       fragil  protocolo_1  \n",
       "9998     ambiente       normal  protocolo_2  \n",
       "9999  refrigerado       fragil  protocolo_1  \n",
       "\n",
       "[10000 rows x 9 columns]"
      ]
     },
     "execution_count": 122,
     "metadata": {},
     "output_type": "execute_result"
    }
   ],
   "source": [
    "df = pd.DataFrame.from_records(data_dict)\n",
    "df"
   ]
  },
  {
   "cell_type": "code",
   "execution_count": 123,
   "id": "99fca930",
   "metadata": {},
   "outputs": [
    {
     "data": {
      "image/png": "[encoded data removed]",
      "text/plain": [
       "<Figure size 432x288 with 1 Axes>"
      ]
     },
     "metadata": {
      "needs_background": "light"
     },
     "output_type": "display_data"
    }
   ],
   "source": [
    "arr = np.array(df['alto'])\n",
    "\n",
    "plt.hist(arr)\n",
    "plt.ylabel('Frecuencia')\n",
    "plt.xlabel('Alto')\n",
    "plt.title('Histograma')\n",
    "plt.show()\n"
   ]
  },
  {
   "cell_type": "code",
   "execution_count": 124,
   "id": "349f69af",
   "metadata": {},
   "outputs": [
    {
     "data": {
      "image/png": "[encoded data removed]",
      "text/plain": [
       "<Figure size 432x288 with 1 Axes>"
      ]
     },
     "metadata": {
      "needs_background": "light"
     },
     "output_type": "display_data"
    }
   ],
   "source": [
    "arr = np.array(df['largo'])\n",
    "\n",
    "plt.hist(arr)\n",
    "plt.ylabel('Frecuencia')\n",
    "plt.xlabel('Largo')\n",
    "plt.title('Histograma')\n",
    "plt.show()"
   ]
  },
  {
   "cell_type": "code",
   "execution_count": 125,
   "id": "6b483d9a",
   "metadata": {},
   "outputs": [
    {
     "data": {
      "image/png": "[encoded data removed]",
      "text/plain": [
       "<Figure size 432x288 with 1 Axes>"
      ]
     },
     "metadata": {
      "needs_background": "light"
     },
     "output_type": "display_data"
    }
   ],
   "source": [
    "arr = np.array(df['ancho'])\n",
    "\n",
    "plt.hist(arr)\n",
    "plt.ylabel('Frecuencia')\n",
    "plt.xlabel('Ancho')\n",
    "plt.title('Histograma')\n",
    "plt.show()"
   ]
  },
  {
   "cell_type": "code",
   "execution_count": 126,
   "id": "43b1e222",
   "metadata": {},
   "outputs": [
    {
     "data": {
      "image/png": "[encoded data removed]",
      "text/plain": [
       "<Figure size 432x288 with 1 Axes>"
      ]
     },
     "metadata": {
      "needs_background": "light"
     },
     "output_type": "display_data"
    }
   ],
   "source": [
    "arr = np.array(df['peso'])\n",
    "\n",
    "plt.hist(arr)\n",
    "plt.ylabel('Frecuencia')\n",
    "plt.xlabel('Peso')\n",
    "plt.title('Histograma')\n",
    "plt.show()"
   ]
  },
  {
   "cell_type": "code",
   "execution_count": 127,
   "id": "76de311b",
   "metadata": {},
   "outputs": [
    {
     "data": {
      "image/png": "[encoded data removed]",
      "text/plain": [
       "<Figure size 432x288 with 1 Axes>"
      ]
     },
     "metadata": {
      "needs_background": "light"
     },
     "output_type": "display_data"
    }
   ],
   "source": [
    "arr = np.array(df['manipulacion'])\n",
    "\n",
    "plt.hist(arr)\n",
    "plt.ylabel('Frecuencia')\n",
    "plt.xlabel('Manipulacion')\n",
    "plt.title('Histograma')\n",
    "plt.show()"
   ]
  },
  {
   "cell_type": "code",
   "execution_count": 128,
   "id": "5af8c4fe",
   "metadata": {},
   "outputs": [
    {
     "data": {
      "image/png": "[encoded data removed]",
      "text/plain": [
       "<Figure size 432x288 with 1 Axes>"
      ]
     },
     "metadata": {
      "needs_background": "light"
     },
     "output_type": "display_data"
    }
   ],
   "source": [
    "arr = np.array(df['temperatura'])\n",
    "\n",
    "plt.hist(arr)\n",
    "plt.ylabel('Frecuencia')\n",
    "plt.xlabel('Temperatura')\n",
    "plt.title('Histograma')\n",
    "plt.show()"
   ]
  },
  {
   "cell_type": "code",
   "execution_count": 129,
   "id": "f1d7214b",
   "metadata": {},
   "outputs": [
    {
     "data": {
      "image/png": "[encoded data removed]",
      "text/plain": [
       "<Figure size 432x288 with 1 Axes>"
      ]
     },
     "metadata": {
      "needs_background": "light"
     },
     "output_type": "display_data"
    }
   ],
   "source": [
    "arr = np.array(df['protocolo'])\n",
    "\n",
    "plt.hist(arr)\n",
    "plt.ylabel('Frecuencia')\n",
    "plt.xlabel('Protocolo')\n",
    "plt.title('Histograma')\n",
    "plt.show()"
   ]
  },
  {
   "cell_type": "code",
   "execution_count": null,
   "id": "0c0176d4",
   "metadata": {},
   "outputs": [],
   "source": []
  },
  {
   "cell_type": "code",
   "execution_count": null,
   "id": "e26edd5a",
   "metadata": {},
   "outputs": [],
   "source": []
  }
 ],
 "metadata": {
  "kernelspec": {
   "display_name": "Python 3 (ipykernel)",
   "language": "python",
   "name": "python3"
  },
  "language_info": {
   "codemirror_mode": {
    "name": "ipython",
    "version": 3
   },
   "file_extension": ".py",
   "mimetype": "text/x-python",
   "name": "python",
   "nbconvert_exporter": "python",
   "pygments_lexer": "ipython3",
   "version": "3.9.7"
  }
 },
 "nbformat": 4,
 "nbformat_minor": 5
}
