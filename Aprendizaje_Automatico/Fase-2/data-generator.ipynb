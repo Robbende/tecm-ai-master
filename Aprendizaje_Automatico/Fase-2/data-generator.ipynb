{
 "cells": [
  {
   "cell_type": "code",
   "execution_count": 1,
   "id": "02ab3159",
   "metadata": {},
   "outputs": [],
   "source": [
    "import random\n",
    "import pandas as pd\n",
    "import numpy as np\n",
    "import matplotlib.pyplot as plt"
   ]
  },
  {
   "cell_type": "code",
   "execution_count": 2,
   "id": "604da0c5",
   "metadata": {},
   "outputs": [],
   "source": [
    "def get_gaussian_value(min_num, max_num, media, std_dev):\n",
    "    while True:\n",
    "        val = random.gauss(media, std_dev)\n",
    "        if val>=min_num and val<=max_num:\n",
    "            return val"
   ]
  },
  {
   "cell_type": "code",
   "execution_count": 3,
   "id": "a4efc7b1",
   "metadata": {},
   "outputs": [],
   "source": [
    "def data_generator():\n",
    "    rows = []\n",
    "    for i in range(10000):\n",
    "        row_dict = {}\n",
    "        \n",
    "        row_dict['embalaje'] = random.choice(['A', 'B', 'C'])\n",
    "        row_dict['largo'] = get_gaussian_value(5, 100, 50, 15)\n",
    "        row_dict['ancho'] = get_gaussian_value(5, 100, 50, 15)\n",
    "        row_dict['alto'] = get_gaussian_value(5, 100, 50, 15)\n",
    "        row_dict['peso'] = get_gaussian_value(1, 50, 25, 5)\n",
    "        row_dict['procedencia'] = random.choice(['A', 'B', 'C', 'D'])\n",
    "        \n",
    "        # 20% es refrigerado\n",
    "        if random.random() <= 0.2:\n",
    "            row_dict['temperatura'] = 'refrigerado'\n",
    "        else:\n",
    "            row_dict['temperatura'] = 'ambiente'\n",
    "            \n",
    "        # 20% es fragil independientemente de la temperatura\n",
    "        if random.random() <= 0.2:\n",
    "            row_dict['manipulacion'] = 'fragil'\n",
    "        else:\n",
    "            # si la temperatura es refrigerado entonces la manipulacion es fragil\n",
    "            if row_dict['temperatura'] == 'refrigerado':\n",
    "                row_dict['manipulacion'] = 'fragil'\n",
    "            else:\n",
    "                row_dict['manipulacion'] = 'normal'\n",
    "            \n",
    "        \n",
    "        \n",
    "        # etiquetado del protocolo\n",
    "        volumen = row_dict['largo'] * row_dict['ancho'] * row_dict['alto']\n",
    "        if volumen <= 3375 or row_dict['manipulacion'] == 'fragil':\n",
    "            row_dict['protocolo'] = 'protocolo_1'\n",
    "        else:\n",
    "            row_dict['protocolo'] = 'protocolo_2'\n",
    "\n",
    "        \n",
    "        \n",
    "        rows.append(row_dict)\n",
    "        \n",
    "    return rows\n",
    "\n",
    "data_dict = data_generator()"
   ]
  },
  {
   "cell_type": "code",
   "execution_count": 4,
   "id": "2f7bfb27",
   "metadata": {},
   "outputs": [
    {
     "data": {
      "text/html": [
       "<div>\n",
       "<style scoped>\n",
       "    .dataframe tbody tr th:only-of-type {\n",
       "        vertical-align: middle;\n",
       "    }\n",
       "\n",
       "    .dataframe tbody tr th {\n",
       "        vertical-align: top;\n",
       "    }\n",
       "\n",
       "    .dataframe thead th {\n",
       "        text-align: right;\n",
       "    }\n",
       "</style>\n",
       "<table border=\"1\" class=\"dataframe\">\n",
       "  <thead>\n",
       "    <tr style=\"text-align: right;\">\n",
       "      <th></th>\n",
       "      <th>embalaje</th>\n",
       "      <th>largo</th>\n",
       "      <th>ancho</th>\n",
       "      <th>alto</th>\n",
       "      <th>peso</th>\n",
       "      <th>procedencia</th>\n",
       "      <th>temperatura</th>\n",
       "      <th>manipulacion</th>\n",
       "      <th>protocolo</th>\n",
       "    </tr>\n",
       "  </thead>\n",
       "  <tbody>\n",
       "    <tr>\n",
       "      <th>0</th>\n",
       "      <td>A</td>\n",
       "      <td>34.687708</td>\n",
       "      <td>51.459835</td>\n",
       "      <td>42.095164</td>\n",
       "      <td>23.857571</td>\n",
       "      <td>D</td>\n",
       "      <td>refrigerado</td>\n",
       "      <td>fragil</td>\n",
       "      <td>protocolo_1</td>\n",
       "    </tr>\n",
       "    <tr>\n",
       "      <th>1</th>\n",
       "      <td>A</td>\n",
       "      <td>49.464008</td>\n",
       "      <td>50.378068</td>\n",
       "      <td>38.858520</td>\n",
       "      <td>32.119336</td>\n",
       "      <td>A</td>\n",
       "      <td>ambiente</td>\n",
       "      <td>normal</td>\n",
       "      <td>protocolo_2</td>\n",
       "    </tr>\n",
       "    <tr>\n",
       "      <th>2</th>\n",
       "      <td>B</td>\n",
       "      <td>66.617850</td>\n",
       "      <td>52.215517</td>\n",
       "      <td>27.181471</td>\n",
       "      <td>23.359145</td>\n",
       "      <td>C</td>\n",
       "      <td>ambiente</td>\n",
       "      <td>fragil</td>\n",
       "      <td>protocolo_1</td>\n",
       "    </tr>\n",
       "    <tr>\n",
       "      <th>3</th>\n",
       "      <td>C</td>\n",
       "      <td>24.215506</td>\n",
       "      <td>41.945443</td>\n",
       "      <td>51.965421</td>\n",
       "      <td>20.012881</td>\n",
       "      <td>C</td>\n",
       "      <td>ambiente</td>\n",
       "      <td>normal</td>\n",
       "      <td>protocolo_2</td>\n",
       "    </tr>\n",
       "    <tr>\n",
       "      <th>4</th>\n",
       "      <td>C</td>\n",
       "      <td>56.804813</td>\n",
       "      <td>60.880069</td>\n",
       "      <td>56.895350</td>\n",
       "      <td>23.560809</td>\n",
       "      <td>C</td>\n",
       "      <td>ambiente</td>\n",
       "      <td>normal</td>\n",
       "      <td>protocolo_2</td>\n",
       "    </tr>\n",
       "    <tr>\n",
       "      <th>...</th>\n",
       "      <td>...</td>\n",
       "      <td>...</td>\n",
       "      <td>...</td>\n",
       "      <td>...</td>\n",
       "      <td>...</td>\n",
       "      <td>...</td>\n",
       "      <td>...</td>\n",
       "      <td>...</td>\n",
       "      <td>...</td>\n",
       "    </tr>\n",
       "    <tr>\n",
       "      <th>9995</th>\n",
       "      <td>A</td>\n",
       "      <td>60.906016</td>\n",
       "      <td>52.911421</td>\n",
       "      <td>24.009152</td>\n",
       "      <td>20.668354</td>\n",
       "      <td>C</td>\n",
       "      <td>ambiente</td>\n",
       "      <td>normal</td>\n",
       "      <td>protocolo_2</td>\n",
       "    </tr>\n",
       "    <tr>\n",
       "      <th>9996</th>\n",
       "      <td>C</td>\n",
       "      <td>50.839682</td>\n",
       "      <td>53.362869</td>\n",
       "      <td>49.981335</td>\n",
       "      <td>19.933259</td>\n",
       "      <td>C</td>\n",
       "      <td>ambiente</td>\n",
       "      <td>normal</td>\n",
       "      <td>protocolo_2</td>\n",
       "    </tr>\n",
       "    <tr>\n",
       "      <th>9997</th>\n",
       "      <td>B</td>\n",
       "      <td>64.661100</td>\n",
       "      <td>67.924710</td>\n",
       "      <td>37.296223</td>\n",
       "      <td>18.554790</td>\n",
       "      <td>D</td>\n",
       "      <td>ambiente</td>\n",
       "      <td>fragil</td>\n",
       "      <td>protocolo_1</td>\n",
       "    </tr>\n",
       "    <tr>\n",
       "      <th>9998</th>\n",
       "      <td>B</td>\n",
       "      <td>42.017064</td>\n",
       "      <td>72.635800</td>\n",
       "      <td>61.344982</td>\n",
       "      <td>31.943001</td>\n",
       "      <td>D</td>\n",
       "      <td>ambiente</td>\n",
       "      <td>normal</td>\n",
       "      <td>protocolo_2</td>\n",
       "    </tr>\n",
       "    <tr>\n",
       "      <th>9999</th>\n",
       "      <td>B</td>\n",
       "      <td>32.489932</td>\n",
       "      <td>52.780486</td>\n",
       "      <td>38.752877</td>\n",
       "      <td>17.533156</td>\n",
       "      <td>C</td>\n",
       "      <td>ambiente</td>\n",
       "      <td>fragil</td>\n",
       "      <td>protocolo_1</td>\n",
       "    </tr>\n",
       "  </tbody>\n",
       "</table>\n",
       "<p>10000 rows × 9 columns</p>\n",
       "</div>"
      ],
      "text/plain": [
       "     embalaje      largo      ancho       alto       peso procedencia  \\\n",
       "0           A  34.687708  51.459835  42.095164  23.857571           D   \n",
       "1           A  49.464008  50.378068  38.858520  32.119336           A   \n",
       "2           B  66.617850  52.215517  27.181471  23.359145           C   \n",
       "3           C  24.215506  41.945443  51.965421  20.012881           C   \n",
       "4           C  56.804813  60.880069  56.895350  23.560809           C   \n",
       "...       ...        ...        ...        ...        ...         ...   \n",
       "9995        A  60.906016  52.911421  24.009152  20.668354           C   \n",
       "9996        C  50.839682  53.362869  49.981335  19.933259           C   \n",
       "9997        B  64.661100  67.924710  37.296223  18.554790           D   \n",
       "9998        B  42.017064  72.635800  61.344982  31.943001           D   \n",
       "9999        B  32.489932  52.780486  38.752877  17.533156           C   \n",
       "\n",
       "      temperatura manipulacion    protocolo  \n",
       "0     refrigerado       fragil  protocolo_1  \n",
       "1        ambiente       normal  protocolo_2  \n",
       "2        ambiente       fragil  protocolo_1  \n",
       "3        ambiente       normal  protocolo_2  \n",
       "4        ambiente       normal  protocolo_2  \n",
       "...           ...          ...          ...  \n",
       "9995     ambiente       normal  protocolo_2  \n",
       "9996     ambiente       normal  protocolo_2  \n",
       "9997     ambiente       fragil  protocolo_1  \n",
       "9998     ambiente       normal  protocolo_2  \n",
       "9999     ambiente       fragil  protocolo_1  \n",
       "\n",
       "[10000 rows x 9 columns]"
      ]
     },
     "execution_count": 4,
     "metadata": {},
     "output_type": "execute_result"
    }
   ],
   "source": [
    "df = pd.DataFrame.from_records(data_dict)\n",
    "df"
   ]
  },
  {
   "cell_type": "code",
   "execution_count": 5,
   "id": "f784f30e",
   "metadata": {},
   "outputs": [
    {
     "data": {
      "image/png": "[encoded data removed]",
      "text/plain": [
       "<Figure size 432x288 with 1 Axes>"
      ]
     },
     "metadata": {
      "needs_background": "light"
     },
     "output_type": "display_data"
    }
   ],
   "source": [
    "arr = np.array(df['alto'])\n",
    "\n",
    "plt.hist(arr)\n",
    "plt.ylabel('Frecuencia')\n",
    "plt.xlabel('Alto')\n",
    "plt.title('Histograma')\n",
    "plt.show()\n"
   ]
  },
  {
   "cell_type": "code",
   "execution_count": 6,
   "id": "d9fb9183",
   "metadata": {},
   "outputs": [
    {
     "data": {
      "image/png": "[encoded data removed]",
      "text/plain": [
       "<Figure size 432x288 with 1 Axes>"
      ]
     },
     "metadata": {
      "needs_background": "light"
     },
     "output_type": "display_data"
    }
   ],
   "source": [
    "arr = np.array(df['largo'])\n",
    "\n",
    "plt.hist(arr)\n",
    "plt.ylabel('Frecuencia')\n",
    "plt.xlabel('Largo')\n",
    "plt.title('Histograma')\n",
    "plt.show()"
   ]
  },
  {
   "cell_type": "code",
   "execution_count": 7,
   "id": "f8e14f17",
   "metadata": {},
   "outputs": [
    {
     "data": {
      "image/png": "[encoded data removed]",
      "text/plain": [
       "<Figure size 432x288 with 1 Axes>"
      ]
     },
     "metadata": {
      "needs_background": "light"
     },
     "output_type": "display_data"
    }
   ],
   "source": [
    "arr = np.array(df['ancho'])\n",
    "\n",
    "plt.hist(arr)\n",
    "plt.ylabel('Frecuencia')\n",
    "plt.xlabel('Ancho')\n",
    "plt.title('Histograma')\n",
    "plt.show()"
   ]
  },
  {
   "cell_type": "code",
   "execution_count": 8,
   "id": "9b0e5911",
   "metadata": {},
   "outputs": [
    {
     "data": {
      "image/png": "[encoded data removed]",
      "text/plain": [
       "<Figure size 432x288 with 1 Axes>"
      ]
     },
     "metadata": {
      "needs_background": "light"
     },
     "output_type": "display_data"
    }
   ],
   "source": [
    "arr = np.array(df['peso'])\n",
    "\n",
    "plt.hist(arr)\n",
    "plt.ylabel('Frecuencia')\n",
    "plt.xlabel('Peso')\n",
    "plt.title('Histograma')\n",
    "plt.show()"
   ]
  },
  {
   "cell_type": "code",
   "execution_count": 9,
   "id": "ac752846",
   "metadata": {},
   "outputs": [
    {
     "data": {
      "image/png": "[encoded data removed]",
      "text/plain": [
       "<Figure size 432x288 with 1 Axes>"
      ]
     },
     "metadata": {
      "needs_background": "light"
     },
     "output_type": "display_data"
    }
   ],
   "source": [
    "arr = np.array(df['manipulacion'])\n",
    "\n",
    "plt.hist(arr)\n",
    "plt.ylabel('Frecuencia')\n",
    "plt.xlabel('Manipulacion')\n",
    "plt.title('Histograma')\n",
    "plt.show()"
   ]
  },
  {
   "cell_type": "code",
   "execution_count": 10,
   "id": "088d3c88",
   "metadata": {},
   "outputs": [
    {
     "data": {
      "image/png": "[encoded data removed]",
      "text/plain": [
       "<Figure size 432x288 with 1 Axes>"
      ]
     },
     "metadata": {
      "needs_background": "light"
     },
     "output_type": "display_data"
    }
   ],
   "source": [
    "arr = np.array(df['temperatura'])\n",
    "\n",
    "plt.hist(arr)\n",
    "plt.ylabel('Frecuencia')\n",
    "plt.xlabel('Temperatura')\n",
    "plt.title('Histograma')\n",
    "plt.show()"
   ]
  },
  {
   "cell_type": "code",
   "execution_count": 11,
   "id": "80685943",
   "metadata": {},
   "outputs": [
    {
     "data": {
      "image/png": "[encoded data removed]",
      "text/plain": [
       "<Figure size 432x288 with 1 Axes>"
      ]
     },
     "metadata": {
      "needs_background": "light"
     },
     "output_type": "display_data"
    }
   ],
   "source": [
    "arr = np.array(df['protocolo'])\n",
    "\n",
    "plt.hist(arr)\n",
    "plt.ylabel('Frecuencia')\n",
    "plt.xlabel('Protocolo')\n",
    "plt.title('Histograma')\n",
    "plt.show()"
   ]
  },
  {
   "cell_type": "code",
   "execution_count": null,
   "id": "48fcf08f",
   "metadata": {},
   "outputs": [],
   "source": []
  },
  {
   "cell_type": "code",
   "execution_count": null,
   "id": "39089453",
   "metadata": {},
   "outputs": [],
   "source": []
  }
 ],
 "metadata": {
  "kernelspec": {
   "display_name": "Python 3 (ipykernel)",
   "language": "python",
   "name": "python3"
  },
  "language_info": {
   "codemirror_mode": {
    "name": "ipython",
    "version": 3
   },
   "file_extension": ".py",
   "mimetype": "text/x-python",
   "name": "python",
   "nbconvert_exporter": "python",
   "pygments_lexer": "ipython3",
   "version": "3.9.7"
  }
 },
 "nbformat": 4,
 "nbformat_minor": 5
}
