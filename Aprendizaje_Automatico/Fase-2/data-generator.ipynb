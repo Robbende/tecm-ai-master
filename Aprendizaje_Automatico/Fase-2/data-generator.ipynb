{
 "cells": [
  {
   "cell_type": "code",
   "execution_count": 109,
   "id": "cc5a2b87",
   "metadata": {},
   "outputs": [],
   "source": [
    "import random\n",
    "import faker\n",
    "import pandas as pd\n",
    "import numpy as np\n",
    "import matplotlib.pyplot as plt"
   ]
  },
  {
   "cell_type": "code",
   "execution_count": 110,
   "id": "87efc818",
   "metadata": {},
   "outputs": [],
   "source": [
    "def get_gaussian_value(min_num, max_num, media, std_dev):\n",
    "    while True:\n",
    "        val = random.gauss(media, std_dev)\n",
    "        if val>=min_num and val<=max_num:\n",
    "            return val"
   ]
  },
  {
   "cell_type": "code",
   "execution_count": 111,
   "id": "11a2a2ff",
   "metadata": {},
   "outputs": [],
   "source": [
    "def data_generator():\n",
    "    rows = []\n",
    "    for i in range(10000):\n",
    "        row_dict = {}\n",
    "        \n",
    "        row_dict['embalaje'] = random.choice(['A', 'B', 'C'])\n",
    "        row_dict['largo'] = get_gaussian_value(5, 100, 50, 15)\n",
    "        row_dict['ancho'] = get_gaussian_value(5, 100, 50, 15)\n",
    "        row_dict['alto'] = get_gaussian_value(5, 100, 50, 15)\n",
    "        row_dict['peso'] = get_gaussian_value(5, 100, 50, 15)\n",
    "        row_dict['procedencia'] = random.choice(['A', 'B', 'C', 'D'])\n",
    "        \n",
    "        # 20% es refrigerado\n",
    "        if random.random() <= 0.2:\n",
    "            row_dict['temperatura'] = 'refrigerado'\n",
    "        else:\n",
    "            row_dict['temperatura'] = 'ambiente'\n",
    "            \n",
    "        # 20% es fragil independientemente de la temperatura\n",
    "        if random.random() <= 0.2:\n",
    "            row_dict['manipulacion'] = 'fragil'\n",
    "        else:\n",
    "            # si la temperatura es refrigerado entonces la manipulacion es fragil\n",
    "            if row_dict['temperatura'] == 'refrigerado':\n",
    "                row_dict['manipulacion'] = 'fragil'\n",
    "            else:\n",
    "                row_dict['manipulacion'] = 'normal'\n",
    "            \n",
    "        \n",
    "        \n",
    "        # etiquetado del protocolo\n",
    "        volumen = row_dict['largo'] * row_dict['ancho'] * row_dict['alto']\n",
    "        if volumen <= 3375 or row_dict['manipulacion'] == 'fragil':\n",
    "            row_dict['protocolo'] = 'protocolo_1'\n",
    "        else:\n",
    "            row_dict['protocolo'] = 'protocolo_2'\n",
    "\n",
    "        \n",
    "        \n",
    "        rows.append(row_dict)\n",
    "        \n",
    "    return rows\n",
    "\n",
    "data_dict = data_generator()"
   ]
  },
  {
   "cell_type": "code",
   "execution_count": 112,
   "id": "496c76a5",
   "metadata": {},
   "outputs": [
    {
     "data": {
      "text/html": [
       "<div>\n",
       "<style scoped>\n",
       "    .dataframe tbody tr th:only-of-type {\n",
       "        vertical-align: middle;\n",
       "    }\n",
       "\n",
       "    .dataframe tbody tr th {\n",
       "        vertical-align: top;\n",
       "    }\n",
       "\n",
       "    .dataframe thead th {\n",
       "        text-align: right;\n",
       "    }\n",
       "</style>\n",
       "<table border=\"1\" class=\"dataframe\">\n",
       "  <thead>\n",
       "    <tr style=\"text-align: right;\">\n",
       "      <th></th>\n",
       "      <th>embalaje</th>\n",
       "      <th>largo</th>\n",
       "      <th>ancho</th>\n",
       "      <th>alto</th>\n",
       "      <th>peso</th>\n",
       "      <th>procedencia</th>\n",
       "      <th>temperatura</th>\n",
       "      <th>manipulacion</th>\n",
       "      <th>protocolo</th>\n",
       "    </tr>\n",
       "  </thead>\n",
       "  <tbody>\n",
       "    <tr>\n",
       "      <th>0</th>\n",
       "      <td>C</td>\n",
       "      <td>55.740528</td>\n",
       "      <td>49.127133</td>\n",
       "      <td>68.215588</td>\n",
       "      <td>61.919486</td>\n",
       "      <td>C</td>\n",
       "      <td>ambiente</td>\n",
       "      <td>fragil</td>\n",
       "      <td>protocolo_1</td>\n",
       "    </tr>\n",
       "    <tr>\n",
       "      <th>1</th>\n",
       "      <td>C</td>\n",
       "      <td>54.391537</td>\n",
       "      <td>28.078693</td>\n",
       "      <td>29.405791</td>\n",
       "      <td>42.019218</td>\n",
       "      <td>D</td>\n",
       "      <td>ambiente</td>\n",
       "      <td>fragil</td>\n",
       "      <td>protocolo_1</td>\n",
       "    </tr>\n",
       "    <tr>\n",
       "      <th>2</th>\n",
       "      <td>A</td>\n",
       "      <td>33.220636</td>\n",
       "      <td>51.449980</td>\n",
       "      <td>44.906200</td>\n",
       "      <td>55.571046</td>\n",
       "      <td>A</td>\n",
       "      <td>ambiente</td>\n",
       "      <td>normal</td>\n",
       "      <td>protocolo_2</td>\n",
       "    </tr>\n",
       "    <tr>\n",
       "      <th>3</th>\n",
       "      <td>B</td>\n",
       "      <td>47.149550</td>\n",
       "      <td>46.729923</td>\n",
       "      <td>46.393705</td>\n",
       "      <td>48.390267</td>\n",
       "      <td>D</td>\n",
       "      <td>refrigerado</td>\n",
       "      <td>fragil</td>\n",
       "      <td>protocolo_1</td>\n",
       "    </tr>\n",
       "    <tr>\n",
       "      <th>4</th>\n",
       "      <td>A</td>\n",
       "      <td>34.386578</td>\n",
       "      <td>17.727098</td>\n",
       "      <td>58.454073</td>\n",
       "      <td>57.351910</td>\n",
       "      <td>C</td>\n",
       "      <td>ambiente</td>\n",
       "      <td>normal</td>\n",
       "      <td>protocolo_2</td>\n",
       "    </tr>\n",
       "    <tr>\n",
       "      <th>...</th>\n",
       "      <td>...</td>\n",
       "      <td>...</td>\n",
       "      <td>...</td>\n",
       "      <td>...</td>\n",
       "      <td>...</td>\n",
       "      <td>...</td>\n",
       "      <td>...</td>\n",
       "      <td>...</td>\n",
       "      <td>...</td>\n",
       "    </tr>\n",
       "    <tr>\n",
       "      <th>9995</th>\n",
       "      <td>C</td>\n",
       "      <td>58.531923</td>\n",
       "      <td>62.918930</td>\n",
       "      <td>35.978531</td>\n",
       "      <td>42.626943</td>\n",
       "      <td>B</td>\n",
       "      <td>ambiente</td>\n",
       "      <td>normal</td>\n",
       "      <td>protocolo_2</td>\n",
       "    </tr>\n",
       "    <tr>\n",
       "      <th>9996</th>\n",
       "      <td>A</td>\n",
       "      <td>75.355013</td>\n",
       "      <td>80.474789</td>\n",
       "      <td>37.376208</td>\n",
       "      <td>57.750952</td>\n",
       "      <td>D</td>\n",
       "      <td>ambiente</td>\n",
       "      <td>normal</td>\n",
       "      <td>protocolo_2</td>\n",
       "    </tr>\n",
       "    <tr>\n",
       "      <th>9997</th>\n",
       "      <td>C</td>\n",
       "      <td>44.149835</td>\n",
       "      <td>47.873174</td>\n",
       "      <td>64.199464</td>\n",
       "      <td>28.795871</td>\n",
       "      <td>C</td>\n",
       "      <td>refrigerado</td>\n",
       "      <td>fragil</td>\n",
       "      <td>protocolo_1</td>\n",
       "    </tr>\n",
       "    <tr>\n",
       "      <th>9998</th>\n",
       "      <td>C</td>\n",
       "      <td>65.618363</td>\n",
       "      <td>97.064587</td>\n",
       "      <td>26.709792</td>\n",
       "      <td>57.104619</td>\n",
       "      <td>C</td>\n",
       "      <td>refrigerado</td>\n",
       "      <td>fragil</td>\n",
       "      <td>protocolo_1</td>\n",
       "    </tr>\n",
       "    <tr>\n",
       "      <th>9999</th>\n",
       "      <td>C</td>\n",
       "      <td>34.568975</td>\n",
       "      <td>32.952912</td>\n",
       "      <td>70.533545</td>\n",
       "      <td>49.184683</td>\n",
       "      <td>C</td>\n",
       "      <td>ambiente</td>\n",
       "      <td>normal</td>\n",
       "      <td>protocolo_2</td>\n",
       "    </tr>\n",
       "  </tbody>\n",
       "</table>\n",
       "<p>10000 rows × 9 columns</p>\n",
       "</div>"
      ],
      "text/plain": [
       "     embalaje      largo      ancho       alto       peso procedencia  \\\n",
       "0           C  55.740528  49.127133  68.215588  61.919486           C   \n",
       "1           C  54.391537  28.078693  29.405791  42.019218           D   \n",
       "2           A  33.220636  51.449980  44.906200  55.571046           A   \n",
       "3           B  47.149550  46.729923  46.393705  48.390267           D   \n",
       "4           A  34.386578  17.727098  58.454073  57.351910           C   \n",
       "...       ...        ...        ...        ...        ...         ...   \n",
       "9995        C  58.531923  62.918930  35.978531  42.626943           B   \n",
       "9996        A  75.355013  80.474789  37.376208  57.750952           D   \n",
       "9997        C  44.149835  47.873174  64.199464  28.795871           C   \n",
       "9998        C  65.618363  97.064587  26.709792  57.104619           C   \n",
       "9999        C  34.568975  32.952912  70.533545  49.184683           C   \n",
       "\n",
       "      temperatura manipulacion    protocolo  \n",
       "0        ambiente       fragil  protocolo_1  \n",
       "1        ambiente       fragil  protocolo_1  \n",
       "2        ambiente       normal  protocolo_2  \n",
       "3     refrigerado       fragil  protocolo_1  \n",
       "4        ambiente       normal  protocolo_2  \n",
       "...           ...          ...          ...  \n",
       "9995     ambiente       normal  protocolo_2  \n",
       "9996     ambiente       normal  protocolo_2  \n",
       "9997  refrigerado       fragil  protocolo_1  \n",
       "9998  refrigerado       fragil  protocolo_1  \n",
       "9999     ambiente       normal  protocolo_2  \n",
       "\n",
       "[10000 rows x 9 columns]"
      ]
     },
     "execution_count": 112,
     "metadata": {},
     "output_type": "execute_result"
    }
   ],
   "source": [
    "df = pd.DataFrame.from_records(data_dict)\n",
    "df"
   ]
  },
  {
   "cell_type": "code",
   "execution_count": 113,
   "id": "381f27dc",
   "metadata": {},
   "outputs": [
    {
     "data": {
      "image/png": "[encoded data removed]",
      "text/plain": [
       "<Figure size 432x288 with 1 Axes>"
      ]
     },
     "metadata": {
      "needs_background": "light"
     },
     "output_type": "display_data"
    }
   ],
   "source": [
    "arr = np.array(df['alto'])\n",
    "\n",
    "plt.hist(arr)\n",
    "plt.ylabel('Frecuencia')\n",
    "plt.xlabel('Alto')\n",
    "plt.title('Histograma')\n",
    "plt.show()\n"
   ]
  },
  {
   "cell_type": "code",
   "execution_count": 114,
   "id": "a38cc62b",
   "metadata": {},
   "outputs": [
    {
     "data": {
      "image/png": "[encoded data removed]",
      "text/plain": [
       "<Figure size 432x288 with 1 Axes>"
      ]
     },
     "metadata": {
      "needs_background": "light"
     },
     "output_type": "display_data"
    }
   ],
   "source": [
    "arr = np.array(df['largo'])\n",
    "\n",
    "plt.hist(arr)\n",
    "plt.ylabel('Frecuencia')\n",
    "plt.xlabel('Largo')\n",
    "plt.title('Histograma')\n",
    "plt.show()"
   ]
  },
  {
   "cell_type": "code",
   "execution_count": 115,
   "id": "73e68ee8",
   "metadata": {},
   "outputs": [
    {
     "data": {
      "image/png": "[encoded data removed]",
      "text/plain": [
       "<Figure size 432x288 with 1 Axes>"
      ]
     },
     "metadata": {
      "needs_background": "light"
     },
     "output_type": "display_data"
    }
   ],
   "source": [
    "arr = np.array(df['ancho'])\n",
    "\n",
    "plt.hist(arr)\n",
    "plt.ylabel('Frecuencia')\n",
    "plt.xlabel('Ancho')\n",
    "plt.title('Histograma')\n",
    "plt.show()"
   ]
  },
  {
   "cell_type": "code",
   "execution_count": 116,
   "id": "58930ba0",
   "metadata": {},
   "outputs": [
    {
     "data": {
      "image/png": "[encoded data removed]",
      "text/plain": [
       "<Figure size 432x288 with 1 Axes>"
      ]
     },
     "metadata": {
      "needs_background": "light"
     },
     "output_type": "display_data"
    }
   ],
   "source": [
    "arr = np.array(df['peso'])\n",
    "\n",
    "plt.hist(arr)\n",
    "plt.ylabel('Frecuencia')\n",
    "plt.xlabel('Peso')\n",
    "plt.title('Histograma')\n",
    "plt.show()"
   ]
  },
  {
   "cell_type": "code",
   "execution_count": 117,
   "id": "7426203f",
   "metadata": {},
   "outputs": [
    {
     "data": {
      "image/png": "[encoded data removed]",
      "text/plain": [
       "<Figure size 432x288 with 1 Axes>"
      ]
     },
     "metadata": {
      "needs_background": "light"
     },
     "output_type": "display_data"
    }
   ],
   "source": [
    "arr = np.array(df['manipulacion'])\n",
    "\n",
    "plt.hist(arr)\n",
    "plt.ylabel('Frecuencia')\n",
    "plt.xlabel('Manipulacion')\n",
    "plt.title('Histograma')\n",
    "plt.show()"
   ]
  },
  {
   "cell_type": "code",
   "execution_count": 118,
   "id": "f85eef2f",
   "metadata": {},
   "outputs": [
    {
     "data": {
      "image/png": "[encoded data removed]",
      "text/plain": [
       "<Figure size 432x288 with 1 Axes>"
      ]
     },
     "metadata": {
      "needs_background": "light"
     },
     "output_type": "display_data"
    }
   ],
   "source": [
    "arr = np.array(df['temperatura'])\n",
    "\n",
    "plt.hist(arr)\n",
    "plt.ylabel('Frecuencia')\n",
    "plt.xlabel('Temperatura')\n",
    "plt.title('Histograma')\n",
    "plt.show()"
   ]
  },
  {
   "cell_type": "code",
   "execution_count": 119,
   "id": "34ff33ce",
   "metadata": {},
   "outputs": [
    {
     "data": {
      "image/png": "[encoded data removed]",
      "text/plain": [
       "<Figure size 432x288 with 1 Axes>"
      ]
     },
     "metadata": {
      "needs_background": "light"
     },
     "output_type": "display_data"
    }
   ],
   "source": [
    "arr = np.array(df['protocolo'])\n",
    "\n",
    "plt.hist(arr)\n",
    "plt.ylabel('Frecuencia')\n",
    "plt.xlabel('Protocolo')\n",
    "plt.title('Histograma')\n",
    "plt.show()"
   ]
  },
  {
   "cell_type": "code",
   "execution_count": null,
   "id": "068d2a04",
   "metadata": {},
   "outputs": [],
   "source": []
  },
  {
   "cell_type": "code",
   "execution_count": null,
   "id": "1c2a6b6d",
   "metadata": {},
   "outputs": [],
   "source": []
  }
 ],
 "metadata": {
  "kernelspec": {
   "display_name": "Python 3 (ipykernel)",
   "language": "python",
   "name": "python3"
  },
  "language_info": {
   "codemirror_mode": {
    "name": "ipython",
    "version": 3
   },
   "file_extension": ".py",
   "mimetype": "text/x-python",
   "name": "python",
   "nbconvert_exporter": "python",
   "pygments_lexer": "ipython3",
   "version": "3.9.7"
  }
 },
 "nbformat": 4,
 "nbformat_minor": 5
}
