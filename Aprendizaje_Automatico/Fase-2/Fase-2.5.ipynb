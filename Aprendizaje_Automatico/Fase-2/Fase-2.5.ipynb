{
 "cells": [
  {
   "cell_type": "markdown",
   "id": "36e23d2f",
   "metadata": {},
   "source": [
    "### Fase 2 - Punto 5"
   ]
  },
  {
   "cell_type": "code",
   "execution_count": 1,
   "id": "70c3c55a",
   "metadata": {},
   "outputs": [],
   "source": [
    "from sys import maxsize\n",
    "from itertools import permutations\n",
    "from math import sqrt\n",
    "import random"
   ]
  },
  {
   "cell_type": "code",
   "execution_count": 2,
   "id": "9d4d21ea",
   "metadata": {},
   "outputs": [],
   "source": [
    "# diccionario con coordenadas y si el area pertenece al protocolo 1 o no\n",
    "area_data = {\n",
    "    'A': [0,0,False],\n",
    "    'EA1': [100,300, True],\n",
    "    'EA2': [400,300,False],\n",
    "    'EB1': [700,-300, True],\n",
    "    'EB2': [400,-300,False],\n",
    "    'EC1': [1000,200, True],\n",
    "    'EC2': [1000,0,False],\n",
    "}"
   ]
  },
  {
   "cell_type": "markdown",
   "id": "e3b4ce2a",
   "metadata": {},
   "source": [
    "### Ruta Optima Para Distribuir Los Productos"
   ]
  },
  {
   "cell_type": "code",
   "execution_count": 3,
   "id": "04d2e39d",
   "metadata": {},
   "outputs": [],
   "source": [
    "def getCostMatrix(areaList):\n",
    "    graph = []\n",
    "    for j in range(len(areaList)):\n",
    "        graphRow = []\n",
    "        for i in range(len(areaList)):\n",
    "            p1 = area_data[areaList[j]]\n",
    "            p2 = area_data[areaList[i]]\n",
    "            d = getDistance(p1, p2)\n",
    "            graphRow.append(d)\n",
    "        graph.append(graphRow)\n",
    "    return graph"
   ]
  },
  {
   "cell_type": "code",
   "execution_count": 4,
   "id": "94e4040b",
   "metadata": {},
   "outputs": [],
   "source": [
    "def getDistance(p1, p2):\n",
    "    return sqrt((p2[0]-p1[0])**2 + (p2[1]-p1[1])**2) \n",
    "\n",
    "def pathIndexTranslate(areaList, pathIndexes):\n",
    "    path = []\n",
    "    for i in range(len(pathIndexes)):\n",
    "        path.append(areaList[pathIndexes[i][1]])\n",
    "    return path"
   ]
  },
  {
   "cell_type": "code",
   "execution_count": 5,
   "id": "5e2d3875",
   "metadata": {},
   "outputs": [],
   "source": [
    "def splitAreasByProtocol(areaList):\n",
    "    proto_1_list = []\n",
    "    proto_2_list = []\n",
    "\n",
    "    for i in areaList:\n",
    "        if area_data[i][2]:\n",
    "            proto_1_list.append(i)\n",
    "        else:\n",
    "            proto_2_list.append(i)\n",
    "    \n",
    "    return proto_1_list, proto_2_list"
   ]
  },
  {
   "cell_type": "code",
   "execution_count": 6,
   "id": "a700ab36",
   "metadata": {},
   "outputs": [],
   "source": [
    "def travellingBestRoute(graph, s, arealist):\n",
    " \n",
    "    vertex = []\n",
    "    for i in range(len(arealist)):\n",
    "        if i != s:\n",
    "            vertex.append(i)\n",
    "\n",
    "    min_distance = maxsize\n",
    "    min_path_i = []\n",
    "    min_last_node_idx = None\n",
    "\n",
    "    next_permutation=permutations(vertex)\n",
    "    \n",
    "    for i in next_permutation:\n",
    "        current_pathweight = 0\n",
    "        current_path_i = []\n",
    "\n",
    "        k = s\n",
    "        for j in i:\n",
    "            current_pathweight += graph[k][j]\n",
    "            current_path_i.append((k,j))\n",
    "            k = j\n",
    "\n",
    "        if current_pathweight < min_distance:\n",
    "            min_distance = current_pathweight\n",
    "            min_path_i = current_path_i\n",
    "            min_last_node_idx = k\n",
    "    \n",
    "    # translate min path indexes to area name\n",
    "    best_path = pathIndexTranslate(arealist, min_path_i)\n",
    "\n",
    "    return min_distance, min_path_i, arealist[min_last_node_idx], best_path"
   ]
  },
  {
   "cell_type": "code",
   "execution_count": 7,
   "id": "64a61b68",
   "metadata": {},
   "outputs": [],
   "source": [
    "def calculateBestPath(areaProto1List, areaProto2List, originNode):\n",
    "    \n",
    "    best_path = []\n",
    "    total_distance = 0\n",
    "    \n",
    "    travel_proto1 = None\n",
    "    \n",
    "    # calculate best path for protocol 1 first\n",
    "    if len(areaProto1List)>0:\n",
    "\n",
    "        areaProto1List = originNode + areaProto1List\n",
    "        \n",
    "        areaProto1CostMatrix = getCostMatrix(areaProto1List)\n",
    "\n",
    "        travel_proto1 = travellingBestRoute(areaProto1CostMatrix, 0, areaProto1List)\n",
    "        \n",
    "        best_path += travel_proto1[3]\n",
    "        total_distance += travel_proto1[0]\n",
    "    \n",
    "    # calculate best path for protocol 2\n",
    "    if len(areaProto2List) > 0:\n",
    "        \n",
    "        travel_proto2_ori = originNode\n",
    "        \n",
    "        if len(areaProto1List)>0:\n",
    "            # set last node from protocol 1 path as origin node for protocol 2 path\n",
    "            travel_proto2_ori = [travel_proto1[2]]\n",
    "        \n",
    "        areaProto2List = travel_proto2_ori + areaProto2List\n",
    "\n",
    "        areaProto2CostMatrix = getCostMatrix(areaProto2List)\n",
    "\n",
    "        travel_proto2 = travellingBestRoute(areaProto2CostMatrix, 0, areaProto2List)\n",
    "\n",
    "        # adding best path and distance for protocol 2\n",
    "        best_path += travel_proto2[3]\n",
    "        total_distance += travel_proto2[0]\n",
    "\n",
    "    return {'total_distance': total_distance, 'best_path': best_path}"
   ]
  },
  {
   "cell_type": "code",
   "execution_count": 8,
   "id": "66488228",
   "metadata": {},
   "outputs": [],
   "source": [
    " def GetBestRoute(areas_to_go):\n",
    "    # set the origin\n",
    "    area_origen = ['A']\n",
    "\n",
    "    # split areas_to_go by protocol\n",
    "    area_proto_1_list, aprea_proto_2_list = splitAreasByProtocol(areas_to_go)\n",
    "\n",
    "    res = calculateBestPath(area_proto_1_list, aprea_proto_2_list, area_origen)\n",
    "    \n",
    "    return res"
   ]
  },
  {
   "cell_type": "markdown",
   "id": "13c00d66",
   "metadata": {},
   "source": [
    "#### Ejemplo"
   ]
  },
  {
   "cell_type": "code",
   "execution_count": 9,
   "id": "cbfcac32",
   "metadata": {},
   "outputs": [
    {
     "name": "stdout",
     "output_type": "stream",
     "text": [
      "{'total_distance': 3218.6714861751616, 'best_path': ['EA1', 'EB1', 'EC1', 'EC2', 'EA2', 'EB2']}\n"
     ]
    }
   ],
   "source": [
    "print(GetBestRoute(['EA1','EA2', 'EB2','EC2', 'EB1', 'EC1']))"
   ]
  },
  {
   "cell_type": "markdown",
   "id": "3fdfab8f",
   "metadata": {},
   "source": [
    "### Importar Notebook con Modelo de Prediccion del Protocolo"
   ]
  },
  {
   "cell_type": "code",
   "execution_count": 10,
   "id": "a1b0f064",
   "metadata": {},
   "outputs": [
    {
     "name": "stdout",
     "output_type": "stream",
     "text": [
      "Matriz de Confusion: \n",
      "[[ 739    0]\n",
      " [   0 1261]]\n",
      "Precision: 1.0, Recall: 1.0, F1: 1.0, Accuracy: 1.0\n",
      "\n",
      "\n"
     ]
    }
   ],
   "source": [
    "%run Fase-2.4.b_LogisticRegression.ipynb"
   ]
  },
  {
   "cell_type": "markdown",
   "id": "9017f4c8",
   "metadata": {},
   "source": [
    "### Generador de Productos Aleatorios"
   ]
  },
  {
   "cell_type": "code",
   "execution_count": 11,
   "id": "1f9c5329",
   "metadata": {},
   "outputs": [],
   "source": [
    "def get_gaussian_value(min_num, max_num, media, std_dev):\n",
    "    while True:\n",
    "        val = random.gauss(media, std_dev)\n",
    "        if val>=min_num and val<=max_num:\n",
    "            return val"
   ]
  },
  {
   "cell_type": "code",
   "execution_count": 12,
   "id": "7ff5af2c",
   "metadata": {},
   "outputs": [],
   "source": [
    "# Generador aleatorio de productos\n",
    "def products_generator(n):\n",
    "    products = []\n",
    "    for i in range(n):\n",
    "        \n",
    "        embalaje = random.choice([0,1,2])\n",
    "        largo = get_gaussian_value(5, 100, 50, 15)\n",
    "        ancho = get_gaussian_value(5, 100, 50, 15)\n",
    "        alto = get_gaussian_value(5, 100, 50, 15)\n",
    "        peso = get_gaussian_value(1, 50, 25, 5)\n",
    "        procedencia = random.choice([0,1,2,3])\n",
    "        temperatura = random.choice([0,1])\n",
    "        manipulacion = random.choice([0,1])\n",
    "        \n",
    "        products.append(np.array([embalaje, largo, ancho, alto, peso, procedencia, temperatura, manipulacion]))\n",
    "        \n",
    "    return products"
   ]
  },
  {
   "cell_type": "markdown",
   "id": "ec8989d8",
   "metadata": {},
   "source": [
    "### Logica del Vehiculo"
   ]
  },
  {
   "cell_type": "code",
   "execution_count": 13,
   "id": "d4943946",
   "metadata": {},
   "outputs": [],
   "source": [
    "# prediccion del protocolo usando un modelo de Logistic Regression \n",
    "def predict_protocol(p):\n",
    "    y = LR_modelo_entrenado.predict(p.reshape(1,-1))\n",
    "    proto = int(y[0])\n",
    "    print(\"> Protocolo: \", proto)\n",
    "    new_p = np.append (p, [proto]) # add protocol predicted to the product array\n",
    "    return new_p"
   ]
  },
  {
   "cell_type": "code",
   "execution_count": 14,
   "id": "fbba2fcf",
   "metadata": {},
   "outputs": [],
   "source": [
    "area_num_to_letter = {0:'A', 1:'B', 2:'C'}\n",
    "\n",
    "# determina que areas visitar y cuantos productos entregar por area\n",
    "def get_building_areas_to_go(products):\n",
    "    \n",
    "    dict_res = {}\n",
    "    for p in products:\n",
    "        \n",
    "        area = area_num_to_letter[p[0]] # Letra del Area\n",
    "        proto = int(p[-1]) # protocolo\n",
    "        \n",
    "        area_name = f\"E{area}{proto}\"\n",
    "        \n",
    "        if area_name not in dict_res:\n",
    "            dict_res[area_name] = 1\n",
    "        else:\n",
    "            # aumenta el contador de producto para el area\n",
    "            dict_res[area_name] += 1\n",
    "            \n",
    "    return dict_res"
   ]
  },
  {
   "cell_type": "code",
   "execution_count": 15,
   "id": "7775d1c4",
   "metadata": {},
   "outputs": [],
   "source": [
    "# usa la funcion GetBestRoute para determinar el orden en que debe recoger los productos\n",
    "def get_bestroute(areas_visit):\n",
    "    return GetBestRoute(areas_visit)"
   ]
  },
  {
   "cell_type": "code",
   "execution_count": 16,
   "id": "c2a11bac",
   "metadata": {},
   "outputs": [],
   "source": [
    "# ejecucion del vehiculo en un proceso iterativo\n",
    "def vehicle_process(iterations):\n",
    "    for i in range(iterations):\n",
    "        print(\"=== Inicio del Recorrido ===\")\n",
    "        print(\"Recogiendo 3 productos del Almacen...\")\n",
    "        products = products_generator(3)\n",
    "\n",
    "        \n",
    "        # attach the protocol to each product\n",
    "        print(\"Prediccion del protocolo de cada producto...\")\n",
    "        prods = [predict_protocol(p) for p in products]\n",
    "        \n",
    "        # get unique areas to visit and the product quantity to deliver\n",
    "        print(\"Determinando cuantos productos entregar por cada area\")\n",
    "        areas_dic = get_building_areas_to_go(prods)\n",
    "        print(areas_dic)\n",
    "        \n",
    "        print(\"Determinando la mejor ruta de entrega\")\n",
    "        best_route_res = get_bestroute(areas_dic.keys())\n",
    "        print(best_route_res)\n",
    "        print(\"=== Fin del Recorrido ===\\n\")\n",
    "        "
   ]
  },
  {
   "cell_type": "markdown",
   "id": "c2a19ae6",
   "metadata": {},
   "source": [
    "### Ejecucion del Vehiculo"
   ]
  },
  {
   "cell_type": "code",
   "execution_count": 17,
   "id": "41ca7e96",
   "metadata": {},
   "outputs": [
    {
     "name": "stdout",
     "output_type": "stream",
     "text": [
      "=== Inicio del Recorrido ===\n",
      "Recogiendo 3 productos del Almacen...\n",
      "Prediccion del protocolo de cada producto...\n",
      "> Protocolo:  1\n",
      "> Protocolo:  1\n",
      "> Protocolo:  2\n",
      "Determinando cuantos productos entregar por cada area\n",
      "{'EC1': 1, 'EB1': 1, 'EA2': 1}\n",
      "Determinando la mejor ruta de entrega\n",
      "{'total_distance': 1952.9487531007426, 'best_path': ['EB1', 'EC1', 'EA2']}\n",
      "=== Fin del Recorrido ===\n",
      "\n",
      "=== Inicio del Recorrido ===\n",
      "Recogiendo 3 productos del Almacen...\n",
      "Prediccion del protocolo de cada producto...\n",
      "> Protocolo:  2\n",
      "> Protocolo:  1\n",
      "> Protocolo:  2\n",
      "Determinando cuantos productos entregar por cada area\n",
      "{'EB2': 2, 'EA1': 1}\n",
      "Determinando la mejor ruta de entrega\n",
      "{'total_distance': 987.048159266775, 'best_path': ['EA1', 'EB2']}\n",
      "=== Fin del Recorrido ===\n",
      "\n",
      "=== Inicio del Recorrido ===\n",
      "Recogiendo 3 productos del Almacen...\n",
      "Prediccion del protocolo de cada producto...\n",
      "> Protocolo:  1\n",
      "> Protocolo:  1\n",
      "> Protocolo:  1\n",
      "Determinando cuantos productos entregar por cada area\n",
      "{'EC1': 1, 'EB1': 1, 'EA1': 1}\n",
      "Determinando la mejor ruta de entrega\n",
      "{'total_distance': 1747.851092925225, 'best_path': ['EA1', 'EB1', 'EC1']}\n",
      "=== Fin del Recorrido ===\n",
      "\n",
      "=== Inicio del Recorrido ===\n",
      "Recogiendo 3 productos del Almacen...\n",
      "Prediccion del protocolo de cada producto...\n",
      "> Protocolo:  1\n",
      "> Protocolo:  2\n",
      "> Protocolo:  2\n",
      "Determinando cuantos productos entregar por cada area\n",
      "{'EA1': 1, 'EB2': 1, 'EA2': 1}\n",
      "Determinando la mejor ruta de entrega\n",
      "{'total_distance': 1216.227766016838, 'best_path': ['EA1', 'EA2', 'EB2']}\n",
      "=== Fin del Recorrido ===\n",
      "\n",
      "=== Inicio del Recorrido ===\n",
      "Recogiendo 3 productos del Almacen...\n",
      "Prediccion del protocolo de cada producto...\n",
      "> Protocolo:  1\n",
      "> Protocolo:  2\n",
      "> Protocolo:  1\n",
      "Determinando cuantos productos entregar por cada area\n",
      "{'EB1': 2, 'EA2': 1}\n",
      "Determinando la mejor ruta de entrega\n",
      "{'total_distance': 1432.3977038363278, 'best_path': ['EB1', 'EA2']}\n",
      "=== Fin del Recorrido ===\n",
      "\n"
     ]
    }
   ],
   "source": [
    "# ejecucion del vehiculo 5 veces\n",
    "vehicle_process(5)"
   ]
  },
  {
   "cell_type": "code",
   "execution_count": null,
   "id": "5e11ae39",
   "metadata": {},
   "outputs": [],
   "source": []
  }
 ],
 "metadata": {
  "kernelspec": {
   "display_name": "Python 3 (ipykernel)",
   "language": "python",
   "name": "python3"
  },
  "language_info": {
   "codemirror_mode": {
    "name": "ipython",
    "version": 3
   },
   "file_extension": ".py",
   "mimetype": "text/x-python",
   "name": "python",
   "nbconvert_exporter": "python",
   "pygments_lexer": "ipython3",
   "version": "3.9.7"
  }
 },
 "nbformat": 4,
 "nbformat_minor": 5
}
