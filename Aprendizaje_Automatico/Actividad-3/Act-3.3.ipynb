{
 "cells": [
  {
   "cell_type": "code",
   "execution_count": 62,
   "id": "5e36b3c7",
   "metadata": {},
   "outputs": [],
   "source": [
    "import numpy as np"
   ]
  },
  {
   "cell_type": "code",
   "execution_count": 63,
   "id": "71c5ef45",
   "metadata": {},
   "outputs": [],
   "source": [
    "\n",
    "def sigmoid(z):\n",
    "    return 1/(1+np.exp(-z))\n",
    "\n",
    "def sigmoidDerivative(z):\n",
    "    return sigmoid(z) * (1 - sigmoid(z))"
   ]
  },
  {
   "cell_type": "code",
   "execution_count": 64,
   "id": "0369e578",
   "metadata": {},
   "outputs": [],
   "source": [
    "# input\n",
    "x = np.array([[1,0,1], [0,1,0], [0,0,1], [1,0,0]])\n",
    "# output\n",
    "#y = np.array([[0,1,1,0]]).T\n",
    "y = np.array([[1,0,1,0]]).T"
   ]
  },
  {
   "cell_type": "code",
   "execution_count": 65,
   "id": "5a4846ed",
   "metadata": {},
   "outputs": [
    {
     "data": {
      "text/plain": [
       "array([[0.37819934],\n",
       "       [0.71215064],\n",
       "       [0.63533627]])"
      ]
     },
     "execution_count": 65,
     "metadata": {},
     "output_type": "execute_result"
    }
   ],
   "source": [
    "# inicializacion de los pesos con numeros randoms\n",
    "synaptic_weights = np.random.random((3,1))\n",
    "synaptic_weights"
   ]
  },
  {
   "cell_type": "code",
   "execution_count": 66,
   "id": "916b0ca0",
   "metadata": {},
   "outputs": [],
   "source": [
    "for iteration in range(10000):\n",
    "    \n",
    "    # producto punto del input por los pesos\n",
    "    z = np.dot(x, synaptic_weights)\n",
    "    # calculo del output usando la funcion sigmoide\n",
    "    sigmoid_val = sigmoid(z)\n",
    "    # calculo del error entre la prediccion y lo esperado\n",
    "    error = (y - sigmoid_val)\n",
    "    \n",
    "    \n",
    "    # backpropagation para ajustar los nuevos pesos\n",
    "    synaptic_weights += np.dot(x.T, error*sigmoidDerivative(sigmoid_val))\n",
    "    \n",
    "    "
   ]
  },
  {
   "cell_type": "code",
   "execution_count": 67,
   "id": "b5daa1b8",
   "metadata": {},
   "outputs": [
    {
     "name": "stdout",
     "output_type": "stream",
     "text": [
      "Nuevos Pesos Despues del Entrenamiento:\n",
      "[[-6.72670383]\n",
      " [-7.8210784 ]\n",
      " [13.61990643]]\n"
     ]
    }
   ],
   "source": [
    "print('Nuevos Pesos Despues del Entrenamiento:')\n",
    "print(synaptic_weights)"
   ]
  },
  {
   "cell_type": "code",
   "execution_count": 68,
   "id": "4addf024",
   "metadata": {},
   "outputs": [
    {
     "name": "stdout",
     "output_type": "stream",
     "text": [
      "Entrada [0 1 1]\n",
      "Salida [0.99697805]\n"
     ]
    }
   ],
   "source": [
    "nuevo_input = np.array([0,1,1])\n",
    "output_esperado = 1\n",
    "\n",
    "# calculo del output usando los pesos ya calculados previamente\n",
    "newZ = np.dot(nuevo_input, synaptic_weights)\n",
    "output_prediction = sigmoid(newZ)\n",
    "\n",
    "print(f'Entrada {nuevo_input}')\n",
    "print(f'Salida {output_prediction}')\n",
    "\n"
   ]
  },
  {
   "cell_type": "code",
   "execution_count": null,
   "id": "8817e563",
   "metadata": {},
   "outputs": [],
   "source": []
  }
 ],
 "metadata": {
  "kernelspec": {
   "display_name": "Python 3 (ipykernel)",
   "language": "python",
   "name": "python3"
  },
  "language_info": {
   "codemirror_mode": {
    "name": "ipython",
    "version": 3
   },
   "file_extension": ".py",
   "mimetype": "text/x-python",
   "name": "python",
   "nbconvert_exporter": "python",
   "pygments_lexer": "ipython3",
   "version": "3.9.7"
  }
 },
 "nbformat": 4,
 "nbformat_minor": 5
}
