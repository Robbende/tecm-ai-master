{
 "cells": [
  {
   "cell_type": "markdown",
   "id": "2823f8b2",
   "metadata": {},
   "source": [
    "### Punto 2 - Operaciones Multivariable\n"
   ]
  },
  {
   "cell_type": "code",
   "execution_count": 21,
   "id": "4992f6f1",
   "metadata": {},
   "outputs": [],
   "source": [
    "import sympy as sym\n",
    "\n",
    "x,y = sym.symbols('x y')"
   ]
  },
  {
   "cell_type": "markdown",
   "id": "476d1b29",
   "metadata": {},
   "source": [
    "#### Primer Derivada Parcial "
   ]
  },
  {
   "cell_type": "markdown",
   "id": "b4aa005a",
   "metadata": {},
   "source": [
    "#### A."
   ]
  },
  {
   "cell_type": "code",
   "execution_count": 22,
   "id": "28afb5ba",
   "metadata": {},
   "outputs": [
    {
     "data": {
      "text/latex": [
       "$\\displaystyle 4 x^{3} y - 7 x + 5 y^{2}$"
      ],
      "text/plain": [
       "4*x**3*y - 7*x + 5*y**2"
      ]
     },
     "execution_count": 22,
     "metadata": {},
     "output_type": "execute_result"
    }
   ],
   "source": [
    "# Funcion A\n",
    "func_21a = 4*x**3*y+5*y**2-7*x\n",
    "func_21a"
   ]
  },
  {
   "cell_type": "code",
   "execution_count": 23,
   "id": "f86126a4",
   "metadata": {},
   "outputs": [
    {
     "data": {
      "text/latex": [
       "$\\displaystyle 12 x^{2} y - 7$"
      ],
      "text/plain": [
       "12*x**2*y - 7"
      ]
     },
     "execution_count": 23,
     "metadata": {},
     "output_type": "execute_result"
    }
   ],
   "source": [
    "# Primer Derivada Parcial Respecto X\n",
    "der_func_21a_x = sym.diff(func_21a, x)\n",
    "der_func_21a_x"
   ]
  },
  {
   "cell_type": "code",
   "execution_count": 24,
   "id": "1ddffc57",
   "metadata": {},
   "outputs": [
    {
     "data": {
      "text/latex": [
       "$\\displaystyle 4 x^{3} + 10 y$"
      ],
      "text/plain": [
       "4*x**3 + 10*y"
      ]
     },
     "execution_count": 24,
     "metadata": {},
     "output_type": "execute_result"
    }
   ],
   "source": [
    "# Primer Derivada Parcial Respecto Y\n",
    "der_func_21a_y = sym.diff(func_21a, y)\n",
    "der_func_21a_y"
   ]
  },
  {
   "cell_type": "markdown",
   "id": "5b0423f5",
   "metadata": {},
   "source": [
    "#### B."
   ]
  },
  {
   "cell_type": "code",
   "execution_count": 25,
   "id": "32e8039c",
   "metadata": {},
   "outputs": [
    {
     "data": {
      "text/latex": [
       "$\\displaystyle \\frac{y^{2}}{1 - e^{x}}$"
      ],
      "text/plain": [
       "y**2/(1 - exp(x))"
      ]
     },
     "execution_count": 25,
     "metadata": {},
     "output_type": "execute_result"
    }
   ],
   "source": [
    "# Funcion B\n",
    "func_21b = y**2/(1-sym.E**x)\n",
    "func_21b"
   ]
  },
  {
   "cell_type": "code",
   "execution_count": 26,
   "id": "1ed5b3e3",
   "metadata": {},
   "outputs": [
    {
     "data": {
      "text/latex": [
       "$\\displaystyle \\frac{y^{2} e^{x}}{\\left(1 - e^{x}\\right)^{2}}$"
      ],
      "text/plain": [
       "y**2*exp(x)/(1 - exp(x))**2"
      ]
     },
     "execution_count": 26,
     "metadata": {},
     "output_type": "execute_result"
    }
   ],
   "source": [
    "# Primer Derivada Parcial Respecto X\n",
    "der_func_21b_x = sym.diff(func_21b,x)\n",
    "der_func_21b_x"
   ]
  },
  {
   "cell_type": "code",
   "execution_count": 27,
   "id": "3551a87b",
   "metadata": {},
   "outputs": [
    {
     "data": {
      "text/latex": [
       "$\\displaystyle \\frac{2 y}{1 - e^{x}}$"
      ],
      "text/plain": [
       "2*y/(1 - exp(x))"
      ]
     },
     "execution_count": 27,
     "metadata": {},
     "output_type": "execute_result"
    }
   ],
   "source": [
    "# Primer Derivada Parcial Respecto Y\n",
    "der_func_21b_y = sym.diff(func_21b,y)\n",
    "der_func_21b_y"
   ]
  },
  {
   "cell_type": "markdown",
   "id": "5351bea0",
   "metadata": {},
   "source": [
    "#### Segunda Derivadas Parciales "
   ]
  },
  {
   "cell_type": "markdown",
   "id": "34ece8ba",
   "metadata": {},
   "source": [
    "#### A."
   ]
  },
  {
   "cell_type": "code",
   "execution_count": 28,
   "id": "ffd67e8c",
   "metadata": {},
   "outputs": [
    {
     "data": {
      "text/latex": [
       "$\\displaystyle 3 x^{5} y + \\frac{y^{3}}{3}$"
      ],
      "text/plain": [
       "3*x**5*y + y**3/3"
      ]
     },
     "execution_count": 28,
     "metadata": {},
     "output_type": "execute_result"
    }
   ],
   "source": [
    "func_22a = 3*x**5*y+(y**3/3)\n",
    "func_22a"
   ]
  },
  {
   "cell_type": "code",
   "execution_count": 29,
   "id": "1b4c28ab",
   "metadata": {},
   "outputs": [
    {
     "data": {
      "text/latex": [
       "$\\displaystyle 60 x^{3} y$"
      ],
      "text/plain": [
       "60*x**3*y"
      ]
     },
     "execution_count": 29,
     "metadata": {},
     "output_type": "execute_result"
    }
   ],
   "source": [
    "# Segunda Derivada Parcial Respecto X\n",
    "der2_func_22a_x = sym.diff(func_22a,x,2)\n",
    "der2_func_22a_x"
   ]
  },
  {
   "cell_type": "code",
   "execution_count": 30,
   "id": "35e849bb",
   "metadata": {},
   "outputs": [
    {
     "data": {
      "text/latex": [
       "$\\displaystyle 2 y$"
      ],
      "text/plain": [
       "2*y"
      ]
     },
     "execution_count": 30,
     "metadata": {},
     "output_type": "execute_result"
    }
   ],
   "source": [
    "# Segunda Derivada Parcial Respecto Y\n",
    "der2_func_22a_y = sym.diff(func_22a,y,2)\n",
    "der2_func_22a_y"
   ]
  },
  {
   "cell_type": "markdown",
   "id": "c8866a2c",
   "metadata": {},
   "source": [
    "#### B."
   ]
  },
  {
   "cell_type": "code",
   "execution_count": 31,
   "id": "755119d1",
   "metadata": {},
   "outputs": [
    {
     "data": {
      "text/latex": [
       "$\\displaystyle \\frac{\\operatorname{asin}{\\left(x^{3} \\right)}}{\\cos^{2}{\\left(2 y \\right)}}$"
      ],
      "text/plain": [
       "asin(x**3)/cos(2*y)**2"
      ]
     },
     "execution_count": 31,
     "metadata": {},
     "output_type": "execute_result"
    }
   ],
   "source": [
    "func_22b = sym.asin(x**3) / (sym.cos(2*y))**2\n",
    "func_22b"
   ]
  },
  {
   "cell_type": "code",
   "execution_count": 32,
   "id": "ddd07264",
   "metadata": {},
   "outputs": [
    {
     "data": {
      "text/latex": [
       "$\\displaystyle - \\frac{3 x \\left(\\frac{3 x^{6}}{x^{6} - 1} - 2\\right)}{\\sqrt{1 - x^{6}} \\cos^{2}{\\left(2 y \\right)}}$"
      ],
      "text/plain": [
       "-3*x*(3*x**6/(x**6 - 1) - 2)/(sqrt(1 - x**6)*cos(2*y)**2)"
      ]
     },
     "execution_count": 32,
     "metadata": {},
     "output_type": "execute_result"
    }
   ],
   "source": [
    "# Segunda Derivada Parcial Respecto X\n",
    "der2_func_22b_x = sym.diff(func_22b,x,2)\n",
    "der2_func_22b_x"
   ]
  },
  {
   "cell_type": "code",
   "execution_count": 33,
   "id": "020ed5a6",
   "metadata": {},
   "outputs": [
    {
     "data": {
      "text/latex": [
       "$\\displaystyle \\frac{8 \\left(\\frac{3 \\sin^{2}{\\left(2 y \\right)}}{\\cos^{2}{\\left(2 y \\right)}} + 1\\right) \\operatorname{asin}{\\left(x^{3} \\right)}}{\\cos^{2}{\\left(2 y \\right)}}$"
      ],
      "text/plain": [
       "8*(3*sin(2*y)**2/cos(2*y)**2 + 1)*asin(x**3)/cos(2*y)**2"
      ]
     },
     "execution_count": 33,
     "metadata": {},
     "output_type": "execute_result"
    }
   ],
   "source": [
    "# Segunda Derivada Parcial Respecto Y\n",
    "der2_func_22b_y = sym.diff(func_22b,y,2)\n",
    "der2_func_22b_y"
   ]
  },
  {
   "cell_type": "code",
   "execution_count": null,
   "id": "8abdf022",
   "metadata": {},
   "outputs": [],
   "source": []
  }
 ],
 "metadata": {
  "kernelspec": {
   "display_name": "Python 3 (ipykernel)",
   "language": "python",
   "name": "python3"
  },
  "language_info": {
   "codemirror_mode": {
    "name": "ipython",
    "version": 3
   },
   "file_extension": ".py",
   "mimetype": "text/x-python",
   "name": "python",
   "nbconvert_exporter": "python",
   "pygments_lexer": "ipython3",
   "version": "3.9.7"
  }
 },
 "nbformat": 4,
 "nbformat_minor": 5
}
