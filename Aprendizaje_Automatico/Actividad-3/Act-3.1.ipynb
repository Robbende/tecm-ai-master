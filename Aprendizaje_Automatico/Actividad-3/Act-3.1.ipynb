{
 "cells": [
  {
   "cell_type": "markdown",
   "id": "1a999a9a",
   "metadata": {},
   "source": [
    "### Punto 1 - Operaciones, Primer y Segunda Derivada"
   ]
  },
  {
   "cell_type": "code",
   "execution_count": 34,
   "id": "da2f3578",
   "metadata": {},
   "outputs": [],
   "source": [
    "import sympy as sym\n"
   ]
  },
  {
   "cell_type": "code",
   "execution_count": 35,
   "id": "64bfaac4",
   "metadata": {},
   "outputs": [],
   "source": [
    "x = sym.Symbol('x')"
   ]
  },
  {
   "cell_type": "markdown",
   "id": "f70aeb1d",
   "metadata": {},
   "source": [
    "#### Primer derivada "
   ]
  },
  {
   "cell_type": "code",
   "execution_count": 36,
   "id": "20c219f4",
   "metadata": {},
   "outputs": [
    {
     "data": {
      "text/latex": [
       "$\\displaystyle 3 x + 4 e^{- 4 x}$"
      ],
      "text/plain": [
       "3*x + 4*exp(-4*x)"
      ]
     },
     "execution_count": 36,
     "metadata": {},
     "output_type": "execute_result"
    }
   ],
   "source": [
    "# Funcion A\n",
    "func_11a = 3*x+4*sym.E**-(4*x)\n",
    "func_11a"
   ]
  },
  {
   "cell_type": "code",
   "execution_count": 37,
   "id": "37b59d08",
   "metadata": {},
   "outputs": [
    {
     "data": {
      "text/latex": [
       "$\\displaystyle 3 - 16 e^{- 4 x}$"
      ],
      "text/plain": [
       "3 - 16*exp(-4*x)"
      ]
     },
     "execution_count": 37,
     "metadata": {},
     "output_type": "execute_result"
    }
   ],
   "source": [
    "# Derivada Funcion A\n",
    "der_func_11a = sym.diff(func_11a)\n",
    "der_func_11a"
   ]
  },
  {
   "cell_type": "code",
   "execution_count": 38,
   "id": "fc384e3c",
   "metadata": {},
   "outputs": [
    {
     "data": {
      "text/latex": [
       "$\\displaystyle - 8 x^{2} - 3 x + 5 x^{3 x + 1}$"
      ],
      "text/plain": [
       "-8*x**2 - 3*x + 5*x**(3*x + 1)"
      ]
     },
     "execution_count": 38,
     "metadata": {},
     "output_type": "execute_result"
    }
   ],
   "source": [
    "# Funcion B\n",
    "func_11b = 5*x**(3*x+1)-8*x**2-3*x\n",
    "func_11b"
   ]
  },
  {
   "cell_type": "code",
   "execution_count": 39,
   "id": "c1a29bf6",
   "metadata": {},
   "outputs": [
    {
     "data": {
      "text/latex": [
       "$\\displaystyle - 16 x + 5 x^{3 x + 1} \\left(3 \\log{\\left(x \\right)} + \\frac{3 x + 1}{x}\\right) - 3$"
      ],
      "text/plain": [
       "-16*x + 5*x**(3*x + 1)*(3*log(x) + (3*x + 1)/x) - 3"
      ]
     },
     "execution_count": 39,
     "metadata": {},
     "output_type": "execute_result"
    }
   ],
   "source": [
    "# Derivada Funcion B\n",
    "der_func_11b = sym.diff(func_11b)\n",
    "der_func_11b"
   ]
  },
  {
   "cell_type": "markdown",
   "id": "871b426a",
   "metadata": {},
   "source": [
    "#### Segunda derivada "
   ]
  },
  {
   "cell_type": "code",
   "execution_count": 40,
   "id": "b3821a35",
   "metadata": {},
   "outputs": [
    {
     "data": {
      "text/latex": [
       "$\\displaystyle 4 x^{4} + 6 x^{2} + e^{4 x^{2}}$"
      ],
      "text/plain": [
       "4*x**4 + 6*x**2 + exp(4*x**2)"
      ]
     },
     "execution_count": 40,
     "metadata": {},
     "output_type": "execute_result"
    }
   ],
   "source": [
    "# Funcion A\n",
    "func_12a = 4*x**4+6*x**2+sym.E**(4*x**2)\n",
    "func_12a\n"
   ]
  },
  {
   "cell_type": "code",
   "execution_count": 41,
   "id": "2076a247",
   "metadata": {},
   "outputs": [
    {
     "data": {
      "text/latex": [
       "$\\displaystyle 4 \\left(16 x^{2} e^{4 x^{2}} + 12 x^{2} + 2 e^{4 x^{2}} + 3\\right)$"
      ],
      "text/plain": [
       "4*(16*x**2*exp(4*x**2) + 12*x**2 + 2*exp(4*x**2) + 3)"
      ]
     },
     "execution_count": 41,
     "metadata": {},
     "output_type": "execute_result"
    }
   ],
   "source": [
    "# Segunda Derivada Funcion A\n",
    "der2_func_12a = sym.diff(func_12a,x,2)\n",
    "der2_func_12a"
   ]
  },
  {
   "cell_type": "code",
   "execution_count": 42,
   "id": "25f08fe9",
   "metadata": {},
   "outputs": [
    {
     "data": {
      "text/latex": [
       "$\\displaystyle \\frac{1}{2 x^{3} + 8 x}$"
      ],
      "text/plain": [
       "1/(2*x**3 + 8*x)"
      ]
     },
     "execution_count": 42,
     "metadata": {},
     "output_type": "execute_result"
    }
   ],
   "source": [
    "# Funcion B\n",
    "func_12b = 1/(2*x**3+8*x)\n",
    "func_12b"
   ]
  },
  {
   "cell_type": "code",
   "execution_count": 43,
   "id": "a23d2287",
   "metadata": {},
   "outputs": [
    {
     "data": {
      "text/latex": [
       "$\\displaystyle \\frac{-3 + \\frac{\\left(3 x^{2} + 4\\right)^{2}}{x^{2} \\left(x^{2} + 4\\right)}}{x \\left(x^{2} + 4\\right)^{2}}$"
      ],
      "text/plain": [
       "(-3 + (3*x**2 + 4)**2/(x**2*(x**2 + 4)))/(x*(x**2 + 4)**2)"
      ]
     },
     "execution_count": 43,
     "metadata": {},
     "output_type": "execute_result"
    }
   ],
   "source": [
    "# Segunda Derivada Funcion B\n",
    "der2_func_12b = sym.diff(func_12b,x,2)\n",
    "der2_func_12b"
   ]
  },
  {
   "cell_type": "code",
   "execution_count": null,
   "id": "48a09143",
   "metadata": {},
   "outputs": [],
   "source": []
  }
 ],
 "metadata": {
  "kernelspec": {
   "display_name": "Python 3 (ipykernel)",
   "language": "python",
   "name": "python3"
  },
  "language_info": {
   "codemirror_mode": {
    "name": "ipython",
    "version": 3
   },
   "file_extension": ".py",
   "mimetype": "text/x-python",
   "name": "python",
   "nbconvert_exporter": "python",
   "pygments_lexer": "ipython3",
   "version": "3.9.7"
  }
 },
 "nbformat": 4,
 "nbformat_minor": 5
}
