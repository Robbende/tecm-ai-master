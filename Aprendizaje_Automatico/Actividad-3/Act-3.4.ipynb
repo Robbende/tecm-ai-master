{
 "cells": [
  {
   "cell_type": "markdown",
   "id": "a10e585d",
   "metadata": {},
   "source": [
    "### Punto 4 - Probabilidad\n"
   ]
  },
  {
   "cell_type": "markdown",
   "id": "8cb9f066",
   "metadata": {},
   "source": [
    "Los dispositivos electrónicos que se construían a base de transistores en la década de 1990 presentaban dos tipos de fallas principales: la fuente de alimentación y el circuito principal (tarjeta principal). Según las estadísticas de esa época, un taller promedio recibía de manera mensual un 30% de equipos con afectaciones en la fuente de alimentación y la efectividad de la reparación de un equipo era de un 75% si la falla estaba localizada en el circuito principal.\n",
    "\n",
    "Calcula la probabilidad de que un equipo que no tuviera reparación hubiera ingresado al taller por problemas en la tarjeta principal."
   ]
  },
  {
   "cell_type": "markdown",
   "id": "b4234703",
   "metadata": {},
   "source": [
    "#### Resolucion "
   ]
  },
  {
   "cell_type": "markdown",
   "id": "28937e6b",
   "metadata": {},
   "source": [
    "Usando el Teorema de Bayes: <b> P(CP|F) = P(F|CP) * P(CP) / P(F) </b>\n",
    "\n",
    "donde: <br/>\n",
    "CP = Circuito Principal <br/>\n",
    "F = Falla (no tiene reparacion) <br/>"
   ]
  },
  {
   "cell_type": "code",
   "execution_count": 27,
   "id": "e236f36d",
   "metadata": {},
   "outputs": [],
   "source": [
    "# P(FA) = Probabilidad de fuente de alimentacion\n",
    "p_fa = 0.3"
   ]
  },
  {
   "cell_type": "code",
   "execution_count": 28,
   "id": "4e222944",
   "metadata": {},
   "outputs": [],
   "source": [
    "# P(CP) = Probabilidad de Circuito Principal\n",
    "# 100% - P(FA) (fuente de alimentacion)\n",
    "p_cp = 1 - p_fa # 0.7"
   ]
  },
  {
   "cell_type": "code",
   "execution_count": 29,
   "id": "82a54c13",
   "metadata": {},
   "outputs": [],
   "source": [
    "# P(F|CP)\n",
    "# 100% - 75% (efectividad de reparacion)\n",
    "p_f_cp = 0.25 "
   ]
  },
  {
   "cell_type": "code",
   "execution_count": 30,
   "id": "844960e8",
   "metadata": {},
   "outputs": [],
   "source": [
    "# P(F|FA)\n",
    "# probabilidad de falla dado que es por fuente de alimentacion.\n",
    "p_f_fa = 1 #100%\n"
   ]
  },
  {
   "cell_type": "code",
   "execution_count": 34,
   "id": "3fc48cd3",
   "metadata": {},
   "outputs": [],
   "source": [
    "# P(F)\n",
    "# Probabilidad de falla independientemente si es por Circuito Principal o Fuente de Alimentacion\n",
    "\n",
    "p_f = p_fa * p_f_fa + p_cp * p_f_cp\n"
   ]
  },
  {
   "cell_type": "code",
   "execution_count": 35,
   "id": "388761f8",
   "metadata": {},
   "outputs": [
    {
     "data": {
      "text/plain": [
       "0.3684210526315789"
      ]
     },
     "execution_count": 35,
     "metadata": {},
     "output_type": "execute_result"
    }
   ],
   "source": [
    "# Aplicando el Teorema de Bayes\n",
    "p_cp_f = (p_f_cp * p_cp) / p_f\n",
    "p_cp_f"
   ]
  }
 ],
 "metadata": {
  "kernelspec": {
   "display_name": "Python 3 (ipykernel)",
   "language": "python",
   "name": "python3"
  },
  "language_info": {
   "codemirror_mode": {
    "name": "ipython",
    "version": 3
   },
   "file_extension": ".py",
   "mimetype": "text/x-python",
   "name": "python",
   "nbconvert_exporter": "python",
   "pygments_lexer": "ipython3",
   "version": "3.9.7"
  }
 },
 "nbformat": 4,
 "nbformat_minor": 5
}
