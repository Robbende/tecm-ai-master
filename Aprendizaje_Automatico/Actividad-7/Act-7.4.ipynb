{
 "cells": [
  {
   "cell_type": "markdown",
   "id": "bce44e57",
   "metadata": {},
   "source": [
    "### Actividad 7 - Punto 4"
   ]
  },
  {
   "cell_type": "code",
   "execution_count": 1,
   "id": "95c05c78",
   "metadata": {},
   "outputs": [],
   "source": [
    "import numpy as np\n",
    "import matplotlib.pyplot as plt"
   ]
  },
  {
   "cell_type": "code",
   "execution_count": 3,
   "id": "6cbc0434",
   "metadata": {},
   "outputs": [],
   "source": [
    "from sklearn import datasets\n",
    "from sklearn.preprocessing import StandardScaler\n",
    "from sklearn.model_selection import train_test_split\n",
    "from sklearn.linear_model import LogisticRegression\n",
    "from sklearn.naive_bayes import GaussianNB\n",
    "from sklearn import metrics"
   ]
  },
  {
   "cell_type": "code",
   "execution_count": 4,
   "id": "beb5fa86",
   "metadata": {},
   "outputs": [],
   "source": [
    "# evaluacion del modelo\n",
    "def EvaluacionModelo(y_test, y_pred):\n",
    "    pre_s = metrics.precision_score(y_test, y_pred, average='micro')\n",
    "    rec_s = metrics.recall_score(y_test, y_pred, average='micro')\n",
    "    f1_s = metrics.f1_score(y_test, y_pred, average='micro')\n",
    "    accu_s = metrics.accuracy_score(y_test, y_pred)\n",
    "    return (pre_s, rec_s, f1_s, accu_s)"
   ]
  },
  {
   "cell_type": "markdown",
   "id": "e93aeeb7",
   "metadata": {},
   "source": [
    "#### Importacion del Dataset"
   ]
  },
  {
   "cell_type": "code",
   "execution_count": 5,
   "id": "5e6204dd",
   "metadata": {},
   "outputs": [],
   "source": [
    "data_iris = datasets.load_iris()"
   ]
  },
  {
   "cell_type": "code",
   "execution_count": 6,
   "id": "187c1576",
   "metadata": {},
   "outputs": [
    {
     "data": {
      "text/plain": [
       "(100, 4)"
      ]
     },
     "execution_count": 6,
     "metadata": {},
     "output_type": "execute_result"
    }
   ],
   "source": [
    "# primeros 100 rows (solo 2 clases)\n",
    "caracteristicas = data_iris.data[:100,:]\n",
    "caracteristicas.shape"
   ]
  },
  {
   "cell_type": "code",
   "execution_count": 7,
   "id": "67ed072b",
   "metadata": {},
   "outputs": [
    {
     "data": {
      "text/plain": [
       "(100,)"
      ]
     },
     "execution_count": 7,
     "metadata": {},
     "output_type": "execute_result"
    }
   ],
   "source": [
    "# primeras 100 etiquetas\n",
    "etiquetas = data_iris.target[:100]\n",
    "etiquetas.shape"
   ]
  },
  {
   "cell_type": "code",
   "execution_count": 8,
   "id": "c83fd405",
   "metadata": {},
   "outputs": [],
   "source": [
    "scaler = StandardScaler()\n",
    "# normalizacion de los datos de las caracteristicas\n",
    "caracteristicas_norm = scaler.fit_transform(caracteristicas)"
   ]
  },
  {
   "cell_type": "markdown",
   "id": "2294fc7b",
   "metadata": {},
   "source": [
    "#### Separacion de datos de prueba y testing"
   ]
  },
  {
   "cell_type": "code",
   "execution_count": 9,
   "id": "af374cf2",
   "metadata": {},
   "outputs": [],
   "source": [
    "# separacion de los datos de entrenamiento y prueba\n",
    "x_train, x_test, y_train, y_test = train_test_split(caracteristicas_norm,etiquetas, train_size = 0.8 )"
   ]
  },
  {
   "cell_type": "markdown",
   "id": "cc9fbc49",
   "metadata": {},
   "source": [
    "#### Visualizacion de los datos"
   ]
  },
  {
   "cell_type": "code",
   "execution_count": 10,
   "id": "0c405563",
   "metadata": {},
   "outputs": [
    {
     "data": {
      "text/plain": [
       "<matplotlib.collections.PathCollection at 0x200a6386700>"
      ]
     },
     "execution_count": 10,
     "metadata": {},
     "output_type": "execute_result"
    },
    {
     "data": {
      "image/png": "[encoded data removed]",
      "text/plain": [
       "<Figure size 432x288 with 1 Axes>"
      ]
     },
     "metadata": {
      "needs_background": "light"
     },
     "output_type": "display_data"
    }
   ],
   "source": [
    "plt.scatter(caracteristicas_norm[:,0], caracteristicas_norm[:,1], c=etiquetas)"
   ]
  },
  {
   "cell_type": "markdown",
   "id": "0394dd0b",
   "metadata": {},
   "source": [
    "### Modelo de Regresion Logistica"
   ]
  },
  {
   "cell_type": "code",
   "execution_count": 11,
   "id": "2eec5d20",
   "metadata": {},
   "outputs": [],
   "source": [
    "# instancia del modelo de regresion logistica\n",
    "modelo = LogisticRegression()\n",
    "modelo_entrenado = modelo.fit(X = x_train, y = y_train)\n",
    "y_pred = modelo_entrenado.predict(x_test)"
   ]
  },
  {
   "cell_type": "markdown",
   "id": "fb4da3d9",
   "metadata": {},
   "source": [
    "#### Evaluacion Modelo de Regresion Logistica"
   ]
  },
  {
   "cell_type": "code",
   "execution_count": 12,
   "id": "bba1d704",
   "metadata": {},
   "outputs": [
    {
     "data": {
      "text/plain": [
       "array([[ 9,  0],\n",
       "       [ 0, 11]], dtype=int64)"
      ]
     },
     "execution_count": 12,
     "metadata": {},
     "output_type": "execute_result"
    }
   ],
   "source": [
    "# matriz de confusion\n",
    "cnf_matrix = metrics.confusion_matrix(y_test, y_pred)\n",
    "cnf_matrix"
   ]
  },
  {
   "cell_type": "code",
   "execution_count": 13,
   "id": "8227b93f",
   "metadata": {},
   "outputs": [
    {
     "name": "stdout",
     "output_type": "stream",
     "text": [
      "Precision: 1.0, Recall: 1.0, F1: 1.0, Accuracy: 1.0\n"
     ]
    }
   ],
   "source": [
    "precision, recall, f1, accuracy = EvaluacionModelo(y_test, y_pred)\n",
    "print(f\"Precision: {precision}, Recall: {recall}, F1: {f1}, Accuracy: {accuracy}\")"
   ]
  },
  {
   "cell_type": "markdown",
   "id": "9d321a4d",
   "metadata": {},
   "source": [
    "### Modelo Naive Bayes Gaussiano"
   ]
  },
  {
   "cell_type": "code",
   "execution_count": 14,
   "id": "5145ac64",
   "metadata": {},
   "outputs": [
    {
     "data": {
      "text/plain": [
       "(150, 4)"
      ]
     },
     "execution_count": 14,
     "metadata": {},
     "output_type": "execute_result"
    }
   ],
   "source": [
    "# obtenemos todas las caracteristicas\n",
    "caracteristicas = data_iris.data\n",
    "caracteristicas.shape"
   ]
  },
  {
   "cell_type": "code",
   "execution_count": 15,
   "id": "2d701fe4",
   "metadata": {},
   "outputs": [
    {
     "data": {
      "text/plain": [
       "(150,)"
      ]
     },
     "execution_count": 15,
     "metadata": {},
     "output_type": "execute_result"
    }
   ],
   "source": [
    "# obtenemos todas las clases (3)\n",
    "etiquetas = data_iris.target\n",
    "etiquetas.shape"
   ]
  },
  {
   "cell_type": "code",
   "execution_count": 16,
   "id": "2e5a66a4",
   "metadata": {},
   "outputs": [],
   "source": [
    "# separacion de los datos de entrenamiento y prueba\n",
    "x_train, x_test, y_train, y_test = train_test_split(caracteristicas,etiquetas, train_size = 0.8 )"
   ]
  },
  {
   "cell_type": "code",
   "execution_count": 23,
   "id": "1b3b11c0",
   "metadata": {},
   "outputs": [],
   "source": [
    "# modelo Gaussian Naive Bayes\n",
    "NVG = GaussianNB()\n",
    "# entrenamiento del modelo\n",
    "modelo_entrenado = NVG.fit(x_train, y_train)\n",
    "# prediccion\n",
    "y_predict = NVG.predict(x_test)"
   ]
  },
  {
   "cell_type": "markdown",
   "id": "6ce6b3db",
   "metadata": {},
   "source": [
    "#### Evaluacion Modelo de Naive Bayes Gaussiano"
   ]
  },
  {
   "cell_type": "code",
   "execution_count": 24,
   "id": "97c36f72",
   "metadata": {},
   "outputs": [
    {
     "data": {
      "text/plain": [
       "array([[13,  0,  0],\n",
       "       [ 0,  8,  0],\n",
       "       [ 0,  0,  9]], dtype=int64)"
      ]
     },
     "execution_count": 24,
     "metadata": {},
     "output_type": "execute_result"
    }
   ],
   "source": [
    "# uso de la matriz de confusion para evaluacion del modelo\n",
    "cnf_matrix = metrics.confusion_matrix(y_test, y_predict)\n",
    "cnf_matrix"
   ]
  },
  {
   "cell_type": "code",
   "execution_count": 25,
   "id": "14e1ed6f",
   "metadata": {},
   "outputs": [
    {
     "name": "stdout",
     "output_type": "stream",
     "text": [
      "Precision: 1.0, Recall: 1.0, F1: 1.0, Accuracy: 1.0\n"
     ]
    }
   ],
   "source": [
    "precision, recall, f1, accuracy = EvaluacionModelo(y_test, y_predict)\n",
    "print(f\"Precision: {precision}, Recall: {recall}, F1: {f1}, Accuracy: {accuracy}\")"
   ]
  },
  {
   "cell_type": "markdown",
   "id": "6ff49e30",
   "metadata": {},
   "source": [
    "### Conclusiones\n",
    "Ambos modelos dieron buenos resultados, de hecho podría decirse que están sobre ajustados. En las primeras ejecuciones el modelo de Naive Bayes daba resultados alrededor del 97%, pero en subsecuentes ejecuciones el accuracy llego al 100%. Una de las ventajas que se puede observar al usar un modelo como Naive Bayes es que podemos tener múltiples clases a diferencia del modelo de regresión logística el cual debe ser binario."
   ]
  },
  {
   "cell_type": "code",
   "execution_count": null,
   "id": "66e12ddf",
   "metadata": {},
   "outputs": [],
   "source": []
  }
 ],
 "metadata": {
  "kernelspec": {
   "display_name": "Python 3 (ipykernel)",
   "language": "python",
   "name": "python3"
  },
  "language_info": {
   "codemirror_mode": {
    "name": "ipython",
    "version": 3
   },
   "file_extension": ".py",
   "mimetype": "text/x-python",
   "name": "python",
   "nbconvert_exporter": "python",
   "pygments_lexer": "ipython3",
   "version": "3.9.7"
  }
 },
 "nbformat": 4,
 "nbformat_minor": 5
}
