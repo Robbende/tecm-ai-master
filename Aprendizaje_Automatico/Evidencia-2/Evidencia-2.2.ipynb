{
 "cells": [
  {
   "cell_type": "markdown",
   "id": "ba40a89f",
   "metadata": {},
   "source": [
    "### Evidencia 2 - Punto 2"
   ]
  },
  {
   "cell_type": "code",
   "execution_count": 1,
   "id": "448fea9b",
   "metadata": {},
   "outputs": [],
   "source": [
    "import numpy as np\n",
    "from sklearn import datasets\n",
    "from sklearn.discriminant_analysis import LinearDiscriminantAnalysis\n",
    "from sklearn.tree import DecisionTreeClassifier\n",
    "from sklearn.svm import SVC\n",
    "from sklearn.model_selection import train_test_split\n",
    "import matplotlib.pyplot as plt\n",
    "from sklearn import metrics"
   ]
  },
  {
   "cell_type": "code",
   "execution_count": 2,
   "id": "62af89d7",
   "metadata": {},
   "outputs": [],
   "source": [
    "def EvaluacionModelo(y_test, y_pred):\n",
    "    pre_s = metrics.precision_score(y_test, y_pred, average='micro')\n",
    "    rec_s = metrics.recall_score(y_test, y_pred, average='micro')\n",
    "    f1_s = metrics.f1_score(y_test, y_pred, average='micro')\n",
    "    accu_s = metrics.accuracy_score(y_test, y_pred)\n",
    "    return (pre_s, rec_s, f1_s, accu_s)"
   ]
  },
  {
   "cell_type": "code",
   "execution_count": 3,
   "id": "d5171d7c",
   "metadata": {},
   "outputs": [
    {
     "data": {
      "text/plain": [
       "(500000, 3)"
      ]
     },
     "execution_count": 3,
     "metadata": {},
     "output_type": "execute_result"
    }
   ],
   "source": [
    "# crea dataset sintetico, 500,000 rows y 3 clases\n",
    "x, y = datasets.make_blobs(n_samples=500000, centers=3, n_features=3, random_state=0)\n",
    "x.shape"
   ]
  },
  {
   "cell_type": "code",
   "execution_count": 4,
   "id": "b1b41826",
   "metadata": {},
   "outputs": [],
   "source": [
    "# division del dataset\n",
    "x_train, x_test, y_train, y_test = train_test_split(x, y, test_size=0.2, random_state=0)"
   ]
  },
  {
   "cell_type": "markdown",
   "id": "a93a0113",
   "metadata": {},
   "source": [
    "#### Clasificacion usando un arbol de decision"
   ]
  },
  {
   "cell_type": "code",
   "execution_count": 5,
   "id": "fa31b028",
   "metadata": {},
   "outputs": [],
   "source": [
    "# instancia del modelo de Arbol de Clasificacion\n",
    "arbol_decision = DecisionTreeClassifier(criterion='entropy', random_state=0)"
   ]
  },
  {
   "cell_type": "code",
   "execution_count": 6,
   "id": "4742d8bf",
   "metadata": {},
   "outputs": [],
   "source": [
    "# entrenamiento del modelo\n",
    "modelo_entrenado = arbol_decision.fit(x_train, y_train)"
   ]
  },
  {
   "cell_type": "code",
   "execution_count": 7,
   "id": "2cd613e8",
   "metadata": {},
   "outputs": [],
   "source": [
    "# prediccion del tipo de nivel de glucosa usando los datos de prueba\n",
    "y_pred = modelo_entrenado.predict(x_test)"
   ]
  },
  {
   "cell_type": "markdown",
   "id": "517efe44",
   "metadata": {},
   "source": [
    "#### Evaluacion del Modelo"
   ]
  },
  {
   "cell_type": "code",
   "execution_count": 8,
   "id": "d0fc6062",
   "metadata": {},
   "outputs": [
    {
     "data": {
      "text/plain": [
       "array([[33355,    88,     0],\n",
       "       [   81, 33201,     0],\n",
       "       [    4,     0, 33271]], dtype=int64)"
      ]
     },
     "execution_count": 8,
     "metadata": {},
     "output_type": "execute_result"
    }
   ],
   "source": [
    "# uso de la matriz de confusion para evaluacion del modelo\n",
    "cnf_matrix = metrics.confusion_matrix(y_test, y_pred)\n",
    "cnf_matrix"
   ]
  },
  {
   "cell_type": "code",
   "execution_count": 9,
   "id": "b2a5af69",
   "metadata": {},
   "outputs": [
    {
     "name": "stdout",
     "output_type": "stream",
     "text": [
      "Precision: 0.99827, Recall: 0.99827, F1: 0.99827, Accuracy: 0.99827\n"
     ]
    }
   ],
   "source": [
    "precision, recall, f1, accuracy = EvaluacionModelo(y_test, y_pred)\n",
    "print(f\"Precision: {precision}, Recall: {recall}, F1: {f1}, Accuracy: {accuracy}\")"
   ]
  },
  {
   "cell_type": "markdown",
   "id": "74a39614",
   "metadata": {},
   "source": [
    "#### Clasificacion usando SVM"
   ]
  },
  {
   "cell_type": "code",
   "execution_count": 10,
   "id": "d6fdcb19",
   "metadata": {},
   "outputs": [],
   "source": [
    "# instancia del modelo svc\n",
    "svm_classifier = SVC(kernel=\"rbf\", random_state = 0)"
   ]
  },
  {
   "cell_type": "code",
   "execution_count": 11,
   "id": "82129480",
   "metadata": {},
   "outputs": [
    {
     "data": {
      "text/plain": [
       "SVC(random_state=0)"
      ]
     },
     "execution_count": 11,
     "metadata": {},
     "output_type": "execute_result"
    }
   ],
   "source": [
    "# entrenamiento del modelo\n",
    "svm_classifier.fit(x_train, y_train)"
   ]
  },
  {
   "cell_type": "code",
   "execution_count": 12,
   "id": "06a6c56e",
   "metadata": {},
   "outputs": [],
   "source": [
    "# prediccion\n",
    "y_pred = svm_classifier.predict(x_test)"
   ]
  },
  {
   "cell_type": "markdown",
   "id": "6d7534f2",
   "metadata": {},
   "source": [
    "#### Evaluacion del Modelo"
   ]
  },
  {
   "cell_type": "code",
   "execution_count": 13,
   "id": "a3a8d041",
   "metadata": {},
   "outputs": [
    {
     "data": {
      "text/plain": [
       "array([[33389,    54,     0],\n",
       "       [   53, 33229,     0],\n",
       "       [    2,     0, 33273]], dtype=int64)"
      ]
     },
     "execution_count": 13,
     "metadata": {},
     "output_type": "execute_result"
    }
   ],
   "source": [
    "# uso de la matriz de confusion para evaluacion del modelo\n",
    "cnf_matrix = metrics.confusion_matrix(y_test, y_pred)\n",
    "cnf_matrix"
   ]
  },
  {
   "cell_type": "code",
   "execution_count": 14,
   "id": "af099580",
   "metadata": {},
   "outputs": [
    {
     "name": "stdout",
     "output_type": "stream",
     "text": [
      "Precision: 0.99891, Recall: 0.99891, F1: 0.99891, Accuracy: 0.99891\n"
     ]
    }
   ],
   "source": [
    "precision, recall, f1, accuracy = EvaluacionModelo(y_test, y_pred)\n",
    "print(f\"Precision: {precision}, Recall: {recall}, F1: {f1}, Accuracy: {accuracy}\")"
   ]
  },
  {
   "cell_type": "markdown",
   "id": "cdd58894",
   "metadata": {},
   "source": [
    "#### Conclusion \n",
    "Ambos algoritmos dieron muy buenos resultados. El modelo de SVM se ha equivocado menos al momento de hacer predicciones que el modelo de árbol de decisión, pero se puede notar que al correr el algoritmo SVM tarda significativamente más tiempo en entrenar y hacer predicciones que el algoritmo de árbol de decisión.\n",
    "El modelo de árbol de decisión aplicado a un dataset con menos datos resulto en un accuracy 1.0 lo cual puede indicar que el modelo esta sobre ajustado, pero al momento de aplicarlo a un dataset con un aumento de la cantidad de datos, el modelo se comporta muy de manera aceptable y dando muy buenos resultados. \n"
   ]
  },
  {
   "cell_type": "code",
   "execution_count": null,
   "id": "d1ccc41f",
   "metadata": {},
   "outputs": [],
   "source": []
  }
 ],
 "metadata": {
  "kernelspec": {
   "display_name": "Python 3 (ipykernel)",
   "language": "python",
   "name": "python3"
  },
  "language_info": {
   "codemirror_mode": {
    "name": "ipython",
    "version": 3
   },
   "file_extension": ".py",
   "mimetype": "text/x-python",
   "name": "python",
   "nbconvert_exporter": "python",
   "pygments_lexer": "ipython3",
   "version": "3.9.7"
  }
 },
 "nbformat": 4,
 "nbformat_minor": 5
}
