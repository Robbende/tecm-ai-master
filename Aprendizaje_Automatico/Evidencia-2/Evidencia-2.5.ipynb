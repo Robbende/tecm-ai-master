{
 "cells": [
  {
   "cell_type": "markdown",
   "metadata": {},
   "source": [
    "### Evidencia 2 - Punto 5"
   ]
  },
  {
   "cell_type": "code",
   "execution_count": 1,
   "metadata": {
    "id": "PNn1dfQbSHXt"
   },
   "outputs": [],
   "source": [
    "import numpy as np\n",
    "import random\n",
    "import operator\n",
    "import pandas as pd\n",
    "import matplotlib.pyplot as plt"
   ]
  },
  {
   "cell_type": "code",
   "execution_count": 2,
   "metadata": {
    "id": "0dgtuERuqIBA"
   },
   "outputs": [],
   "source": [
    "# carga del dataset\n",
    "df = pd.read_csv('7_maravillas_mundo_2007.csv')"
   ]
  },
  {
   "cell_type": "code",
   "execution_count": 3,
   "metadata": {
    "id": "ar0S-dvluPYV"
   },
   "outputs": [],
   "source": [
    "from math import acos, cos, sin, radians, atan2, sqrt\n",
    "\n",
    "class Ciudad:\n",
    "    def __init__(self, x, y, name):\n",
    "        self.R = 6371000  # radio de la tierra en metros\n",
    "        self.long = x\n",
    "        self.lat = y\n",
    "        self.name = name\n",
    "        self.convert_radiands()\n",
    "        \n",
    "    def convert_radiands(self):\n",
    "        self.long_rad = radians(self.long)\n",
    "        self.lat_rad = radians(self.lat)\n",
    "\n",
    "    # calcula la distancia usando la funcion del semiverseno\n",
    "    def distancia(self, ciudad):\n",
    "        dif_lat = self.lat_rad - ciudad.lat_rad\n",
    "        dif_lon = self.long_rad - ciudad.long_rad\n",
    "        \n",
    "        a = sin(dif_lat/2) ** 2 + cos(ciudad.lat_rad) * cos(self.lat_rad) * sin(dif_lon/2) ** 2\n",
    "        c = 2 * atan2(sqrt(a), sqrt(1-a))\n",
    "        d = self.R * c\n",
    "        \n",
    "        return d\n",
    "    \n",
    "    def __repr__(self):\n",
    "        return f\"(City: {self.name} - Latitud: {str(self.lat)} - Longitud: {str(self.long)})\""
   ]
  },
  {
   "cell_type": "code",
   "execution_count": 4,
   "metadata": {},
   "outputs": [
    {
     "data": {
      "text/html": [
       "<div>\n",
       "<style scoped>\n",
       "    .dataframe tbody tr th:only-of-type {\n",
       "        vertical-align: middle;\n",
       "    }\n",
       "\n",
       "    .dataframe tbody tr th {\n",
       "        vertical-align: top;\n",
       "    }\n",
       "\n",
       "    .dataframe thead th {\n",
       "        text-align: right;\n",
       "    }\n",
       "</style>\n",
       "<table border=\"1\" class=\"dataframe\">\n",
       "  <thead>\n",
       "    <tr style=\"text-align: right;\">\n",
       "      <th></th>\n",
       "      <th>CIUDAD</th>\n",
       "      <th>LATITUD</th>\n",
       "      <th>LONGITUD</th>\n",
       "    </tr>\n",
       "  </thead>\n",
       "  <tbody>\n",
       "    <tr>\n",
       "      <th>0</th>\n",
       "      <td>Gran muralla china, China</td>\n",
       "      <td>40.431909</td>\n",
       "      <td>116.570370</td>\n",
       "    </tr>\n",
       "    <tr>\n",
       "      <th>1</th>\n",
       "      <td>Ciudad de Petra, Jordania</td>\n",
       "      <td>30.328493</td>\n",
       "      <td>35.444364</td>\n",
       "    </tr>\n",
       "    <tr>\n",
       "      <th>2</th>\n",
       "      <td>Cristo Redentor, Brasil</td>\n",
       "      <td>-22.951847</td>\n",
       "      <td>-43.210486</td>\n",
       "    </tr>\n",
       "    <tr>\n",
       "      <th>3</th>\n",
       "      <td>Machu Picchu, Peru</td>\n",
       "      <td>-13.163087</td>\n",
       "      <td>-72.544974</td>\n",
       "    </tr>\n",
       "    <tr>\n",
       "      <th>4</th>\n",
       "      <td>Templo de Kukulcan, Mexico</td>\n",
       "      <td>20.683136</td>\n",
       "      <td>-88.568724</td>\n",
       "    </tr>\n",
       "    <tr>\n",
       "      <th>5</th>\n",
       "      <td>Coliseo, Italia</td>\n",
       "      <td>41.890346</td>\n",
       "      <td>12.492263</td>\n",
       "    </tr>\n",
       "    <tr>\n",
       "      <th>6</th>\n",
       "      <td>Taj Mahal, India</td>\n",
       "      <td>27.175393</td>\n",
       "      <td>78.042164</td>\n",
       "    </tr>\n",
       "  </tbody>\n",
       "</table>\n",
       "</div>"
      ],
      "text/plain": [
       "                       CIUDAD    LATITUD    LONGITUD\n",
       "0   Gran muralla china, China  40.431909  116.570370\n",
       "1   Ciudad de Petra, Jordania  30.328493   35.444364\n",
       "2     Cristo Redentor, Brasil -22.951847  -43.210486\n",
       "3          Machu Picchu, Peru -13.163087  -72.544974\n",
       "4  Templo de Kukulcan, Mexico  20.683136  -88.568724\n",
       "5             Coliseo, Italia  41.890346   12.492263\n",
       "6            Taj Mahal, India  27.175393   78.042164"
      ]
     },
     "execution_count": 4,
     "metadata": {},
     "output_type": "execute_result"
    }
   ],
   "source": [
    "df"
   ]
  },
  {
   "cell_type": "code",
   "execution_count": 5,
   "metadata": {
    "colab": {
     "base_uri": "https://localhost:8080/"
    },
    "id": "IVlKtcZ4kCxq",
    "outputId": "7f271224-0c1d-4caa-81c5-bc0b11238724"
   },
   "outputs": [
    {
     "data": {
      "text/plain": [
       "[(City: Gran muralla china, China - Latitud: 40.43190867 - Longitud: 116.5703696),\n",
       " (City: Ciudad de Petra, Jordania - Latitud: 30.32849342 - Longitud: 35.44436426),\n",
       " (City: Cristo Redentor, Brasil - Latitud: -22.95184683 - Longitud: -43.21048607),\n",
       " (City: Machu Picchu, Peru - Latitud: -13.16308725 - Longitud: -72.54497405),\n",
       " (City: Templo de Kukulcan, Mexico - Latitud: 20.68313645 - Longitud: -88.5687242)]"
      ]
     },
     "execution_count": 5,
     "metadata": {},
     "output_type": "execute_result"
    }
   ],
   "source": [
    "listaCiudades = []\n",
    "\n",
    "for i in range(0,len(df)):\n",
    "    listaCiudades.append(Ciudad(x=df.LONGITUD[i], y=df.LATITUD[i], name=df.CIUDAD[i]))\n",
    "\n",
    "\n",
    "listaCiudades[0:5]"
   ]
  },
  {
   "cell_type": "code",
   "execution_count": 6,
   "metadata": {
    "id": "KPqzpfRTuhd1"
   },
   "outputs": [],
   "source": [
    "class Aptitud:\n",
    "    def __init__(self, ruta):\n",
    "        self.ruta = ruta\n",
    "        self.distancia = 0\n",
    "        self.aptitud= 0.0\n",
    "    \n",
    "    # calcula la menor ruta\n",
    "    def distanciaRuta(self):\n",
    "        if self.distancia ==0:\n",
    "            distanciaRelativa = 0\n",
    "            for i in range(0, len(self.ruta)):\n",
    "                puntoInicial = self.ruta[i]\n",
    "                puntoFinal = None\n",
    "                if i + 1 < len(self.ruta):\n",
    "                    puntoFinal = self.ruta[i + 1]\n",
    "                else:\n",
    "                    puntoFinal = self.ruta[0]\n",
    "                distanciaRelativa += puntoInicial.distancia(puntoFinal)\n",
    "            self.distancia = distanciaRelativa\n",
    "        return self.distancia\n",
    "    \n",
    "    def rutaApta(self):\n",
    "        if self.aptitud == 0:\n",
    "            self.aptitud = 1 / float(self.distanciaRuta())\n",
    "        return self.aptitud"
   ]
  },
  {
   "cell_type": "code",
   "execution_count": 7,
   "metadata": {
    "id": "kRuvYWnGu1SE"
   },
   "outputs": [],
   "source": [
    "def crearRuta(listaCiudades):\n",
    "    route = random.sample(listaCiudades, len(listaCiudades))\n",
    "    return route"
   ]
  },
  {
   "cell_type": "code",
   "execution_count": 8,
   "metadata": {
    "id": "BRXu4fDlvYwc"
   },
   "outputs": [],
   "source": [
    "# paso de inicializacion de la poblacion\n",
    "def poblacionInicial(tamanoPob,listaCiudades):\n",
    "    poblacion = []\n",
    "\n",
    "    for i in range(0, tamanoPob):\n",
    "        poblacion.append(crearRuta(listaCiudades))\n",
    "    return poblacion"
   ]
  },
  {
   "cell_type": "code",
   "execution_count": 9,
   "metadata": {
    "id": "ftHKfr_si5Nt"
   },
   "outputs": [],
   "source": [
    "# se clasifica la ruta\n",
    "def clasificacionRutas(poblacion):\n",
    "    fitnessResults = {}\n",
    "    for i in range(0,len(poblacion)):\n",
    "        fitnessResults[i] = Aptitud(poblacion[i]).rutaApta()\n",
    "    return sorted(fitnessResults.items(), key = operator.itemgetter(1), reverse = True)"
   ]
  },
  {
   "cell_type": "code",
   "execution_count": 10,
   "metadata": {
    "id": "gJA3Rtwpi9QU"
   },
   "outputs": [],
   "source": [
    "# paso de seleccion\n",
    "def seleccionRutas(popRanked, indivSelecionados):\n",
    "    resultadosSeleccion = []\n",
    "    df = pd.DataFrame(np.array(popRanked), columns=[\"Indice\",\"Aptitud\"])\n",
    "    df['cum_sum'] = df.Aptitud.cumsum()\n",
    "    df['cum_perc'] = 100*df.cum_sum/df.Aptitud.sum()\n",
    "    \n",
    "    for i in range(0, indivSelecionados):\n",
    "        resultadosSeleccion.append(popRanked[i][0])\n",
    "    for i in range(0, len(popRanked) - indivSelecionados):\n",
    "        pick = 100*random.random()\n",
    "        for i in range(0, len(popRanked)):\n",
    "            if pick <= df.iat[i,3]:\n",
    "                resultadosSeleccion.append(popRanked[i][0])\n",
    "                break\n",
    "    return resultadosSeleccion"
   ]
  },
  {
   "cell_type": "code",
   "execution_count": 11,
   "metadata": {
    "id": "u5vSrloMjCd8"
   },
   "outputs": [],
   "source": [
    "def grupoApareamiento(poblacion, resultadosSeleccion):\n",
    "    grupoApareamiento = []\n",
    "    for i in range(0, len(resultadosSeleccion)):\n",
    "        index = resultadosSeleccion[i]\n",
    "        grupoApareamiento.append(poblacion[index])\n",
    "    return grupoApareamiento"
   ]
  },
  {
   "cell_type": "code",
   "execution_count": 12,
   "metadata": {
    "id": "yUNtTC48jGgY"
   },
   "outputs": [],
   "source": [
    "# genera rutas nuevas\n",
    "def reproduccion(progenitor1, progenitor2):\n",
    "    hijo = []\n",
    "    hijoP1 = []\n",
    "    hijoP2 = []\n",
    "    \n",
    "    geneA = int(random.random() * len(progenitor1))\n",
    "    geneB = int(random.random() * len(progenitor2))\n",
    "    \n",
    "    startGene = min(geneA, geneB)\n",
    "    endGene = max(geneA, geneB)\n",
    "\n",
    "    for i in range(startGene, endGene):\n",
    "        hijoP1.append(progenitor1[i])\n",
    "        \n",
    "    hijoP2 = [item for item in progenitor2 if item not in hijoP1]\n",
    "\n",
    "    hijo = hijoP1 + hijoP2\n",
    "    return hijo"
   ]
  },
  {
   "cell_type": "code",
   "execution_count": 13,
   "metadata": {
    "id": "FdvRkDdMjJKl"
   },
   "outputs": [],
   "source": [
    "def reproduccionPoblacion(grupoApareamiento, indivSelecionados):\n",
    "    hijos = []\n",
    "    tamano = len(grupoApareamiento) - indivSelecionados\n",
    "    espacio = random.sample(grupoApareamiento, len(grupoApareamiento))\n",
    "\n",
    "    for i in range(0,indivSelecionados):\n",
    "        hijos.append(grupoApareamiento[i])\n",
    "    \n",
    "    for i in range(0, tamano):\n",
    "        hijo = reproduccion(espacio[i], espacio[len(grupoApareamiento)-i-1])\n",
    "        hijos.append(hijo)\n",
    "    return hijos"
   ]
  },
  {
   "cell_type": "code",
   "execution_count": 14,
   "metadata": {
    "id": "OUPhGwCyjJ1G"
   },
   "outputs": [],
   "source": [
    "def mutacion(individuo, razonMutacion):\n",
    "    for swapped in range(len(individuo)):\n",
    "        if(random.random() < razonMutacion):\n",
    "            swapWith = int(random.random() * len(individuo))\n",
    "            \n",
    "            lugar1 = individuo[swapped]\n",
    "            lugar2 = individuo[swapWith]\n",
    "            \n",
    "            individuo[swapped] = lugar2\n",
    "            individuo[swapWith] = lugar1\n",
    "    return individuo"
   ]
  },
  {
   "cell_type": "code",
   "execution_count": 15,
   "metadata": {
    "id": "CNpS1RJPjMPc"
   },
   "outputs": [],
   "source": [
    "def mutacionPoblacion(poblacion, razonMutacion):\n",
    "    pobMutada = []\n",
    "    \n",
    "    for ind in range(0, len(poblacion)):\n",
    "        individuoMutar = mutacion(poblacion[ind], razonMutacion)\n",
    "        pobMutada.append(individuoMutar)\n",
    "    return pobMutada"
   ]
  },
  {
   "cell_type": "code",
   "execution_count": 16,
   "metadata": {
    "id": "fji9ACsmjQm1"
   },
   "outputs": [],
   "source": [
    "\n",
    "def nuevaGeneracion(generacionActual, indivSelecionados, razonMutacion):\n",
    "\n",
    "    #clasificar rutas \n",
    "    popRanked = clasificacionRutas(generacionActual)\n",
    "\n",
    "    #seleccion de los candidatos\n",
    "    selectionResults = seleccionRutas(popRanked, indivSelecionados)\n",
    "\n",
    "    #generar grupo de apareamiento\n",
    "    grupoApa = grupoApareamiento(generacionActual, selectionResults)\n",
    "\n",
    "    #generacion de la poblacion cruzada, reproducida\n",
    "    hijos = reproduccionPoblacion(grupoApa, indivSelecionados)\n",
    "\n",
    "    #incluir las mutaciones en la nueva generacion  \n",
    "    nextGeneration = mutacionPoblacion(hijos, razonMutacion)\n",
    "\n",
    "    return nextGeneration"
   ]
  },
  {
   "cell_type": "code",
   "execution_count": 17,
   "metadata": {
    "id": "KTdUdXHtjSws"
   },
   "outputs": [],
   "source": [
    "def algoritmoGenetico(poblacion, tamanoPoblacion, indivSelecionados, razonMutacion, generaciones):\n",
    "    pop = poblacionInicial(tamanoPoblacion, poblacion)\n",
    "    print(\"Distancia Inicial: \" + str(1 / clasificacionRutas(pop)[0][1]))\n",
    "    \n",
    "    progress = []\n",
    "    progress.append(1 / clasificacionRutas(pop)[0][1])\n",
    "    \n",
    "    # crear N generaciones\n",
    "    for i in range(0, generaciones):\n",
    "        #selecciona, reproduce, muta\n",
    "        pop = nuevaGeneracion(pop, indivSelecionados, razonMutacion)\n",
    "        progress.append(1 / clasificacionRutas(pop)[0][1])\n",
    "    \n",
    "    print(\"Distancia Final: \" + str(1 / clasificacionRutas(pop)[0][1]))\n",
    "    bestRouteIndex = clasificacionRutas(pop)[0][0]\n",
    "    mejorRuta = pop[bestRouteIndex]\n",
    "    return mejorRuta, progress"
   ]
  },
  {
   "cell_type": "code",
   "execution_count": 18,
   "metadata": {},
   "outputs": [],
   "source": [
    "def plotGeneticAlgorithm(progress):\n",
    "    plt.plot(progress)\n",
    "    plt.ylabel('Distancia')\n",
    "    plt.xlabel('Generacion')\n",
    "    plt.show()"
   ]
  },
  {
   "cell_type": "code",
   "execution_count": 37,
   "metadata": {
    "colab": {
     "base_uri": "https://localhost:8080/"
    },
    "id": "efroF_MdjX0T",
    "outputId": "a50b31a5-0101-452f-b785-4a49c49a6de3"
   },
   "outputs": [
    {
     "name": "stdout",
     "output_type": "stream",
     "text": [
      "Distancia Inicial: 44334696.93330514\n",
      "Distancia Final: 39748620.41171385\n",
      "Mejor Ruta:  [(City: Machu Picchu, Peru - Latitud: -13.16308725 - Longitud: -72.54497405), (City: Cristo Redentor, Brasil - Latitud: -22.95184683 - Longitud: -43.21048607), (City: Coliseo, Italia - Latitud: 41.89034596 - Longitud: 12.49226308), (City: Ciudad de Petra, Jordania - Latitud: 30.32849342 - Longitud: 35.44436426), (City: Taj Mahal, India - Latitud: 27.17539294 - Longitud: 78.04216366), (City: Gran muralla china, China - Latitud: 40.43190867 - Longitud: 116.5703696), (City: Templo de Kukulcan, Mexico - Latitud: 20.68313645 - Longitud: -88.5687242)]\n"
     ]
    }
   ],
   "source": [
    "mejorRuta, progress = algoritmoGenetico(poblacion=listaCiudades, \n",
    "                                          tamanoPoblacion=100, \n",
    "                                          indivSelecionados=20,\n",
    "                                          razonMutacion=0.01, \n",
    "                                          generaciones=50)\n",
    "\n",
    "print(\"Mejor Ruta: \", mejorRuta)"
   ]
  },
  {
   "cell_type": "code",
   "execution_count": 38,
   "metadata": {},
   "outputs": [
    {
     "data": {
      "image/png": "[encoded data removed]",
      "text/plain": [
       "<Figure size 432x288 with 1 Axes>"
      ]
     },
     "metadata": {
      "needs_background": "light"
     },
     "output_type": "display_data"
    }
   ],
   "source": [
    "plotGeneticAlgorithm(progress)"
   ]
  },
  {
   "cell_type": "code",
   "execution_count": null,
   "metadata": {},
   "outputs": [],
   "source": []
  }
 ],
 "metadata": {
  "colab": {
   "name": "Tema_16 (Algoritmo genético).ipynb",
   "provenance": []
  },
  "kernelspec": {
   "display_name": "Python 3 (ipykernel)",
   "language": "python",
   "name": "python3"
  },
  "language_info": {
   "codemirror_mode": {
    "name": "ipython",
    "version": 3
   },
   "file_extension": ".py",
   "mimetype": "text/x-python",
   "name": "python",
   "nbconvert_exporter": "python",
   "pygments_lexer": "ipython3",
   "version": "3.9.7"
  }
 },
 "nbformat": 4,
 "nbformat_minor": 1
}
